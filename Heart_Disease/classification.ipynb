{
 "cells": [
  {
   "cell_type": "markdown",
   "metadata": {},
   "source": [
    "# Data Explore and Visualization"
   ]
  },
  {
   "cell_type": "code",
   "execution_count": 1,
   "metadata": {},
   "outputs": [],
   "source": [
    "import pandas as pd\n",
    "\n",
    "from matplotlib import pyplot as plt\n",
    "plt.style.use('seaborn')"
   ]
  },
  {
   "cell_type": "code",
   "execution_count": 2,
   "metadata": {},
   "outputs": [],
   "source": [
    "df = pd.read_csv('heart.csv')"
   ]
  },
  {
   "cell_type": "code",
   "execution_count": 3,
   "metadata": {},
   "outputs": [
    {
     "output_type": "execute_result",
     "data": {
      "text/plain": [
       "(303, 14)"
      ]
     },
     "metadata": {},
     "execution_count": 3
    }
   ],
   "source": [
    "df.shape"
   ]
  },
  {
   "cell_type": "code",
   "execution_count": 4,
   "metadata": {},
   "outputs": [
    {
     "output_type": "execute_result",
     "data": {
      "text/plain": [
       "   age  sex  cp  trestbps  chol  fbs  restecg  thalach  exang  oldpeak  slope  \\\n",
       "0   63    1   3       145   233    1        0      150      0      2.3      0   \n",
       "1   37    1   2       130   250    0        1      187      0      3.5      0   \n",
       "2   41    0   1       130   204    0        0      172      0      1.4      2   \n",
       "3   56    1   1       120   236    0        1      178      0      0.8      2   \n",
       "4   57    0   0       120   354    0        1      163      1      0.6      2   \n",
       "5   57    1   0       140   192    0        1      148      0      0.4      1   \n",
       "6   56    0   1       140   294    0        0      153      0      1.3      1   \n",
       "7   44    1   1       120   263    0        1      173      0      0.0      2   \n",
       "8   52    1   2       172   199    1        1      162      0      0.5      2   \n",
       "9   57    1   2       150   168    0        1      174      0      1.6      2   \n",
       "\n",
       "   ca  thal  target  \n",
       "0   0     1       1  \n",
       "1   0     2       1  \n",
       "2   0     2       1  \n",
       "3   0     2       1  \n",
       "4   0     2       1  \n",
       "5   0     1       1  \n",
       "6   0     2       1  \n",
       "7   0     3       1  \n",
       "8   0     3       1  \n",
       "9   0     2       1  "
      ],
      "text/html": "<div>\n<style scoped>\n    .dataframe tbody tr th:only-of-type {\n        vertical-align: middle;\n    }\n\n    .dataframe tbody tr th {\n        vertical-align: top;\n    }\n\n    .dataframe thead th {\n        text-align: right;\n    }\n</style>\n<table border=\"1\" class=\"dataframe\">\n  <thead>\n    <tr style=\"text-align: right;\">\n      <th></th>\n      <th>age</th>\n      <th>sex</th>\n      <th>cp</th>\n      <th>trestbps</th>\n      <th>chol</th>\n      <th>fbs</th>\n      <th>restecg</th>\n      <th>thalach</th>\n      <th>exang</th>\n      <th>oldpeak</th>\n      <th>slope</th>\n      <th>ca</th>\n      <th>thal</th>\n      <th>target</th>\n    </tr>\n  </thead>\n  <tbody>\n    <tr>\n      <th>0</th>\n      <td>63</td>\n      <td>1</td>\n      <td>3</td>\n      <td>145</td>\n      <td>233</td>\n      <td>1</td>\n      <td>0</td>\n      <td>150</td>\n      <td>0</td>\n      <td>2.3</td>\n      <td>0</td>\n      <td>0</td>\n      <td>1</td>\n      <td>1</td>\n    </tr>\n    <tr>\n      <th>1</th>\n      <td>37</td>\n      <td>1</td>\n      <td>2</td>\n      <td>130</td>\n      <td>250</td>\n      <td>0</td>\n      <td>1</td>\n      <td>187</td>\n      <td>0</td>\n      <td>3.5</td>\n      <td>0</td>\n      <td>0</td>\n      <td>2</td>\n      <td>1</td>\n    </tr>\n    <tr>\n      <th>2</th>\n      <td>41</td>\n      <td>0</td>\n      <td>1</td>\n      <td>130</td>\n      <td>204</td>\n      <td>0</td>\n      <td>0</td>\n      <td>172</td>\n      <td>0</td>\n      <td>1.4</td>\n      <td>2</td>\n      <td>0</td>\n      <td>2</td>\n      <td>1</td>\n    </tr>\n    <tr>\n      <th>3</th>\n      <td>56</td>\n      <td>1</td>\n      <td>1</td>\n      <td>120</td>\n      <td>236</td>\n      <td>0</td>\n      <td>1</td>\n      <td>178</td>\n      <td>0</td>\n      <td>0.8</td>\n      <td>2</td>\n      <td>0</td>\n      <td>2</td>\n      <td>1</td>\n    </tr>\n    <tr>\n      <th>4</th>\n      <td>57</td>\n      <td>0</td>\n      <td>0</td>\n      <td>120</td>\n      <td>354</td>\n      <td>0</td>\n      <td>1</td>\n      <td>163</td>\n      <td>1</td>\n      <td>0.6</td>\n      <td>2</td>\n      <td>0</td>\n      <td>2</td>\n      <td>1</td>\n    </tr>\n    <tr>\n      <th>5</th>\n      <td>57</td>\n      <td>1</td>\n      <td>0</td>\n      <td>140</td>\n      <td>192</td>\n      <td>0</td>\n      <td>1</td>\n      <td>148</td>\n      <td>0</td>\n      <td>0.4</td>\n      <td>1</td>\n      <td>0</td>\n      <td>1</td>\n      <td>1</td>\n    </tr>\n    <tr>\n      <th>6</th>\n      <td>56</td>\n      <td>0</td>\n      <td>1</td>\n      <td>140</td>\n      <td>294</td>\n      <td>0</td>\n      <td>0</td>\n      <td>153</td>\n      <td>0</td>\n      <td>1.3</td>\n      <td>1</td>\n      <td>0</td>\n      <td>2</td>\n      <td>1</td>\n    </tr>\n    <tr>\n      <th>7</th>\n      <td>44</td>\n      <td>1</td>\n      <td>1</td>\n      <td>120</td>\n      <td>263</td>\n      <td>0</td>\n      <td>1</td>\n      <td>173</td>\n      <td>0</td>\n      <td>0.0</td>\n      <td>2</td>\n      <td>0</td>\n      <td>3</td>\n      <td>1</td>\n    </tr>\n    <tr>\n      <th>8</th>\n      <td>52</td>\n      <td>1</td>\n      <td>2</td>\n      <td>172</td>\n      <td>199</td>\n      <td>1</td>\n      <td>1</td>\n      <td>162</td>\n      <td>0</td>\n      <td>0.5</td>\n      <td>2</td>\n      <td>0</td>\n      <td>3</td>\n      <td>1</td>\n    </tr>\n    <tr>\n      <th>9</th>\n      <td>57</td>\n      <td>1</td>\n      <td>2</td>\n      <td>150</td>\n      <td>168</td>\n      <td>0</td>\n      <td>1</td>\n      <td>174</td>\n      <td>0</td>\n      <td>1.6</td>\n      <td>2</td>\n      <td>0</td>\n      <td>2</td>\n      <td>1</td>\n    </tr>\n  </tbody>\n</table>\n</div>"
     },
     "metadata": {},
     "execution_count": 4
    }
   ],
   "source": [
    "df.head(10)"
   ]
  },
  {
   "cell_type": "code",
   "execution_count": 5,
   "metadata": {},
   "outputs": [
    {
     "output_type": "execute_result",
     "data": {
      "text/plain": [
       "age        -0.225439\n",
       "sex        -0.280937\n",
       "cp          0.433798\n",
       "trestbps   -0.144931\n",
       "chol       -0.085239\n",
       "fbs        -0.028046\n",
       "restecg     0.137230\n",
       "thalach     0.421741\n",
       "exang      -0.436757\n",
       "oldpeak    -0.430696\n",
       "slope       0.345877\n",
       "ca         -0.391724\n",
       "thal       -0.344029\n",
       "target      1.000000\n",
       "Name: target, dtype: float64"
      ]
     },
     "metadata": {},
     "execution_count": 5
    }
   ],
   "source": [
    "df.corr()[\"target\"]"
   ]
  },
  {
   "cell_type": "markdown",
   "metadata": {},
   "source": [
    "### Categorical data "
   ]
  },
  {
   "cell_type": "markdown",
   "metadata": {},
   "source": [
    "#### target\n",
    "Target is have disease (1) or not (0)"
   ]
  },
  {
   "cell_type": "code",
   "execution_count": 6,
   "metadata": {},
   "outputs": [],
   "source": [
    "x = \"target\""
   ]
  },
  {
   "cell_type": "code",
   "execution_count": 7,
   "metadata": {
    "scrolled": true
   },
   "outputs": [
    {
     "output_type": "execute_result",
     "data": {
      "text/plain": [
       "1    0.544554\n",
       "0    0.455446\n",
       "Name: target, dtype: float64"
      ]
     },
     "metadata": {},
     "execution_count": 7
    }
   ],
   "source": [
    "df[x].value_counts(normalize=True)"
   ]
  },
  {
   "cell_type": "code",
   "execution_count": 8,
   "metadata": {},
   "outputs": [
    {
     "output_type": "execute_result",
     "data": {
      "text/plain": [
       "0"
      ]
     },
     "metadata": {},
     "execution_count": 8
    }
   ],
   "source": [
    "df[x].isnull().sum()"
   ]
  },
  {
   "cell_type": "markdown",
   "metadata": {},
   "source": [
    "#### sex\n",
    "Gender of individual (not given what sex the numbers correspond to)"
   ]
  },
  {
   "cell_type": "code",
   "execution_count": 9,
   "metadata": {},
   "outputs": [],
   "source": [
    "x = \"sex\""
   ]
  },
  {
   "cell_type": "code",
   "execution_count": 10,
   "metadata": {},
   "outputs": [
    {
     "output_type": "execute_result",
     "data": {
      "text/plain": [
       "1    0.683168\n",
       "0    0.316832\n",
       "Name: sex, dtype: float64"
      ]
     },
     "metadata": {},
     "execution_count": 10
    }
   ],
   "source": [
    "df[x].value_counts(normalize=True)"
   ]
  },
  {
   "cell_type": "code",
   "execution_count": 11,
   "metadata": {},
   "outputs": [
    {
     "output_type": "execute_result",
     "data": {
      "text/plain": [
       "0"
      ]
     },
     "metadata": {},
     "execution_count": 11
    }
   ],
   "source": [
    "df[x].isnull().sum()"
   ]
  },
  {
   "cell_type": "code",
   "execution_count": 12,
   "metadata": {},
   "outputs": [
    {
     "output_type": "execute_result",
     "data": {
      "text/plain": [
       "sex\n",
       "0    0.750000\n",
       "1    0.449275\n",
       "Name: target, dtype: float64"
      ]
     },
     "metadata": {},
     "execution_count": 12
    }
   ],
   "source": [
    "df.groupby(x)[\"target\"].value_counts(normalize=True)[:,1] # find percentage in each group that has disease"
   ]
  },
  {
   "cell_type": "code",
   "execution_count": 13,
   "metadata": {},
   "outputs": [
    {
     "output_type": "execute_result",
     "data": {
      "text/plain": [
       "[Text(0.5, 1.0, 'sex'),\n",
       " Text(0.5, 0, 'sex'),\n",
       " Text(0, 0.5, '% of Heart Disease')]"
      ]
     },
     "metadata": {},
     "execution_count": 13
    },
    {
     "output_type": "display_data",
     "data": {
      "text/plain": "<Figure size 576x396 with 1 Axes>",
      "image/svg+xml": "<?xml version=\"1.0\" encoding=\"utf-8\" standalone=\"no\"?>\n<!DOCTYPE svg PUBLIC \"-//W3C//DTD SVG 1.1//EN\"\n  \"http://www.w3.org/Graphics/SVG/1.1/DTD/svg11.dtd\">\n<!-- Created with matplotlib (https://matplotlib.org/) -->\n<svg height=\"358.174531pt\" version=\"1.1\" viewBox=\"0 0 495.759844 358.174531\" width=\"495.759844pt\" xmlns=\"http://www.w3.org/2000/svg\" xmlns:xlink=\"http://www.w3.org/1999/xlink\">\n <metadata>\n  <rdf:RDF xmlns:cc=\"http://creativecommons.org/ns#\" xmlns:dc=\"http://purl.org/dc/elements/1.1/\" xmlns:rdf=\"http://www.w3.org/1999/02/22-rdf-syntax-ns#\">\n   <cc:Work>\n    <dc:type rdf:resource=\"http://purl.org/dc/dcmitype/StillImage\"/>\n    <dc:date>2021-07-03T16:39:19.498881</dc:date>\n    <dc:format>image/svg+xml</dc:format>\n    <dc:creator>\n     <cc:Agent>\n      <dc:title>Matplotlib v3.3.3, https://matplotlib.org/</dc:title>\n     </cc:Agent>\n    </dc:creator>\n   </cc:Work>\n  </rdf:RDF>\n </metadata>\n <defs>\n  <style type=\"text/css\">*{stroke-linecap:butt;stroke-linejoin:round;}</style>\n </defs>\n <g id=\"figure_1\">\n  <g id=\"patch_1\">\n   <path d=\"M 0 358.174531 \nL 495.759844 358.174531 \nL 495.759844 0 \nL 0 0 \nz\n\" style=\"fill:#ffffff;\"/>\n  </g>\n  <g id=\"axes_1\">\n   <g id=\"patch_2\">\n    <path d=\"M 42.159844 320.769375 \nL 488.559844 320.769375 \nL 488.559844 21.789375 \nL 42.159844 21.789375 \nz\n\" style=\"fill:#eaeaf2;\"/>\n   </g>\n   <g id=\"matplotlib.axis_1\">\n    <g id=\"xtick_1\">\n     <g id=\"line2d_1\">\n      <path clip-path=\"url(#p9d0edfca09)\" d=\"M 152.632571 320.769375 \nL 152.632571 21.789375 \n\" style=\"fill:none;stroke:#ffffff;stroke-linecap:round;\"/>\n     </g>\n     <g id=\"line2d_2\"/>\n     <g id=\"text_1\">\n      <!-- 0 -->\n      <g style=\"fill:#262626;\" transform=\"translate(149.852102 334.927187)scale(0.1 -0.1)\">\n       <defs>\n        <path d=\"M 4.15625 35.296875 \nQ 4.15625 48 6.765625 55.734375 \nQ 9.375 63.484375 14.515625 67.671875 \nQ 19.671875 71.875 27.484375 71.875 \nQ 33.25 71.875 37.59375 69.546875 \nQ 41.9375 67.234375 44.765625 62.859375 \nQ 47.609375 58.5 49.21875 52.21875 \nQ 50.828125 45.953125 50.828125 35.296875 \nQ 50.828125 22.703125 48.234375 14.96875 \nQ 45.65625 7.234375 40.5 3 \nQ 35.359375 -1.21875 27.484375 -1.21875 \nQ 17.140625 -1.21875 11.234375 6.203125 \nQ 4.15625 15.140625 4.15625 35.296875 \nz\nM 13.1875 35.296875 \nQ 13.1875 17.671875 17.3125 11.828125 \nQ 21.4375 6 27.484375 6 \nQ 33.546875 6 37.671875 11.859375 \nQ 41.796875 17.71875 41.796875 35.296875 \nQ 41.796875 52.984375 37.671875 58.78125 \nQ 33.546875 64.59375 27.390625 64.59375 \nQ 21.34375 64.59375 17.71875 59.46875 \nQ 13.1875 52.9375 13.1875 35.296875 \nz\n\" id=\"ArialMT-48\"/>\n       </defs>\n       <use xlink:href=\"#ArialMT-48\"/>\n      </g>\n     </g>\n    </g>\n    <g id=\"xtick_2\">\n     <g id=\"line2d_3\">\n      <path clip-path=\"url(#p9d0edfca09)\" d=\"M 378.087116 320.769375 \nL 378.087116 21.789375 \n\" style=\"fill:none;stroke:#ffffff;stroke-linecap:round;\"/>\n     </g>\n     <g id=\"line2d_4\"/>\n     <g id=\"text_2\">\n      <!-- 1 -->\n      <g style=\"fill:#262626;\" transform=\"translate(375.306648 334.927187)scale(0.1 -0.1)\">\n       <defs>\n        <path d=\"M 37.25 0 \nL 28.46875 0 \nL 28.46875 56 \nQ 25.296875 52.984375 20.140625 49.953125 \nQ 14.984375 46.921875 10.890625 45.40625 \nL 10.890625 53.90625 \nQ 18.265625 57.375 23.78125 62.296875 \nQ 29.296875 67.234375 31.59375 71.875 \nL 37.25 71.875 \nz\n\" id=\"ArialMT-49\"/>\n       </defs>\n       <use xlink:href=\"#ArialMT-49\"/>\n      </g>\n     </g>\n    </g>\n    <g id=\"text_3\">\n     <!-- sex -->\n     <g style=\"fill:#262626;\" transform=\"translate(256.801328 348.788281)scale(0.11 -0.11)\">\n      <defs>\n       <path d=\"M 3.078125 15.484375 \nL 11.765625 16.84375 \nQ 12.5 11.625 15.84375 8.84375 \nQ 19.1875 6.0625 25.203125 6.0625 \nQ 31.25 6.0625 34.171875 8.515625 \nQ 37.109375 10.984375 37.109375 14.3125 \nQ 37.109375 17.28125 34.515625 19 \nQ 32.71875 20.171875 25.53125 21.96875 \nQ 15.875 24.421875 12.140625 26.203125 \nQ 8.40625 27.984375 6.46875 31.125 \nQ 4.546875 34.28125 4.546875 38.09375 \nQ 4.546875 41.546875 6.125 44.5 \nQ 7.71875 47.46875 10.453125 49.421875 \nQ 12.5 50.921875 16.03125 51.96875 \nQ 19.578125 53.03125 23.640625 53.03125 \nQ 29.734375 53.03125 34.34375 51.265625 \nQ 38.96875 49.515625 41.15625 46.5 \nQ 43.359375 43.5 44.1875 38.484375 \nL 35.59375 37.3125 \nQ 35.015625 41.3125 32.203125 43.546875 \nQ 29.390625 45.796875 24.265625 45.796875 \nQ 18.21875 45.796875 15.625 43.796875 \nQ 13.03125 41.796875 13.03125 39.109375 \nQ 13.03125 37.40625 14.109375 36.03125 \nQ 15.1875 34.625 17.484375 33.6875 \nQ 18.796875 33.203125 25.25 31.453125 \nQ 34.578125 28.953125 38.25 27.359375 \nQ 41.9375 25.78125 44.03125 22.75 \nQ 46.140625 19.734375 46.140625 15.234375 \nQ 46.140625 10.84375 43.578125 6.953125 \nQ 41.015625 3.078125 36.171875 0.953125 \nQ 31.34375 -1.171875 25.25 -1.171875 \nQ 15.140625 -1.171875 9.84375 3.03125 \nQ 4.546875 7.234375 3.078125 15.484375 \nz\n\" id=\"ArialMT-115\"/>\n       <path d=\"M 42.09375 16.703125 \nL 51.171875 15.578125 \nQ 49.03125 7.625 43.21875 3.21875 \nQ 37.40625 -1.171875 28.375 -1.171875 \nQ 17 -1.171875 10.328125 5.828125 \nQ 3.65625 12.84375 3.65625 25.484375 \nQ 3.65625 38.578125 10.390625 45.796875 \nQ 17.140625 53.03125 27.875 53.03125 \nQ 38.28125 53.03125 44.875 45.953125 \nQ 51.46875 38.875 51.46875 26.03125 \nQ 51.46875 25.25 51.421875 23.6875 \nL 12.75 23.6875 \nQ 13.234375 15.140625 17.578125 10.59375 \nQ 21.921875 6.0625 28.421875 6.0625 \nQ 33.25 6.0625 36.671875 8.59375 \nQ 40.09375 11.140625 42.09375 16.703125 \nz\nM 13.234375 30.90625 \nL 42.1875 30.90625 \nQ 41.609375 37.453125 38.875 40.71875 \nQ 34.671875 45.796875 27.984375 45.796875 \nQ 21.921875 45.796875 17.796875 41.75 \nQ 13.671875 37.703125 13.234375 30.90625 \nz\n\" id=\"ArialMT-101\"/>\n       <path d=\"M 0.734375 0 \nL 19.671875 26.953125 \nL 2.15625 51.859375 \nL 13.140625 51.859375 \nL 21.09375 39.703125 \nQ 23.34375 36.234375 24.703125 33.890625 \nQ 26.859375 37.109375 28.65625 39.59375 \nL 37.40625 51.859375 \nL 47.90625 51.859375 \nL 29.984375 27.4375 \nL 49.265625 0 \nL 38.484375 0 \nL 27.828125 16.109375 \nL 25 20.453125 \nL 11.375 0 \nz\n\" id=\"ArialMT-120\"/>\n      </defs>\n      <use xlink:href=\"#ArialMT-115\"/>\n      <use x=\"50\" xlink:href=\"#ArialMT-101\"/>\n      <use x=\"105.615234\" xlink:href=\"#ArialMT-120\"/>\n     </g>\n    </g>\n   </g>\n   <g id=\"matplotlib.axis_2\">\n    <g id=\"ytick_1\">\n     <g id=\"line2d_5\">\n      <path clip-path=\"url(#p9d0edfca09)\" d=\"M 42.159844 320.769375 \nL 488.559844 320.769375 \n\" style=\"fill:none;stroke:#ffffff;stroke-linecap:round;\"/>\n     </g>\n     <g id=\"line2d_6\"/>\n     <g id=\"text_4\">\n      <!-- 0.0 -->\n      <g style=\"fill:#262626;\" transform=\"translate(21.259844 324.348281)scale(0.1 -0.1)\">\n       <defs>\n        <path d=\"M 9.078125 0 \nL 9.078125 10.015625 \nL 19.09375 10.015625 \nL 19.09375 0 \nz\n\" id=\"ArialMT-46\"/>\n       </defs>\n       <use xlink:href=\"#ArialMT-48\"/>\n       <use x=\"55.615234\" xlink:href=\"#ArialMT-46\"/>\n       <use x=\"83.398438\" xlink:href=\"#ArialMT-48\"/>\n      </g>\n     </g>\n    </g>\n    <g id=\"ytick_2\">\n     <g id=\"line2d_7\">\n      <path clip-path=\"url(#p9d0edfca09)\" d=\"M 42.159844 282.803661 \nL 488.559844 282.803661 \n\" style=\"fill:none;stroke:#ffffff;stroke-linecap:round;\"/>\n     </g>\n     <g id=\"line2d_8\"/>\n     <g id=\"text_5\">\n      <!-- 0.1 -->\n      <g style=\"fill:#262626;\" transform=\"translate(21.259844 286.382567)scale(0.1 -0.1)\">\n       <use xlink:href=\"#ArialMT-48\"/>\n       <use x=\"55.615234\" xlink:href=\"#ArialMT-46\"/>\n       <use x=\"83.398438\" xlink:href=\"#ArialMT-49\"/>\n      </g>\n     </g>\n    </g>\n    <g id=\"ytick_3\">\n     <g id=\"line2d_9\">\n      <path clip-path=\"url(#p9d0edfca09)\" d=\"M 42.159844 244.837946 \nL 488.559844 244.837946 \n\" style=\"fill:none;stroke:#ffffff;stroke-linecap:round;\"/>\n     </g>\n     <g id=\"line2d_10\"/>\n     <g id=\"text_6\">\n      <!-- 0.2 -->\n      <g style=\"fill:#262626;\" transform=\"translate(21.259844 248.416853)scale(0.1 -0.1)\">\n       <defs>\n        <path d=\"M 50.34375 8.453125 \nL 50.34375 0 \nL 3.03125 0 \nQ 2.9375 3.171875 4.046875 6.109375 \nQ 5.859375 10.9375 9.828125 15.625 \nQ 13.8125 20.3125 21.34375 26.46875 \nQ 33.015625 36.03125 37.109375 41.625 \nQ 41.21875 47.21875 41.21875 52.203125 \nQ 41.21875 57.421875 37.46875 61 \nQ 33.734375 64.59375 27.734375 64.59375 \nQ 21.390625 64.59375 17.578125 60.78125 \nQ 13.765625 56.984375 13.71875 50.25 \nL 4.6875 51.171875 \nQ 5.609375 61.28125 11.65625 66.578125 \nQ 17.71875 71.875 27.9375 71.875 \nQ 38.234375 71.875 44.234375 66.15625 \nQ 50.25 60.453125 50.25 52 \nQ 50.25 47.703125 48.484375 43.546875 \nQ 46.734375 39.40625 42.65625 34.8125 \nQ 38.578125 30.21875 29.109375 22.21875 \nQ 21.1875 15.578125 18.9375 13.203125 \nQ 16.703125 10.84375 15.234375 8.453125 \nz\n\" id=\"ArialMT-50\"/>\n       </defs>\n       <use xlink:href=\"#ArialMT-48\"/>\n       <use x=\"55.615234\" xlink:href=\"#ArialMT-46\"/>\n       <use x=\"83.398438\" xlink:href=\"#ArialMT-50\"/>\n      </g>\n     </g>\n    </g>\n    <g id=\"ytick_4\">\n     <g id=\"line2d_11\">\n      <path clip-path=\"url(#p9d0edfca09)\" d=\"M 42.159844 206.872232 \nL 488.559844 206.872232 \n\" style=\"fill:none;stroke:#ffffff;stroke-linecap:round;\"/>\n     </g>\n     <g id=\"line2d_12\"/>\n     <g id=\"text_7\">\n      <!-- 0.3 -->\n      <g style=\"fill:#262626;\" transform=\"translate(21.259844 210.451138)scale(0.1 -0.1)\">\n       <defs>\n        <path d=\"M 4.203125 18.890625 \nL 12.984375 20.0625 \nQ 14.5 12.59375 18.140625 9.296875 \nQ 21.78125 6 27 6 \nQ 33.203125 6 37.46875 10.296875 \nQ 41.75 14.59375 41.75 20.953125 \nQ 41.75 27 37.796875 30.921875 \nQ 33.84375 34.859375 27.734375 34.859375 \nQ 25.25 34.859375 21.53125 33.890625 \nL 22.515625 41.609375 \nQ 23.390625 41.5 23.921875 41.5 \nQ 29.546875 41.5 34.03125 44.421875 \nQ 38.53125 47.359375 38.53125 53.46875 \nQ 38.53125 58.296875 35.25 61.46875 \nQ 31.984375 64.65625 26.8125 64.65625 \nQ 21.6875 64.65625 18.265625 61.421875 \nQ 14.84375 58.203125 13.875 51.765625 \nL 5.078125 53.328125 \nQ 6.6875 62.15625 12.390625 67.015625 \nQ 18.109375 71.875 26.609375 71.875 \nQ 32.46875 71.875 37.390625 69.359375 \nQ 42.328125 66.84375 44.9375 62.5 \nQ 47.5625 58.15625 47.5625 53.265625 \nQ 47.5625 48.640625 45.0625 44.828125 \nQ 42.578125 41.015625 37.703125 38.765625 \nQ 44.046875 37.3125 47.5625 32.6875 \nQ 51.078125 28.078125 51.078125 21.140625 \nQ 51.078125 11.765625 44.234375 5.25 \nQ 37.40625 -1.265625 26.953125 -1.265625 \nQ 17.53125 -1.265625 11.296875 4.34375 \nQ 5.078125 9.96875 4.203125 18.890625 \nz\n\" id=\"ArialMT-51\"/>\n       </defs>\n       <use xlink:href=\"#ArialMT-48\"/>\n       <use x=\"55.615234\" xlink:href=\"#ArialMT-46\"/>\n       <use x=\"83.398438\" xlink:href=\"#ArialMT-51\"/>\n      </g>\n     </g>\n    </g>\n    <g id=\"ytick_5\">\n     <g id=\"line2d_13\">\n      <path clip-path=\"url(#p9d0edfca09)\" d=\"M 42.159844 168.906518 \nL 488.559844 168.906518 \n\" style=\"fill:none;stroke:#ffffff;stroke-linecap:round;\"/>\n     </g>\n     <g id=\"line2d_14\"/>\n     <g id=\"text_8\">\n      <!-- 0.4 -->\n      <g style=\"fill:#262626;\" transform=\"translate(21.259844 172.485424)scale(0.1 -0.1)\">\n       <defs>\n        <path d=\"M 32.328125 0 \nL 32.328125 17.140625 \nL 1.265625 17.140625 \nL 1.265625 25.203125 \nL 33.9375 71.578125 \nL 41.109375 71.578125 \nL 41.109375 25.203125 \nL 50.78125 25.203125 \nL 50.78125 17.140625 \nL 41.109375 17.140625 \nL 41.109375 0 \nz\nM 32.328125 25.203125 \nL 32.328125 57.46875 \nL 9.90625 25.203125 \nz\n\" id=\"ArialMT-52\"/>\n       </defs>\n       <use xlink:href=\"#ArialMT-48\"/>\n       <use x=\"55.615234\" xlink:href=\"#ArialMT-46\"/>\n       <use x=\"83.398438\" xlink:href=\"#ArialMT-52\"/>\n      </g>\n     </g>\n    </g>\n    <g id=\"ytick_6\">\n     <g id=\"line2d_15\">\n      <path clip-path=\"url(#p9d0edfca09)\" d=\"M 42.159844 130.940804 \nL 488.559844 130.940804 \n\" style=\"fill:none;stroke:#ffffff;stroke-linecap:round;\"/>\n     </g>\n     <g id=\"line2d_16\"/>\n     <g id=\"text_9\">\n      <!-- 0.5 -->\n      <g style=\"fill:#262626;\" transform=\"translate(21.259844 134.51971)scale(0.1 -0.1)\">\n       <defs>\n        <path d=\"M 4.15625 18.75 \nL 13.375 19.53125 \nQ 14.40625 12.796875 18.140625 9.390625 \nQ 21.875 6 27.15625 6 \nQ 33.5 6 37.890625 10.78125 \nQ 42.28125 15.578125 42.28125 23.484375 \nQ 42.28125 31 38.0625 35.34375 \nQ 33.84375 39.703125 27 39.703125 \nQ 22.75 39.703125 19.328125 37.765625 \nQ 15.921875 35.84375 13.96875 32.765625 \nL 5.71875 33.84375 \nL 12.640625 70.609375 \nL 48.25 70.609375 \nL 48.25 62.203125 \nL 19.671875 62.203125 \nL 15.828125 42.96875 \nQ 22.265625 47.46875 29.34375 47.46875 \nQ 38.71875 47.46875 45.15625 40.96875 \nQ 51.609375 34.46875 51.609375 24.265625 \nQ 51.609375 14.546875 45.953125 7.46875 \nQ 39.0625 -1.21875 27.15625 -1.21875 \nQ 17.390625 -1.21875 11.203125 4.25 \nQ 5.03125 9.71875 4.15625 18.75 \nz\n\" id=\"ArialMT-53\"/>\n       </defs>\n       <use xlink:href=\"#ArialMT-48\"/>\n       <use x=\"55.615234\" xlink:href=\"#ArialMT-46\"/>\n       <use x=\"83.398438\" xlink:href=\"#ArialMT-53\"/>\n      </g>\n     </g>\n    </g>\n    <g id=\"ytick_7\">\n     <g id=\"line2d_17\">\n      <path clip-path=\"url(#p9d0edfca09)\" d=\"M 42.159844 92.975089 \nL 488.559844 92.975089 \n\" style=\"fill:none;stroke:#ffffff;stroke-linecap:round;\"/>\n     </g>\n     <g id=\"line2d_18\"/>\n     <g id=\"text_10\">\n      <!-- 0.6 -->\n      <g style=\"fill:#262626;\" transform=\"translate(21.259844 96.553996)scale(0.1 -0.1)\">\n       <defs>\n        <path d=\"M 49.75 54.046875 \nL 41.015625 53.375 \nQ 39.84375 58.546875 37.703125 60.890625 \nQ 34.125 64.65625 28.90625 64.65625 \nQ 24.703125 64.65625 21.53125 62.3125 \nQ 17.390625 59.28125 14.984375 53.46875 \nQ 12.59375 47.65625 12.5 36.921875 \nQ 15.671875 41.75 20.265625 44.09375 \nQ 24.859375 46.4375 29.890625 46.4375 \nQ 38.671875 46.4375 44.84375 39.96875 \nQ 51.03125 33.5 51.03125 23.25 \nQ 51.03125 16.5 48.125 10.71875 \nQ 45.21875 4.9375 40.140625 1.859375 \nQ 35.0625 -1.21875 28.609375 -1.21875 \nQ 17.625 -1.21875 10.6875 6.859375 \nQ 3.765625 14.9375 3.765625 33.5 \nQ 3.765625 54.25 11.421875 63.671875 \nQ 18.109375 71.875 29.4375 71.875 \nQ 37.890625 71.875 43.28125 67.140625 \nQ 48.6875 62.40625 49.75 54.046875 \nz\nM 13.875 23.1875 \nQ 13.875 18.65625 15.796875 14.5 \nQ 17.71875 10.359375 21.1875 8.171875 \nQ 24.65625 6 28.46875 6 \nQ 34.03125 6 38.03125 10.484375 \nQ 42.046875 14.984375 42.046875 22.703125 \nQ 42.046875 30.125 38.078125 34.390625 \nQ 34.125 38.671875 28.125 38.671875 \nQ 22.171875 38.671875 18.015625 34.390625 \nQ 13.875 30.125 13.875 23.1875 \nz\n\" id=\"ArialMT-54\"/>\n       </defs>\n       <use xlink:href=\"#ArialMT-48\"/>\n       <use x=\"55.615234\" xlink:href=\"#ArialMT-46\"/>\n       <use x=\"83.398438\" xlink:href=\"#ArialMT-54\"/>\n      </g>\n     </g>\n    </g>\n    <g id=\"ytick_8\">\n     <g id=\"line2d_19\">\n      <path clip-path=\"url(#p9d0edfca09)\" d=\"M 42.159844 55.009375 \nL 488.559844 55.009375 \n\" style=\"fill:none;stroke:#ffffff;stroke-linecap:round;\"/>\n     </g>\n     <g id=\"line2d_20\"/>\n     <g id=\"text_11\">\n      <!-- 0.7 -->\n      <g style=\"fill:#262626;\" transform=\"translate(21.259844 58.588281)scale(0.1 -0.1)\">\n       <defs>\n        <path d=\"M 4.734375 62.203125 \nL 4.734375 70.65625 \nL 51.078125 70.65625 \nL 51.078125 63.8125 \nQ 44.234375 56.546875 37.515625 44.484375 \nQ 30.8125 32.421875 27.15625 19.671875 \nQ 24.515625 10.6875 23.78125 0 \nL 14.75 0 \nQ 14.890625 8.453125 18.0625 20.40625 \nQ 21.234375 32.375 27.171875 43.484375 \nQ 33.109375 54.59375 39.796875 62.203125 \nz\n\" id=\"ArialMT-55\"/>\n       </defs>\n       <use xlink:href=\"#ArialMT-48\"/>\n       <use x=\"55.615234\" xlink:href=\"#ArialMT-46\"/>\n       <use x=\"83.398438\" xlink:href=\"#ArialMT-55\"/>\n      </g>\n     </g>\n    </g>\n    <g id=\"text_12\">\n     <!-- % of Heart Disease -->\n     <g style=\"fill:#262626;\" transform=\"translate(15.073594 218.658437)rotate(-90)scale(0.11 -0.11)\">\n      <defs>\n       <path d=\"M 5.8125 54.390625 \nQ 5.8125 62.0625 9.671875 67.421875 \nQ 13.53125 72.796875 20.84375 72.796875 \nQ 27.59375 72.796875 32 67.984375 \nQ 36.421875 63.1875 36.421875 53.859375 \nQ 36.421875 44.78125 31.953125 39.875 \nQ 27.484375 34.96875 20.953125 34.96875 \nQ 14.453125 34.96875 10.125 39.796875 \nQ 5.8125 44.625 5.8125 54.390625 \nz\nM 21.09375 66.75 \nQ 17.828125 66.75 15.65625 63.90625 \nQ 13.484375 61.078125 13.484375 53.515625 \nQ 13.484375 46.625 15.671875 43.8125 \nQ 17.875 41.015625 21.09375 41.015625 \nQ 24.421875 41.015625 26.59375 43.84375 \nQ 28.765625 46.6875 28.765625 54.203125 \nQ 28.765625 61.140625 26.5625 63.9375 \nQ 24.359375 66.75 21.09375 66.75 \nz\nM 21.140625 -2.640625 \nL 60.296875 72.796875 \nL 67.4375 72.796875 \nL 28.421875 -2.640625 \nz\nM 52.09375 16.796875 \nQ 52.09375 24.515625 55.953125 29.859375 \nQ 59.8125 35.203125 67.1875 35.203125 \nQ 73.921875 35.203125 78.34375 30.390625 \nQ 82.765625 25.59375 82.765625 16.265625 \nQ 82.765625 7.171875 78.296875 2.265625 \nQ 73.828125 -2.640625 67.234375 -2.640625 \nQ 60.75 -2.640625 56.421875 2.21875 \nQ 52.09375 7.078125 52.09375 16.796875 \nz\nM 67.4375 29.15625 \nQ 64.109375 29.15625 61.9375 26.3125 \nQ 59.765625 23.484375 59.765625 15.921875 \nQ 59.765625 9.078125 61.953125 6.25 \nQ 64.15625 3.421875 67.390625 3.421875 \nQ 70.75 3.421875 72.921875 6.25 \nQ 75.09375 9.078125 75.09375 16.609375 \nQ 75.09375 23.53125 72.890625 26.34375 \nQ 70.703125 29.15625 67.4375 29.15625 \nz\n\" id=\"ArialMT-37\"/>\n       <path id=\"ArialMT-32\"/>\n       <path d=\"M 3.328125 25.921875 \nQ 3.328125 40.328125 11.328125 47.265625 \nQ 18.015625 53.03125 27.640625 53.03125 \nQ 38.328125 53.03125 45.109375 46.015625 \nQ 51.90625 39.015625 51.90625 26.65625 \nQ 51.90625 16.65625 48.90625 10.90625 \nQ 45.90625 5.171875 40.15625 2 \nQ 34.421875 -1.171875 27.640625 -1.171875 \nQ 16.75 -1.171875 10.03125 5.8125 \nQ 3.328125 12.796875 3.328125 25.921875 \nz\nM 12.359375 25.921875 \nQ 12.359375 15.96875 16.703125 11.015625 \nQ 21.046875 6.0625 27.640625 6.0625 \nQ 34.1875 6.0625 38.53125 11.03125 \nQ 42.875 16.015625 42.875 26.21875 \nQ 42.875 35.84375 38.5 40.796875 \nQ 34.125 45.75 27.640625 45.75 \nQ 21.046875 45.75 16.703125 40.8125 \nQ 12.359375 35.890625 12.359375 25.921875 \nz\n\" id=\"ArialMT-111\"/>\n       <path d=\"M 8.6875 0 \nL 8.6875 45.015625 \nL 0.921875 45.015625 \nL 0.921875 51.859375 \nL 8.6875 51.859375 \nL 8.6875 57.375 \nQ 8.6875 62.59375 9.625 65.140625 \nQ 10.890625 68.5625 14.078125 70.671875 \nQ 17.28125 72.796875 23.046875 72.796875 \nQ 26.765625 72.796875 31.25 71.921875 \nL 29.9375 64.265625 \nQ 27.203125 64.75 24.75 64.75 \nQ 20.75 64.75 19.09375 63.03125 \nQ 17.4375 61.328125 17.4375 56.640625 \nL 17.4375 51.859375 \nL 27.546875 51.859375 \nL 27.546875 45.015625 \nL 17.4375 45.015625 \nL 17.4375 0 \nz\n\" id=\"ArialMT-102\"/>\n       <path d=\"M 8.015625 0 \nL 8.015625 71.578125 \nL 17.484375 71.578125 \nL 17.484375 42.1875 \nL 54.6875 42.1875 \nL 54.6875 71.578125 \nL 64.15625 71.578125 \nL 64.15625 0 \nL 54.6875 0 \nL 54.6875 33.734375 \nL 17.484375 33.734375 \nL 17.484375 0 \nz\n\" id=\"ArialMT-72\"/>\n       <path d=\"M 40.4375 6.390625 \nQ 35.546875 2.25 31.03125 0.53125 \nQ 26.515625 -1.171875 21.34375 -1.171875 \nQ 12.796875 -1.171875 8.203125 3 \nQ 3.609375 7.171875 3.609375 13.671875 \nQ 3.609375 17.484375 5.34375 20.625 \nQ 7.078125 23.78125 9.890625 25.6875 \nQ 12.703125 27.59375 16.21875 28.5625 \nQ 18.796875 29.25 24.03125 29.890625 \nQ 34.671875 31.15625 39.703125 32.90625 \nQ 39.75 34.71875 39.75 35.203125 \nQ 39.75 40.578125 37.25 42.78125 \nQ 33.890625 45.75 27.25 45.75 \nQ 21.046875 45.75 18.09375 43.578125 \nQ 15.140625 41.40625 13.71875 35.890625 \nL 5.125 37.0625 \nQ 6.296875 42.578125 8.984375 45.96875 \nQ 11.671875 49.359375 16.75 51.1875 \nQ 21.828125 53.03125 28.515625 53.03125 \nQ 35.15625 53.03125 39.296875 51.46875 \nQ 43.453125 49.90625 45.40625 47.53125 \nQ 47.359375 45.171875 48.140625 41.546875 \nQ 48.578125 39.3125 48.578125 33.453125 \nL 48.578125 21.734375 \nQ 48.578125 9.46875 49.140625 6.21875 \nQ 49.703125 2.984375 51.375 0 \nL 42.1875 0 \nQ 40.828125 2.734375 40.4375 6.390625 \nz\nM 39.703125 26.03125 \nQ 34.90625 24.078125 25.34375 22.703125 \nQ 19.921875 21.921875 17.671875 20.9375 \nQ 15.4375 19.96875 14.203125 18.09375 \nQ 12.984375 16.21875 12.984375 13.921875 \nQ 12.984375 10.40625 15.640625 8.0625 \nQ 18.3125 5.71875 23.4375 5.71875 \nQ 28.515625 5.71875 32.46875 7.9375 \nQ 36.421875 10.15625 38.28125 14.015625 \nQ 39.703125 17 39.703125 22.796875 \nz\n\" id=\"ArialMT-97\"/>\n       <path d=\"M 6.5 0 \nL 6.5 51.859375 \nL 14.40625 51.859375 \nL 14.40625 44 \nQ 17.4375 49.515625 20 51.265625 \nQ 22.5625 53.03125 25.640625 53.03125 \nQ 30.078125 53.03125 34.671875 50.203125 \nL 31.640625 42.046875 \nQ 28.421875 43.953125 25.203125 43.953125 \nQ 22.3125 43.953125 20.015625 42.21875 \nQ 17.71875 40.484375 16.75 37.40625 \nQ 15.28125 32.71875 15.28125 27.15625 \nL 15.28125 0 \nz\n\" id=\"ArialMT-114\"/>\n       <path d=\"M 25.78125 7.859375 \nL 27.046875 0.09375 \nQ 23.34375 -0.6875 20.40625 -0.6875 \nQ 15.625 -0.6875 12.984375 0.828125 \nQ 10.359375 2.34375 9.28125 4.8125 \nQ 8.203125 7.28125 8.203125 15.1875 \nL 8.203125 45.015625 \nL 1.765625 45.015625 \nL 1.765625 51.859375 \nL 8.203125 51.859375 \nL 8.203125 64.703125 \nL 16.9375 69.96875 \nL 16.9375 51.859375 \nL 25.78125 51.859375 \nL 25.78125 45.015625 \nL 16.9375 45.015625 \nL 16.9375 14.703125 \nQ 16.9375 10.9375 17.40625 9.859375 \nQ 17.875 8.796875 18.921875 8.15625 \nQ 19.96875 7.515625 21.921875 7.515625 \nQ 23.390625 7.515625 25.78125 7.859375 \nz\n\" id=\"ArialMT-116\"/>\n       <path d=\"M 7.71875 0 \nL 7.71875 71.578125 \nL 32.375 71.578125 \nQ 40.71875 71.578125 45.125 70.5625 \nQ 51.265625 69.140625 55.609375 65.4375 \nQ 61.28125 60.640625 64.078125 53.1875 \nQ 66.890625 45.75 66.890625 36.1875 \nQ 66.890625 28.03125 64.984375 21.734375 \nQ 63.09375 15.4375 60.109375 11.296875 \nQ 57.125 7.171875 53.578125 4.796875 \nQ 50.046875 2.4375 45.046875 1.21875 \nQ 40.046875 0 33.546875 0 \nz\nM 17.1875 8.453125 \nL 32.46875 8.453125 \nQ 39.546875 8.453125 43.578125 9.765625 \nQ 47.609375 11.078125 50 13.484375 \nQ 53.375 16.84375 55.25 22.53125 \nQ 57.125 28.21875 57.125 36.328125 \nQ 57.125 47.5625 53.4375 53.59375 \nQ 49.75 59.625 44.484375 61.671875 \nQ 40.671875 63.140625 32.234375 63.140625 \nL 17.1875 63.140625 \nz\n\" id=\"ArialMT-68\"/>\n       <path d=\"M 6.640625 61.46875 \nL 6.640625 71.578125 \nL 15.4375 71.578125 \nL 15.4375 61.46875 \nz\nM 6.640625 0 \nL 6.640625 51.859375 \nL 15.4375 51.859375 \nL 15.4375 0 \nz\n\" id=\"ArialMT-105\"/>\n      </defs>\n      <use xlink:href=\"#ArialMT-37\"/>\n      <use x=\"88.916016\" xlink:href=\"#ArialMT-32\"/>\n      <use x=\"116.699219\" xlink:href=\"#ArialMT-111\"/>\n      <use x=\"172.314453\" xlink:href=\"#ArialMT-102\"/>\n      <use x=\"200.097656\" xlink:href=\"#ArialMT-32\"/>\n      <use x=\"227.880859\" xlink:href=\"#ArialMT-72\"/>\n      <use x=\"300.097656\" xlink:href=\"#ArialMT-101\"/>\n      <use x=\"355.712891\" xlink:href=\"#ArialMT-97\"/>\n      <use x=\"411.328125\" xlink:href=\"#ArialMT-114\"/>\n      <use x=\"444.628906\" xlink:href=\"#ArialMT-116\"/>\n      <use x=\"472.412109\" xlink:href=\"#ArialMT-32\"/>\n      <use x=\"500.195312\" xlink:href=\"#ArialMT-68\"/>\n      <use x=\"572.412109\" xlink:href=\"#ArialMT-105\"/>\n      <use x=\"594.628906\" xlink:href=\"#ArialMT-115\"/>\n      <use x=\"644.628906\" xlink:href=\"#ArialMT-101\"/>\n      <use x=\"700.244141\" xlink:href=\"#ArialMT-97\"/>\n      <use x=\"755.859375\" xlink:href=\"#ArialMT-115\"/>\n      <use x=\"805.859375\" xlink:href=\"#ArialMT-101\"/>\n     </g>\n    </g>\n   </g>\n   <g id=\"patch_3\">\n    <path clip-path=\"url(#p9d0edfca09)\" d=\"M 62.450753 320.769375 \nL 242.814389 320.769375 \nL 242.814389 36.026518 \nL 62.450753 36.026518 \nz\n\" style=\"fill:#4c72b0;\"/>\n   </g>\n   <g id=\"patch_4\">\n    <path clip-path=\"url(#p9d0edfca09)\" d=\"M 287.905298 320.769375 \nL 468.268935 320.769375 \nL 468.268935 150.198775 \nL 287.905298 150.198775 \nz\n\" style=\"fill:#4c72b0;\"/>\n   </g>\n   <g id=\"patch_5\">\n    <path d=\"M 42.159844 320.769375 \nL 42.159844 21.789375 \n\" style=\"fill:none;\"/>\n   </g>\n   <g id=\"patch_6\">\n    <path d=\"M 488.559844 320.769375 \nL 488.559844 21.789375 \n\" style=\"fill:none;\"/>\n   </g>\n   <g id=\"patch_7\">\n    <path d=\"M 42.159844 320.769375 \nL 488.559844 320.769375 \n\" style=\"fill:none;\"/>\n   </g>\n   <g id=\"patch_8\">\n    <path d=\"M 42.159844 21.789375 \nL 488.559844 21.789375 \n\" style=\"fill:none;\"/>\n   </g>\n   <g id=\"text_13\">\n    <!-- sex -->\n    <g style=\"fill:#262626;\" transform=\"translate(256.023281 15.789375)scale(0.12 -0.12)\">\n     <use xlink:href=\"#ArialMT-115\"/>\n     <use x=\"50\" xlink:href=\"#ArialMT-101\"/>\n     <use x=\"105.615234\" xlink:href=\"#ArialMT-120\"/>\n    </g>\n   </g>\n  </g>\n </g>\n <defs>\n  <clipPath id=\"p9d0edfca09\">\n   <rect height=\"298.98\" width=\"446.4\" x=\"42.159844\" y=\"21.789375\"/>\n  </clipPath>\n </defs>\n</svg>\n",
      "image/png": "[encoded data removed]"
     },
     "metadata": {}
    }
   ],
   "source": [
    "fig = plt.figure()\n",
    "\n",
    "ax = fig.add_subplot(111)\n",
    "ax_y = df.groupby(x)[\"target\"].value_counts(normalize=True)[:, 1]\n",
    "ax_x = [\"0\", \"1\"]\n",
    "ax.bar(ax_x, ax_y)\n",
    "ax.set(title=x, xlabel=x, ylabel=\"% of Heart Disease\")\n"
   ]
  },
  {
   "cell_type": "markdown",
   "metadata": {},
   "source": [
    "#### cp (Chest Pain)\n",
    "Levels of chest pain (not given their meaning)"
   ]
  },
  {
   "cell_type": "code",
   "execution_count": 14,
   "metadata": {},
   "outputs": [],
   "source": [
    "x = \"cp\""
   ]
  },
  {
   "cell_type": "code",
   "execution_count": 15,
   "metadata": {},
   "outputs": [
    {
     "output_type": "execute_result",
     "data": {
      "text/plain": [
       "0    0.471947\n",
       "2    0.287129\n",
       "1    0.165017\n",
       "3    0.075908\n",
       "Name: cp, dtype: float64"
      ]
     },
     "metadata": {},
     "execution_count": 15
    }
   ],
   "source": [
    "df[x].value_counts(normalize=True)"
   ]
  },
  {
   "cell_type": "code",
   "execution_count": 16,
   "metadata": {},
   "outputs": [
    {
     "output_type": "execute_result",
     "data": {
      "text/plain": [
       "0"
      ]
     },
     "metadata": {},
     "execution_count": 16
    }
   ],
   "source": [
    "df[x].isnull().sum()"
   ]
  },
  {
   "cell_type": "code",
   "execution_count": 17,
   "metadata": {},
   "outputs": [
    {
     "output_type": "execute_result",
     "data": {
      "text/plain": [
       "[Text(0.5, 1.0, 'cp'), Text(0.5, 0, 'cp'), Text(0, 0.5, '% of Heart Disease')]"
      ]
     },
     "metadata": {},
     "execution_count": 17
    },
    {
     "output_type": "display_data",
     "data": {
      "text/plain": "<Figure size 576x396 with 1 Axes>",
      "image/svg+xml": "<?xml version=\"1.0\" encoding=\"utf-8\" standalone=\"no\"?>\n<!DOCTYPE svg PUBLIC \"-//W3C//DTD SVG 1.1//EN\"\n  \"http://www.w3.org/Graphics/SVG/1.1/DTD/svg11.dtd\">\n<!-- Created with matplotlib (https://matplotlib.org/) -->\n<svg height=\"358.174531pt\" version=\"1.1\" viewBox=\"0 0 495.759844 358.174531\" width=\"495.759844pt\" xmlns=\"http://www.w3.org/2000/svg\" xmlns:xlink=\"http://www.w3.org/1999/xlink\">\n <metadata>\n  <rdf:RDF xmlns:cc=\"http://creativecommons.org/ns#\" xmlns:dc=\"http://purl.org/dc/elements/1.1/\" xmlns:rdf=\"http://www.w3.org/1999/02/22-rdf-syntax-ns#\">\n   <cc:Work>\n    <dc:type rdf:resource=\"http://purl.org/dc/dcmitype/StillImage\"/>\n    <dc:date>2021-07-03T16:39:19.950768</dc:date>\n    <dc:format>image/svg+xml</dc:format>\n    <dc:creator>\n     <cc:Agent>\n      <dc:title>Matplotlib v3.3.3, https://matplotlib.org/</dc:title>\n     </cc:Agent>\n    </dc:creator>\n   </cc:Work>\n  </rdf:RDF>\n </metadata>\n <defs>\n  <style type=\"text/css\">*{stroke-linecap:butt;stroke-linejoin:round;}</style>\n </defs>\n <g id=\"figure_1\">\n  <g id=\"patch_1\">\n   <path d=\"M 0 358.174531 \nL 495.759844 358.174531 \nL 495.759844 0 \nL 0 0 \nz\n\" style=\"fill:#ffffff;\"/>\n  </g>\n  <g id=\"axes_1\">\n   <g id=\"patch_2\">\n    <path d=\"M 42.159844 320.769375 \nL 488.559844 320.769375 \nL 488.559844 21.789375 \nL 42.159844 21.789375 \nz\n\" style=\"fill:#eaeaf2;\"/>\n   </g>\n   <g id=\"matplotlib.axis_1\">\n    <g id=\"xtick_1\">\n     <g id=\"line2d_1\">\n      <path clip-path=\"url(#p6cbeb1c141)\" d=\"M 105.168456 320.769375 \nL 105.168456 21.789375 \n\" style=\"fill:none;stroke:#ffffff;stroke-linecap:round;\"/>\n     </g>\n     <g id=\"line2d_2\"/>\n     <g id=\"text_1\">\n      <!-- 0 -->\n      <g style=\"fill:#262626;\" transform=\"translate(102.387987 334.927187)scale(0.1 -0.1)\">\n       <defs>\n        <path d=\"M 4.15625 35.296875 \nQ 4.15625 48 6.765625 55.734375 \nQ 9.375 63.484375 14.515625 67.671875 \nQ 19.671875 71.875 27.484375 71.875 \nQ 33.25 71.875 37.59375 69.546875 \nQ 41.9375 67.234375 44.765625 62.859375 \nQ 47.609375 58.5 49.21875 52.21875 \nQ 50.828125 45.953125 50.828125 35.296875 \nQ 50.828125 22.703125 48.234375 14.96875 \nQ 45.65625 7.234375 40.5 3 \nQ 35.359375 -1.21875 27.484375 -1.21875 \nQ 17.140625 -1.21875 11.234375 6.203125 \nQ 4.15625 15.140625 4.15625 35.296875 \nz\nM 13.1875 35.296875 \nQ 13.1875 17.671875 17.3125 11.828125 \nQ 21.4375 6 27.484375 6 \nQ 33.546875 6 37.671875 11.859375 \nQ 41.796875 17.71875 41.796875 35.296875 \nQ 41.796875 52.984375 37.671875 58.78125 \nQ 33.546875 64.59375 27.390625 64.59375 \nQ 21.34375 64.59375 17.71875 59.46875 \nQ 13.1875 52.9375 13.1875 35.296875 \nz\n\" id=\"ArialMT-48\"/>\n       </defs>\n       <use xlink:href=\"#ArialMT-48\"/>\n      </g>\n     </g>\n    </g>\n    <g id=\"xtick_2\">\n     <g id=\"line2d_3\">\n      <path clip-path=\"url(#p6cbeb1c141)\" d=\"M 211.962715 320.769375 \nL 211.962715 21.789375 \n\" style=\"fill:none;stroke:#ffffff;stroke-linecap:round;\"/>\n     </g>\n     <g id=\"line2d_4\"/>\n     <g id=\"text_2\">\n      <!-- 1 -->\n      <g style=\"fill:#262626;\" transform=\"translate(209.182246 334.927187)scale(0.1 -0.1)\">\n       <defs>\n        <path d=\"M 37.25 0 \nL 28.46875 0 \nL 28.46875 56 \nQ 25.296875 52.984375 20.140625 49.953125 \nQ 14.984375 46.921875 10.890625 45.40625 \nL 10.890625 53.90625 \nQ 18.265625 57.375 23.78125 62.296875 \nQ 29.296875 67.234375 31.59375 71.875 \nL 37.25 71.875 \nz\n\" id=\"ArialMT-49\"/>\n       </defs>\n       <use xlink:href=\"#ArialMT-49\"/>\n      </g>\n     </g>\n    </g>\n    <g id=\"xtick_3\">\n     <g id=\"line2d_5\">\n      <path clip-path=\"url(#p6cbeb1c141)\" d=\"M 318.756973 320.769375 \nL 318.756973 21.789375 \n\" style=\"fill:none;stroke:#ffffff;stroke-linecap:round;\"/>\n     </g>\n     <g id=\"line2d_6\"/>\n     <g id=\"text_3\">\n      <!-- 2 -->\n      <g style=\"fill:#262626;\" transform=\"translate(315.976504 334.927187)scale(0.1 -0.1)\">\n       <defs>\n        <path d=\"M 50.34375 8.453125 \nL 50.34375 0 \nL 3.03125 0 \nQ 2.9375 3.171875 4.046875 6.109375 \nQ 5.859375 10.9375 9.828125 15.625 \nQ 13.8125 20.3125 21.34375 26.46875 \nQ 33.015625 36.03125 37.109375 41.625 \nQ 41.21875 47.21875 41.21875 52.203125 \nQ 41.21875 57.421875 37.46875 61 \nQ 33.734375 64.59375 27.734375 64.59375 \nQ 21.390625 64.59375 17.578125 60.78125 \nQ 13.765625 56.984375 13.71875 50.25 \nL 4.6875 51.171875 \nQ 5.609375 61.28125 11.65625 66.578125 \nQ 17.71875 71.875 27.9375 71.875 \nQ 38.234375 71.875 44.234375 66.15625 \nQ 50.25 60.453125 50.25 52 \nQ 50.25 47.703125 48.484375 43.546875 \nQ 46.734375 39.40625 42.65625 34.8125 \nQ 38.578125 30.21875 29.109375 22.21875 \nQ 21.1875 15.578125 18.9375 13.203125 \nQ 16.703125 10.84375 15.234375 8.453125 \nz\n\" id=\"ArialMT-50\"/>\n       </defs>\n       <use xlink:href=\"#ArialMT-50\"/>\n      </g>\n     </g>\n    </g>\n    <g id=\"xtick_4\">\n     <g id=\"line2d_7\">\n      <path clip-path=\"url(#p6cbeb1c141)\" d=\"M 425.551231 320.769375 \nL 425.551231 21.789375 \n\" style=\"fill:none;stroke:#ffffff;stroke-linecap:round;\"/>\n     </g>\n     <g id=\"line2d_8\"/>\n     <g id=\"text_4\">\n      <!-- 3 -->\n      <g style=\"fill:#262626;\" transform=\"translate(422.770763 334.927187)scale(0.1 -0.1)\">\n       <defs>\n        <path d=\"M 4.203125 18.890625 \nL 12.984375 20.0625 \nQ 14.5 12.59375 18.140625 9.296875 \nQ 21.78125 6 27 6 \nQ 33.203125 6 37.46875 10.296875 \nQ 41.75 14.59375 41.75 20.953125 \nQ 41.75 27 37.796875 30.921875 \nQ 33.84375 34.859375 27.734375 34.859375 \nQ 25.25 34.859375 21.53125 33.890625 \nL 22.515625 41.609375 \nQ 23.390625 41.5 23.921875 41.5 \nQ 29.546875 41.5 34.03125 44.421875 \nQ 38.53125 47.359375 38.53125 53.46875 \nQ 38.53125 58.296875 35.25 61.46875 \nQ 31.984375 64.65625 26.8125 64.65625 \nQ 21.6875 64.65625 18.265625 61.421875 \nQ 14.84375 58.203125 13.875 51.765625 \nL 5.078125 53.328125 \nQ 6.6875 62.15625 12.390625 67.015625 \nQ 18.109375 71.875 26.609375 71.875 \nQ 32.46875 71.875 37.390625 69.359375 \nQ 42.328125 66.84375 44.9375 62.5 \nQ 47.5625 58.15625 47.5625 53.265625 \nQ 47.5625 48.640625 45.0625 44.828125 \nQ 42.578125 41.015625 37.703125 38.765625 \nQ 44.046875 37.3125 47.5625 32.6875 \nQ 51.078125 28.078125 51.078125 21.140625 \nQ 51.078125 11.765625 44.234375 5.25 \nQ 37.40625 -1.265625 26.953125 -1.265625 \nQ 17.53125 -1.265625 11.296875 4.34375 \nQ 5.078125 9.96875 4.203125 18.890625 \nz\n\" id=\"ArialMT-51\"/>\n       </defs>\n       <use xlink:href=\"#ArialMT-51\"/>\n      </g>\n     </g>\n    </g>\n    <g id=\"text_5\">\n     <!-- cp -->\n     <g style=\"fill:#262626;\" transform=\"translate(259.551328 348.788281)scale(0.11 -0.11)\">\n      <defs>\n       <path d=\"M 40.4375 19 \nL 49.078125 17.875 \nQ 47.65625 8.9375 41.8125 3.875 \nQ 35.984375 -1.171875 27.484375 -1.171875 \nQ 16.84375 -1.171875 10.375 5.78125 \nQ 3.90625 12.75 3.90625 25.734375 \nQ 3.90625 34.125 6.6875 40.421875 \nQ 9.46875 46.734375 15.15625 49.875 \nQ 20.84375 53.03125 27.546875 53.03125 \nQ 35.984375 53.03125 41.359375 48.75 \nQ 46.734375 44.484375 48.25 36.625 \nL 39.703125 35.296875 \nQ 38.484375 40.53125 35.375 43.15625 \nQ 32.28125 45.796875 27.875 45.796875 \nQ 21.234375 45.796875 17.078125 41.03125 \nQ 12.9375 36.28125 12.9375 25.984375 \nQ 12.9375 15.53125 16.9375 10.796875 \nQ 20.953125 6.0625 27.390625 6.0625 \nQ 32.5625 6.0625 36.03125 9.234375 \nQ 39.5 12.40625 40.4375 19 \nz\n\" id=\"ArialMT-99\"/>\n       <path d=\"M 6.59375 -19.875 \nL 6.59375 51.859375 \nL 14.59375 51.859375 \nL 14.59375 45.125 \nQ 17.4375 49.078125 21 51.046875 \nQ 24.5625 53.03125 29.640625 53.03125 \nQ 36.28125 53.03125 41.359375 49.609375 \nQ 46.4375 46.1875 49.015625 39.953125 \nQ 51.609375 33.734375 51.609375 26.3125 \nQ 51.609375 18.359375 48.75 11.984375 \nQ 45.90625 5.609375 40.453125 2.21875 \nQ 35.015625 -1.171875 29 -1.171875 \nQ 24.609375 -1.171875 21.109375 0.6875 \nQ 17.625 2.546875 15.375 5.375 \nL 15.375 -19.875 \nz\nM 14.546875 25.640625 \nQ 14.546875 15.625 18.59375 10.84375 \nQ 22.65625 6.0625 28.421875 6.0625 \nQ 34.28125 6.0625 38.453125 11.015625 \nQ 42.625 15.96875 42.625 26.375 \nQ 42.625 36.28125 38.546875 41.203125 \nQ 34.46875 46.140625 28.8125 46.140625 \nQ 23.1875 46.140625 18.859375 40.890625 \nQ 14.546875 35.640625 14.546875 25.640625 \nz\n\" id=\"ArialMT-112\"/>\n      </defs>\n      <use xlink:href=\"#ArialMT-99\"/>\n      <use x=\"50\" xlink:href=\"#ArialMT-112\"/>\n     </g>\n    </g>\n   </g>\n   <g id=\"matplotlib.axis_2\">\n    <g id=\"ytick_1\">\n     <g id=\"line2d_9\">\n      <path clip-path=\"url(#p6cbeb1c141)\" d=\"M 42.159844 320.769375 \nL 488.559844 320.769375 \n\" style=\"fill:none;stroke:#ffffff;stroke-linecap:round;\"/>\n     </g>\n     <g id=\"line2d_10\"/>\n     <g id=\"text_6\">\n      <!-- 0.0 -->\n      <g style=\"fill:#262626;\" transform=\"translate(21.259844 324.348281)scale(0.1 -0.1)\">\n       <defs>\n        <path d=\"M 9.078125 0 \nL 9.078125 10.015625 \nL 19.09375 10.015625 \nL 19.09375 0 \nz\n\" id=\"ArialMT-46\"/>\n       </defs>\n       <use xlink:href=\"#ArialMT-48\"/>\n       <use x=\"55.615234\" xlink:href=\"#ArialMT-46\"/>\n       <use x=\"83.398438\" xlink:href=\"#ArialMT-48\"/>\n      </g>\n     </g>\n    </g>\n    <g id=\"ytick_2\">\n     <g id=\"line2d_11\">\n      <path clip-path=\"url(#p6cbeb1c141)\" d=\"M 42.159844 286.044636 \nL 488.559844 286.044636 \n\" style=\"fill:none;stroke:#ffffff;stroke-linecap:round;\"/>\n     </g>\n     <g id=\"line2d_12\"/>\n     <g id=\"text_7\">\n      <!-- 0.1 -->\n      <g style=\"fill:#262626;\" transform=\"translate(21.259844 289.623543)scale(0.1 -0.1)\">\n       <use xlink:href=\"#ArialMT-48\"/>\n       <use x=\"55.615234\" xlink:href=\"#ArialMT-46\"/>\n       <use x=\"83.398438\" xlink:href=\"#ArialMT-49\"/>\n      </g>\n     </g>\n    </g>\n    <g id=\"ytick_3\">\n     <g id=\"line2d_13\">\n      <path clip-path=\"url(#p6cbeb1c141)\" d=\"M 42.159844 251.319898 \nL 488.559844 251.319898 \n\" style=\"fill:none;stroke:#ffffff;stroke-linecap:round;\"/>\n     </g>\n     <g id=\"line2d_14\"/>\n     <g id=\"text_8\">\n      <!-- 0.2 -->\n      <g style=\"fill:#262626;\" transform=\"translate(21.259844 254.898804)scale(0.1 -0.1)\">\n       <use xlink:href=\"#ArialMT-48\"/>\n       <use x=\"55.615234\" xlink:href=\"#ArialMT-46\"/>\n       <use x=\"83.398438\" xlink:href=\"#ArialMT-50\"/>\n      </g>\n     </g>\n    </g>\n    <g id=\"ytick_4\">\n     <g id=\"line2d_15\">\n      <path clip-path=\"url(#p6cbeb1c141)\" d=\"M 42.159844 216.595159 \nL 488.559844 216.595159 \n\" style=\"fill:none;stroke:#ffffff;stroke-linecap:round;\"/>\n     </g>\n     <g id=\"line2d_16\"/>\n     <g id=\"text_9\">\n      <!-- 0.3 -->\n      <g style=\"fill:#262626;\" transform=\"translate(21.259844 220.174065)scale(0.1 -0.1)\">\n       <use xlink:href=\"#ArialMT-48\"/>\n       <use x=\"55.615234\" xlink:href=\"#ArialMT-46\"/>\n       <use x=\"83.398438\" xlink:href=\"#ArialMT-51\"/>\n      </g>\n     </g>\n    </g>\n    <g id=\"ytick_5\">\n     <g id=\"line2d_17\">\n      <path clip-path=\"url(#p6cbeb1c141)\" d=\"M 42.159844 181.87042 \nL 488.559844 181.87042 \n\" style=\"fill:none;stroke:#ffffff;stroke-linecap:round;\"/>\n     </g>\n     <g id=\"line2d_18\"/>\n     <g id=\"text_10\">\n      <!-- 0.4 -->\n      <g style=\"fill:#262626;\" transform=\"translate(21.259844 185.449327)scale(0.1 -0.1)\">\n       <defs>\n        <path d=\"M 32.328125 0 \nL 32.328125 17.140625 \nL 1.265625 17.140625 \nL 1.265625 25.203125 \nL 33.9375 71.578125 \nL 41.109375 71.578125 \nL 41.109375 25.203125 \nL 50.78125 25.203125 \nL 50.78125 17.140625 \nL 41.109375 17.140625 \nL 41.109375 0 \nz\nM 32.328125 25.203125 \nL 32.328125 57.46875 \nL 9.90625 25.203125 \nz\n\" id=\"ArialMT-52\"/>\n       </defs>\n       <use xlink:href=\"#ArialMT-48\"/>\n       <use x=\"55.615234\" xlink:href=\"#ArialMT-46\"/>\n       <use x=\"83.398438\" xlink:href=\"#ArialMT-52\"/>\n      </g>\n     </g>\n    </g>\n    <g id=\"ytick_6\">\n     <g id=\"line2d_19\">\n      <path clip-path=\"url(#p6cbeb1c141)\" d=\"M 42.159844 147.145682 \nL 488.559844 147.145682 \n\" style=\"fill:none;stroke:#ffffff;stroke-linecap:round;\"/>\n     </g>\n     <g id=\"line2d_20\"/>\n     <g id=\"text_11\">\n      <!-- 0.5 -->\n      <g style=\"fill:#262626;\" transform=\"translate(21.259844 150.724588)scale(0.1 -0.1)\">\n       <defs>\n        <path d=\"M 4.15625 18.75 \nL 13.375 19.53125 \nQ 14.40625 12.796875 18.140625 9.390625 \nQ 21.875 6 27.15625 6 \nQ 33.5 6 37.890625 10.78125 \nQ 42.28125 15.578125 42.28125 23.484375 \nQ 42.28125 31 38.0625 35.34375 \nQ 33.84375 39.703125 27 39.703125 \nQ 22.75 39.703125 19.328125 37.765625 \nQ 15.921875 35.84375 13.96875 32.765625 \nL 5.71875 33.84375 \nL 12.640625 70.609375 \nL 48.25 70.609375 \nL 48.25 62.203125 \nL 19.671875 62.203125 \nL 15.828125 42.96875 \nQ 22.265625 47.46875 29.34375 47.46875 \nQ 38.71875 47.46875 45.15625 40.96875 \nQ 51.609375 34.46875 51.609375 24.265625 \nQ 51.609375 14.546875 45.953125 7.46875 \nQ 39.0625 -1.21875 27.15625 -1.21875 \nQ 17.390625 -1.21875 11.203125 4.25 \nQ 5.03125 9.71875 4.15625 18.75 \nz\n\" id=\"ArialMT-53\"/>\n       </defs>\n       <use xlink:href=\"#ArialMT-48\"/>\n       <use x=\"55.615234\" xlink:href=\"#ArialMT-46\"/>\n       <use x=\"83.398438\" xlink:href=\"#ArialMT-53\"/>\n      </g>\n     </g>\n    </g>\n    <g id=\"ytick_7\">\n     <g id=\"line2d_21\">\n      <path clip-path=\"url(#p6cbeb1c141)\" d=\"M 42.159844 112.420943 \nL 488.559844 112.420943 \n\" style=\"fill:none;stroke:#ffffff;stroke-linecap:round;\"/>\n     </g>\n     <g id=\"line2d_22\"/>\n     <g id=\"text_12\">\n      <!-- 0.6 -->\n      <g style=\"fill:#262626;\" transform=\"translate(21.259844 115.999849)scale(0.1 -0.1)\">\n       <defs>\n        <path d=\"M 49.75 54.046875 \nL 41.015625 53.375 \nQ 39.84375 58.546875 37.703125 60.890625 \nQ 34.125 64.65625 28.90625 64.65625 \nQ 24.703125 64.65625 21.53125 62.3125 \nQ 17.390625 59.28125 14.984375 53.46875 \nQ 12.59375 47.65625 12.5 36.921875 \nQ 15.671875 41.75 20.265625 44.09375 \nQ 24.859375 46.4375 29.890625 46.4375 \nQ 38.671875 46.4375 44.84375 39.96875 \nQ 51.03125 33.5 51.03125 23.25 \nQ 51.03125 16.5 48.125 10.71875 \nQ 45.21875 4.9375 40.140625 1.859375 \nQ 35.0625 -1.21875 28.609375 -1.21875 \nQ 17.625 -1.21875 10.6875 6.859375 \nQ 3.765625 14.9375 3.765625 33.5 \nQ 3.765625 54.25 11.421875 63.671875 \nQ 18.109375 71.875 29.4375 71.875 \nQ 37.890625 71.875 43.28125 67.140625 \nQ 48.6875 62.40625 49.75 54.046875 \nz\nM 13.875 23.1875 \nQ 13.875 18.65625 15.796875 14.5 \nQ 17.71875 10.359375 21.1875 8.171875 \nQ 24.65625 6 28.46875 6 \nQ 34.03125 6 38.03125 10.484375 \nQ 42.046875 14.984375 42.046875 22.703125 \nQ 42.046875 30.125 38.078125 34.390625 \nQ 34.125 38.671875 28.125 38.671875 \nQ 22.171875 38.671875 18.015625 34.390625 \nQ 13.875 30.125 13.875 23.1875 \nz\n\" id=\"ArialMT-54\"/>\n       </defs>\n       <use xlink:href=\"#ArialMT-48\"/>\n       <use x=\"55.615234\" xlink:href=\"#ArialMT-46\"/>\n       <use x=\"83.398438\" xlink:href=\"#ArialMT-54\"/>\n      </g>\n     </g>\n    </g>\n    <g id=\"ytick_8\">\n     <g id=\"line2d_23\">\n      <path clip-path=\"url(#p6cbeb1c141)\" d=\"M 42.159844 77.696204 \nL 488.559844 77.696204 \n\" style=\"fill:none;stroke:#ffffff;stroke-linecap:round;\"/>\n     </g>\n     <g id=\"line2d_24\"/>\n     <g id=\"text_13\">\n      <!-- 0.7 -->\n      <g style=\"fill:#262626;\" transform=\"translate(21.259844 81.275111)scale(0.1 -0.1)\">\n       <defs>\n        <path d=\"M 4.734375 62.203125 \nL 4.734375 70.65625 \nL 51.078125 70.65625 \nL 51.078125 63.8125 \nQ 44.234375 56.546875 37.515625 44.484375 \nQ 30.8125 32.421875 27.15625 19.671875 \nQ 24.515625 10.6875 23.78125 0 \nL 14.75 0 \nQ 14.890625 8.453125 18.0625 20.40625 \nQ 21.234375 32.375 27.171875 43.484375 \nQ 33.109375 54.59375 39.796875 62.203125 \nz\n\" id=\"ArialMT-55\"/>\n       </defs>\n       <use xlink:href=\"#ArialMT-48\"/>\n       <use x=\"55.615234\" xlink:href=\"#ArialMT-46\"/>\n       <use x=\"83.398438\" xlink:href=\"#ArialMT-55\"/>\n      </g>\n     </g>\n    </g>\n    <g id=\"ytick_9\">\n     <g id=\"line2d_25\">\n      <path clip-path=\"url(#p6cbeb1c141)\" d=\"M 42.159844 42.971466 \nL 488.559844 42.971466 \n\" style=\"fill:none;stroke:#ffffff;stroke-linecap:round;\"/>\n     </g>\n     <g id=\"line2d_26\"/>\n     <g id=\"text_14\">\n      <!-- 0.8 -->\n      <g style=\"fill:#262626;\" transform=\"translate(21.259844 46.550372)scale(0.1 -0.1)\">\n       <defs>\n        <path d=\"M 17.671875 38.8125 \nQ 12.203125 40.828125 9.5625 44.53125 \nQ 6.9375 48.25 6.9375 53.421875 \nQ 6.9375 61.234375 12.546875 66.546875 \nQ 18.171875 71.875 27.484375 71.875 \nQ 36.859375 71.875 42.578125 66.421875 \nQ 48.296875 60.984375 48.296875 53.171875 \nQ 48.296875 48.1875 45.671875 44.5 \nQ 43.0625 40.828125 37.75 38.8125 \nQ 44.34375 36.671875 47.78125 31.875 \nQ 51.21875 27.09375 51.21875 20.453125 \nQ 51.21875 11.28125 44.71875 5.03125 \nQ 38.234375 -1.21875 27.640625 -1.21875 \nQ 17.046875 -1.21875 10.546875 5.046875 \nQ 4.046875 11.328125 4.046875 20.703125 \nQ 4.046875 27.6875 7.59375 32.390625 \nQ 11.140625 37.109375 17.671875 38.8125 \nz\nM 15.921875 53.71875 \nQ 15.921875 48.640625 19.1875 45.40625 \nQ 22.46875 42.1875 27.6875 42.1875 \nQ 32.765625 42.1875 36.015625 45.375 \nQ 39.265625 48.578125 39.265625 53.21875 \nQ 39.265625 58.0625 35.90625 61.359375 \nQ 32.5625 64.65625 27.59375 64.65625 \nQ 22.5625 64.65625 19.234375 61.421875 \nQ 15.921875 58.203125 15.921875 53.71875 \nz\nM 13.09375 20.65625 \nQ 13.09375 16.890625 14.875 13.375 \nQ 16.65625 9.859375 20.171875 7.921875 \nQ 23.6875 6 27.734375 6 \nQ 34.03125 6 38.125 10.046875 \nQ 42.234375 14.109375 42.234375 20.359375 \nQ 42.234375 26.703125 38.015625 30.859375 \nQ 33.796875 35.015625 27.4375 35.015625 \nQ 21.234375 35.015625 17.15625 30.90625 \nQ 13.09375 26.8125 13.09375 20.65625 \nz\n\" id=\"ArialMT-56\"/>\n       </defs>\n       <use xlink:href=\"#ArialMT-48\"/>\n       <use x=\"55.615234\" xlink:href=\"#ArialMT-46\"/>\n       <use x=\"83.398438\" xlink:href=\"#ArialMT-56\"/>\n      </g>\n     </g>\n    </g>\n    <g id=\"text_15\">\n     <!-- % of Heart Disease -->\n     <g style=\"fill:#262626;\" transform=\"translate(15.073594 218.658437)rotate(-90)scale(0.11 -0.11)\">\n      <defs>\n       <path d=\"M 5.8125 54.390625 \nQ 5.8125 62.0625 9.671875 67.421875 \nQ 13.53125 72.796875 20.84375 72.796875 \nQ 27.59375 72.796875 32 67.984375 \nQ 36.421875 63.1875 36.421875 53.859375 \nQ 36.421875 44.78125 31.953125 39.875 \nQ 27.484375 34.96875 20.953125 34.96875 \nQ 14.453125 34.96875 10.125 39.796875 \nQ 5.8125 44.625 5.8125 54.390625 \nz\nM 21.09375 66.75 \nQ 17.828125 66.75 15.65625 63.90625 \nQ 13.484375 61.078125 13.484375 53.515625 \nQ 13.484375 46.625 15.671875 43.8125 \nQ 17.875 41.015625 21.09375 41.015625 \nQ 24.421875 41.015625 26.59375 43.84375 \nQ 28.765625 46.6875 28.765625 54.203125 \nQ 28.765625 61.140625 26.5625 63.9375 \nQ 24.359375 66.75 21.09375 66.75 \nz\nM 21.140625 -2.640625 \nL 60.296875 72.796875 \nL 67.4375 72.796875 \nL 28.421875 -2.640625 \nz\nM 52.09375 16.796875 \nQ 52.09375 24.515625 55.953125 29.859375 \nQ 59.8125 35.203125 67.1875 35.203125 \nQ 73.921875 35.203125 78.34375 30.390625 \nQ 82.765625 25.59375 82.765625 16.265625 \nQ 82.765625 7.171875 78.296875 2.265625 \nQ 73.828125 -2.640625 67.234375 -2.640625 \nQ 60.75 -2.640625 56.421875 2.21875 \nQ 52.09375 7.078125 52.09375 16.796875 \nz\nM 67.4375 29.15625 \nQ 64.109375 29.15625 61.9375 26.3125 \nQ 59.765625 23.484375 59.765625 15.921875 \nQ 59.765625 9.078125 61.953125 6.25 \nQ 64.15625 3.421875 67.390625 3.421875 \nQ 70.75 3.421875 72.921875 6.25 \nQ 75.09375 9.078125 75.09375 16.609375 \nQ 75.09375 23.53125 72.890625 26.34375 \nQ 70.703125 29.15625 67.4375 29.15625 \nz\n\" id=\"ArialMT-37\"/>\n       <path id=\"ArialMT-32\"/>\n       <path d=\"M 3.328125 25.921875 \nQ 3.328125 40.328125 11.328125 47.265625 \nQ 18.015625 53.03125 27.640625 53.03125 \nQ 38.328125 53.03125 45.109375 46.015625 \nQ 51.90625 39.015625 51.90625 26.65625 \nQ 51.90625 16.65625 48.90625 10.90625 \nQ 45.90625 5.171875 40.15625 2 \nQ 34.421875 -1.171875 27.640625 -1.171875 \nQ 16.75 -1.171875 10.03125 5.8125 \nQ 3.328125 12.796875 3.328125 25.921875 \nz\nM 12.359375 25.921875 \nQ 12.359375 15.96875 16.703125 11.015625 \nQ 21.046875 6.0625 27.640625 6.0625 \nQ 34.1875 6.0625 38.53125 11.03125 \nQ 42.875 16.015625 42.875 26.21875 \nQ 42.875 35.84375 38.5 40.796875 \nQ 34.125 45.75 27.640625 45.75 \nQ 21.046875 45.75 16.703125 40.8125 \nQ 12.359375 35.890625 12.359375 25.921875 \nz\n\" id=\"ArialMT-111\"/>\n       <path d=\"M 8.6875 0 \nL 8.6875 45.015625 \nL 0.921875 45.015625 \nL 0.921875 51.859375 \nL 8.6875 51.859375 \nL 8.6875 57.375 \nQ 8.6875 62.59375 9.625 65.140625 \nQ 10.890625 68.5625 14.078125 70.671875 \nQ 17.28125 72.796875 23.046875 72.796875 \nQ 26.765625 72.796875 31.25 71.921875 \nL 29.9375 64.265625 \nQ 27.203125 64.75 24.75 64.75 \nQ 20.75 64.75 19.09375 63.03125 \nQ 17.4375 61.328125 17.4375 56.640625 \nL 17.4375 51.859375 \nL 27.546875 51.859375 \nL 27.546875 45.015625 \nL 17.4375 45.015625 \nL 17.4375 0 \nz\n\" id=\"ArialMT-102\"/>\n       <path d=\"M 8.015625 0 \nL 8.015625 71.578125 \nL 17.484375 71.578125 \nL 17.484375 42.1875 \nL 54.6875 42.1875 \nL 54.6875 71.578125 \nL 64.15625 71.578125 \nL 64.15625 0 \nL 54.6875 0 \nL 54.6875 33.734375 \nL 17.484375 33.734375 \nL 17.484375 0 \nz\n\" id=\"ArialMT-72\"/>\n       <path d=\"M 42.09375 16.703125 \nL 51.171875 15.578125 \nQ 49.03125 7.625 43.21875 3.21875 \nQ 37.40625 -1.171875 28.375 -1.171875 \nQ 17 -1.171875 10.328125 5.828125 \nQ 3.65625 12.84375 3.65625 25.484375 \nQ 3.65625 38.578125 10.390625 45.796875 \nQ 17.140625 53.03125 27.875 53.03125 \nQ 38.28125 53.03125 44.875 45.953125 \nQ 51.46875 38.875 51.46875 26.03125 \nQ 51.46875 25.25 51.421875 23.6875 \nL 12.75 23.6875 \nQ 13.234375 15.140625 17.578125 10.59375 \nQ 21.921875 6.0625 28.421875 6.0625 \nQ 33.25 6.0625 36.671875 8.59375 \nQ 40.09375 11.140625 42.09375 16.703125 \nz\nM 13.234375 30.90625 \nL 42.1875 30.90625 \nQ 41.609375 37.453125 38.875 40.71875 \nQ 34.671875 45.796875 27.984375 45.796875 \nQ 21.921875 45.796875 17.796875 41.75 \nQ 13.671875 37.703125 13.234375 30.90625 \nz\n\" id=\"ArialMT-101\"/>\n       <path d=\"M 40.4375 6.390625 \nQ 35.546875 2.25 31.03125 0.53125 \nQ 26.515625 -1.171875 21.34375 -1.171875 \nQ 12.796875 -1.171875 8.203125 3 \nQ 3.609375 7.171875 3.609375 13.671875 \nQ 3.609375 17.484375 5.34375 20.625 \nQ 7.078125 23.78125 9.890625 25.6875 \nQ 12.703125 27.59375 16.21875 28.5625 \nQ 18.796875 29.25 24.03125 29.890625 \nQ 34.671875 31.15625 39.703125 32.90625 \nQ 39.75 34.71875 39.75 35.203125 \nQ 39.75 40.578125 37.25 42.78125 \nQ 33.890625 45.75 27.25 45.75 \nQ 21.046875 45.75 18.09375 43.578125 \nQ 15.140625 41.40625 13.71875 35.890625 \nL 5.125 37.0625 \nQ 6.296875 42.578125 8.984375 45.96875 \nQ 11.671875 49.359375 16.75 51.1875 \nQ 21.828125 53.03125 28.515625 53.03125 \nQ 35.15625 53.03125 39.296875 51.46875 \nQ 43.453125 49.90625 45.40625 47.53125 \nQ 47.359375 45.171875 48.140625 41.546875 \nQ 48.578125 39.3125 48.578125 33.453125 \nL 48.578125 21.734375 \nQ 48.578125 9.46875 49.140625 6.21875 \nQ 49.703125 2.984375 51.375 0 \nL 42.1875 0 \nQ 40.828125 2.734375 40.4375 6.390625 \nz\nM 39.703125 26.03125 \nQ 34.90625 24.078125 25.34375 22.703125 \nQ 19.921875 21.921875 17.671875 20.9375 \nQ 15.4375 19.96875 14.203125 18.09375 \nQ 12.984375 16.21875 12.984375 13.921875 \nQ 12.984375 10.40625 15.640625 8.0625 \nQ 18.3125 5.71875 23.4375 5.71875 \nQ 28.515625 5.71875 32.46875 7.9375 \nQ 36.421875 10.15625 38.28125 14.015625 \nQ 39.703125 17 39.703125 22.796875 \nz\n\" id=\"ArialMT-97\"/>\n       <path d=\"M 6.5 0 \nL 6.5 51.859375 \nL 14.40625 51.859375 \nL 14.40625 44 \nQ 17.4375 49.515625 20 51.265625 \nQ 22.5625 53.03125 25.640625 53.03125 \nQ 30.078125 53.03125 34.671875 50.203125 \nL 31.640625 42.046875 \nQ 28.421875 43.953125 25.203125 43.953125 \nQ 22.3125 43.953125 20.015625 42.21875 \nQ 17.71875 40.484375 16.75 37.40625 \nQ 15.28125 32.71875 15.28125 27.15625 \nL 15.28125 0 \nz\n\" id=\"ArialMT-114\"/>\n       <path d=\"M 25.78125 7.859375 \nL 27.046875 0.09375 \nQ 23.34375 -0.6875 20.40625 -0.6875 \nQ 15.625 -0.6875 12.984375 0.828125 \nQ 10.359375 2.34375 9.28125 4.8125 \nQ 8.203125 7.28125 8.203125 15.1875 \nL 8.203125 45.015625 \nL 1.765625 45.015625 \nL 1.765625 51.859375 \nL 8.203125 51.859375 \nL 8.203125 64.703125 \nL 16.9375 69.96875 \nL 16.9375 51.859375 \nL 25.78125 51.859375 \nL 25.78125 45.015625 \nL 16.9375 45.015625 \nL 16.9375 14.703125 \nQ 16.9375 10.9375 17.40625 9.859375 \nQ 17.875 8.796875 18.921875 8.15625 \nQ 19.96875 7.515625 21.921875 7.515625 \nQ 23.390625 7.515625 25.78125 7.859375 \nz\n\" id=\"ArialMT-116\"/>\n       <path d=\"M 7.71875 0 \nL 7.71875 71.578125 \nL 32.375 71.578125 \nQ 40.71875 71.578125 45.125 70.5625 \nQ 51.265625 69.140625 55.609375 65.4375 \nQ 61.28125 60.640625 64.078125 53.1875 \nQ 66.890625 45.75 66.890625 36.1875 \nQ 66.890625 28.03125 64.984375 21.734375 \nQ 63.09375 15.4375 60.109375 11.296875 \nQ 57.125 7.171875 53.578125 4.796875 \nQ 50.046875 2.4375 45.046875 1.21875 \nQ 40.046875 0 33.546875 0 \nz\nM 17.1875 8.453125 \nL 32.46875 8.453125 \nQ 39.546875 8.453125 43.578125 9.765625 \nQ 47.609375 11.078125 50 13.484375 \nQ 53.375 16.84375 55.25 22.53125 \nQ 57.125 28.21875 57.125 36.328125 \nQ 57.125 47.5625 53.4375 53.59375 \nQ 49.75 59.625 44.484375 61.671875 \nQ 40.671875 63.140625 32.234375 63.140625 \nL 17.1875 63.140625 \nz\n\" id=\"ArialMT-68\"/>\n       <path d=\"M 6.640625 61.46875 \nL 6.640625 71.578125 \nL 15.4375 71.578125 \nL 15.4375 61.46875 \nz\nM 6.640625 0 \nL 6.640625 51.859375 \nL 15.4375 51.859375 \nL 15.4375 0 \nz\n\" id=\"ArialMT-105\"/>\n       <path d=\"M 3.078125 15.484375 \nL 11.765625 16.84375 \nQ 12.5 11.625 15.84375 8.84375 \nQ 19.1875 6.0625 25.203125 6.0625 \nQ 31.25 6.0625 34.171875 8.515625 \nQ 37.109375 10.984375 37.109375 14.3125 \nQ 37.109375 17.28125 34.515625 19 \nQ 32.71875 20.171875 25.53125 21.96875 \nQ 15.875 24.421875 12.140625 26.203125 \nQ 8.40625 27.984375 6.46875 31.125 \nQ 4.546875 34.28125 4.546875 38.09375 \nQ 4.546875 41.546875 6.125 44.5 \nQ 7.71875 47.46875 10.453125 49.421875 \nQ 12.5 50.921875 16.03125 51.96875 \nQ 19.578125 53.03125 23.640625 53.03125 \nQ 29.734375 53.03125 34.34375 51.265625 \nQ 38.96875 49.515625 41.15625 46.5 \nQ 43.359375 43.5 44.1875 38.484375 \nL 35.59375 37.3125 \nQ 35.015625 41.3125 32.203125 43.546875 \nQ 29.390625 45.796875 24.265625 45.796875 \nQ 18.21875 45.796875 15.625 43.796875 \nQ 13.03125 41.796875 13.03125 39.109375 \nQ 13.03125 37.40625 14.109375 36.03125 \nQ 15.1875 34.625 17.484375 33.6875 \nQ 18.796875 33.203125 25.25 31.453125 \nQ 34.578125 28.953125 38.25 27.359375 \nQ 41.9375 25.78125 44.03125 22.75 \nQ 46.140625 19.734375 46.140625 15.234375 \nQ 46.140625 10.84375 43.578125 6.953125 \nQ 41.015625 3.078125 36.171875 0.953125 \nQ 31.34375 -1.171875 25.25 -1.171875 \nQ 15.140625 -1.171875 9.84375 3.03125 \nQ 4.546875 7.234375 3.078125 15.484375 \nz\n\" id=\"ArialMT-115\"/>\n      </defs>\n      <use xlink:href=\"#ArialMT-37\"/>\n      <use x=\"88.916016\" xlink:href=\"#ArialMT-32\"/>\n      <use x=\"116.699219\" xlink:href=\"#ArialMT-111\"/>\n      <use x=\"172.314453\" xlink:href=\"#ArialMT-102\"/>\n      <use x=\"200.097656\" xlink:href=\"#ArialMT-32\"/>\n      <use x=\"227.880859\" xlink:href=\"#ArialMT-72\"/>\n      <use x=\"300.097656\" xlink:href=\"#ArialMT-101\"/>\n      <use x=\"355.712891\" xlink:href=\"#ArialMT-97\"/>\n      <use x=\"411.328125\" xlink:href=\"#ArialMT-114\"/>\n      <use x=\"444.628906\" xlink:href=\"#ArialMT-116\"/>\n      <use x=\"472.412109\" xlink:href=\"#ArialMT-32\"/>\n      <use x=\"500.195312\" xlink:href=\"#ArialMT-68\"/>\n      <use x=\"572.412109\" xlink:href=\"#ArialMT-105\"/>\n      <use x=\"594.628906\" xlink:href=\"#ArialMT-115\"/>\n      <use x=\"644.628906\" xlink:href=\"#ArialMT-101\"/>\n      <use x=\"700.244141\" xlink:href=\"#ArialMT-97\"/>\n      <use x=\"755.859375\" xlink:href=\"#ArialMT-115\"/>\n      <use x=\"805.859375\" xlink:href=\"#ArialMT-101\"/>\n     </g>\n    </g>\n   </g>\n   <g id=\"patch_3\">\n    <path clip-path=\"url(#p6cbeb1c141)\" d=\"M 62.450753 320.769375 \nL 147.88616 320.769375 \nL 147.88616 226.065542 \nL 62.450753 226.065542 \nz\n\" style=\"fill:#4c72b0;\"/>\n   </g>\n   <g id=\"patch_4\">\n    <path clip-path=\"url(#p6cbeb1c141)\" d=\"M 169.245011 320.769375 \nL 254.680418 320.769375 \nL 254.680418 36.026518 \nL 169.245011 36.026518 \nz\n\" style=\"fill:#4c72b0;\"/>\n   </g>\n   <g id=\"patch_5\">\n    <path clip-path=\"url(#p6cbeb1c141)\" d=\"M 276.03927 320.769375 \nL 361.474676 320.769375 \nL 361.474676 45.366275 \nL 276.03927 45.366275 \nz\n\" style=\"fill:#4c72b0;\"/>\n   </g>\n   <g id=\"patch_6\">\n    <path clip-path=\"url(#p6cbeb1c141)\" d=\"M 382.833528 320.769375 \nL 468.268935 320.769375 \nL 468.268935 79.205976 \nL 382.833528 79.205976 \nz\n\" style=\"fill:#4c72b0;\"/>\n   </g>\n   <g id=\"patch_7\">\n    <path d=\"M 42.159844 320.769375 \nL 42.159844 21.789375 \n\" style=\"fill:none;\"/>\n   </g>\n   <g id=\"patch_8\">\n    <path d=\"M 488.559844 320.769375 \nL 488.559844 21.789375 \n\" style=\"fill:none;\"/>\n   </g>\n   <g id=\"patch_9\">\n    <path d=\"M 42.159844 320.769375 \nL 488.559844 320.769375 \n\" style=\"fill:none;\"/>\n   </g>\n   <g id=\"patch_10\">\n    <path d=\"M 42.159844 21.789375 \nL 488.559844 21.789375 \n\" style=\"fill:none;\"/>\n   </g>\n   <g id=\"text_16\">\n    <!-- cp -->\n    <g style=\"fill:#262626;\" transform=\"translate(259.023281 15.789375)scale(0.12 -0.12)\">\n     <use xlink:href=\"#ArialMT-99\"/>\n     <use x=\"50\" xlink:href=\"#ArialMT-112\"/>\n    </g>\n   </g>\n  </g>\n </g>\n <defs>\n  <clipPath id=\"p6cbeb1c141\">\n   <rect height=\"298.98\" width=\"446.4\" x=\"42.159844\" y=\"21.789375\"/>\n  </clipPath>\n </defs>\n</svg>\n",
      "image/png": "[encoded data removed]"
     },
     "metadata": {}
    }
   ],
   "source": [
    "fig = plt.figure()\n",
    "\n",
    "ax = fig.add_subplot(111)\n",
    "ax_y = df.groupby(x)[\"target\"].value_counts(normalize=True)[:, 1]\n",
    "ax_x = [\"0\", \"1\", \"2\", \"3\"]\n",
    "ax.bar(ax_x, ax_y)\n",
    "ax.set(title=x, xlabel=x, ylabel=\"% of Heart Disease\")"
   ]
  },
  {
   "cell_type": "markdown",
   "metadata": {},
   "source": [
    "#### fbs (Fasting Blood Sugar larger than 120 mg/dl)\n",
    "If blood sugar after fasting is higher than 120 mg/dl"
   ]
  },
  {
   "cell_type": "code",
   "execution_count": 18,
   "metadata": {},
   "outputs": [],
   "source": [
    "x = \"fbs\""
   ]
  },
  {
   "cell_type": "code",
   "execution_count": 19,
   "metadata": {},
   "outputs": [
    {
     "output_type": "execute_result",
     "data": {
      "text/plain": [
       "0    0.851485\n",
       "1    0.148515\n",
       "Name: fbs, dtype: float64"
      ]
     },
     "metadata": {},
     "execution_count": 19
    }
   ],
   "source": [
    "df[x].value_counts(normalize=True)"
   ]
  },
  {
   "cell_type": "code",
   "execution_count": 20,
   "metadata": {},
   "outputs": [
    {
     "output_type": "execute_result",
     "data": {
      "text/plain": [
       "0"
      ]
     },
     "metadata": {},
     "execution_count": 20
    }
   ],
   "source": [
    "df[x].isnull().sum()"
   ]
  },
  {
   "cell_type": "code",
   "execution_count": 21,
   "metadata": {},
   "outputs": [
    {
     "output_type": "execute_result",
     "data": {
      "text/plain": [
       "[Text(0.5, 1.0, 'fbs'),\n",
       " Text(0.5, 0, 'fbs'),\n",
       " Text(0, 0.5, '% of Heart Disease')]"
      ]
     },
     "metadata": {},
     "execution_count": 21
    },
    {
     "output_type": "display_data",
     "data": {
      "text/plain": "<Figure size 576x396 with 1 Axes>",
      "image/svg+xml": "<?xml version=\"1.0\" encoding=\"utf-8\" standalone=\"no\"?>\n<!DOCTYPE svg PUBLIC \"-//W3C//DTD SVG 1.1//EN\"\n  \"http://www.w3.org/Graphics/SVG/1.1/DTD/svg11.dtd\">\n<!-- Created with matplotlib (https://matplotlib.org/) -->\n<svg height=\"358.174531pt\" version=\"1.1\" viewBox=\"0 0 495.759844 358.174531\" width=\"495.759844pt\" xmlns=\"http://www.w3.org/2000/svg\" xmlns:xlink=\"http://www.w3.org/1999/xlink\">\n <metadata>\n  <rdf:RDF xmlns:cc=\"http://creativecommons.org/ns#\" xmlns:dc=\"http://purl.org/dc/elements/1.1/\" xmlns:rdf=\"http://www.w3.org/1999/02/22-rdf-syntax-ns#\">\n   <cc:Work>\n    <dc:type rdf:resource=\"http://purl.org/dc/dcmitype/StillImage\"/>\n    <dc:date>2021-07-03T16:39:20.455946</dc:date>\n    <dc:format>image/svg+xml</dc:format>\n    <dc:creator>\n     <cc:Agent>\n      <dc:title>Matplotlib v3.3.3, https://matplotlib.org/</dc:title>\n     </cc:Agent>\n    </dc:creator>\n   </cc:Work>\n  </rdf:RDF>\n </metadata>\n <defs>\n  <style type=\"text/css\">*{stroke-linecap:butt;stroke-linejoin:round;}</style>\n </defs>\n <g id=\"figure_1\">\n  <g id=\"patch_1\">\n   <path d=\"M 0 358.174531 \nL 495.759844 358.174531 \nL 495.759844 0 \nL 0 0 \nz\n\" style=\"fill:#ffffff;\"/>\n  </g>\n  <g id=\"axes_1\">\n   <g id=\"patch_2\">\n    <path d=\"M 42.159844 320.769375 \nL 488.559844 320.769375 \nL 488.559844 21.789375 \nL 42.159844 21.789375 \nz\n\" style=\"fill:#eaeaf2;\"/>\n   </g>\n   <g id=\"matplotlib.axis_1\">\n    <g id=\"xtick_1\">\n     <g id=\"line2d_1\">\n      <path clip-path=\"url(#pa14c93373e)\" d=\"M 152.632571 320.769375 \nL 152.632571 21.789375 \n\" style=\"fill:none;stroke:#ffffff;stroke-linecap:round;\"/>\n     </g>\n     <g id=\"line2d_2\"/>\n     <g id=\"text_1\">\n      <!-- 0 -->\n      <g style=\"fill:#262626;\" transform=\"translate(149.852102 334.927187)scale(0.1 -0.1)\">\n       <defs>\n        <path d=\"M 4.15625 35.296875 \nQ 4.15625 48 6.765625 55.734375 \nQ 9.375 63.484375 14.515625 67.671875 \nQ 19.671875 71.875 27.484375 71.875 \nQ 33.25 71.875 37.59375 69.546875 \nQ 41.9375 67.234375 44.765625 62.859375 \nQ 47.609375 58.5 49.21875 52.21875 \nQ 50.828125 45.953125 50.828125 35.296875 \nQ 50.828125 22.703125 48.234375 14.96875 \nQ 45.65625 7.234375 40.5 3 \nQ 35.359375 -1.21875 27.484375 -1.21875 \nQ 17.140625 -1.21875 11.234375 6.203125 \nQ 4.15625 15.140625 4.15625 35.296875 \nz\nM 13.1875 35.296875 \nQ 13.1875 17.671875 17.3125 11.828125 \nQ 21.4375 6 27.484375 6 \nQ 33.546875 6 37.671875 11.859375 \nQ 41.796875 17.71875 41.796875 35.296875 \nQ 41.796875 52.984375 37.671875 58.78125 \nQ 33.546875 64.59375 27.390625 64.59375 \nQ 21.34375 64.59375 17.71875 59.46875 \nQ 13.1875 52.9375 13.1875 35.296875 \nz\n\" id=\"ArialMT-48\"/>\n       </defs>\n       <use xlink:href=\"#ArialMT-48\"/>\n      </g>\n     </g>\n    </g>\n    <g id=\"xtick_2\">\n     <g id=\"line2d_3\">\n      <path clip-path=\"url(#pa14c93373e)\" d=\"M 378.087116 320.769375 \nL 378.087116 21.789375 \n\" style=\"fill:none;stroke:#ffffff;stroke-linecap:round;\"/>\n     </g>\n     <g id=\"line2d_4\"/>\n     <g id=\"text_2\">\n      <!-- 1 -->\n      <g style=\"fill:#262626;\" transform=\"translate(375.306648 334.927187)scale(0.1 -0.1)\">\n       <defs>\n        <path d=\"M 37.25 0 \nL 28.46875 0 \nL 28.46875 56 \nQ 25.296875 52.984375 20.140625 49.953125 \nQ 14.984375 46.921875 10.890625 45.40625 \nL 10.890625 53.90625 \nQ 18.265625 57.375 23.78125 62.296875 \nQ 29.296875 67.234375 31.59375 71.875 \nL 37.25 71.875 \nz\n\" id=\"ArialMT-49\"/>\n       </defs>\n       <use xlink:href=\"#ArialMT-49\"/>\n      </g>\n     </g>\n    </g>\n    <g id=\"text_3\">\n     <!-- fbs -->\n     <g style=\"fill:#262626;\" transform=\"translate(258.023359 348.788281)scale(0.11 -0.11)\">\n      <defs>\n       <path d=\"M 8.6875 0 \nL 8.6875 45.015625 \nL 0.921875 45.015625 \nL 0.921875 51.859375 \nL 8.6875 51.859375 \nL 8.6875 57.375 \nQ 8.6875 62.59375 9.625 65.140625 \nQ 10.890625 68.5625 14.078125 70.671875 \nQ 17.28125 72.796875 23.046875 72.796875 \nQ 26.765625 72.796875 31.25 71.921875 \nL 29.9375 64.265625 \nQ 27.203125 64.75 24.75 64.75 \nQ 20.75 64.75 19.09375 63.03125 \nQ 17.4375 61.328125 17.4375 56.640625 \nL 17.4375 51.859375 \nL 27.546875 51.859375 \nL 27.546875 45.015625 \nL 17.4375 45.015625 \nL 17.4375 0 \nz\n\" id=\"ArialMT-102\"/>\n       <path d=\"M 14.703125 0 \nL 6.546875 0 \nL 6.546875 71.578125 \nL 15.328125 71.578125 \nL 15.328125 46.046875 \nQ 20.90625 53.03125 29.546875 53.03125 \nQ 34.328125 53.03125 38.59375 51.09375 \nQ 42.875 49.171875 45.625 45.671875 \nQ 48.390625 42.1875 49.953125 37.25 \nQ 51.515625 32.328125 51.515625 26.703125 \nQ 51.515625 13.375 44.921875 6.09375 \nQ 38.328125 -1.171875 29.109375 -1.171875 \nQ 19.921875 -1.171875 14.703125 6.5 \nz\nM 14.59375 26.3125 \nQ 14.59375 17 17.140625 12.84375 \nQ 21.296875 6.0625 28.375 6.0625 \nQ 34.125 6.0625 38.328125 11.0625 \nQ 42.53125 16.0625 42.53125 25.984375 \nQ 42.53125 36.140625 38.5 40.96875 \nQ 34.46875 45.796875 28.765625 45.796875 \nQ 23 45.796875 18.796875 40.796875 \nQ 14.59375 35.796875 14.59375 26.3125 \nz\n\" id=\"ArialMT-98\"/>\n       <path d=\"M 3.078125 15.484375 \nL 11.765625 16.84375 \nQ 12.5 11.625 15.84375 8.84375 \nQ 19.1875 6.0625 25.203125 6.0625 \nQ 31.25 6.0625 34.171875 8.515625 \nQ 37.109375 10.984375 37.109375 14.3125 \nQ 37.109375 17.28125 34.515625 19 \nQ 32.71875 20.171875 25.53125 21.96875 \nQ 15.875 24.421875 12.140625 26.203125 \nQ 8.40625 27.984375 6.46875 31.125 \nQ 4.546875 34.28125 4.546875 38.09375 \nQ 4.546875 41.546875 6.125 44.5 \nQ 7.71875 47.46875 10.453125 49.421875 \nQ 12.5 50.921875 16.03125 51.96875 \nQ 19.578125 53.03125 23.640625 53.03125 \nQ 29.734375 53.03125 34.34375 51.265625 \nQ 38.96875 49.515625 41.15625 46.5 \nQ 43.359375 43.5 44.1875 38.484375 \nL 35.59375 37.3125 \nQ 35.015625 41.3125 32.203125 43.546875 \nQ 29.390625 45.796875 24.265625 45.796875 \nQ 18.21875 45.796875 15.625 43.796875 \nQ 13.03125 41.796875 13.03125 39.109375 \nQ 13.03125 37.40625 14.109375 36.03125 \nQ 15.1875 34.625 17.484375 33.6875 \nQ 18.796875 33.203125 25.25 31.453125 \nQ 34.578125 28.953125 38.25 27.359375 \nQ 41.9375 25.78125 44.03125 22.75 \nQ 46.140625 19.734375 46.140625 15.234375 \nQ 46.140625 10.84375 43.578125 6.953125 \nQ 41.015625 3.078125 36.171875 0.953125 \nQ 31.34375 -1.171875 25.25 -1.171875 \nQ 15.140625 -1.171875 9.84375 3.03125 \nQ 4.546875 7.234375 3.078125 15.484375 \nz\n\" id=\"ArialMT-115\"/>\n      </defs>\n      <use xlink:href=\"#ArialMT-102\"/>\n      <use x=\"27.783203\" xlink:href=\"#ArialMT-98\"/>\n      <use x=\"83.398438\" xlink:href=\"#ArialMT-115\"/>\n     </g>\n    </g>\n   </g>\n   <g id=\"matplotlib.axis_2\">\n    <g id=\"ytick_1\">\n     <g id=\"line2d_5\">\n      <path clip-path=\"url(#pa14c93373e)\" d=\"M 42.159844 320.769375 \nL 488.559844 320.769375 \n\" style=\"fill:none;stroke:#ffffff;stroke-linecap:round;\"/>\n     </g>\n     <g id=\"line2d_6\"/>\n     <g id=\"text_4\">\n      <!-- 0.0 -->\n      <g style=\"fill:#262626;\" transform=\"translate(21.259844 324.348281)scale(0.1 -0.1)\">\n       <defs>\n        <path d=\"M 9.078125 0 \nL 9.078125 10.015625 \nL 19.09375 10.015625 \nL 19.09375 0 \nz\n\" id=\"ArialMT-46\"/>\n       </defs>\n       <use xlink:href=\"#ArialMT-48\"/>\n       <use x=\"55.615234\" xlink:href=\"#ArialMT-46\"/>\n       <use x=\"83.398438\" xlink:href=\"#ArialMT-48\"/>\n      </g>\n     </g>\n    </g>\n    <g id=\"ytick_2\">\n     <g id=\"line2d_7\">\n      <path clip-path=\"url(#pa14c93373e)\" d=\"M 42.159844 269.034405 \nL 488.559844 269.034405 \n\" style=\"fill:none;stroke:#ffffff;stroke-linecap:round;\"/>\n     </g>\n     <g id=\"line2d_8\"/>\n     <g id=\"text_5\">\n      <!-- 0.1 -->\n      <g style=\"fill:#262626;\" transform=\"translate(21.259844 272.613311)scale(0.1 -0.1)\">\n       <use xlink:href=\"#ArialMT-48\"/>\n       <use x=\"55.615234\" xlink:href=\"#ArialMT-46\"/>\n       <use x=\"83.398438\" xlink:href=\"#ArialMT-49\"/>\n      </g>\n     </g>\n    </g>\n    <g id=\"ytick_3\">\n     <g id=\"line2d_9\">\n      <path clip-path=\"url(#pa14c93373e)\" d=\"M 42.159844 217.299435 \nL 488.559844 217.299435 \n\" style=\"fill:none;stroke:#ffffff;stroke-linecap:round;\"/>\n     </g>\n     <g id=\"line2d_10\"/>\n     <g id=\"text_6\">\n      <!-- 0.2 -->\n      <g style=\"fill:#262626;\" transform=\"translate(21.259844 220.878342)scale(0.1 -0.1)\">\n       <defs>\n        <path d=\"M 50.34375 8.453125 \nL 50.34375 0 \nL 3.03125 0 \nQ 2.9375 3.171875 4.046875 6.109375 \nQ 5.859375 10.9375 9.828125 15.625 \nQ 13.8125 20.3125 21.34375 26.46875 \nQ 33.015625 36.03125 37.109375 41.625 \nQ 41.21875 47.21875 41.21875 52.203125 \nQ 41.21875 57.421875 37.46875 61 \nQ 33.734375 64.59375 27.734375 64.59375 \nQ 21.390625 64.59375 17.578125 60.78125 \nQ 13.765625 56.984375 13.71875 50.25 \nL 4.6875 51.171875 \nQ 5.609375 61.28125 11.65625 66.578125 \nQ 17.71875 71.875 27.9375 71.875 \nQ 38.234375 71.875 44.234375 66.15625 \nQ 50.25 60.453125 50.25 52 \nQ 50.25 47.703125 48.484375 43.546875 \nQ 46.734375 39.40625 42.65625 34.8125 \nQ 38.578125 30.21875 29.109375 22.21875 \nQ 21.1875 15.578125 18.9375 13.203125 \nQ 16.703125 10.84375 15.234375 8.453125 \nz\n\" id=\"ArialMT-50\"/>\n       </defs>\n       <use xlink:href=\"#ArialMT-48\"/>\n       <use x=\"55.615234\" xlink:href=\"#ArialMT-46\"/>\n       <use x=\"83.398438\" xlink:href=\"#ArialMT-50\"/>\n      </g>\n     </g>\n    </g>\n    <g id=\"ytick_4\">\n     <g id=\"line2d_11\">\n      <path clip-path=\"url(#pa14c93373e)\" d=\"M 42.159844 165.564466 \nL 488.559844 165.564466 \n\" style=\"fill:none;stroke:#ffffff;stroke-linecap:round;\"/>\n     </g>\n     <g id=\"line2d_12\"/>\n     <g id=\"text_7\">\n      <!-- 0.3 -->\n      <g style=\"fill:#262626;\" transform=\"translate(21.259844 169.143372)scale(0.1 -0.1)\">\n       <defs>\n        <path d=\"M 4.203125 18.890625 \nL 12.984375 20.0625 \nQ 14.5 12.59375 18.140625 9.296875 \nQ 21.78125 6 27 6 \nQ 33.203125 6 37.46875 10.296875 \nQ 41.75 14.59375 41.75 20.953125 \nQ 41.75 27 37.796875 30.921875 \nQ 33.84375 34.859375 27.734375 34.859375 \nQ 25.25 34.859375 21.53125 33.890625 \nL 22.515625 41.609375 \nQ 23.390625 41.5 23.921875 41.5 \nQ 29.546875 41.5 34.03125 44.421875 \nQ 38.53125 47.359375 38.53125 53.46875 \nQ 38.53125 58.296875 35.25 61.46875 \nQ 31.984375 64.65625 26.8125 64.65625 \nQ 21.6875 64.65625 18.265625 61.421875 \nQ 14.84375 58.203125 13.875 51.765625 \nL 5.078125 53.328125 \nQ 6.6875 62.15625 12.390625 67.015625 \nQ 18.109375 71.875 26.609375 71.875 \nQ 32.46875 71.875 37.390625 69.359375 \nQ 42.328125 66.84375 44.9375 62.5 \nQ 47.5625 58.15625 47.5625 53.265625 \nQ 47.5625 48.640625 45.0625 44.828125 \nQ 42.578125 41.015625 37.703125 38.765625 \nQ 44.046875 37.3125 47.5625 32.6875 \nQ 51.078125 28.078125 51.078125 21.140625 \nQ 51.078125 11.765625 44.234375 5.25 \nQ 37.40625 -1.265625 26.953125 -1.265625 \nQ 17.53125 -1.265625 11.296875 4.34375 \nQ 5.078125 9.96875 4.203125 18.890625 \nz\n\" id=\"ArialMT-51\"/>\n       </defs>\n       <use xlink:href=\"#ArialMT-48\"/>\n       <use x=\"55.615234\" xlink:href=\"#ArialMT-46\"/>\n       <use x=\"83.398438\" xlink:href=\"#ArialMT-51\"/>\n      </g>\n     </g>\n    </g>\n    <g id=\"ytick_5\">\n     <g id=\"line2d_13\">\n      <path clip-path=\"url(#pa14c93373e)\" d=\"M 42.159844 113.829496 \nL 488.559844 113.829496 \n\" style=\"fill:none;stroke:#ffffff;stroke-linecap:round;\"/>\n     </g>\n     <g id=\"line2d_14\"/>\n     <g id=\"text_8\">\n      <!-- 0.4 -->\n      <g style=\"fill:#262626;\" transform=\"translate(21.259844 117.408402)scale(0.1 -0.1)\">\n       <defs>\n        <path d=\"M 32.328125 0 \nL 32.328125 17.140625 \nL 1.265625 17.140625 \nL 1.265625 25.203125 \nL 33.9375 71.578125 \nL 41.109375 71.578125 \nL 41.109375 25.203125 \nL 50.78125 25.203125 \nL 50.78125 17.140625 \nL 41.109375 17.140625 \nL 41.109375 0 \nz\nM 32.328125 25.203125 \nL 32.328125 57.46875 \nL 9.90625 25.203125 \nz\n\" id=\"ArialMT-52\"/>\n       </defs>\n       <use xlink:href=\"#ArialMT-48\"/>\n       <use x=\"55.615234\" xlink:href=\"#ArialMT-46\"/>\n       <use x=\"83.398438\" xlink:href=\"#ArialMT-52\"/>\n      </g>\n     </g>\n    </g>\n    <g id=\"ytick_6\">\n     <g id=\"line2d_15\">\n      <path clip-path=\"url(#pa14c93373e)\" d=\"M 42.159844 62.094526 \nL 488.559844 62.094526 \n\" style=\"fill:none;stroke:#ffffff;stroke-linecap:round;\"/>\n     </g>\n     <g id=\"line2d_16\"/>\n     <g id=\"text_9\">\n      <!-- 0.5 -->\n      <g style=\"fill:#262626;\" transform=\"translate(21.259844 65.673432)scale(0.1 -0.1)\">\n       <defs>\n        <path d=\"M 4.15625 18.75 \nL 13.375 19.53125 \nQ 14.40625 12.796875 18.140625 9.390625 \nQ 21.875 6 27.15625 6 \nQ 33.5 6 37.890625 10.78125 \nQ 42.28125 15.578125 42.28125 23.484375 \nQ 42.28125 31 38.0625 35.34375 \nQ 33.84375 39.703125 27 39.703125 \nQ 22.75 39.703125 19.328125 37.765625 \nQ 15.921875 35.84375 13.96875 32.765625 \nL 5.71875 33.84375 \nL 12.640625 70.609375 \nL 48.25 70.609375 \nL 48.25 62.203125 \nL 19.671875 62.203125 \nL 15.828125 42.96875 \nQ 22.265625 47.46875 29.34375 47.46875 \nQ 38.71875 47.46875 45.15625 40.96875 \nQ 51.609375 34.46875 51.609375 24.265625 \nQ 51.609375 14.546875 45.953125 7.46875 \nQ 39.0625 -1.21875 27.15625 -1.21875 \nQ 17.390625 -1.21875 11.203125 4.25 \nQ 5.03125 9.71875 4.15625 18.75 \nz\n\" id=\"ArialMT-53\"/>\n       </defs>\n       <use xlink:href=\"#ArialMT-48\"/>\n       <use x=\"55.615234\" xlink:href=\"#ArialMT-46\"/>\n       <use x=\"83.398438\" xlink:href=\"#ArialMT-53\"/>\n      </g>\n     </g>\n    </g>\n    <g id=\"text_10\">\n     <!-- % of Heart Disease -->\n     <g style=\"fill:#262626;\" transform=\"translate(15.073594 218.658437)rotate(-90)scale(0.11 -0.11)\">\n      <defs>\n       <path d=\"M 5.8125 54.390625 \nQ 5.8125 62.0625 9.671875 67.421875 \nQ 13.53125 72.796875 20.84375 72.796875 \nQ 27.59375 72.796875 32 67.984375 \nQ 36.421875 63.1875 36.421875 53.859375 \nQ 36.421875 44.78125 31.953125 39.875 \nQ 27.484375 34.96875 20.953125 34.96875 \nQ 14.453125 34.96875 10.125 39.796875 \nQ 5.8125 44.625 5.8125 54.390625 \nz\nM 21.09375 66.75 \nQ 17.828125 66.75 15.65625 63.90625 \nQ 13.484375 61.078125 13.484375 53.515625 \nQ 13.484375 46.625 15.671875 43.8125 \nQ 17.875 41.015625 21.09375 41.015625 \nQ 24.421875 41.015625 26.59375 43.84375 \nQ 28.765625 46.6875 28.765625 54.203125 \nQ 28.765625 61.140625 26.5625 63.9375 \nQ 24.359375 66.75 21.09375 66.75 \nz\nM 21.140625 -2.640625 \nL 60.296875 72.796875 \nL 67.4375 72.796875 \nL 28.421875 -2.640625 \nz\nM 52.09375 16.796875 \nQ 52.09375 24.515625 55.953125 29.859375 \nQ 59.8125 35.203125 67.1875 35.203125 \nQ 73.921875 35.203125 78.34375 30.390625 \nQ 82.765625 25.59375 82.765625 16.265625 \nQ 82.765625 7.171875 78.296875 2.265625 \nQ 73.828125 -2.640625 67.234375 -2.640625 \nQ 60.75 -2.640625 56.421875 2.21875 \nQ 52.09375 7.078125 52.09375 16.796875 \nz\nM 67.4375 29.15625 \nQ 64.109375 29.15625 61.9375 26.3125 \nQ 59.765625 23.484375 59.765625 15.921875 \nQ 59.765625 9.078125 61.953125 6.25 \nQ 64.15625 3.421875 67.390625 3.421875 \nQ 70.75 3.421875 72.921875 6.25 \nQ 75.09375 9.078125 75.09375 16.609375 \nQ 75.09375 23.53125 72.890625 26.34375 \nQ 70.703125 29.15625 67.4375 29.15625 \nz\n\" id=\"ArialMT-37\"/>\n       <path id=\"ArialMT-32\"/>\n       <path d=\"M 3.328125 25.921875 \nQ 3.328125 40.328125 11.328125 47.265625 \nQ 18.015625 53.03125 27.640625 53.03125 \nQ 38.328125 53.03125 45.109375 46.015625 \nQ 51.90625 39.015625 51.90625 26.65625 \nQ 51.90625 16.65625 48.90625 10.90625 \nQ 45.90625 5.171875 40.15625 2 \nQ 34.421875 -1.171875 27.640625 -1.171875 \nQ 16.75 -1.171875 10.03125 5.8125 \nQ 3.328125 12.796875 3.328125 25.921875 \nz\nM 12.359375 25.921875 \nQ 12.359375 15.96875 16.703125 11.015625 \nQ 21.046875 6.0625 27.640625 6.0625 \nQ 34.1875 6.0625 38.53125 11.03125 \nQ 42.875 16.015625 42.875 26.21875 \nQ 42.875 35.84375 38.5 40.796875 \nQ 34.125 45.75 27.640625 45.75 \nQ 21.046875 45.75 16.703125 40.8125 \nQ 12.359375 35.890625 12.359375 25.921875 \nz\n\" id=\"ArialMT-111\"/>\n       <path d=\"M 8.015625 0 \nL 8.015625 71.578125 \nL 17.484375 71.578125 \nL 17.484375 42.1875 \nL 54.6875 42.1875 \nL 54.6875 71.578125 \nL 64.15625 71.578125 \nL 64.15625 0 \nL 54.6875 0 \nL 54.6875 33.734375 \nL 17.484375 33.734375 \nL 17.484375 0 \nz\n\" id=\"ArialMT-72\"/>\n       <path d=\"M 42.09375 16.703125 \nL 51.171875 15.578125 \nQ 49.03125 7.625 43.21875 3.21875 \nQ 37.40625 -1.171875 28.375 -1.171875 \nQ 17 -1.171875 10.328125 5.828125 \nQ 3.65625 12.84375 3.65625 25.484375 \nQ 3.65625 38.578125 10.390625 45.796875 \nQ 17.140625 53.03125 27.875 53.03125 \nQ 38.28125 53.03125 44.875 45.953125 \nQ 51.46875 38.875 51.46875 26.03125 \nQ 51.46875 25.25 51.421875 23.6875 \nL 12.75 23.6875 \nQ 13.234375 15.140625 17.578125 10.59375 \nQ 21.921875 6.0625 28.421875 6.0625 \nQ 33.25 6.0625 36.671875 8.59375 \nQ 40.09375 11.140625 42.09375 16.703125 \nz\nM 13.234375 30.90625 \nL 42.1875 30.90625 \nQ 41.609375 37.453125 38.875 40.71875 \nQ 34.671875 45.796875 27.984375 45.796875 \nQ 21.921875 45.796875 17.796875 41.75 \nQ 13.671875 37.703125 13.234375 30.90625 \nz\n\" id=\"ArialMT-101\"/>\n       <path d=\"M 40.4375 6.390625 \nQ 35.546875 2.25 31.03125 0.53125 \nQ 26.515625 -1.171875 21.34375 -1.171875 \nQ 12.796875 -1.171875 8.203125 3 \nQ 3.609375 7.171875 3.609375 13.671875 \nQ 3.609375 17.484375 5.34375 20.625 \nQ 7.078125 23.78125 9.890625 25.6875 \nQ 12.703125 27.59375 16.21875 28.5625 \nQ 18.796875 29.25 24.03125 29.890625 \nQ 34.671875 31.15625 39.703125 32.90625 \nQ 39.75 34.71875 39.75 35.203125 \nQ 39.75 40.578125 37.25 42.78125 \nQ 33.890625 45.75 27.25 45.75 \nQ 21.046875 45.75 18.09375 43.578125 \nQ 15.140625 41.40625 13.71875 35.890625 \nL 5.125 37.0625 \nQ 6.296875 42.578125 8.984375 45.96875 \nQ 11.671875 49.359375 16.75 51.1875 \nQ 21.828125 53.03125 28.515625 53.03125 \nQ 35.15625 53.03125 39.296875 51.46875 \nQ 43.453125 49.90625 45.40625 47.53125 \nQ 47.359375 45.171875 48.140625 41.546875 \nQ 48.578125 39.3125 48.578125 33.453125 \nL 48.578125 21.734375 \nQ 48.578125 9.46875 49.140625 6.21875 \nQ 49.703125 2.984375 51.375 0 \nL 42.1875 0 \nQ 40.828125 2.734375 40.4375 6.390625 \nz\nM 39.703125 26.03125 \nQ 34.90625 24.078125 25.34375 22.703125 \nQ 19.921875 21.921875 17.671875 20.9375 \nQ 15.4375 19.96875 14.203125 18.09375 \nQ 12.984375 16.21875 12.984375 13.921875 \nQ 12.984375 10.40625 15.640625 8.0625 \nQ 18.3125 5.71875 23.4375 5.71875 \nQ 28.515625 5.71875 32.46875 7.9375 \nQ 36.421875 10.15625 38.28125 14.015625 \nQ 39.703125 17 39.703125 22.796875 \nz\n\" id=\"ArialMT-97\"/>\n       <path d=\"M 6.5 0 \nL 6.5 51.859375 \nL 14.40625 51.859375 \nL 14.40625 44 \nQ 17.4375 49.515625 20 51.265625 \nQ 22.5625 53.03125 25.640625 53.03125 \nQ 30.078125 53.03125 34.671875 50.203125 \nL 31.640625 42.046875 \nQ 28.421875 43.953125 25.203125 43.953125 \nQ 22.3125 43.953125 20.015625 42.21875 \nQ 17.71875 40.484375 16.75 37.40625 \nQ 15.28125 32.71875 15.28125 27.15625 \nL 15.28125 0 \nz\n\" id=\"ArialMT-114\"/>\n       <path d=\"M 25.78125 7.859375 \nL 27.046875 0.09375 \nQ 23.34375 -0.6875 20.40625 -0.6875 \nQ 15.625 -0.6875 12.984375 0.828125 \nQ 10.359375 2.34375 9.28125 4.8125 \nQ 8.203125 7.28125 8.203125 15.1875 \nL 8.203125 45.015625 \nL 1.765625 45.015625 \nL 1.765625 51.859375 \nL 8.203125 51.859375 \nL 8.203125 64.703125 \nL 16.9375 69.96875 \nL 16.9375 51.859375 \nL 25.78125 51.859375 \nL 25.78125 45.015625 \nL 16.9375 45.015625 \nL 16.9375 14.703125 \nQ 16.9375 10.9375 17.40625 9.859375 \nQ 17.875 8.796875 18.921875 8.15625 \nQ 19.96875 7.515625 21.921875 7.515625 \nQ 23.390625 7.515625 25.78125 7.859375 \nz\n\" id=\"ArialMT-116\"/>\n       <path d=\"M 7.71875 0 \nL 7.71875 71.578125 \nL 32.375 71.578125 \nQ 40.71875 71.578125 45.125 70.5625 \nQ 51.265625 69.140625 55.609375 65.4375 \nQ 61.28125 60.640625 64.078125 53.1875 \nQ 66.890625 45.75 66.890625 36.1875 \nQ 66.890625 28.03125 64.984375 21.734375 \nQ 63.09375 15.4375 60.109375 11.296875 \nQ 57.125 7.171875 53.578125 4.796875 \nQ 50.046875 2.4375 45.046875 1.21875 \nQ 40.046875 0 33.546875 0 \nz\nM 17.1875 8.453125 \nL 32.46875 8.453125 \nQ 39.546875 8.453125 43.578125 9.765625 \nQ 47.609375 11.078125 50 13.484375 \nQ 53.375 16.84375 55.25 22.53125 \nQ 57.125 28.21875 57.125 36.328125 \nQ 57.125 47.5625 53.4375 53.59375 \nQ 49.75 59.625 44.484375 61.671875 \nQ 40.671875 63.140625 32.234375 63.140625 \nL 17.1875 63.140625 \nz\n\" id=\"ArialMT-68\"/>\n       <path d=\"M 6.640625 61.46875 \nL 6.640625 71.578125 \nL 15.4375 71.578125 \nL 15.4375 61.46875 \nz\nM 6.640625 0 \nL 6.640625 51.859375 \nL 15.4375 51.859375 \nL 15.4375 0 \nz\n\" id=\"ArialMT-105\"/>\n      </defs>\n      <use xlink:href=\"#ArialMT-37\"/>\n      <use x=\"88.916016\" xlink:href=\"#ArialMT-32\"/>\n      <use x=\"116.699219\" xlink:href=\"#ArialMT-111\"/>\n      <use x=\"172.314453\" xlink:href=\"#ArialMT-102\"/>\n      <use x=\"200.097656\" xlink:href=\"#ArialMT-32\"/>\n      <use x=\"227.880859\" xlink:href=\"#ArialMT-72\"/>\n      <use x=\"300.097656\" xlink:href=\"#ArialMT-101\"/>\n      <use x=\"355.712891\" xlink:href=\"#ArialMT-97\"/>\n      <use x=\"411.328125\" xlink:href=\"#ArialMT-114\"/>\n      <use x=\"444.628906\" xlink:href=\"#ArialMT-116\"/>\n      <use x=\"472.412109\" xlink:href=\"#ArialMT-32\"/>\n      <use x=\"500.195312\" xlink:href=\"#ArialMT-68\"/>\n      <use x=\"572.412109\" xlink:href=\"#ArialMT-105\"/>\n      <use x=\"594.628906\" xlink:href=\"#ArialMT-115\"/>\n      <use x=\"644.628906\" xlink:href=\"#ArialMT-101\"/>\n      <use x=\"700.244141\" xlink:href=\"#ArialMT-97\"/>\n      <use x=\"755.859375\" xlink:href=\"#ArialMT-115\"/>\n      <use x=\"805.859375\" xlink:href=\"#ArialMT-101\"/>\n     </g>\n    </g>\n   </g>\n   <g id=\"patch_3\">\n    <path clip-path=\"url(#pa14c93373e)\" d=\"M 62.450753 320.769375 \nL 242.814389 320.769375 \nL 242.814389 36.026518 \nL 62.450753 36.026518 \nz\n\" style=\"fill:#4c72b0;\"/>\n   </g>\n   <g id=\"patch_4\">\n    <path clip-path=\"url(#pa14c93373e)\" d=\"M 287.905298 320.769375 \nL 468.268935 320.769375 \nL 468.268935 56.346196 \nL 287.905298 56.346196 \nz\n\" style=\"fill:#4c72b0;\"/>\n   </g>\n   <g id=\"patch_5\">\n    <path d=\"M 42.159844 320.769375 \nL 42.159844 21.789375 \n\" style=\"fill:none;\"/>\n   </g>\n   <g id=\"patch_6\">\n    <path d=\"M 488.559844 320.769375 \nL 488.559844 21.789375 \n\" style=\"fill:none;\"/>\n   </g>\n   <g id=\"patch_7\">\n    <path d=\"M 42.159844 320.769375 \nL 488.559844 320.769375 \n\" style=\"fill:none;\"/>\n   </g>\n   <g id=\"patch_8\">\n    <path d=\"M 42.159844 21.789375 \nL 488.559844 21.789375 \n\" style=\"fill:none;\"/>\n   </g>\n   <g id=\"text_11\">\n    <!-- fbs -->\n    <g style=\"fill:#262626;\" transform=\"translate(257.356406 15.789375)scale(0.12 -0.12)\">\n     <use xlink:href=\"#ArialMT-102\"/>\n     <use x=\"27.783203\" xlink:href=\"#ArialMT-98\"/>\n     <use x=\"83.398438\" xlink:href=\"#ArialMT-115\"/>\n    </g>\n   </g>\n  </g>\n </g>\n <defs>\n  <clipPath id=\"pa14c93373e\">\n   <rect height=\"298.98\" width=\"446.4\" x=\"42.159844\" y=\"21.789375\"/>\n  </clipPath>\n </defs>\n</svg>\n",
      "image/png": "[encoded data removed]"
     },
     "metadata": {}
    }
   ],
   "source": [
    "fig = plt.figure()\n",
    "\n",
    "ax = fig.add_subplot(111)\n",
    "ax_y = df.groupby(x)[\"target\"].value_counts(normalize=True)[:, 1]\n",
    "ax_x = [\"0\", \"1\"]\n",
    "ax.bar(ax_x, ax_y)\n",
    "ax.set(title=x, xlabel=x, ylabel=\"% of Heart Disease\")"
   ]
  },
  {
   "cell_type": "markdown",
   "metadata": {},
   "source": [
    "#### restecg (Resting ECG)\n",
    "Categorizes ECG results into 0 1 or 2"
   ]
  },
  {
   "cell_type": "code",
   "execution_count": 22,
   "metadata": {},
   "outputs": [],
   "source": [
    "x = \"restecg\""
   ]
  },
  {
   "cell_type": "code",
   "execution_count": 23,
   "metadata": {},
   "outputs": [
    {
     "output_type": "execute_result",
     "data": {
      "text/plain": [
       "1    0.501650\n",
       "0    0.485149\n",
       "2    0.013201\n",
       "Name: restecg, dtype: float64"
      ]
     },
     "metadata": {},
     "execution_count": 23
    }
   ],
   "source": [
    "df[x].value_counts(normalize=True)"
   ]
  },
  {
   "cell_type": "code",
   "execution_count": 24,
   "metadata": {},
   "outputs": [
    {
     "output_type": "execute_result",
     "data": {
      "text/plain": [
       "0"
      ]
     },
     "metadata": {},
     "execution_count": 24
    }
   ],
   "source": [
    "df[x].isnull().sum()"
   ]
  },
  {
   "cell_type": "code",
   "execution_count": 25,
   "metadata": {},
   "outputs": [
    {
     "output_type": "execute_result",
     "data": {
      "text/plain": [
       "[Text(0.5, 1.0, 'restecg'),\n",
       " Text(0.5, 0, 'restecg'),\n",
       " Text(0, 0.5, '% of Heart Disease')]"
      ]
     },
     "metadata": {},
     "execution_count": 25
    },
    {
     "output_type": "display_data",
     "data": {
      "text/plain": "<Figure size 576x396 with 1 Axes>",
      "image/svg+xml": "<?xml version=\"1.0\" encoding=\"utf-8\" standalone=\"no\"?>\n<!DOCTYPE svg PUBLIC \"-//W3C//DTD SVG 1.1//EN\"\n  \"http://www.w3.org/Graphics/SVG/1.1/DTD/svg11.dtd\">\n<!-- Created with matplotlib (https://matplotlib.org/) -->\n<svg height=\"358.033906pt\" version=\"1.1\" viewBox=\"0 0 495.759844 358.033906\" width=\"495.759844pt\" xmlns=\"http://www.w3.org/2000/svg\" xmlns:xlink=\"http://www.w3.org/1999/xlink\">\n <metadata>\n  <rdf:RDF xmlns:cc=\"http://creativecommons.org/ns#\" xmlns:dc=\"http://purl.org/dc/elements/1.1/\" xmlns:rdf=\"http://www.w3.org/1999/02/22-rdf-syntax-ns#\">\n   <cc:Work>\n    <dc:type rdf:resource=\"http://purl.org/dc/dcmitype/StillImage\"/>\n    <dc:date>2021-07-03T16:39:20.870473</dc:date>\n    <dc:format>image/svg+xml</dc:format>\n    <dc:creator>\n     <cc:Agent>\n      <dc:title>Matplotlib v3.3.3, https://matplotlib.org/</dc:title>\n     </cc:Agent>\n    </dc:creator>\n   </cc:Work>\n  </rdf:RDF>\n </metadata>\n <defs>\n  <style type=\"text/css\">*{stroke-linecap:butt;stroke-linejoin:round;}</style>\n </defs>\n <g id=\"figure_1\">\n  <g id=\"patch_1\">\n   <path d=\"M 0 358.033906 \nL 495.759844 358.033906 \nL 495.759844 0 \nL 0 0 \nz\n\" style=\"fill:#ffffff;\"/>\n  </g>\n  <g id=\"axes_1\">\n   <g id=\"patch_2\">\n    <path d=\"M 42.159844 320.62875 \nL 488.559844 320.62875 \nL 488.559844 21.64875 \nL 42.159844 21.64875 \nz\n\" style=\"fill:#eaeaf2;\"/>\n   </g>\n   <g id=\"matplotlib.axis_1\">\n    <g id=\"xtick_1\">\n     <g id=\"line2d_1\">\n      <path clip-path=\"url(#p699e3fd744)\" d=\"M 120.424779 320.62875 \nL 120.424779 21.64875 \n\" style=\"fill:none;stroke:#ffffff;stroke-linecap:round;\"/>\n     </g>\n     <g id=\"line2d_2\"/>\n     <g id=\"text_1\">\n      <!-- 0 -->\n      <g style=\"fill:#262626;\" transform=\"translate(117.64431 334.786562)scale(0.1 -0.1)\">\n       <defs>\n        <path d=\"M 4.15625 35.296875 \nQ 4.15625 48 6.765625 55.734375 \nQ 9.375 63.484375 14.515625 67.671875 \nQ 19.671875 71.875 27.484375 71.875 \nQ 33.25 71.875 37.59375 69.546875 \nQ 41.9375 67.234375 44.765625 62.859375 \nQ 47.609375 58.5 49.21875 52.21875 \nQ 50.828125 45.953125 50.828125 35.296875 \nQ 50.828125 22.703125 48.234375 14.96875 \nQ 45.65625 7.234375 40.5 3 \nQ 35.359375 -1.21875 27.484375 -1.21875 \nQ 17.140625 -1.21875 11.234375 6.203125 \nQ 4.15625 15.140625 4.15625 35.296875 \nz\nM 13.1875 35.296875 \nQ 13.1875 17.671875 17.3125 11.828125 \nQ 21.4375 6 27.484375 6 \nQ 33.546875 6 37.671875 11.859375 \nQ 41.796875 17.71875 41.796875 35.296875 \nQ 41.796875 52.984375 37.671875 58.78125 \nQ 33.546875 64.59375 27.390625 64.59375 \nQ 21.34375 64.59375 17.71875 59.46875 \nQ 13.1875 52.9375 13.1875 35.296875 \nz\n\" id=\"ArialMT-48\"/>\n       </defs>\n       <use xlink:href=\"#ArialMT-48\"/>\n      </g>\n     </g>\n    </g>\n    <g id=\"xtick_2\">\n     <g id=\"line2d_3\">\n      <path clip-path=\"url(#p699e3fd744)\" d=\"M 265.359844 320.62875 \nL 265.359844 21.64875 \n\" style=\"fill:none;stroke:#ffffff;stroke-linecap:round;\"/>\n     </g>\n     <g id=\"line2d_4\"/>\n     <g id=\"text_2\">\n      <!-- 1 -->\n      <g style=\"fill:#262626;\" transform=\"translate(262.579375 334.786562)scale(0.1 -0.1)\">\n       <defs>\n        <path d=\"M 37.25 0 \nL 28.46875 0 \nL 28.46875 56 \nQ 25.296875 52.984375 20.140625 49.953125 \nQ 14.984375 46.921875 10.890625 45.40625 \nL 10.890625 53.90625 \nQ 18.265625 57.375 23.78125 62.296875 \nQ 29.296875 67.234375 31.59375 71.875 \nL 37.25 71.875 \nz\n\" id=\"ArialMT-49\"/>\n       </defs>\n       <use xlink:href=\"#ArialMT-49\"/>\n      </g>\n     </g>\n    </g>\n    <g id=\"xtick_3\">\n     <g id=\"line2d_5\">\n      <path clip-path=\"url(#p699e3fd744)\" d=\"M 410.294909 320.62875 \nL 410.294909 21.64875 \n\" style=\"fill:none;stroke:#ffffff;stroke-linecap:round;\"/>\n     </g>\n     <g id=\"line2d_6\"/>\n     <g id=\"text_3\">\n      <!-- 2 -->\n      <g style=\"fill:#262626;\" transform=\"translate(407.51444 334.786562)scale(0.1 -0.1)\">\n       <defs>\n        <path d=\"M 50.34375 8.453125 \nL 50.34375 0 \nL 3.03125 0 \nQ 2.9375 3.171875 4.046875 6.109375 \nQ 5.859375 10.9375 9.828125 15.625 \nQ 13.8125 20.3125 21.34375 26.46875 \nQ 33.015625 36.03125 37.109375 41.625 \nQ 41.21875 47.21875 41.21875 52.203125 \nQ 41.21875 57.421875 37.46875 61 \nQ 33.734375 64.59375 27.734375 64.59375 \nQ 21.390625 64.59375 17.578125 60.78125 \nQ 13.765625 56.984375 13.71875 50.25 \nL 4.6875 51.171875 \nQ 5.609375 61.28125 11.65625 66.578125 \nQ 17.71875 71.875 27.9375 71.875 \nQ 38.234375 71.875 44.234375 66.15625 \nQ 50.25 60.453125 50.25 52 \nQ 50.25 47.703125 48.484375 43.546875 \nQ 46.734375 39.40625 42.65625 34.8125 \nQ 38.578125 30.21875 29.109375 22.21875 \nQ 21.1875 15.578125 18.9375 13.203125 \nQ 16.703125 10.84375 15.234375 8.453125 \nz\n\" id=\"ArialMT-50\"/>\n       </defs>\n       <use xlink:href=\"#ArialMT-50\"/>\n      </g>\n     </g>\n    </g>\n    <g id=\"text_4\">\n     <!-- restecg -->\n     <g style=\"fill:#262626;\" transform=\"translate(247.325 348.51875)scale(0.11 -0.11)\">\n      <defs>\n       <path d=\"M 6.5 0 \nL 6.5 51.859375 \nL 14.40625 51.859375 \nL 14.40625 44 \nQ 17.4375 49.515625 20 51.265625 \nQ 22.5625 53.03125 25.640625 53.03125 \nQ 30.078125 53.03125 34.671875 50.203125 \nL 31.640625 42.046875 \nQ 28.421875 43.953125 25.203125 43.953125 \nQ 22.3125 43.953125 20.015625 42.21875 \nQ 17.71875 40.484375 16.75 37.40625 \nQ 15.28125 32.71875 15.28125 27.15625 \nL 15.28125 0 \nz\n\" id=\"ArialMT-114\"/>\n       <path d=\"M 42.09375 16.703125 \nL 51.171875 15.578125 \nQ 49.03125 7.625 43.21875 3.21875 \nQ 37.40625 -1.171875 28.375 -1.171875 \nQ 17 -1.171875 10.328125 5.828125 \nQ 3.65625 12.84375 3.65625 25.484375 \nQ 3.65625 38.578125 10.390625 45.796875 \nQ 17.140625 53.03125 27.875 53.03125 \nQ 38.28125 53.03125 44.875 45.953125 \nQ 51.46875 38.875 51.46875 26.03125 \nQ 51.46875 25.25 51.421875 23.6875 \nL 12.75 23.6875 \nQ 13.234375 15.140625 17.578125 10.59375 \nQ 21.921875 6.0625 28.421875 6.0625 \nQ 33.25 6.0625 36.671875 8.59375 \nQ 40.09375 11.140625 42.09375 16.703125 \nz\nM 13.234375 30.90625 \nL 42.1875 30.90625 \nQ 41.609375 37.453125 38.875 40.71875 \nQ 34.671875 45.796875 27.984375 45.796875 \nQ 21.921875 45.796875 17.796875 41.75 \nQ 13.671875 37.703125 13.234375 30.90625 \nz\n\" id=\"ArialMT-101\"/>\n       <path d=\"M 3.078125 15.484375 \nL 11.765625 16.84375 \nQ 12.5 11.625 15.84375 8.84375 \nQ 19.1875 6.0625 25.203125 6.0625 \nQ 31.25 6.0625 34.171875 8.515625 \nQ 37.109375 10.984375 37.109375 14.3125 \nQ 37.109375 17.28125 34.515625 19 \nQ 32.71875 20.171875 25.53125 21.96875 \nQ 15.875 24.421875 12.140625 26.203125 \nQ 8.40625 27.984375 6.46875 31.125 \nQ 4.546875 34.28125 4.546875 38.09375 \nQ 4.546875 41.546875 6.125 44.5 \nQ 7.71875 47.46875 10.453125 49.421875 \nQ 12.5 50.921875 16.03125 51.96875 \nQ 19.578125 53.03125 23.640625 53.03125 \nQ 29.734375 53.03125 34.34375 51.265625 \nQ 38.96875 49.515625 41.15625 46.5 \nQ 43.359375 43.5 44.1875 38.484375 \nL 35.59375 37.3125 \nQ 35.015625 41.3125 32.203125 43.546875 \nQ 29.390625 45.796875 24.265625 45.796875 \nQ 18.21875 45.796875 15.625 43.796875 \nQ 13.03125 41.796875 13.03125 39.109375 \nQ 13.03125 37.40625 14.109375 36.03125 \nQ 15.1875 34.625 17.484375 33.6875 \nQ 18.796875 33.203125 25.25 31.453125 \nQ 34.578125 28.953125 38.25 27.359375 \nQ 41.9375 25.78125 44.03125 22.75 \nQ 46.140625 19.734375 46.140625 15.234375 \nQ 46.140625 10.84375 43.578125 6.953125 \nQ 41.015625 3.078125 36.171875 0.953125 \nQ 31.34375 -1.171875 25.25 -1.171875 \nQ 15.140625 -1.171875 9.84375 3.03125 \nQ 4.546875 7.234375 3.078125 15.484375 \nz\n\" id=\"ArialMT-115\"/>\n       <path d=\"M 25.78125 7.859375 \nL 27.046875 0.09375 \nQ 23.34375 -0.6875 20.40625 -0.6875 \nQ 15.625 -0.6875 12.984375 0.828125 \nQ 10.359375 2.34375 9.28125 4.8125 \nQ 8.203125 7.28125 8.203125 15.1875 \nL 8.203125 45.015625 \nL 1.765625 45.015625 \nL 1.765625 51.859375 \nL 8.203125 51.859375 \nL 8.203125 64.703125 \nL 16.9375 69.96875 \nL 16.9375 51.859375 \nL 25.78125 51.859375 \nL 25.78125 45.015625 \nL 16.9375 45.015625 \nL 16.9375 14.703125 \nQ 16.9375 10.9375 17.40625 9.859375 \nQ 17.875 8.796875 18.921875 8.15625 \nQ 19.96875 7.515625 21.921875 7.515625 \nQ 23.390625 7.515625 25.78125 7.859375 \nz\n\" id=\"ArialMT-116\"/>\n       <path d=\"M 40.4375 19 \nL 49.078125 17.875 \nQ 47.65625 8.9375 41.8125 3.875 \nQ 35.984375 -1.171875 27.484375 -1.171875 \nQ 16.84375 -1.171875 10.375 5.78125 \nQ 3.90625 12.75 3.90625 25.734375 \nQ 3.90625 34.125 6.6875 40.421875 \nQ 9.46875 46.734375 15.15625 49.875 \nQ 20.84375 53.03125 27.546875 53.03125 \nQ 35.984375 53.03125 41.359375 48.75 \nQ 46.734375 44.484375 48.25 36.625 \nL 39.703125 35.296875 \nQ 38.484375 40.53125 35.375 43.15625 \nQ 32.28125 45.796875 27.875 45.796875 \nQ 21.234375 45.796875 17.078125 41.03125 \nQ 12.9375 36.28125 12.9375 25.984375 \nQ 12.9375 15.53125 16.9375 10.796875 \nQ 20.953125 6.0625 27.390625 6.0625 \nQ 32.5625 6.0625 36.03125 9.234375 \nQ 39.5 12.40625 40.4375 19 \nz\n\" id=\"ArialMT-99\"/>\n       <path d=\"M 4.984375 -4.296875 \nL 13.53125 -5.5625 \nQ 14.0625 -9.515625 16.5 -11.328125 \nQ 19.78125 -13.765625 25.4375 -13.765625 \nQ 31.546875 -13.765625 34.859375 -11.328125 \nQ 38.1875 -8.890625 39.359375 -4.5 \nQ 40.046875 -1.8125 39.984375 6.78125 \nQ 34.234375 0 25.640625 0 \nQ 14.9375 0 9.078125 7.71875 \nQ 3.21875 15.4375 3.21875 26.21875 \nQ 3.21875 33.640625 5.90625 39.90625 \nQ 8.59375 46.1875 13.6875 49.609375 \nQ 18.796875 53.03125 25.6875 53.03125 \nQ 34.859375 53.03125 40.828125 45.609375 \nL 40.828125 51.859375 \nL 48.921875 51.859375 \nL 48.921875 7.03125 \nQ 48.921875 -5.078125 46.453125 -10.125 \nQ 44 -15.1875 38.640625 -18.109375 \nQ 33.296875 -21.046875 25.484375 -21.046875 \nQ 16.21875 -21.046875 10.5 -16.875 \nQ 4.78125 -12.703125 4.984375 -4.296875 \nz\nM 12.25 26.859375 \nQ 12.25 16.65625 16.296875 11.96875 \nQ 20.359375 7.28125 26.46875 7.28125 \nQ 32.515625 7.28125 36.609375 11.9375 \nQ 40.71875 16.609375 40.71875 26.5625 \nQ 40.71875 36.078125 36.5 40.90625 \nQ 32.28125 45.75 26.3125 45.75 \nQ 20.453125 45.75 16.34375 40.984375 \nQ 12.25 36.234375 12.25 26.859375 \nz\n\" id=\"ArialMT-103\"/>\n      </defs>\n      <use xlink:href=\"#ArialMT-114\"/>\n      <use x=\"33.300781\" xlink:href=\"#ArialMT-101\"/>\n      <use x=\"88.916016\" xlink:href=\"#ArialMT-115\"/>\n      <use x=\"138.916016\" xlink:href=\"#ArialMT-116\"/>\n      <use x=\"166.699219\" xlink:href=\"#ArialMT-101\"/>\n      <use x=\"222.314453\" xlink:href=\"#ArialMT-99\"/>\n      <use x=\"272.314453\" xlink:href=\"#ArialMT-103\"/>\n     </g>\n    </g>\n   </g>\n   <g id=\"matplotlib.axis_2\">\n    <g id=\"ytick_1\">\n     <g id=\"line2d_7\">\n      <path clip-path=\"url(#p699e3fd744)\" d=\"M 42.159844 320.62875 \nL 488.559844 320.62875 \n\" style=\"fill:none;stroke:#ffffff;stroke-linecap:round;\"/>\n     </g>\n     <g id=\"line2d_8\"/>\n     <g id=\"text_5\">\n      <!-- 0.0 -->\n      <g style=\"fill:#262626;\" transform=\"translate(21.259844 324.207656)scale(0.1 -0.1)\">\n       <defs>\n        <path d=\"M 9.078125 0 \nL 9.078125 10.015625 \nL 19.09375 10.015625 \nL 19.09375 0 \nz\n\" id=\"ArialMT-46\"/>\n       </defs>\n       <use xlink:href=\"#ArialMT-48\"/>\n       <use x=\"55.615234\" xlink:href=\"#ArialMT-46\"/>\n       <use x=\"83.398438\" xlink:href=\"#ArialMT-48\"/>\n      </g>\n     </g>\n    </g>\n    <g id=\"ytick_2\">\n     <g id=\"line2d_9\">\n      <path clip-path=\"url(#p699e3fd744)\" d=\"M 42.159844 275.544464 \nL 488.559844 275.544464 \n\" style=\"fill:none;stroke:#ffffff;stroke-linecap:round;\"/>\n     </g>\n     <g id=\"line2d_10\"/>\n     <g id=\"text_6\">\n      <!-- 0.1 -->\n      <g style=\"fill:#262626;\" transform=\"translate(21.259844 279.123371)scale(0.1 -0.1)\">\n       <use xlink:href=\"#ArialMT-48\"/>\n       <use x=\"55.615234\" xlink:href=\"#ArialMT-46\"/>\n       <use x=\"83.398438\" xlink:href=\"#ArialMT-49\"/>\n      </g>\n     </g>\n    </g>\n    <g id=\"ytick_3\">\n     <g id=\"line2d_11\">\n      <path clip-path=\"url(#p699e3fd744)\" d=\"M 42.159844 230.460179 \nL 488.559844 230.460179 \n\" style=\"fill:none;stroke:#ffffff;stroke-linecap:round;\"/>\n     </g>\n     <g id=\"line2d_12\"/>\n     <g id=\"text_7\">\n      <!-- 0.2 -->\n      <g style=\"fill:#262626;\" transform=\"translate(21.259844 234.039085)scale(0.1 -0.1)\">\n       <use xlink:href=\"#ArialMT-48\"/>\n       <use x=\"55.615234\" xlink:href=\"#ArialMT-46\"/>\n       <use x=\"83.398438\" xlink:href=\"#ArialMT-50\"/>\n      </g>\n     </g>\n    </g>\n    <g id=\"ytick_4\">\n     <g id=\"line2d_13\">\n      <path clip-path=\"url(#p699e3fd744)\" d=\"M 42.159844 185.375893 \nL 488.559844 185.375893 \n\" style=\"fill:none;stroke:#ffffff;stroke-linecap:round;\"/>\n     </g>\n     <g id=\"line2d_14\"/>\n     <g id=\"text_8\">\n      <!-- 0.3 -->\n      <g style=\"fill:#262626;\" transform=\"translate(21.259844 188.954799)scale(0.1 -0.1)\">\n       <defs>\n        <path d=\"M 4.203125 18.890625 \nL 12.984375 20.0625 \nQ 14.5 12.59375 18.140625 9.296875 \nQ 21.78125 6 27 6 \nQ 33.203125 6 37.46875 10.296875 \nQ 41.75 14.59375 41.75 20.953125 \nQ 41.75 27 37.796875 30.921875 \nQ 33.84375 34.859375 27.734375 34.859375 \nQ 25.25 34.859375 21.53125 33.890625 \nL 22.515625 41.609375 \nQ 23.390625 41.5 23.921875 41.5 \nQ 29.546875 41.5 34.03125 44.421875 \nQ 38.53125 47.359375 38.53125 53.46875 \nQ 38.53125 58.296875 35.25 61.46875 \nQ 31.984375 64.65625 26.8125 64.65625 \nQ 21.6875 64.65625 18.265625 61.421875 \nQ 14.84375 58.203125 13.875 51.765625 \nL 5.078125 53.328125 \nQ 6.6875 62.15625 12.390625 67.015625 \nQ 18.109375 71.875 26.609375 71.875 \nQ 32.46875 71.875 37.390625 69.359375 \nQ 42.328125 66.84375 44.9375 62.5 \nQ 47.5625 58.15625 47.5625 53.265625 \nQ 47.5625 48.640625 45.0625 44.828125 \nQ 42.578125 41.015625 37.703125 38.765625 \nQ 44.046875 37.3125 47.5625 32.6875 \nQ 51.078125 28.078125 51.078125 21.140625 \nQ 51.078125 11.765625 44.234375 5.25 \nQ 37.40625 -1.265625 26.953125 -1.265625 \nQ 17.53125 -1.265625 11.296875 4.34375 \nQ 5.078125 9.96875 4.203125 18.890625 \nz\n\" id=\"ArialMT-51\"/>\n       </defs>\n       <use xlink:href=\"#ArialMT-48\"/>\n       <use x=\"55.615234\" xlink:href=\"#ArialMT-46\"/>\n       <use x=\"83.398438\" xlink:href=\"#ArialMT-51\"/>\n      </g>\n     </g>\n    </g>\n    <g id=\"ytick_5\">\n     <g id=\"line2d_15\">\n      <path clip-path=\"url(#p699e3fd744)\" d=\"M 42.159844 140.291607 \nL 488.559844 140.291607 \n\" style=\"fill:none;stroke:#ffffff;stroke-linecap:round;\"/>\n     </g>\n     <g id=\"line2d_16\"/>\n     <g id=\"text_9\">\n      <!-- 0.4 -->\n      <g style=\"fill:#262626;\" transform=\"translate(21.259844 143.870513)scale(0.1 -0.1)\">\n       <defs>\n        <path d=\"M 32.328125 0 \nL 32.328125 17.140625 \nL 1.265625 17.140625 \nL 1.265625 25.203125 \nL 33.9375 71.578125 \nL 41.109375 71.578125 \nL 41.109375 25.203125 \nL 50.78125 25.203125 \nL 50.78125 17.140625 \nL 41.109375 17.140625 \nL 41.109375 0 \nz\nM 32.328125 25.203125 \nL 32.328125 57.46875 \nL 9.90625 25.203125 \nz\n\" id=\"ArialMT-52\"/>\n       </defs>\n       <use xlink:href=\"#ArialMT-48\"/>\n       <use x=\"55.615234\" xlink:href=\"#ArialMT-46\"/>\n       <use x=\"83.398438\" xlink:href=\"#ArialMT-52\"/>\n      </g>\n     </g>\n    </g>\n    <g id=\"ytick_6\">\n     <g id=\"line2d_17\">\n      <path clip-path=\"url(#p699e3fd744)\" d=\"M 42.159844 95.207321 \nL 488.559844 95.207321 \n\" style=\"fill:none;stroke:#ffffff;stroke-linecap:round;\"/>\n     </g>\n     <g id=\"line2d_18\"/>\n     <g id=\"text_10\">\n      <!-- 0.5 -->\n      <g style=\"fill:#262626;\" transform=\"translate(21.259844 98.786228)scale(0.1 -0.1)\">\n       <defs>\n        <path d=\"M 4.15625 18.75 \nL 13.375 19.53125 \nQ 14.40625 12.796875 18.140625 9.390625 \nQ 21.875 6 27.15625 6 \nQ 33.5 6 37.890625 10.78125 \nQ 42.28125 15.578125 42.28125 23.484375 \nQ 42.28125 31 38.0625 35.34375 \nQ 33.84375 39.703125 27 39.703125 \nQ 22.75 39.703125 19.328125 37.765625 \nQ 15.921875 35.84375 13.96875 32.765625 \nL 5.71875 33.84375 \nL 12.640625 70.609375 \nL 48.25 70.609375 \nL 48.25 62.203125 \nL 19.671875 62.203125 \nL 15.828125 42.96875 \nQ 22.265625 47.46875 29.34375 47.46875 \nQ 38.71875 47.46875 45.15625 40.96875 \nQ 51.609375 34.46875 51.609375 24.265625 \nQ 51.609375 14.546875 45.953125 7.46875 \nQ 39.0625 -1.21875 27.15625 -1.21875 \nQ 17.390625 -1.21875 11.203125 4.25 \nQ 5.03125 9.71875 4.15625 18.75 \nz\n\" id=\"ArialMT-53\"/>\n       </defs>\n       <use xlink:href=\"#ArialMT-48\"/>\n       <use x=\"55.615234\" xlink:href=\"#ArialMT-46\"/>\n       <use x=\"83.398438\" xlink:href=\"#ArialMT-53\"/>\n      </g>\n     </g>\n    </g>\n    <g id=\"ytick_7\">\n     <g id=\"line2d_19\">\n      <path clip-path=\"url(#p699e3fd744)\" d=\"M 42.159844 50.123036 \nL 488.559844 50.123036 \n\" style=\"fill:none;stroke:#ffffff;stroke-linecap:round;\"/>\n     </g>\n     <g id=\"line2d_20\"/>\n     <g id=\"text_11\">\n      <!-- 0.6 -->\n      <g style=\"fill:#262626;\" transform=\"translate(21.259844 53.701942)scale(0.1 -0.1)\">\n       <defs>\n        <path d=\"M 49.75 54.046875 \nL 41.015625 53.375 \nQ 39.84375 58.546875 37.703125 60.890625 \nQ 34.125 64.65625 28.90625 64.65625 \nQ 24.703125 64.65625 21.53125 62.3125 \nQ 17.390625 59.28125 14.984375 53.46875 \nQ 12.59375 47.65625 12.5 36.921875 \nQ 15.671875 41.75 20.265625 44.09375 \nQ 24.859375 46.4375 29.890625 46.4375 \nQ 38.671875 46.4375 44.84375 39.96875 \nQ 51.03125 33.5 51.03125 23.25 \nQ 51.03125 16.5 48.125 10.71875 \nQ 45.21875 4.9375 40.140625 1.859375 \nQ 35.0625 -1.21875 28.609375 -1.21875 \nQ 17.625 -1.21875 10.6875 6.859375 \nQ 3.765625 14.9375 3.765625 33.5 \nQ 3.765625 54.25 11.421875 63.671875 \nQ 18.109375 71.875 29.4375 71.875 \nQ 37.890625 71.875 43.28125 67.140625 \nQ 48.6875 62.40625 49.75 54.046875 \nz\nM 13.875 23.1875 \nQ 13.875 18.65625 15.796875 14.5 \nQ 17.71875 10.359375 21.1875 8.171875 \nQ 24.65625 6 28.46875 6 \nQ 34.03125 6 38.03125 10.484375 \nQ 42.046875 14.984375 42.046875 22.703125 \nQ 42.046875 30.125 38.078125 34.390625 \nQ 34.125 38.671875 28.125 38.671875 \nQ 22.171875 38.671875 18.015625 34.390625 \nQ 13.875 30.125 13.875 23.1875 \nz\n\" id=\"ArialMT-54\"/>\n       </defs>\n       <use xlink:href=\"#ArialMT-48\"/>\n       <use x=\"55.615234\" xlink:href=\"#ArialMT-46\"/>\n       <use x=\"83.398438\" xlink:href=\"#ArialMT-54\"/>\n      </g>\n     </g>\n    </g>\n    <g id=\"text_12\">\n     <!-- % of Heart Disease -->\n     <g style=\"fill:#262626;\" transform=\"translate(15.073594 218.517812)rotate(-90)scale(0.11 -0.11)\">\n      <defs>\n       <path d=\"M 5.8125 54.390625 \nQ 5.8125 62.0625 9.671875 67.421875 \nQ 13.53125 72.796875 20.84375 72.796875 \nQ 27.59375 72.796875 32 67.984375 \nQ 36.421875 63.1875 36.421875 53.859375 \nQ 36.421875 44.78125 31.953125 39.875 \nQ 27.484375 34.96875 20.953125 34.96875 \nQ 14.453125 34.96875 10.125 39.796875 \nQ 5.8125 44.625 5.8125 54.390625 \nz\nM 21.09375 66.75 \nQ 17.828125 66.75 15.65625 63.90625 \nQ 13.484375 61.078125 13.484375 53.515625 \nQ 13.484375 46.625 15.671875 43.8125 \nQ 17.875 41.015625 21.09375 41.015625 \nQ 24.421875 41.015625 26.59375 43.84375 \nQ 28.765625 46.6875 28.765625 54.203125 \nQ 28.765625 61.140625 26.5625 63.9375 \nQ 24.359375 66.75 21.09375 66.75 \nz\nM 21.140625 -2.640625 \nL 60.296875 72.796875 \nL 67.4375 72.796875 \nL 28.421875 -2.640625 \nz\nM 52.09375 16.796875 \nQ 52.09375 24.515625 55.953125 29.859375 \nQ 59.8125 35.203125 67.1875 35.203125 \nQ 73.921875 35.203125 78.34375 30.390625 \nQ 82.765625 25.59375 82.765625 16.265625 \nQ 82.765625 7.171875 78.296875 2.265625 \nQ 73.828125 -2.640625 67.234375 -2.640625 \nQ 60.75 -2.640625 56.421875 2.21875 \nQ 52.09375 7.078125 52.09375 16.796875 \nz\nM 67.4375 29.15625 \nQ 64.109375 29.15625 61.9375 26.3125 \nQ 59.765625 23.484375 59.765625 15.921875 \nQ 59.765625 9.078125 61.953125 6.25 \nQ 64.15625 3.421875 67.390625 3.421875 \nQ 70.75 3.421875 72.921875 6.25 \nQ 75.09375 9.078125 75.09375 16.609375 \nQ 75.09375 23.53125 72.890625 26.34375 \nQ 70.703125 29.15625 67.4375 29.15625 \nz\n\" id=\"ArialMT-37\"/>\n       <path id=\"ArialMT-32\"/>\n       <path d=\"M 3.328125 25.921875 \nQ 3.328125 40.328125 11.328125 47.265625 \nQ 18.015625 53.03125 27.640625 53.03125 \nQ 38.328125 53.03125 45.109375 46.015625 \nQ 51.90625 39.015625 51.90625 26.65625 \nQ 51.90625 16.65625 48.90625 10.90625 \nQ 45.90625 5.171875 40.15625 2 \nQ 34.421875 -1.171875 27.640625 -1.171875 \nQ 16.75 -1.171875 10.03125 5.8125 \nQ 3.328125 12.796875 3.328125 25.921875 \nz\nM 12.359375 25.921875 \nQ 12.359375 15.96875 16.703125 11.015625 \nQ 21.046875 6.0625 27.640625 6.0625 \nQ 34.1875 6.0625 38.53125 11.03125 \nQ 42.875 16.015625 42.875 26.21875 \nQ 42.875 35.84375 38.5 40.796875 \nQ 34.125 45.75 27.640625 45.75 \nQ 21.046875 45.75 16.703125 40.8125 \nQ 12.359375 35.890625 12.359375 25.921875 \nz\n\" id=\"ArialMT-111\"/>\n       <path d=\"M 8.6875 0 \nL 8.6875 45.015625 \nL 0.921875 45.015625 \nL 0.921875 51.859375 \nL 8.6875 51.859375 \nL 8.6875 57.375 \nQ 8.6875 62.59375 9.625 65.140625 \nQ 10.890625 68.5625 14.078125 70.671875 \nQ 17.28125 72.796875 23.046875 72.796875 \nQ 26.765625 72.796875 31.25 71.921875 \nL 29.9375 64.265625 \nQ 27.203125 64.75 24.75 64.75 \nQ 20.75 64.75 19.09375 63.03125 \nQ 17.4375 61.328125 17.4375 56.640625 \nL 17.4375 51.859375 \nL 27.546875 51.859375 \nL 27.546875 45.015625 \nL 17.4375 45.015625 \nL 17.4375 0 \nz\n\" id=\"ArialMT-102\"/>\n       <path d=\"M 8.015625 0 \nL 8.015625 71.578125 \nL 17.484375 71.578125 \nL 17.484375 42.1875 \nL 54.6875 42.1875 \nL 54.6875 71.578125 \nL 64.15625 71.578125 \nL 64.15625 0 \nL 54.6875 0 \nL 54.6875 33.734375 \nL 17.484375 33.734375 \nL 17.484375 0 \nz\n\" id=\"ArialMT-72\"/>\n       <path d=\"M 40.4375 6.390625 \nQ 35.546875 2.25 31.03125 0.53125 \nQ 26.515625 -1.171875 21.34375 -1.171875 \nQ 12.796875 -1.171875 8.203125 3 \nQ 3.609375 7.171875 3.609375 13.671875 \nQ 3.609375 17.484375 5.34375 20.625 \nQ 7.078125 23.78125 9.890625 25.6875 \nQ 12.703125 27.59375 16.21875 28.5625 \nQ 18.796875 29.25 24.03125 29.890625 \nQ 34.671875 31.15625 39.703125 32.90625 \nQ 39.75 34.71875 39.75 35.203125 \nQ 39.75 40.578125 37.25 42.78125 \nQ 33.890625 45.75 27.25 45.75 \nQ 21.046875 45.75 18.09375 43.578125 \nQ 15.140625 41.40625 13.71875 35.890625 \nL 5.125 37.0625 \nQ 6.296875 42.578125 8.984375 45.96875 \nQ 11.671875 49.359375 16.75 51.1875 \nQ 21.828125 53.03125 28.515625 53.03125 \nQ 35.15625 53.03125 39.296875 51.46875 \nQ 43.453125 49.90625 45.40625 47.53125 \nQ 47.359375 45.171875 48.140625 41.546875 \nQ 48.578125 39.3125 48.578125 33.453125 \nL 48.578125 21.734375 \nQ 48.578125 9.46875 49.140625 6.21875 \nQ 49.703125 2.984375 51.375 0 \nL 42.1875 0 \nQ 40.828125 2.734375 40.4375 6.390625 \nz\nM 39.703125 26.03125 \nQ 34.90625 24.078125 25.34375 22.703125 \nQ 19.921875 21.921875 17.671875 20.9375 \nQ 15.4375 19.96875 14.203125 18.09375 \nQ 12.984375 16.21875 12.984375 13.921875 \nQ 12.984375 10.40625 15.640625 8.0625 \nQ 18.3125 5.71875 23.4375 5.71875 \nQ 28.515625 5.71875 32.46875 7.9375 \nQ 36.421875 10.15625 38.28125 14.015625 \nQ 39.703125 17 39.703125 22.796875 \nz\n\" id=\"ArialMT-97\"/>\n       <path d=\"M 7.71875 0 \nL 7.71875 71.578125 \nL 32.375 71.578125 \nQ 40.71875 71.578125 45.125 70.5625 \nQ 51.265625 69.140625 55.609375 65.4375 \nQ 61.28125 60.640625 64.078125 53.1875 \nQ 66.890625 45.75 66.890625 36.1875 \nQ 66.890625 28.03125 64.984375 21.734375 \nQ 63.09375 15.4375 60.109375 11.296875 \nQ 57.125 7.171875 53.578125 4.796875 \nQ 50.046875 2.4375 45.046875 1.21875 \nQ 40.046875 0 33.546875 0 \nz\nM 17.1875 8.453125 \nL 32.46875 8.453125 \nQ 39.546875 8.453125 43.578125 9.765625 \nQ 47.609375 11.078125 50 13.484375 \nQ 53.375 16.84375 55.25 22.53125 \nQ 57.125 28.21875 57.125 36.328125 \nQ 57.125 47.5625 53.4375 53.59375 \nQ 49.75 59.625 44.484375 61.671875 \nQ 40.671875 63.140625 32.234375 63.140625 \nL 17.1875 63.140625 \nz\n\" id=\"ArialMT-68\"/>\n       <path d=\"M 6.640625 61.46875 \nL 6.640625 71.578125 \nL 15.4375 71.578125 \nL 15.4375 61.46875 \nz\nM 6.640625 0 \nL 6.640625 51.859375 \nL 15.4375 51.859375 \nL 15.4375 0 \nz\n\" id=\"ArialMT-105\"/>\n      </defs>\n      <use xlink:href=\"#ArialMT-37\"/>\n      <use x=\"88.916016\" xlink:href=\"#ArialMT-32\"/>\n      <use x=\"116.699219\" xlink:href=\"#ArialMT-111\"/>\n      <use x=\"172.314453\" xlink:href=\"#ArialMT-102\"/>\n      <use x=\"200.097656\" xlink:href=\"#ArialMT-32\"/>\n      <use x=\"227.880859\" xlink:href=\"#ArialMT-72\"/>\n      <use x=\"300.097656\" xlink:href=\"#ArialMT-101\"/>\n      <use x=\"355.712891\" xlink:href=\"#ArialMT-97\"/>\n      <use x=\"411.328125\" xlink:href=\"#ArialMT-114\"/>\n      <use x=\"444.628906\" xlink:href=\"#ArialMT-116\"/>\n      <use x=\"472.412109\" xlink:href=\"#ArialMT-32\"/>\n      <use x=\"500.195312\" xlink:href=\"#ArialMT-68\"/>\n      <use x=\"572.412109\" xlink:href=\"#ArialMT-105\"/>\n      <use x=\"594.628906\" xlink:href=\"#ArialMT-115\"/>\n      <use x=\"644.628906\" xlink:href=\"#ArialMT-101\"/>\n      <use x=\"700.244141\" xlink:href=\"#ArialMT-97\"/>\n      <use x=\"755.859375\" xlink:href=\"#ArialMT-115\"/>\n      <use x=\"805.859375\" xlink:href=\"#ArialMT-101\"/>\n     </g>\n    </g>\n   </g>\n   <g id=\"patch_3\">\n    <path clip-path=\"url(#p699e3fd744)\" d=\"M 62.450753 320.62875 \nL 178.398805 320.62875 \nL 178.398805 112.075592 \nL 62.450753 112.075592 \nz\n\" style=\"fill:#4c72b0;\"/>\n   </g>\n   <g id=\"patch_4\">\n    <path clip-path=\"url(#p699e3fd744)\" d=\"M 207.385818 320.62875 \nL 323.33387 320.62875 \nL 323.33387 35.885893 \nL 207.385818 35.885893 \nz\n\" style=\"fill:#4c72b0;\"/>\n   </g>\n   <g id=\"patch_5\">\n    <path clip-path=\"url(#p699e3fd744)\" d=\"M 352.320883 320.62875 \nL 468.268935 320.62875 \nL 468.268935 207.918036 \nL 352.320883 207.918036 \nz\n\" style=\"fill:#4c72b0;\"/>\n   </g>\n   <g id=\"patch_6\">\n    <path d=\"M 42.159844 320.62875 \nL 42.159844 21.64875 \n\" style=\"fill:none;\"/>\n   </g>\n   <g id=\"patch_7\">\n    <path d=\"M 488.559844 320.62875 \nL 488.559844 21.64875 \n\" style=\"fill:none;\"/>\n   </g>\n   <g id=\"patch_8\">\n    <path d=\"M 42.159844 320.62875 \nL 488.559844 320.62875 \n\" style=\"fill:none;\"/>\n   </g>\n   <g id=\"patch_9\">\n    <path d=\"M 42.159844 21.64875 \nL 488.559844 21.64875 \n\" style=\"fill:none;\"/>\n   </g>\n   <g id=\"text_13\">\n    <!-- restecg -->\n    <g style=\"fill:#262626;\" transform=\"translate(245.685469 15.64875)scale(0.12 -0.12)\">\n     <use xlink:href=\"#ArialMT-114\"/>\n     <use x=\"33.300781\" xlink:href=\"#ArialMT-101\"/>\n     <use x=\"88.916016\" xlink:href=\"#ArialMT-115\"/>\n     <use x=\"138.916016\" xlink:href=\"#ArialMT-116\"/>\n     <use x=\"166.699219\" xlink:href=\"#ArialMT-101\"/>\n     <use x=\"222.314453\" xlink:href=\"#ArialMT-99\"/>\n     <use x=\"272.314453\" xlink:href=\"#ArialMT-103\"/>\n    </g>\n   </g>\n  </g>\n </g>\n <defs>\n  <clipPath id=\"p699e3fd744\">\n   <rect height=\"298.98\" width=\"446.4\" x=\"42.159844\" y=\"21.64875\"/>\n  </clipPath>\n </defs>\n</svg>\n",
      "image/png": "[encoded data removed]"
     },
     "metadata": {}
    }
   ],
   "source": [
    "fig = plt.figure()\n",
    "\n",
    "ax = fig.add_subplot(111)\n",
    "ax_y = df.groupby(x)[\"target\"].value_counts(normalize=True)[:, 1]\n",
    "ax_x = [\"0\", \"1\", \"2\"]\n",
    "ax.bar(ax_x, ax_y)\n",
    "ax.set(title=x, xlabel=x, ylabel=\"% of Heart Disease\")"
   ]
  },
  {
   "cell_type": "markdown",
   "metadata": {},
   "source": [
    "#### exang (Exercise induced angina)"
   ]
  },
  {
   "cell_type": "code",
   "execution_count": 26,
   "metadata": {},
   "outputs": [],
   "source": [
    "x = \"exang\""
   ]
  },
  {
   "cell_type": "code",
   "execution_count": 27,
   "metadata": {},
   "outputs": [
    {
     "output_type": "execute_result",
     "data": {
      "text/plain": [
       "0    0.673267\n",
       "1    0.326733\n",
       "Name: exang, dtype: float64"
      ]
     },
     "metadata": {},
     "execution_count": 27
    }
   ],
   "source": [
    "df[x].value_counts(normalize=True)"
   ]
  },
  {
   "cell_type": "code",
   "execution_count": 28,
   "metadata": {},
   "outputs": [
    {
     "output_type": "execute_result",
     "data": {
      "text/plain": [
       "0"
      ]
     },
     "metadata": {},
     "execution_count": 28
    }
   ],
   "source": [
    "df[x].isnull().sum()"
   ]
  },
  {
   "cell_type": "code",
   "execution_count": 29,
   "metadata": {},
   "outputs": [
    {
     "output_type": "execute_result",
     "data": {
      "text/plain": [
       "[Text(0.5, 1.0, 'exang'),\n",
       " Text(0.5, 0, 'exang'),\n",
       " Text(0, 0.5, '% of Heart Disease')]"
      ]
     },
     "metadata": {},
     "execution_count": 29
    },
    {
     "output_type": "display_data",
     "data": {
      "text/plain": "<Figure size 576x396 with 1 Axes>",
      "image/svg+xml": "<?xml version=\"1.0\" encoding=\"utf-8\" standalone=\"no\"?>\n<!DOCTYPE svg PUBLIC \"-//W3C//DTD SVG 1.1//EN\"\n  \"http://www.w3.org/Graphics/SVG/1.1/DTD/svg11.dtd\">\n<!-- Created with matplotlib (https://matplotlib.org/) -->\n<svg height=\"358.033906pt\" version=\"1.1\" viewBox=\"0 0 495.759844 358.033906\" width=\"495.759844pt\" xmlns=\"http://www.w3.org/2000/svg\" xmlns:xlink=\"http://www.w3.org/1999/xlink\">\n <metadata>\n  <rdf:RDF xmlns:cc=\"http://creativecommons.org/ns#\" xmlns:dc=\"http://purl.org/dc/elements/1.1/\" xmlns:rdf=\"http://www.w3.org/1999/02/22-rdf-syntax-ns#\">\n   <cc:Work>\n    <dc:type rdf:resource=\"http://purl.org/dc/dcmitype/StillImage\"/>\n    <dc:date>2021-07-03T16:39:21.362561</dc:date>\n    <dc:format>image/svg+xml</dc:format>\n    <dc:creator>\n     <cc:Agent>\n      <dc:title>Matplotlib v3.3.3, https://matplotlib.org/</dc:title>\n     </cc:Agent>\n    </dc:creator>\n   </cc:Work>\n  </rdf:RDF>\n </metadata>\n <defs>\n  <style type=\"text/css\">*{stroke-linecap:butt;stroke-linejoin:round;}</style>\n </defs>\n <g id=\"figure_1\">\n  <g id=\"patch_1\">\n   <path d=\"M 0 358.033906 \nL 495.759844 358.033906 \nL 495.759844 0 \nL 0 0 \nz\n\" style=\"fill:#ffffff;\"/>\n  </g>\n  <g id=\"axes_1\">\n   <g id=\"patch_2\">\n    <path d=\"M 42.159844 320.62875 \nL 488.559844 320.62875 \nL 488.559844 21.64875 \nL 42.159844 21.64875 \nz\n\" style=\"fill:#eaeaf2;\"/>\n   </g>\n   <g id=\"matplotlib.axis_1\">\n    <g id=\"xtick_1\">\n     <g id=\"line2d_1\">\n      <path clip-path=\"url(#p2731d0b651)\" d=\"M 152.632571 320.62875 \nL 152.632571 21.64875 \n\" style=\"fill:none;stroke:#ffffff;stroke-linecap:round;\"/>\n     </g>\n     <g id=\"line2d_2\"/>\n     <g id=\"text_1\">\n      <!-- 0 -->\n      <g style=\"fill:#262626;\" transform=\"translate(149.852102 334.786562)scale(0.1 -0.1)\">\n       <defs>\n        <path d=\"M 4.15625 35.296875 \nQ 4.15625 48 6.765625 55.734375 \nQ 9.375 63.484375 14.515625 67.671875 \nQ 19.671875 71.875 27.484375 71.875 \nQ 33.25 71.875 37.59375 69.546875 \nQ 41.9375 67.234375 44.765625 62.859375 \nQ 47.609375 58.5 49.21875 52.21875 \nQ 50.828125 45.953125 50.828125 35.296875 \nQ 50.828125 22.703125 48.234375 14.96875 \nQ 45.65625 7.234375 40.5 3 \nQ 35.359375 -1.21875 27.484375 -1.21875 \nQ 17.140625 -1.21875 11.234375 6.203125 \nQ 4.15625 15.140625 4.15625 35.296875 \nz\nM 13.1875 35.296875 \nQ 13.1875 17.671875 17.3125 11.828125 \nQ 21.4375 6 27.484375 6 \nQ 33.546875 6 37.671875 11.859375 \nQ 41.796875 17.71875 41.796875 35.296875 \nQ 41.796875 52.984375 37.671875 58.78125 \nQ 33.546875 64.59375 27.390625 64.59375 \nQ 21.34375 64.59375 17.71875 59.46875 \nQ 13.1875 52.9375 13.1875 35.296875 \nz\n\" id=\"ArialMT-48\"/>\n       </defs>\n       <use xlink:href=\"#ArialMT-48\"/>\n      </g>\n     </g>\n    </g>\n    <g id=\"xtick_2\">\n     <g id=\"line2d_3\">\n      <path clip-path=\"url(#p2731d0b651)\" d=\"M 378.087116 320.62875 \nL 378.087116 21.64875 \n\" style=\"fill:none;stroke:#ffffff;stroke-linecap:round;\"/>\n     </g>\n     <g id=\"line2d_4\"/>\n     <g id=\"text_2\">\n      <!-- 1 -->\n      <g style=\"fill:#262626;\" transform=\"translate(375.306648 334.786562)scale(0.1 -0.1)\">\n       <defs>\n        <path d=\"M 37.25 0 \nL 28.46875 0 \nL 28.46875 56 \nQ 25.296875 52.984375 20.140625 49.953125 \nQ 14.984375 46.921875 10.890625 45.40625 \nL 10.890625 53.90625 \nQ 18.265625 57.375 23.78125 62.296875 \nQ 29.296875 67.234375 31.59375 71.875 \nL 37.25 71.875 \nz\n\" id=\"ArialMT-49\"/>\n       </defs>\n       <use xlink:href=\"#ArialMT-49\"/>\n      </g>\n     </g>\n    </g>\n    <g id=\"text_3\">\n     <!-- exang -->\n     <g style=\"fill:#262626;\" transform=\"translate(250.375781 348.51875)scale(0.11 -0.11)\">\n      <defs>\n       <path d=\"M 42.09375 16.703125 \nL 51.171875 15.578125 \nQ 49.03125 7.625 43.21875 3.21875 \nQ 37.40625 -1.171875 28.375 -1.171875 \nQ 17 -1.171875 10.328125 5.828125 \nQ 3.65625 12.84375 3.65625 25.484375 \nQ 3.65625 38.578125 10.390625 45.796875 \nQ 17.140625 53.03125 27.875 53.03125 \nQ 38.28125 53.03125 44.875 45.953125 \nQ 51.46875 38.875 51.46875 26.03125 \nQ 51.46875 25.25 51.421875 23.6875 \nL 12.75 23.6875 \nQ 13.234375 15.140625 17.578125 10.59375 \nQ 21.921875 6.0625 28.421875 6.0625 \nQ 33.25 6.0625 36.671875 8.59375 \nQ 40.09375 11.140625 42.09375 16.703125 \nz\nM 13.234375 30.90625 \nL 42.1875 30.90625 \nQ 41.609375 37.453125 38.875 40.71875 \nQ 34.671875 45.796875 27.984375 45.796875 \nQ 21.921875 45.796875 17.796875 41.75 \nQ 13.671875 37.703125 13.234375 30.90625 \nz\n\" id=\"ArialMT-101\"/>\n       <path d=\"M 0.734375 0 \nL 19.671875 26.953125 \nL 2.15625 51.859375 \nL 13.140625 51.859375 \nL 21.09375 39.703125 \nQ 23.34375 36.234375 24.703125 33.890625 \nQ 26.859375 37.109375 28.65625 39.59375 \nL 37.40625 51.859375 \nL 47.90625 51.859375 \nL 29.984375 27.4375 \nL 49.265625 0 \nL 38.484375 0 \nL 27.828125 16.109375 \nL 25 20.453125 \nL 11.375 0 \nz\n\" id=\"ArialMT-120\"/>\n       <path d=\"M 40.4375 6.390625 \nQ 35.546875 2.25 31.03125 0.53125 \nQ 26.515625 -1.171875 21.34375 -1.171875 \nQ 12.796875 -1.171875 8.203125 3 \nQ 3.609375 7.171875 3.609375 13.671875 \nQ 3.609375 17.484375 5.34375 20.625 \nQ 7.078125 23.78125 9.890625 25.6875 \nQ 12.703125 27.59375 16.21875 28.5625 \nQ 18.796875 29.25 24.03125 29.890625 \nQ 34.671875 31.15625 39.703125 32.90625 \nQ 39.75 34.71875 39.75 35.203125 \nQ 39.75 40.578125 37.25 42.78125 \nQ 33.890625 45.75 27.25 45.75 \nQ 21.046875 45.75 18.09375 43.578125 \nQ 15.140625 41.40625 13.71875 35.890625 \nL 5.125 37.0625 \nQ 6.296875 42.578125 8.984375 45.96875 \nQ 11.671875 49.359375 16.75 51.1875 \nQ 21.828125 53.03125 28.515625 53.03125 \nQ 35.15625 53.03125 39.296875 51.46875 \nQ 43.453125 49.90625 45.40625 47.53125 \nQ 47.359375 45.171875 48.140625 41.546875 \nQ 48.578125 39.3125 48.578125 33.453125 \nL 48.578125 21.734375 \nQ 48.578125 9.46875 49.140625 6.21875 \nQ 49.703125 2.984375 51.375 0 \nL 42.1875 0 \nQ 40.828125 2.734375 40.4375 6.390625 \nz\nM 39.703125 26.03125 \nQ 34.90625 24.078125 25.34375 22.703125 \nQ 19.921875 21.921875 17.671875 20.9375 \nQ 15.4375 19.96875 14.203125 18.09375 \nQ 12.984375 16.21875 12.984375 13.921875 \nQ 12.984375 10.40625 15.640625 8.0625 \nQ 18.3125 5.71875 23.4375 5.71875 \nQ 28.515625 5.71875 32.46875 7.9375 \nQ 36.421875 10.15625 38.28125 14.015625 \nQ 39.703125 17 39.703125 22.796875 \nz\n\" id=\"ArialMT-97\"/>\n       <path d=\"M 6.59375 0 \nL 6.59375 51.859375 \nL 14.5 51.859375 \nL 14.5 44.484375 \nQ 20.21875 53.03125 31 53.03125 \nQ 35.6875 53.03125 39.625 51.34375 \nQ 43.5625 49.65625 45.515625 46.921875 \nQ 47.46875 44.1875 48.25 40.4375 \nQ 48.734375 37.984375 48.734375 31.890625 \nL 48.734375 0 \nL 39.9375 0 \nL 39.9375 31.546875 \nQ 39.9375 36.921875 38.90625 39.578125 \nQ 37.890625 42.234375 35.28125 43.8125 \nQ 32.671875 45.40625 29.15625 45.40625 \nQ 23.53125 45.40625 19.453125 41.84375 \nQ 15.375 38.28125 15.375 28.328125 \nL 15.375 0 \nz\n\" id=\"ArialMT-110\"/>\n       <path d=\"M 4.984375 -4.296875 \nL 13.53125 -5.5625 \nQ 14.0625 -9.515625 16.5 -11.328125 \nQ 19.78125 -13.765625 25.4375 -13.765625 \nQ 31.546875 -13.765625 34.859375 -11.328125 \nQ 38.1875 -8.890625 39.359375 -4.5 \nQ 40.046875 -1.8125 39.984375 6.78125 \nQ 34.234375 0 25.640625 0 \nQ 14.9375 0 9.078125 7.71875 \nQ 3.21875 15.4375 3.21875 26.21875 \nQ 3.21875 33.640625 5.90625 39.90625 \nQ 8.59375 46.1875 13.6875 49.609375 \nQ 18.796875 53.03125 25.6875 53.03125 \nQ 34.859375 53.03125 40.828125 45.609375 \nL 40.828125 51.859375 \nL 48.921875 51.859375 \nL 48.921875 7.03125 \nQ 48.921875 -5.078125 46.453125 -10.125 \nQ 44 -15.1875 38.640625 -18.109375 \nQ 33.296875 -21.046875 25.484375 -21.046875 \nQ 16.21875 -21.046875 10.5 -16.875 \nQ 4.78125 -12.703125 4.984375 -4.296875 \nz\nM 12.25 26.859375 \nQ 12.25 16.65625 16.296875 11.96875 \nQ 20.359375 7.28125 26.46875 7.28125 \nQ 32.515625 7.28125 36.609375 11.9375 \nQ 40.71875 16.609375 40.71875 26.5625 \nQ 40.71875 36.078125 36.5 40.90625 \nQ 32.28125 45.75 26.3125 45.75 \nQ 20.453125 45.75 16.34375 40.984375 \nQ 12.25 36.234375 12.25 26.859375 \nz\n\" id=\"ArialMT-103\"/>\n      </defs>\n      <use xlink:href=\"#ArialMT-101\"/>\n      <use x=\"55.615234\" xlink:href=\"#ArialMT-120\"/>\n      <use x=\"105.615234\" xlink:href=\"#ArialMT-97\"/>\n      <use x=\"161.230469\" xlink:href=\"#ArialMT-110\"/>\n      <use x=\"216.845703\" xlink:href=\"#ArialMT-103\"/>\n     </g>\n    </g>\n   </g>\n   <g id=\"matplotlib.axis_2\">\n    <g id=\"ytick_1\">\n     <g id=\"line2d_5\">\n      <path clip-path=\"url(#p2731d0b651)\" d=\"M 42.159844 320.62875 \nL 488.559844 320.62875 \n\" style=\"fill:none;stroke:#ffffff;stroke-linecap:round;\"/>\n     </g>\n     <g id=\"line2d_6\"/>\n     <g id=\"text_4\">\n      <!-- 0.0 -->\n      <g style=\"fill:#262626;\" transform=\"translate(21.259844 324.207656)scale(0.1 -0.1)\">\n       <defs>\n        <path d=\"M 9.078125 0 \nL 9.078125 10.015625 \nL 19.09375 10.015625 \nL 19.09375 0 \nz\n\" id=\"ArialMT-46\"/>\n       </defs>\n       <use xlink:href=\"#ArialMT-48\"/>\n       <use x=\"55.615234\" xlink:href=\"#ArialMT-46\"/>\n       <use x=\"83.398438\" xlink:href=\"#ArialMT-48\"/>\n      </g>\n     </g>\n    </g>\n    <g id=\"ytick_2\">\n     <g id=\"line2d_7\">\n      <path clip-path=\"url(#p2731d0b651)\" d=\"M 42.159844 279.72203 \nL 488.559844 279.72203 \n\" style=\"fill:none;stroke:#ffffff;stroke-linecap:round;\"/>\n     </g>\n     <g id=\"line2d_8\"/>\n     <g id=\"text_5\">\n      <!-- 0.1 -->\n      <g style=\"fill:#262626;\" transform=\"translate(21.259844 283.300936)scale(0.1 -0.1)\">\n       <use xlink:href=\"#ArialMT-48\"/>\n       <use x=\"55.615234\" xlink:href=\"#ArialMT-46\"/>\n       <use x=\"83.398438\" xlink:href=\"#ArialMT-49\"/>\n      </g>\n     </g>\n    </g>\n    <g id=\"ytick_3\">\n     <g id=\"line2d_9\">\n      <path clip-path=\"url(#p2731d0b651)\" d=\"M 42.159844 238.815309 \nL 488.559844 238.815309 \n\" style=\"fill:none;stroke:#ffffff;stroke-linecap:round;\"/>\n     </g>\n     <g id=\"line2d_10\"/>\n     <g id=\"text_6\">\n      <!-- 0.2 -->\n      <g style=\"fill:#262626;\" transform=\"translate(21.259844 242.394216)scale(0.1 -0.1)\">\n       <defs>\n        <path d=\"M 50.34375 8.453125 \nL 50.34375 0 \nL 3.03125 0 \nQ 2.9375 3.171875 4.046875 6.109375 \nQ 5.859375 10.9375 9.828125 15.625 \nQ 13.8125 20.3125 21.34375 26.46875 \nQ 33.015625 36.03125 37.109375 41.625 \nQ 41.21875 47.21875 41.21875 52.203125 \nQ 41.21875 57.421875 37.46875 61 \nQ 33.734375 64.59375 27.734375 64.59375 \nQ 21.390625 64.59375 17.578125 60.78125 \nQ 13.765625 56.984375 13.71875 50.25 \nL 4.6875 51.171875 \nQ 5.609375 61.28125 11.65625 66.578125 \nQ 17.71875 71.875 27.9375 71.875 \nQ 38.234375 71.875 44.234375 66.15625 \nQ 50.25 60.453125 50.25 52 \nQ 50.25 47.703125 48.484375 43.546875 \nQ 46.734375 39.40625 42.65625 34.8125 \nQ 38.578125 30.21875 29.109375 22.21875 \nQ 21.1875 15.578125 18.9375 13.203125 \nQ 16.703125 10.84375 15.234375 8.453125 \nz\n\" id=\"ArialMT-50\"/>\n       </defs>\n       <use xlink:href=\"#ArialMT-48\"/>\n       <use x=\"55.615234\" xlink:href=\"#ArialMT-46\"/>\n       <use x=\"83.398438\" xlink:href=\"#ArialMT-50\"/>\n      </g>\n     </g>\n    </g>\n    <g id=\"ytick_4\">\n     <g id=\"line2d_11\">\n      <path clip-path=\"url(#p2731d0b651)\" d=\"M 42.159844 197.908589 \nL 488.559844 197.908589 \n\" style=\"fill:none;stroke:#ffffff;stroke-linecap:round;\"/>\n     </g>\n     <g id=\"line2d_12\"/>\n     <g id=\"text_7\">\n      <!-- 0.3 -->\n      <g style=\"fill:#262626;\" transform=\"translate(21.259844 201.487495)scale(0.1 -0.1)\">\n       <defs>\n        <path d=\"M 4.203125 18.890625 \nL 12.984375 20.0625 \nQ 14.5 12.59375 18.140625 9.296875 \nQ 21.78125 6 27 6 \nQ 33.203125 6 37.46875 10.296875 \nQ 41.75 14.59375 41.75 20.953125 \nQ 41.75 27 37.796875 30.921875 \nQ 33.84375 34.859375 27.734375 34.859375 \nQ 25.25 34.859375 21.53125 33.890625 \nL 22.515625 41.609375 \nQ 23.390625 41.5 23.921875 41.5 \nQ 29.546875 41.5 34.03125 44.421875 \nQ 38.53125 47.359375 38.53125 53.46875 \nQ 38.53125 58.296875 35.25 61.46875 \nQ 31.984375 64.65625 26.8125 64.65625 \nQ 21.6875 64.65625 18.265625 61.421875 \nQ 14.84375 58.203125 13.875 51.765625 \nL 5.078125 53.328125 \nQ 6.6875 62.15625 12.390625 67.015625 \nQ 18.109375 71.875 26.609375 71.875 \nQ 32.46875 71.875 37.390625 69.359375 \nQ 42.328125 66.84375 44.9375 62.5 \nQ 47.5625 58.15625 47.5625 53.265625 \nQ 47.5625 48.640625 45.0625 44.828125 \nQ 42.578125 41.015625 37.703125 38.765625 \nQ 44.046875 37.3125 47.5625 32.6875 \nQ 51.078125 28.078125 51.078125 21.140625 \nQ 51.078125 11.765625 44.234375 5.25 \nQ 37.40625 -1.265625 26.953125 -1.265625 \nQ 17.53125 -1.265625 11.296875 4.34375 \nQ 5.078125 9.96875 4.203125 18.890625 \nz\n\" id=\"ArialMT-51\"/>\n       </defs>\n       <use xlink:href=\"#ArialMT-48\"/>\n       <use x=\"55.615234\" xlink:href=\"#ArialMT-46\"/>\n       <use x=\"83.398438\" xlink:href=\"#ArialMT-51\"/>\n      </g>\n     </g>\n    </g>\n    <g id=\"ytick_5\">\n     <g id=\"line2d_13\">\n      <path clip-path=\"url(#p2731d0b651)\" d=\"M 42.159844 157.001869 \nL 488.559844 157.001869 \n\" style=\"fill:none;stroke:#ffffff;stroke-linecap:round;\"/>\n     </g>\n     <g id=\"line2d_14\"/>\n     <g id=\"text_8\">\n      <!-- 0.4 -->\n      <g style=\"fill:#262626;\" transform=\"translate(21.259844 160.580775)scale(0.1 -0.1)\">\n       <defs>\n        <path d=\"M 32.328125 0 \nL 32.328125 17.140625 \nL 1.265625 17.140625 \nL 1.265625 25.203125 \nL 33.9375 71.578125 \nL 41.109375 71.578125 \nL 41.109375 25.203125 \nL 50.78125 25.203125 \nL 50.78125 17.140625 \nL 41.109375 17.140625 \nL 41.109375 0 \nz\nM 32.328125 25.203125 \nL 32.328125 57.46875 \nL 9.90625 25.203125 \nz\n\" id=\"ArialMT-52\"/>\n       </defs>\n       <use xlink:href=\"#ArialMT-48\"/>\n       <use x=\"55.615234\" xlink:href=\"#ArialMT-46\"/>\n       <use x=\"83.398438\" xlink:href=\"#ArialMT-52\"/>\n      </g>\n     </g>\n    </g>\n    <g id=\"ytick_6\">\n     <g id=\"line2d_15\">\n      <path clip-path=\"url(#p2731d0b651)\" d=\"M 42.159844 116.095148 \nL 488.559844 116.095148 \n\" style=\"fill:none;stroke:#ffffff;stroke-linecap:round;\"/>\n     </g>\n     <g id=\"line2d_16\"/>\n     <g id=\"text_9\">\n      <!-- 0.5 -->\n      <g style=\"fill:#262626;\" transform=\"translate(21.259844 119.674055)scale(0.1 -0.1)\">\n       <defs>\n        <path d=\"M 4.15625 18.75 \nL 13.375 19.53125 \nQ 14.40625 12.796875 18.140625 9.390625 \nQ 21.875 6 27.15625 6 \nQ 33.5 6 37.890625 10.78125 \nQ 42.28125 15.578125 42.28125 23.484375 \nQ 42.28125 31 38.0625 35.34375 \nQ 33.84375 39.703125 27 39.703125 \nQ 22.75 39.703125 19.328125 37.765625 \nQ 15.921875 35.84375 13.96875 32.765625 \nL 5.71875 33.84375 \nL 12.640625 70.609375 \nL 48.25 70.609375 \nL 48.25 62.203125 \nL 19.671875 62.203125 \nL 15.828125 42.96875 \nQ 22.265625 47.46875 29.34375 47.46875 \nQ 38.71875 47.46875 45.15625 40.96875 \nQ 51.609375 34.46875 51.609375 24.265625 \nQ 51.609375 14.546875 45.953125 7.46875 \nQ 39.0625 -1.21875 27.15625 -1.21875 \nQ 17.390625 -1.21875 11.203125 4.25 \nQ 5.03125 9.71875 4.15625 18.75 \nz\n\" id=\"ArialMT-53\"/>\n       </defs>\n       <use xlink:href=\"#ArialMT-48\"/>\n       <use x=\"55.615234\" xlink:href=\"#ArialMT-46\"/>\n       <use x=\"83.398438\" xlink:href=\"#ArialMT-53\"/>\n      </g>\n     </g>\n    </g>\n    <g id=\"ytick_7\">\n     <g id=\"line2d_17\">\n      <path clip-path=\"url(#p2731d0b651)\" d=\"M 42.159844 75.188428 \nL 488.559844 75.188428 \n\" style=\"fill:none;stroke:#ffffff;stroke-linecap:round;\"/>\n     </g>\n     <g id=\"line2d_18\"/>\n     <g id=\"text_10\">\n      <!-- 0.6 -->\n      <g style=\"fill:#262626;\" transform=\"translate(21.259844 78.767334)scale(0.1 -0.1)\">\n       <defs>\n        <path d=\"M 49.75 54.046875 \nL 41.015625 53.375 \nQ 39.84375 58.546875 37.703125 60.890625 \nQ 34.125 64.65625 28.90625 64.65625 \nQ 24.703125 64.65625 21.53125 62.3125 \nQ 17.390625 59.28125 14.984375 53.46875 \nQ 12.59375 47.65625 12.5 36.921875 \nQ 15.671875 41.75 20.265625 44.09375 \nQ 24.859375 46.4375 29.890625 46.4375 \nQ 38.671875 46.4375 44.84375 39.96875 \nQ 51.03125 33.5 51.03125 23.25 \nQ 51.03125 16.5 48.125 10.71875 \nQ 45.21875 4.9375 40.140625 1.859375 \nQ 35.0625 -1.21875 28.609375 -1.21875 \nQ 17.625 -1.21875 10.6875 6.859375 \nQ 3.765625 14.9375 3.765625 33.5 \nQ 3.765625 54.25 11.421875 63.671875 \nQ 18.109375 71.875 29.4375 71.875 \nQ 37.890625 71.875 43.28125 67.140625 \nQ 48.6875 62.40625 49.75 54.046875 \nz\nM 13.875 23.1875 \nQ 13.875 18.65625 15.796875 14.5 \nQ 17.71875 10.359375 21.1875 8.171875 \nQ 24.65625 6 28.46875 6 \nQ 34.03125 6 38.03125 10.484375 \nQ 42.046875 14.984375 42.046875 22.703125 \nQ 42.046875 30.125 38.078125 34.390625 \nQ 34.125 38.671875 28.125 38.671875 \nQ 22.171875 38.671875 18.015625 34.390625 \nQ 13.875 30.125 13.875 23.1875 \nz\n\" id=\"ArialMT-54\"/>\n       </defs>\n       <use xlink:href=\"#ArialMT-48\"/>\n       <use x=\"55.615234\" xlink:href=\"#ArialMT-46\"/>\n       <use x=\"83.398438\" xlink:href=\"#ArialMT-54\"/>\n      </g>\n     </g>\n    </g>\n    <g id=\"ytick_8\">\n     <g id=\"line2d_19\">\n      <path clip-path=\"url(#p2731d0b651)\" d=\"M 42.159844 34.281708 \nL 488.559844 34.281708 \n\" style=\"fill:none;stroke:#ffffff;stroke-linecap:round;\"/>\n     </g>\n     <g id=\"line2d_20\"/>\n     <g id=\"text_11\">\n      <!-- 0.7 -->\n      <g style=\"fill:#262626;\" transform=\"translate(21.259844 37.860614)scale(0.1 -0.1)\">\n       <defs>\n        <path d=\"M 4.734375 62.203125 \nL 4.734375 70.65625 \nL 51.078125 70.65625 \nL 51.078125 63.8125 \nQ 44.234375 56.546875 37.515625 44.484375 \nQ 30.8125 32.421875 27.15625 19.671875 \nQ 24.515625 10.6875 23.78125 0 \nL 14.75 0 \nQ 14.890625 8.453125 18.0625 20.40625 \nQ 21.234375 32.375 27.171875 43.484375 \nQ 33.109375 54.59375 39.796875 62.203125 \nz\n\" id=\"ArialMT-55\"/>\n       </defs>\n       <use xlink:href=\"#ArialMT-48\"/>\n       <use x=\"55.615234\" xlink:href=\"#ArialMT-46\"/>\n       <use x=\"83.398438\" xlink:href=\"#ArialMT-55\"/>\n      </g>\n     </g>\n    </g>\n    <g id=\"text_12\">\n     <!-- % of Heart Disease -->\n     <g style=\"fill:#262626;\" transform=\"translate(15.073594 218.517812)rotate(-90)scale(0.11 -0.11)\">\n      <defs>\n       <path d=\"M 5.8125 54.390625 \nQ 5.8125 62.0625 9.671875 67.421875 \nQ 13.53125 72.796875 20.84375 72.796875 \nQ 27.59375 72.796875 32 67.984375 \nQ 36.421875 63.1875 36.421875 53.859375 \nQ 36.421875 44.78125 31.953125 39.875 \nQ 27.484375 34.96875 20.953125 34.96875 \nQ 14.453125 34.96875 10.125 39.796875 \nQ 5.8125 44.625 5.8125 54.390625 \nz\nM 21.09375 66.75 \nQ 17.828125 66.75 15.65625 63.90625 \nQ 13.484375 61.078125 13.484375 53.515625 \nQ 13.484375 46.625 15.671875 43.8125 \nQ 17.875 41.015625 21.09375 41.015625 \nQ 24.421875 41.015625 26.59375 43.84375 \nQ 28.765625 46.6875 28.765625 54.203125 \nQ 28.765625 61.140625 26.5625 63.9375 \nQ 24.359375 66.75 21.09375 66.75 \nz\nM 21.140625 -2.640625 \nL 60.296875 72.796875 \nL 67.4375 72.796875 \nL 28.421875 -2.640625 \nz\nM 52.09375 16.796875 \nQ 52.09375 24.515625 55.953125 29.859375 \nQ 59.8125 35.203125 67.1875 35.203125 \nQ 73.921875 35.203125 78.34375 30.390625 \nQ 82.765625 25.59375 82.765625 16.265625 \nQ 82.765625 7.171875 78.296875 2.265625 \nQ 73.828125 -2.640625 67.234375 -2.640625 \nQ 60.75 -2.640625 56.421875 2.21875 \nQ 52.09375 7.078125 52.09375 16.796875 \nz\nM 67.4375 29.15625 \nQ 64.109375 29.15625 61.9375 26.3125 \nQ 59.765625 23.484375 59.765625 15.921875 \nQ 59.765625 9.078125 61.953125 6.25 \nQ 64.15625 3.421875 67.390625 3.421875 \nQ 70.75 3.421875 72.921875 6.25 \nQ 75.09375 9.078125 75.09375 16.609375 \nQ 75.09375 23.53125 72.890625 26.34375 \nQ 70.703125 29.15625 67.4375 29.15625 \nz\n\" id=\"ArialMT-37\"/>\n       <path id=\"ArialMT-32\"/>\n       <path d=\"M 3.328125 25.921875 \nQ 3.328125 40.328125 11.328125 47.265625 \nQ 18.015625 53.03125 27.640625 53.03125 \nQ 38.328125 53.03125 45.109375 46.015625 \nQ 51.90625 39.015625 51.90625 26.65625 \nQ 51.90625 16.65625 48.90625 10.90625 \nQ 45.90625 5.171875 40.15625 2 \nQ 34.421875 -1.171875 27.640625 -1.171875 \nQ 16.75 -1.171875 10.03125 5.8125 \nQ 3.328125 12.796875 3.328125 25.921875 \nz\nM 12.359375 25.921875 \nQ 12.359375 15.96875 16.703125 11.015625 \nQ 21.046875 6.0625 27.640625 6.0625 \nQ 34.1875 6.0625 38.53125 11.03125 \nQ 42.875 16.015625 42.875 26.21875 \nQ 42.875 35.84375 38.5 40.796875 \nQ 34.125 45.75 27.640625 45.75 \nQ 21.046875 45.75 16.703125 40.8125 \nQ 12.359375 35.890625 12.359375 25.921875 \nz\n\" id=\"ArialMT-111\"/>\n       <path d=\"M 8.6875 0 \nL 8.6875 45.015625 \nL 0.921875 45.015625 \nL 0.921875 51.859375 \nL 8.6875 51.859375 \nL 8.6875 57.375 \nQ 8.6875 62.59375 9.625 65.140625 \nQ 10.890625 68.5625 14.078125 70.671875 \nQ 17.28125 72.796875 23.046875 72.796875 \nQ 26.765625 72.796875 31.25 71.921875 \nL 29.9375 64.265625 \nQ 27.203125 64.75 24.75 64.75 \nQ 20.75 64.75 19.09375 63.03125 \nQ 17.4375 61.328125 17.4375 56.640625 \nL 17.4375 51.859375 \nL 27.546875 51.859375 \nL 27.546875 45.015625 \nL 17.4375 45.015625 \nL 17.4375 0 \nz\n\" id=\"ArialMT-102\"/>\n       <path d=\"M 8.015625 0 \nL 8.015625 71.578125 \nL 17.484375 71.578125 \nL 17.484375 42.1875 \nL 54.6875 42.1875 \nL 54.6875 71.578125 \nL 64.15625 71.578125 \nL 64.15625 0 \nL 54.6875 0 \nL 54.6875 33.734375 \nL 17.484375 33.734375 \nL 17.484375 0 \nz\n\" id=\"ArialMT-72\"/>\n       <path d=\"M 6.5 0 \nL 6.5 51.859375 \nL 14.40625 51.859375 \nL 14.40625 44 \nQ 17.4375 49.515625 20 51.265625 \nQ 22.5625 53.03125 25.640625 53.03125 \nQ 30.078125 53.03125 34.671875 50.203125 \nL 31.640625 42.046875 \nQ 28.421875 43.953125 25.203125 43.953125 \nQ 22.3125 43.953125 20.015625 42.21875 \nQ 17.71875 40.484375 16.75 37.40625 \nQ 15.28125 32.71875 15.28125 27.15625 \nL 15.28125 0 \nz\n\" id=\"ArialMT-114\"/>\n       <path d=\"M 25.78125 7.859375 \nL 27.046875 0.09375 \nQ 23.34375 -0.6875 20.40625 -0.6875 \nQ 15.625 -0.6875 12.984375 0.828125 \nQ 10.359375 2.34375 9.28125 4.8125 \nQ 8.203125 7.28125 8.203125 15.1875 \nL 8.203125 45.015625 \nL 1.765625 45.015625 \nL 1.765625 51.859375 \nL 8.203125 51.859375 \nL 8.203125 64.703125 \nL 16.9375 69.96875 \nL 16.9375 51.859375 \nL 25.78125 51.859375 \nL 25.78125 45.015625 \nL 16.9375 45.015625 \nL 16.9375 14.703125 \nQ 16.9375 10.9375 17.40625 9.859375 \nQ 17.875 8.796875 18.921875 8.15625 \nQ 19.96875 7.515625 21.921875 7.515625 \nQ 23.390625 7.515625 25.78125 7.859375 \nz\n\" id=\"ArialMT-116\"/>\n       <path d=\"M 7.71875 0 \nL 7.71875 71.578125 \nL 32.375 71.578125 \nQ 40.71875 71.578125 45.125 70.5625 \nQ 51.265625 69.140625 55.609375 65.4375 \nQ 61.28125 60.640625 64.078125 53.1875 \nQ 66.890625 45.75 66.890625 36.1875 \nQ 66.890625 28.03125 64.984375 21.734375 \nQ 63.09375 15.4375 60.109375 11.296875 \nQ 57.125 7.171875 53.578125 4.796875 \nQ 50.046875 2.4375 45.046875 1.21875 \nQ 40.046875 0 33.546875 0 \nz\nM 17.1875 8.453125 \nL 32.46875 8.453125 \nQ 39.546875 8.453125 43.578125 9.765625 \nQ 47.609375 11.078125 50 13.484375 \nQ 53.375 16.84375 55.25 22.53125 \nQ 57.125 28.21875 57.125 36.328125 \nQ 57.125 47.5625 53.4375 53.59375 \nQ 49.75 59.625 44.484375 61.671875 \nQ 40.671875 63.140625 32.234375 63.140625 \nL 17.1875 63.140625 \nz\n\" id=\"ArialMT-68\"/>\n       <path d=\"M 6.640625 61.46875 \nL 6.640625 71.578125 \nL 15.4375 71.578125 \nL 15.4375 61.46875 \nz\nM 6.640625 0 \nL 6.640625 51.859375 \nL 15.4375 51.859375 \nL 15.4375 0 \nz\n\" id=\"ArialMT-105\"/>\n       <path d=\"M 3.078125 15.484375 \nL 11.765625 16.84375 \nQ 12.5 11.625 15.84375 8.84375 \nQ 19.1875 6.0625 25.203125 6.0625 \nQ 31.25 6.0625 34.171875 8.515625 \nQ 37.109375 10.984375 37.109375 14.3125 \nQ 37.109375 17.28125 34.515625 19 \nQ 32.71875 20.171875 25.53125 21.96875 \nQ 15.875 24.421875 12.140625 26.203125 \nQ 8.40625 27.984375 6.46875 31.125 \nQ 4.546875 34.28125 4.546875 38.09375 \nQ 4.546875 41.546875 6.125 44.5 \nQ 7.71875 47.46875 10.453125 49.421875 \nQ 12.5 50.921875 16.03125 51.96875 \nQ 19.578125 53.03125 23.640625 53.03125 \nQ 29.734375 53.03125 34.34375 51.265625 \nQ 38.96875 49.515625 41.15625 46.5 \nQ 43.359375 43.5 44.1875 38.484375 \nL 35.59375 37.3125 \nQ 35.015625 41.3125 32.203125 43.546875 \nQ 29.390625 45.796875 24.265625 45.796875 \nQ 18.21875 45.796875 15.625 43.796875 \nQ 13.03125 41.796875 13.03125 39.109375 \nQ 13.03125 37.40625 14.109375 36.03125 \nQ 15.1875 34.625 17.484375 33.6875 \nQ 18.796875 33.203125 25.25 31.453125 \nQ 34.578125 28.953125 38.25 27.359375 \nQ 41.9375 25.78125 44.03125 22.75 \nQ 46.140625 19.734375 46.140625 15.234375 \nQ 46.140625 10.84375 43.578125 6.953125 \nQ 41.015625 3.078125 36.171875 0.953125 \nQ 31.34375 -1.171875 25.25 -1.171875 \nQ 15.140625 -1.171875 9.84375 3.03125 \nQ 4.546875 7.234375 3.078125 15.484375 \nz\n\" id=\"ArialMT-115\"/>\n      </defs>\n      <use xlink:href=\"#ArialMT-37\"/>\n      <use x=\"88.916016\" xlink:href=\"#ArialMT-32\"/>\n      <use x=\"116.699219\" xlink:href=\"#ArialMT-111\"/>\n      <use x=\"172.314453\" xlink:href=\"#ArialMT-102\"/>\n      <use x=\"200.097656\" xlink:href=\"#ArialMT-32\"/>\n      <use x=\"227.880859\" xlink:href=\"#ArialMT-72\"/>\n      <use x=\"300.097656\" xlink:href=\"#ArialMT-101\"/>\n      <use x=\"355.712891\" xlink:href=\"#ArialMT-97\"/>\n      <use x=\"411.328125\" xlink:href=\"#ArialMT-114\"/>\n      <use x=\"444.628906\" xlink:href=\"#ArialMT-116\"/>\n      <use x=\"472.412109\" xlink:href=\"#ArialMT-32\"/>\n      <use x=\"500.195312\" xlink:href=\"#ArialMT-68\"/>\n      <use x=\"572.412109\" xlink:href=\"#ArialMT-105\"/>\n      <use x=\"594.628906\" xlink:href=\"#ArialMT-115\"/>\n      <use x=\"644.628906\" xlink:href=\"#ArialMT-101\"/>\n      <use x=\"700.244141\" xlink:href=\"#ArialMT-97\"/>\n      <use x=\"755.859375\" xlink:href=\"#ArialMT-115\"/>\n      <use x=\"805.859375\" xlink:href=\"#ArialMT-101\"/>\n     </g>\n    </g>\n   </g>\n   <g id=\"patch_3\">\n    <path clip-path=\"url(#p2731d0b651)\" d=\"M 62.450753 320.62875 \nL 242.814389 320.62875 \nL 242.814389 35.885893 \nL 62.450753 35.885893 \nz\n\" style=\"fill:#4c72b0;\"/>\n   </g>\n   <g id=\"patch_4\">\n    <path clip-path=\"url(#p2731d0b651)\" d=\"M 287.905298 320.62875 \nL 468.268935 320.62875 \nL 468.268935 225.592935 \nL 287.905298 225.592935 \nz\n\" style=\"fill:#4c72b0;\"/>\n   </g>\n   <g id=\"patch_5\">\n    <path d=\"M 42.159844 320.62875 \nL 42.159844 21.64875 \n\" style=\"fill:none;\"/>\n   </g>\n   <g id=\"patch_6\">\n    <path d=\"M 488.559844 320.62875 \nL 488.559844 21.64875 \n\" style=\"fill:none;\"/>\n   </g>\n   <g id=\"patch_7\">\n    <path d=\"M 42.159844 320.62875 \nL 488.559844 320.62875 \n\" style=\"fill:none;\"/>\n   </g>\n   <g id=\"patch_8\">\n    <path d=\"M 42.159844 21.64875 \nL 488.559844 21.64875 \n\" style=\"fill:none;\"/>\n   </g>\n   <g id=\"text_13\">\n    <!-- exang -->\n    <g style=\"fill:#262626;\" transform=\"translate(249.013594 15.64875)scale(0.12 -0.12)\">\n     <use xlink:href=\"#ArialMT-101\"/>\n     <use x=\"55.615234\" xlink:href=\"#ArialMT-120\"/>\n     <use x=\"105.615234\" xlink:href=\"#ArialMT-97\"/>\n     <use x=\"161.230469\" xlink:href=\"#ArialMT-110\"/>\n     <use x=\"216.845703\" xlink:href=\"#ArialMT-103\"/>\n    </g>\n   </g>\n  </g>\n </g>\n <defs>\n  <clipPath id=\"p2731d0b651\">\n   <rect height=\"298.98\" width=\"446.4\" x=\"42.159844\" y=\"21.64875\"/>\n  </clipPath>\n </defs>\n</svg>\n",
      "image/png": "[encoded data removed]"
     },
     "metadata": {}
    }
   ],
   "source": [
    "fig = plt.figure()\n",
    "\n",
    "ax = fig.add_subplot(111)\n",
    "ax_y = df.groupby(x)[\"target\"].value_counts(normalize=True)[:, 1]\n",
    "ax_x = [\"0\", \"1\"]\n",
    "ax.bar(ax_x, ax_y)\n",
    "ax.set(title=x, xlabel=x, ylabel=\"% of Heart Disease\")"
   ]
  },
  {
   "cell_type": "markdown",
   "metadata": {},
   "source": [
    "#### slope"
   ]
  },
  {
   "cell_type": "code",
   "execution_count": 30,
   "metadata": {},
   "outputs": [],
   "source": [
    "x = \"slope\""
   ]
  },
  {
   "cell_type": "code",
   "execution_count": 31,
   "metadata": {},
   "outputs": [
    {
     "output_type": "execute_result",
     "data": {
      "text/plain": [
       "2    0.468647\n",
       "1    0.462046\n",
       "0    0.069307\n",
       "Name: slope, dtype: float64"
      ]
     },
     "metadata": {},
     "execution_count": 31
    }
   ],
   "source": [
    "df[x].value_counts(normalize=True)"
   ]
  },
  {
   "cell_type": "code",
   "execution_count": 32,
   "metadata": {},
   "outputs": [
    {
     "output_type": "execute_result",
     "data": {
      "text/plain": [
       "0"
      ]
     },
     "metadata": {},
     "execution_count": 32
    }
   ],
   "source": [
    "df[x].isnull().sum()"
   ]
  },
  {
   "cell_type": "code",
   "execution_count": 33,
   "metadata": {},
   "outputs": [
    {
     "output_type": "execute_result",
     "data": {
      "text/plain": [
       "[Text(0.5, 1.0, 'slope'),\n",
       " Text(0.5, 0, 'slope'),\n",
       " Text(0, 0.5, '% of Heart Disease')]"
      ]
     },
     "metadata": {},
     "execution_count": 33
    },
    {
     "output_type": "display_data",
     "data": {
      "text/plain": "<Figure size 576x396 with 1 Axes>",
      "image/svg+xml": "<?xml version=\"1.0\" encoding=\"utf-8\" standalone=\"no\"?>\n<!DOCTYPE svg PUBLIC \"-//W3C//DTD SVG 1.1//EN\"\n  \"http://www.w3.org/Graphics/SVG/1.1/DTD/svg11.dtd\">\n<!-- Created with matplotlib (https://matplotlib.org/) -->\n<svg height=\"358.174531pt\" version=\"1.1\" viewBox=\"0 0 495.759844 358.174531\" width=\"495.759844pt\" xmlns=\"http://www.w3.org/2000/svg\" xmlns:xlink=\"http://www.w3.org/1999/xlink\">\n <metadata>\n  <rdf:RDF xmlns:cc=\"http://creativecommons.org/ns#\" xmlns:dc=\"http://purl.org/dc/elements/1.1/\" xmlns:rdf=\"http://www.w3.org/1999/02/22-rdf-syntax-ns#\">\n   <cc:Work>\n    <dc:type rdf:resource=\"http://purl.org/dc/dcmitype/StillImage\"/>\n    <dc:date>2021-07-03T16:39:21.831880</dc:date>\n    <dc:format>image/svg+xml</dc:format>\n    <dc:creator>\n     <cc:Agent>\n      <dc:title>Matplotlib v3.3.3, https://matplotlib.org/</dc:title>\n     </cc:Agent>\n    </dc:creator>\n   </cc:Work>\n  </rdf:RDF>\n </metadata>\n <defs>\n  <style type=\"text/css\">*{stroke-linecap:butt;stroke-linejoin:round;}</style>\n </defs>\n <g id=\"figure_1\">\n  <g id=\"patch_1\">\n   <path d=\"M 0 358.174531 \nL 495.759844 358.174531 \nL 495.759844 0 \nL 0 0 \nz\n\" style=\"fill:#ffffff;\"/>\n  </g>\n  <g id=\"axes_1\">\n   <g id=\"patch_2\">\n    <path d=\"M 42.159844 320.769375 \nL 488.559844 320.769375 \nL 488.559844 21.789375 \nL 42.159844 21.789375 \nz\n\" style=\"fill:#eaeaf2;\"/>\n   </g>\n   <g id=\"matplotlib.axis_1\">\n    <g id=\"xtick_1\">\n     <g id=\"line2d_1\">\n      <path clip-path=\"url(#peb51b45ccb)\" d=\"M 120.424779 320.769375 \nL 120.424779 21.789375 \n\" style=\"fill:none;stroke:#ffffff;stroke-linecap:round;\"/>\n     </g>\n     <g id=\"line2d_2\"/>\n     <g id=\"text_1\">\n      <!-- 0 -->\n      <g style=\"fill:#262626;\" transform=\"translate(117.64431 334.927187)scale(0.1 -0.1)\">\n       <defs>\n        <path d=\"M 4.15625 35.296875 \nQ 4.15625 48 6.765625 55.734375 \nQ 9.375 63.484375 14.515625 67.671875 \nQ 19.671875 71.875 27.484375 71.875 \nQ 33.25 71.875 37.59375 69.546875 \nQ 41.9375 67.234375 44.765625 62.859375 \nQ 47.609375 58.5 49.21875 52.21875 \nQ 50.828125 45.953125 50.828125 35.296875 \nQ 50.828125 22.703125 48.234375 14.96875 \nQ 45.65625 7.234375 40.5 3 \nQ 35.359375 -1.21875 27.484375 -1.21875 \nQ 17.140625 -1.21875 11.234375 6.203125 \nQ 4.15625 15.140625 4.15625 35.296875 \nz\nM 13.1875 35.296875 \nQ 13.1875 17.671875 17.3125 11.828125 \nQ 21.4375 6 27.484375 6 \nQ 33.546875 6 37.671875 11.859375 \nQ 41.796875 17.71875 41.796875 35.296875 \nQ 41.796875 52.984375 37.671875 58.78125 \nQ 33.546875 64.59375 27.390625 64.59375 \nQ 21.34375 64.59375 17.71875 59.46875 \nQ 13.1875 52.9375 13.1875 35.296875 \nz\n\" id=\"ArialMT-48\"/>\n       </defs>\n       <use xlink:href=\"#ArialMT-48\"/>\n      </g>\n     </g>\n    </g>\n    <g id=\"xtick_2\">\n     <g id=\"line2d_3\">\n      <path clip-path=\"url(#peb51b45ccb)\" d=\"M 265.359844 320.769375 \nL 265.359844 21.789375 \n\" style=\"fill:none;stroke:#ffffff;stroke-linecap:round;\"/>\n     </g>\n     <g id=\"line2d_4\"/>\n     <g id=\"text_2\">\n      <!-- 1 -->\n      <g style=\"fill:#262626;\" transform=\"translate(262.579375 334.927187)scale(0.1 -0.1)\">\n       <defs>\n        <path d=\"M 37.25 0 \nL 28.46875 0 \nL 28.46875 56 \nQ 25.296875 52.984375 20.140625 49.953125 \nQ 14.984375 46.921875 10.890625 45.40625 \nL 10.890625 53.90625 \nQ 18.265625 57.375 23.78125 62.296875 \nQ 29.296875 67.234375 31.59375 71.875 \nL 37.25 71.875 \nz\n\" id=\"ArialMT-49\"/>\n       </defs>\n       <use xlink:href=\"#ArialMT-49\"/>\n      </g>\n     </g>\n    </g>\n    <g id=\"xtick_3\">\n     <g id=\"line2d_5\">\n      <path clip-path=\"url(#peb51b45ccb)\" d=\"M 410.294909 320.769375 \nL 410.294909 21.789375 \n\" style=\"fill:none;stroke:#ffffff;stroke-linecap:round;\"/>\n     </g>\n     <g id=\"line2d_6\"/>\n     <g id=\"text_3\">\n      <!-- 2 -->\n      <g style=\"fill:#262626;\" transform=\"translate(407.51444 334.927187)scale(0.1 -0.1)\">\n       <defs>\n        <path d=\"M 50.34375 8.453125 \nL 50.34375 0 \nL 3.03125 0 \nQ 2.9375 3.171875 4.046875 6.109375 \nQ 5.859375 10.9375 9.828125 15.625 \nQ 13.8125 20.3125 21.34375 26.46875 \nQ 33.015625 36.03125 37.109375 41.625 \nQ 41.21875 47.21875 41.21875 52.203125 \nQ 41.21875 57.421875 37.46875 61 \nQ 33.734375 64.59375 27.734375 64.59375 \nQ 21.390625 64.59375 17.578125 60.78125 \nQ 13.765625 56.984375 13.71875 50.25 \nL 4.6875 51.171875 \nQ 5.609375 61.28125 11.65625 66.578125 \nQ 17.71875 71.875 27.9375 71.875 \nQ 38.234375 71.875 44.234375 66.15625 \nQ 50.25 60.453125 50.25 52 \nQ 50.25 47.703125 48.484375 43.546875 \nQ 46.734375 39.40625 42.65625 34.8125 \nQ 38.578125 30.21875 29.109375 22.21875 \nQ 21.1875 15.578125 18.9375 13.203125 \nQ 16.703125 10.84375 15.234375 8.453125 \nz\n\" id=\"ArialMT-50\"/>\n       </defs>\n       <use xlink:href=\"#ArialMT-50\"/>\n      </g>\n     </g>\n    </g>\n    <g id=\"text_4\">\n     <!-- slope -->\n     <g style=\"fill:#262626;\" transform=\"translate(252.212266 348.788281)scale(0.11 -0.11)\">\n      <defs>\n       <path d=\"M 3.078125 15.484375 \nL 11.765625 16.84375 \nQ 12.5 11.625 15.84375 8.84375 \nQ 19.1875 6.0625 25.203125 6.0625 \nQ 31.25 6.0625 34.171875 8.515625 \nQ 37.109375 10.984375 37.109375 14.3125 \nQ 37.109375 17.28125 34.515625 19 \nQ 32.71875 20.171875 25.53125 21.96875 \nQ 15.875 24.421875 12.140625 26.203125 \nQ 8.40625 27.984375 6.46875 31.125 \nQ 4.546875 34.28125 4.546875 38.09375 \nQ 4.546875 41.546875 6.125 44.5 \nQ 7.71875 47.46875 10.453125 49.421875 \nQ 12.5 50.921875 16.03125 51.96875 \nQ 19.578125 53.03125 23.640625 53.03125 \nQ 29.734375 53.03125 34.34375 51.265625 \nQ 38.96875 49.515625 41.15625 46.5 \nQ 43.359375 43.5 44.1875 38.484375 \nL 35.59375 37.3125 \nQ 35.015625 41.3125 32.203125 43.546875 \nQ 29.390625 45.796875 24.265625 45.796875 \nQ 18.21875 45.796875 15.625 43.796875 \nQ 13.03125 41.796875 13.03125 39.109375 \nQ 13.03125 37.40625 14.109375 36.03125 \nQ 15.1875 34.625 17.484375 33.6875 \nQ 18.796875 33.203125 25.25 31.453125 \nQ 34.578125 28.953125 38.25 27.359375 \nQ 41.9375 25.78125 44.03125 22.75 \nQ 46.140625 19.734375 46.140625 15.234375 \nQ 46.140625 10.84375 43.578125 6.953125 \nQ 41.015625 3.078125 36.171875 0.953125 \nQ 31.34375 -1.171875 25.25 -1.171875 \nQ 15.140625 -1.171875 9.84375 3.03125 \nQ 4.546875 7.234375 3.078125 15.484375 \nz\n\" id=\"ArialMT-115\"/>\n       <path d=\"M 6.390625 0 \nL 6.390625 71.578125 \nL 15.1875 71.578125 \nL 15.1875 0 \nz\n\" id=\"ArialMT-108\"/>\n       <path d=\"M 3.328125 25.921875 \nQ 3.328125 40.328125 11.328125 47.265625 \nQ 18.015625 53.03125 27.640625 53.03125 \nQ 38.328125 53.03125 45.109375 46.015625 \nQ 51.90625 39.015625 51.90625 26.65625 \nQ 51.90625 16.65625 48.90625 10.90625 \nQ 45.90625 5.171875 40.15625 2 \nQ 34.421875 -1.171875 27.640625 -1.171875 \nQ 16.75 -1.171875 10.03125 5.8125 \nQ 3.328125 12.796875 3.328125 25.921875 \nz\nM 12.359375 25.921875 \nQ 12.359375 15.96875 16.703125 11.015625 \nQ 21.046875 6.0625 27.640625 6.0625 \nQ 34.1875 6.0625 38.53125 11.03125 \nQ 42.875 16.015625 42.875 26.21875 \nQ 42.875 35.84375 38.5 40.796875 \nQ 34.125 45.75 27.640625 45.75 \nQ 21.046875 45.75 16.703125 40.8125 \nQ 12.359375 35.890625 12.359375 25.921875 \nz\n\" id=\"ArialMT-111\"/>\n       <path d=\"M 6.59375 -19.875 \nL 6.59375 51.859375 \nL 14.59375 51.859375 \nL 14.59375 45.125 \nQ 17.4375 49.078125 21 51.046875 \nQ 24.5625 53.03125 29.640625 53.03125 \nQ 36.28125 53.03125 41.359375 49.609375 \nQ 46.4375 46.1875 49.015625 39.953125 \nQ 51.609375 33.734375 51.609375 26.3125 \nQ 51.609375 18.359375 48.75 11.984375 \nQ 45.90625 5.609375 40.453125 2.21875 \nQ 35.015625 -1.171875 29 -1.171875 \nQ 24.609375 -1.171875 21.109375 0.6875 \nQ 17.625 2.546875 15.375 5.375 \nL 15.375 -19.875 \nz\nM 14.546875 25.640625 \nQ 14.546875 15.625 18.59375 10.84375 \nQ 22.65625 6.0625 28.421875 6.0625 \nQ 34.28125 6.0625 38.453125 11.015625 \nQ 42.625 15.96875 42.625 26.375 \nQ 42.625 36.28125 38.546875 41.203125 \nQ 34.46875 46.140625 28.8125 46.140625 \nQ 23.1875 46.140625 18.859375 40.890625 \nQ 14.546875 35.640625 14.546875 25.640625 \nz\n\" id=\"ArialMT-112\"/>\n       <path d=\"M 42.09375 16.703125 \nL 51.171875 15.578125 \nQ 49.03125 7.625 43.21875 3.21875 \nQ 37.40625 -1.171875 28.375 -1.171875 \nQ 17 -1.171875 10.328125 5.828125 \nQ 3.65625 12.84375 3.65625 25.484375 \nQ 3.65625 38.578125 10.390625 45.796875 \nQ 17.140625 53.03125 27.875 53.03125 \nQ 38.28125 53.03125 44.875 45.953125 \nQ 51.46875 38.875 51.46875 26.03125 \nQ 51.46875 25.25 51.421875 23.6875 \nL 12.75 23.6875 \nQ 13.234375 15.140625 17.578125 10.59375 \nQ 21.921875 6.0625 28.421875 6.0625 \nQ 33.25 6.0625 36.671875 8.59375 \nQ 40.09375 11.140625 42.09375 16.703125 \nz\nM 13.234375 30.90625 \nL 42.1875 30.90625 \nQ 41.609375 37.453125 38.875 40.71875 \nQ 34.671875 45.796875 27.984375 45.796875 \nQ 21.921875 45.796875 17.796875 41.75 \nQ 13.671875 37.703125 13.234375 30.90625 \nz\n\" id=\"ArialMT-101\"/>\n      </defs>\n      <use xlink:href=\"#ArialMT-115\"/>\n      <use x=\"50\" xlink:href=\"#ArialMT-108\"/>\n      <use x=\"72.216797\" xlink:href=\"#ArialMT-111\"/>\n      <use x=\"127.832031\" xlink:href=\"#ArialMT-112\"/>\n      <use x=\"183.447266\" xlink:href=\"#ArialMT-101\"/>\n     </g>\n    </g>\n   </g>\n   <g id=\"matplotlib.axis_2\">\n    <g id=\"ytick_1\">\n     <g id=\"line2d_7\">\n      <path clip-path=\"url(#peb51b45ccb)\" d=\"M 42.159844 320.769375 \nL 488.559844 320.769375 \n\" style=\"fill:none;stroke:#ffffff;stroke-linecap:round;\"/>\n     </g>\n     <g id=\"line2d_8\"/>\n     <g id=\"text_5\">\n      <!-- 0.0 -->\n      <g style=\"fill:#262626;\" transform=\"translate(21.259844 324.348281)scale(0.1 -0.1)\">\n       <defs>\n        <path d=\"M 9.078125 0 \nL 9.078125 10.015625 \nL 19.09375 10.015625 \nL 19.09375 0 \nz\n\" id=\"ArialMT-46\"/>\n       </defs>\n       <use xlink:href=\"#ArialMT-48\"/>\n       <use x=\"55.615234\" xlink:href=\"#ArialMT-46\"/>\n       <use x=\"83.398438\" xlink:href=\"#ArialMT-48\"/>\n      </g>\n     </g>\n    </g>\n    <g id=\"ytick_2\">\n     <g id=\"line2d_9\">\n      <path clip-path=\"url(#peb51b45ccb)\" d=\"M 42.159844 282.981071 \nL 488.559844 282.981071 \n\" style=\"fill:none;stroke:#ffffff;stroke-linecap:round;\"/>\n     </g>\n     <g id=\"line2d_10\"/>\n     <g id=\"text_6\">\n      <!-- 0.1 -->\n      <g style=\"fill:#262626;\" transform=\"translate(21.259844 286.559977)scale(0.1 -0.1)\">\n       <use xlink:href=\"#ArialMT-48\"/>\n       <use x=\"55.615234\" xlink:href=\"#ArialMT-46\"/>\n       <use x=\"83.398438\" xlink:href=\"#ArialMT-49\"/>\n      </g>\n     </g>\n    </g>\n    <g id=\"ytick_3\">\n     <g id=\"line2d_11\">\n      <path clip-path=\"url(#peb51b45ccb)\" d=\"M 42.159844 245.192766 \nL 488.559844 245.192766 \n\" style=\"fill:none;stroke:#ffffff;stroke-linecap:round;\"/>\n     </g>\n     <g id=\"line2d_12\"/>\n     <g id=\"text_7\">\n      <!-- 0.2 -->\n      <g style=\"fill:#262626;\" transform=\"translate(21.259844 248.771672)scale(0.1 -0.1)\">\n       <use xlink:href=\"#ArialMT-48\"/>\n       <use x=\"55.615234\" xlink:href=\"#ArialMT-46\"/>\n       <use x=\"83.398438\" xlink:href=\"#ArialMT-50\"/>\n      </g>\n     </g>\n    </g>\n    <g id=\"ytick_4\">\n     <g id=\"line2d_13\">\n      <path clip-path=\"url(#peb51b45ccb)\" d=\"M 42.159844 207.404462 \nL 488.559844 207.404462 \n\" style=\"fill:none;stroke:#ffffff;stroke-linecap:round;\"/>\n     </g>\n     <g id=\"line2d_14\"/>\n     <g id=\"text_8\">\n      <!-- 0.3 -->\n      <g style=\"fill:#262626;\" transform=\"translate(21.259844 210.983368)scale(0.1 -0.1)\">\n       <defs>\n        <path d=\"M 4.203125 18.890625 \nL 12.984375 20.0625 \nQ 14.5 12.59375 18.140625 9.296875 \nQ 21.78125 6 27 6 \nQ 33.203125 6 37.46875 10.296875 \nQ 41.75 14.59375 41.75 20.953125 \nQ 41.75 27 37.796875 30.921875 \nQ 33.84375 34.859375 27.734375 34.859375 \nQ 25.25 34.859375 21.53125 33.890625 \nL 22.515625 41.609375 \nQ 23.390625 41.5 23.921875 41.5 \nQ 29.546875 41.5 34.03125 44.421875 \nQ 38.53125 47.359375 38.53125 53.46875 \nQ 38.53125 58.296875 35.25 61.46875 \nQ 31.984375 64.65625 26.8125 64.65625 \nQ 21.6875 64.65625 18.265625 61.421875 \nQ 14.84375 58.203125 13.875 51.765625 \nL 5.078125 53.328125 \nQ 6.6875 62.15625 12.390625 67.015625 \nQ 18.109375 71.875 26.609375 71.875 \nQ 32.46875 71.875 37.390625 69.359375 \nQ 42.328125 66.84375 44.9375 62.5 \nQ 47.5625 58.15625 47.5625 53.265625 \nQ 47.5625 48.640625 45.0625 44.828125 \nQ 42.578125 41.015625 37.703125 38.765625 \nQ 44.046875 37.3125 47.5625 32.6875 \nQ 51.078125 28.078125 51.078125 21.140625 \nQ 51.078125 11.765625 44.234375 5.25 \nQ 37.40625 -1.265625 26.953125 -1.265625 \nQ 17.53125 -1.265625 11.296875 4.34375 \nQ 5.078125 9.96875 4.203125 18.890625 \nz\n\" id=\"ArialMT-51\"/>\n       </defs>\n       <use xlink:href=\"#ArialMT-48\"/>\n       <use x=\"55.615234\" xlink:href=\"#ArialMT-46\"/>\n       <use x=\"83.398438\" xlink:href=\"#ArialMT-51\"/>\n      </g>\n     </g>\n    </g>\n    <g id=\"ytick_5\">\n     <g id=\"line2d_15\">\n      <path clip-path=\"url(#peb51b45ccb)\" d=\"M 42.159844 169.616157 \nL 488.559844 169.616157 \n\" style=\"fill:none;stroke:#ffffff;stroke-linecap:round;\"/>\n     </g>\n     <g id=\"line2d_16\"/>\n     <g id=\"text_9\">\n      <!-- 0.4 -->\n      <g style=\"fill:#262626;\" transform=\"translate(21.259844 173.195064)scale(0.1 -0.1)\">\n       <defs>\n        <path d=\"M 32.328125 0 \nL 32.328125 17.140625 \nL 1.265625 17.140625 \nL 1.265625 25.203125 \nL 33.9375 71.578125 \nL 41.109375 71.578125 \nL 41.109375 25.203125 \nL 50.78125 25.203125 \nL 50.78125 17.140625 \nL 41.109375 17.140625 \nL 41.109375 0 \nz\nM 32.328125 25.203125 \nL 32.328125 57.46875 \nL 9.90625 25.203125 \nz\n\" id=\"ArialMT-52\"/>\n       </defs>\n       <use xlink:href=\"#ArialMT-48\"/>\n       <use x=\"55.615234\" xlink:href=\"#ArialMT-46\"/>\n       <use x=\"83.398438\" xlink:href=\"#ArialMT-52\"/>\n      </g>\n     </g>\n    </g>\n    <g id=\"ytick_6\">\n     <g id=\"line2d_17\">\n      <path clip-path=\"url(#peb51b45ccb)\" d=\"M 42.159844 131.827853 \nL 488.559844 131.827853 \n\" style=\"fill:none;stroke:#ffffff;stroke-linecap:round;\"/>\n     </g>\n     <g id=\"line2d_18\"/>\n     <g id=\"text_10\">\n      <!-- 0.5 -->\n      <g style=\"fill:#262626;\" transform=\"translate(21.259844 135.406759)scale(0.1 -0.1)\">\n       <defs>\n        <path d=\"M 4.15625 18.75 \nL 13.375 19.53125 \nQ 14.40625 12.796875 18.140625 9.390625 \nQ 21.875 6 27.15625 6 \nQ 33.5 6 37.890625 10.78125 \nQ 42.28125 15.578125 42.28125 23.484375 \nQ 42.28125 31 38.0625 35.34375 \nQ 33.84375 39.703125 27 39.703125 \nQ 22.75 39.703125 19.328125 37.765625 \nQ 15.921875 35.84375 13.96875 32.765625 \nL 5.71875 33.84375 \nL 12.640625 70.609375 \nL 48.25 70.609375 \nL 48.25 62.203125 \nL 19.671875 62.203125 \nL 15.828125 42.96875 \nQ 22.265625 47.46875 29.34375 47.46875 \nQ 38.71875 47.46875 45.15625 40.96875 \nQ 51.609375 34.46875 51.609375 24.265625 \nQ 51.609375 14.546875 45.953125 7.46875 \nQ 39.0625 -1.21875 27.15625 -1.21875 \nQ 17.390625 -1.21875 11.203125 4.25 \nQ 5.03125 9.71875 4.15625 18.75 \nz\n\" id=\"ArialMT-53\"/>\n       </defs>\n       <use xlink:href=\"#ArialMT-48\"/>\n       <use x=\"55.615234\" xlink:href=\"#ArialMT-46\"/>\n       <use x=\"83.398438\" xlink:href=\"#ArialMT-53\"/>\n      </g>\n     </g>\n    </g>\n    <g id=\"ytick_7\">\n     <g id=\"line2d_19\">\n      <path clip-path=\"url(#peb51b45ccb)\" d=\"M 42.159844 94.039549 \nL 488.559844 94.039549 \n\" style=\"fill:none;stroke:#ffffff;stroke-linecap:round;\"/>\n     </g>\n     <g id=\"line2d_20\"/>\n     <g id=\"text_11\">\n      <!-- 0.6 -->\n      <g style=\"fill:#262626;\" transform=\"translate(21.259844 97.618455)scale(0.1 -0.1)\">\n       <defs>\n        <path d=\"M 49.75 54.046875 \nL 41.015625 53.375 \nQ 39.84375 58.546875 37.703125 60.890625 \nQ 34.125 64.65625 28.90625 64.65625 \nQ 24.703125 64.65625 21.53125 62.3125 \nQ 17.390625 59.28125 14.984375 53.46875 \nQ 12.59375 47.65625 12.5 36.921875 \nQ 15.671875 41.75 20.265625 44.09375 \nQ 24.859375 46.4375 29.890625 46.4375 \nQ 38.671875 46.4375 44.84375 39.96875 \nQ 51.03125 33.5 51.03125 23.25 \nQ 51.03125 16.5 48.125 10.71875 \nQ 45.21875 4.9375 40.140625 1.859375 \nQ 35.0625 -1.21875 28.609375 -1.21875 \nQ 17.625 -1.21875 10.6875 6.859375 \nQ 3.765625 14.9375 3.765625 33.5 \nQ 3.765625 54.25 11.421875 63.671875 \nQ 18.109375 71.875 29.4375 71.875 \nQ 37.890625 71.875 43.28125 67.140625 \nQ 48.6875 62.40625 49.75 54.046875 \nz\nM 13.875 23.1875 \nQ 13.875 18.65625 15.796875 14.5 \nQ 17.71875 10.359375 21.1875 8.171875 \nQ 24.65625 6 28.46875 6 \nQ 34.03125 6 38.03125 10.484375 \nQ 42.046875 14.984375 42.046875 22.703125 \nQ 42.046875 30.125 38.078125 34.390625 \nQ 34.125 38.671875 28.125 38.671875 \nQ 22.171875 38.671875 18.015625 34.390625 \nQ 13.875 30.125 13.875 23.1875 \nz\n\" id=\"ArialMT-54\"/>\n       </defs>\n       <use xlink:href=\"#ArialMT-48\"/>\n       <use x=\"55.615234\" xlink:href=\"#ArialMT-46\"/>\n       <use x=\"83.398438\" xlink:href=\"#ArialMT-54\"/>\n      </g>\n     </g>\n    </g>\n    <g id=\"ytick_8\">\n     <g id=\"line2d_21\">\n      <path clip-path=\"url(#peb51b45ccb)\" d=\"M 42.159844 56.251244 \nL 488.559844 56.251244 \n\" style=\"fill:none;stroke:#ffffff;stroke-linecap:round;\"/>\n     </g>\n     <g id=\"line2d_22\"/>\n     <g id=\"text_12\">\n      <!-- 0.7 -->\n      <g style=\"fill:#262626;\" transform=\"translate(21.259844 59.83015)scale(0.1 -0.1)\">\n       <defs>\n        <path d=\"M 4.734375 62.203125 \nL 4.734375 70.65625 \nL 51.078125 70.65625 \nL 51.078125 63.8125 \nQ 44.234375 56.546875 37.515625 44.484375 \nQ 30.8125 32.421875 27.15625 19.671875 \nQ 24.515625 10.6875 23.78125 0 \nL 14.75 0 \nQ 14.890625 8.453125 18.0625 20.40625 \nQ 21.234375 32.375 27.171875 43.484375 \nQ 33.109375 54.59375 39.796875 62.203125 \nz\n\" id=\"ArialMT-55\"/>\n       </defs>\n       <use xlink:href=\"#ArialMT-48\"/>\n       <use x=\"55.615234\" xlink:href=\"#ArialMT-46\"/>\n       <use x=\"83.398438\" xlink:href=\"#ArialMT-55\"/>\n      </g>\n     </g>\n    </g>\n    <g id=\"text_13\">\n     <!-- % of Heart Disease -->\n     <g style=\"fill:#262626;\" transform=\"translate(15.073594 218.658437)rotate(-90)scale(0.11 -0.11)\">\n      <defs>\n       <path d=\"M 5.8125 54.390625 \nQ 5.8125 62.0625 9.671875 67.421875 \nQ 13.53125 72.796875 20.84375 72.796875 \nQ 27.59375 72.796875 32 67.984375 \nQ 36.421875 63.1875 36.421875 53.859375 \nQ 36.421875 44.78125 31.953125 39.875 \nQ 27.484375 34.96875 20.953125 34.96875 \nQ 14.453125 34.96875 10.125 39.796875 \nQ 5.8125 44.625 5.8125 54.390625 \nz\nM 21.09375 66.75 \nQ 17.828125 66.75 15.65625 63.90625 \nQ 13.484375 61.078125 13.484375 53.515625 \nQ 13.484375 46.625 15.671875 43.8125 \nQ 17.875 41.015625 21.09375 41.015625 \nQ 24.421875 41.015625 26.59375 43.84375 \nQ 28.765625 46.6875 28.765625 54.203125 \nQ 28.765625 61.140625 26.5625 63.9375 \nQ 24.359375 66.75 21.09375 66.75 \nz\nM 21.140625 -2.640625 \nL 60.296875 72.796875 \nL 67.4375 72.796875 \nL 28.421875 -2.640625 \nz\nM 52.09375 16.796875 \nQ 52.09375 24.515625 55.953125 29.859375 \nQ 59.8125 35.203125 67.1875 35.203125 \nQ 73.921875 35.203125 78.34375 30.390625 \nQ 82.765625 25.59375 82.765625 16.265625 \nQ 82.765625 7.171875 78.296875 2.265625 \nQ 73.828125 -2.640625 67.234375 -2.640625 \nQ 60.75 -2.640625 56.421875 2.21875 \nQ 52.09375 7.078125 52.09375 16.796875 \nz\nM 67.4375 29.15625 \nQ 64.109375 29.15625 61.9375 26.3125 \nQ 59.765625 23.484375 59.765625 15.921875 \nQ 59.765625 9.078125 61.953125 6.25 \nQ 64.15625 3.421875 67.390625 3.421875 \nQ 70.75 3.421875 72.921875 6.25 \nQ 75.09375 9.078125 75.09375 16.609375 \nQ 75.09375 23.53125 72.890625 26.34375 \nQ 70.703125 29.15625 67.4375 29.15625 \nz\n\" id=\"ArialMT-37\"/>\n       <path id=\"ArialMT-32\"/>\n       <path d=\"M 8.6875 0 \nL 8.6875 45.015625 \nL 0.921875 45.015625 \nL 0.921875 51.859375 \nL 8.6875 51.859375 \nL 8.6875 57.375 \nQ 8.6875 62.59375 9.625 65.140625 \nQ 10.890625 68.5625 14.078125 70.671875 \nQ 17.28125 72.796875 23.046875 72.796875 \nQ 26.765625 72.796875 31.25 71.921875 \nL 29.9375 64.265625 \nQ 27.203125 64.75 24.75 64.75 \nQ 20.75 64.75 19.09375 63.03125 \nQ 17.4375 61.328125 17.4375 56.640625 \nL 17.4375 51.859375 \nL 27.546875 51.859375 \nL 27.546875 45.015625 \nL 17.4375 45.015625 \nL 17.4375 0 \nz\n\" id=\"ArialMT-102\"/>\n       <path d=\"M 8.015625 0 \nL 8.015625 71.578125 \nL 17.484375 71.578125 \nL 17.484375 42.1875 \nL 54.6875 42.1875 \nL 54.6875 71.578125 \nL 64.15625 71.578125 \nL 64.15625 0 \nL 54.6875 0 \nL 54.6875 33.734375 \nL 17.484375 33.734375 \nL 17.484375 0 \nz\n\" id=\"ArialMT-72\"/>\n       <path d=\"M 40.4375 6.390625 \nQ 35.546875 2.25 31.03125 0.53125 \nQ 26.515625 -1.171875 21.34375 -1.171875 \nQ 12.796875 -1.171875 8.203125 3 \nQ 3.609375 7.171875 3.609375 13.671875 \nQ 3.609375 17.484375 5.34375 20.625 \nQ 7.078125 23.78125 9.890625 25.6875 \nQ 12.703125 27.59375 16.21875 28.5625 \nQ 18.796875 29.25 24.03125 29.890625 \nQ 34.671875 31.15625 39.703125 32.90625 \nQ 39.75 34.71875 39.75 35.203125 \nQ 39.75 40.578125 37.25 42.78125 \nQ 33.890625 45.75 27.25 45.75 \nQ 21.046875 45.75 18.09375 43.578125 \nQ 15.140625 41.40625 13.71875 35.890625 \nL 5.125 37.0625 \nQ 6.296875 42.578125 8.984375 45.96875 \nQ 11.671875 49.359375 16.75 51.1875 \nQ 21.828125 53.03125 28.515625 53.03125 \nQ 35.15625 53.03125 39.296875 51.46875 \nQ 43.453125 49.90625 45.40625 47.53125 \nQ 47.359375 45.171875 48.140625 41.546875 \nQ 48.578125 39.3125 48.578125 33.453125 \nL 48.578125 21.734375 \nQ 48.578125 9.46875 49.140625 6.21875 \nQ 49.703125 2.984375 51.375 0 \nL 42.1875 0 \nQ 40.828125 2.734375 40.4375 6.390625 \nz\nM 39.703125 26.03125 \nQ 34.90625 24.078125 25.34375 22.703125 \nQ 19.921875 21.921875 17.671875 20.9375 \nQ 15.4375 19.96875 14.203125 18.09375 \nQ 12.984375 16.21875 12.984375 13.921875 \nQ 12.984375 10.40625 15.640625 8.0625 \nQ 18.3125 5.71875 23.4375 5.71875 \nQ 28.515625 5.71875 32.46875 7.9375 \nQ 36.421875 10.15625 38.28125 14.015625 \nQ 39.703125 17 39.703125 22.796875 \nz\n\" id=\"ArialMT-97\"/>\n       <path d=\"M 6.5 0 \nL 6.5 51.859375 \nL 14.40625 51.859375 \nL 14.40625 44 \nQ 17.4375 49.515625 20 51.265625 \nQ 22.5625 53.03125 25.640625 53.03125 \nQ 30.078125 53.03125 34.671875 50.203125 \nL 31.640625 42.046875 \nQ 28.421875 43.953125 25.203125 43.953125 \nQ 22.3125 43.953125 20.015625 42.21875 \nQ 17.71875 40.484375 16.75 37.40625 \nQ 15.28125 32.71875 15.28125 27.15625 \nL 15.28125 0 \nz\n\" id=\"ArialMT-114\"/>\n       <path d=\"M 25.78125 7.859375 \nL 27.046875 0.09375 \nQ 23.34375 -0.6875 20.40625 -0.6875 \nQ 15.625 -0.6875 12.984375 0.828125 \nQ 10.359375 2.34375 9.28125 4.8125 \nQ 8.203125 7.28125 8.203125 15.1875 \nL 8.203125 45.015625 \nL 1.765625 45.015625 \nL 1.765625 51.859375 \nL 8.203125 51.859375 \nL 8.203125 64.703125 \nL 16.9375 69.96875 \nL 16.9375 51.859375 \nL 25.78125 51.859375 \nL 25.78125 45.015625 \nL 16.9375 45.015625 \nL 16.9375 14.703125 \nQ 16.9375 10.9375 17.40625 9.859375 \nQ 17.875 8.796875 18.921875 8.15625 \nQ 19.96875 7.515625 21.921875 7.515625 \nQ 23.390625 7.515625 25.78125 7.859375 \nz\n\" id=\"ArialMT-116\"/>\n       <path d=\"M 7.71875 0 \nL 7.71875 71.578125 \nL 32.375 71.578125 \nQ 40.71875 71.578125 45.125 70.5625 \nQ 51.265625 69.140625 55.609375 65.4375 \nQ 61.28125 60.640625 64.078125 53.1875 \nQ 66.890625 45.75 66.890625 36.1875 \nQ 66.890625 28.03125 64.984375 21.734375 \nQ 63.09375 15.4375 60.109375 11.296875 \nQ 57.125 7.171875 53.578125 4.796875 \nQ 50.046875 2.4375 45.046875 1.21875 \nQ 40.046875 0 33.546875 0 \nz\nM 17.1875 8.453125 \nL 32.46875 8.453125 \nQ 39.546875 8.453125 43.578125 9.765625 \nQ 47.609375 11.078125 50 13.484375 \nQ 53.375 16.84375 55.25 22.53125 \nQ 57.125 28.21875 57.125 36.328125 \nQ 57.125 47.5625 53.4375 53.59375 \nQ 49.75 59.625 44.484375 61.671875 \nQ 40.671875 63.140625 32.234375 63.140625 \nL 17.1875 63.140625 \nz\n\" id=\"ArialMT-68\"/>\n       <path d=\"M 6.640625 61.46875 \nL 6.640625 71.578125 \nL 15.4375 71.578125 \nL 15.4375 61.46875 \nz\nM 6.640625 0 \nL 6.640625 51.859375 \nL 15.4375 51.859375 \nL 15.4375 0 \nz\n\" id=\"ArialMT-105\"/>\n      </defs>\n      <use xlink:href=\"#ArialMT-37\"/>\n      <use x=\"88.916016\" xlink:href=\"#ArialMT-32\"/>\n      <use x=\"116.699219\" xlink:href=\"#ArialMT-111\"/>\n      <use x=\"172.314453\" xlink:href=\"#ArialMT-102\"/>\n      <use x=\"200.097656\" xlink:href=\"#ArialMT-32\"/>\n      <use x=\"227.880859\" xlink:href=\"#ArialMT-72\"/>\n      <use x=\"300.097656\" xlink:href=\"#ArialMT-101\"/>\n      <use x=\"355.712891\" xlink:href=\"#ArialMT-97\"/>\n      <use x=\"411.328125\" xlink:href=\"#ArialMT-114\"/>\n      <use x=\"444.628906\" xlink:href=\"#ArialMT-116\"/>\n      <use x=\"472.412109\" xlink:href=\"#ArialMT-32\"/>\n      <use x=\"500.195312\" xlink:href=\"#ArialMT-68\"/>\n      <use x=\"572.412109\" xlink:href=\"#ArialMT-105\"/>\n      <use x=\"594.628906\" xlink:href=\"#ArialMT-115\"/>\n      <use x=\"644.628906\" xlink:href=\"#ArialMT-101\"/>\n      <use x=\"700.244141\" xlink:href=\"#ArialMT-97\"/>\n      <use x=\"755.859375\" xlink:href=\"#ArialMT-115\"/>\n      <use x=\"805.859375\" xlink:href=\"#ArialMT-101\"/>\n     </g>\n    </g>\n   </g>\n   <g id=\"patch_3\">\n    <path clip-path=\"url(#peb51b45ccb)\" d=\"M 62.450753 320.769375 \nL 178.398805 320.769375 \nL 178.398805 158.819499 \nL 62.450753 158.819499 \nz\n\" style=\"fill:#4c72b0;\"/>\n   </g>\n   <g id=\"patch_4\">\n    <path clip-path=\"url(#peb51b45ccb)\" d=\"M 207.385818 320.769375 \nL 323.33387 320.769375 \nL 323.33387 188.51031 \nL 207.385818 188.51031 \nz\n\" style=\"fill:#4c72b0;\"/>\n   </g>\n   <g id=\"patch_5\">\n    <path clip-path=\"url(#peb51b45ccb)\" d=\"M 352.320883 320.769375 \nL 468.268935 320.769375 \nL 468.268935 36.026518 \nL 352.320883 36.026518 \nz\n\" style=\"fill:#4c72b0;\"/>\n   </g>\n   <g id=\"patch_6\">\n    <path d=\"M 42.159844 320.769375 \nL 42.159844 21.789375 \n\" style=\"fill:none;\"/>\n   </g>\n   <g id=\"patch_7\">\n    <path d=\"M 488.559844 320.769375 \nL 488.559844 21.789375 \n\" style=\"fill:none;\"/>\n   </g>\n   <g id=\"patch_8\">\n    <path d=\"M 42.159844 320.769375 \nL 488.559844 320.769375 \n\" style=\"fill:none;\"/>\n   </g>\n   <g id=\"patch_9\">\n    <path d=\"M 42.159844 21.789375 \nL 488.559844 21.789375 \n\" style=\"fill:none;\"/>\n   </g>\n   <g id=\"text_14\">\n    <!-- slope -->\n    <g style=\"fill:#262626;\" transform=\"translate(251.017031 15.789375)scale(0.12 -0.12)\">\n     <use xlink:href=\"#ArialMT-115\"/>\n     <use x=\"50\" xlink:href=\"#ArialMT-108\"/>\n     <use x=\"72.216797\" xlink:href=\"#ArialMT-111\"/>\n     <use x=\"127.832031\" xlink:href=\"#ArialMT-112\"/>\n     <use x=\"183.447266\" xlink:href=\"#ArialMT-101\"/>\n    </g>\n   </g>\n  </g>\n </g>\n <defs>\n  <clipPath id=\"peb51b45ccb\">\n   <rect height=\"298.98\" width=\"446.4\" x=\"42.159844\" y=\"21.789375\"/>\n  </clipPath>\n </defs>\n</svg>\n",
      "image/png": "[encoded data removed]"
     },
     "metadata": {}
    }
   ],
   "source": [
    "fig = plt.figure()\n",
    "\n",
    "ax = fig.add_subplot(111)\n",
    "ax_y = df.groupby(x)[\"target\"].value_counts(normalize=True)[:, 1]\n",
    "ax_x = [\"0\", \"1\", \"2\"]\n",
    "ax.bar(ax_x, ax_y)\n",
    "ax.set(title=x, xlabel=x, ylabel=\"% of Heart Disease\")"
   ]
  },
  {
   "cell_type": "markdown",
   "metadata": {},
   "source": [
    "#### ca Number of major vessels colored by flourosopy"
   ]
  },
  {
   "cell_type": "code",
   "execution_count": 34,
   "metadata": {},
   "outputs": [],
   "source": [
    "x = \"ca\""
   ]
  },
  {
   "cell_type": "code",
   "execution_count": 35,
   "metadata": {},
   "outputs": [
    {
     "output_type": "execute_result",
     "data": {
      "text/plain": [
       "0    0.577558\n",
       "1    0.214521\n",
       "2    0.125413\n",
       "3    0.066007\n",
       "4    0.016502\n",
       "Name: ca, dtype: float64"
      ]
     },
     "metadata": {},
     "execution_count": 35
    }
   ],
   "source": [
    "df[x].value_counts(normalize=True)"
   ]
  },
  {
   "cell_type": "code",
   "execution_count": 36,
   "metadata": {},
   "outputs": [
    {
     "output_type": "execute_result",
     "data": {
      "text/plain": [
       "0"
      ]
     },
     "metadata": {},
     "execution_count": 36
    }
   ],
   "source": [
    "df[x].isnull().sum()"
   ]
  },
  {
   "cell_type": "code",
   "execution_count": 37,
   "metadata": {},
   "outputs": [
    {
     "output_type": "execute_result",
     "data": {
      "text/plain": [
       "[Text(0.5, 1.0, 'ca'), Text(0.5, 0, 'ca'), Text(0, 0.5, '% of Heart Disease')]"
      ]
     },
     "metadata": {},
     "execution_count": 37
    },
    {
     "output_type": "display_data",
     "data": {
      "text/plain": "<Figure size 576x396 with 1 Axes>",
      "image/svg+xml": "<?xml version=\"1.0\" encoding=\"utf-8\" standalone=\"no\"?>\n<!DOCTYPE svg PUBLIC \"-//W3C//DTD SVG 1.1//EN\"\n  \"http://www.w3.org/Graphics/SVG/1.1/DTD/svg11.dtd\">\n<!-- Created with matplotlib (https://matplotlib.org/) -->\n<svg height=\"358.174531pt\" version=\"1.1\" viewBox=\"0 0 495.759844 358.174531\" width=\"495.759844pt\" xmlns=\"http://www.w3.org/2000/svg\" xmlns:xlink=\"http://www.w3.org/1999/xlink\">\n <metadata>\n  <rdf:RDF xmlns:cc=\"http://creativecommons.org/ns#\" xmlns:dc=\"http://purl.org/dc/elements/1.1/\" xmlns:rdf=\"http://www.w3.org/1999/02/22-rdf-syntax-ns#\">\n   <cc:Work>\n    <dc:type rdf:resource=\"http://purl.org/dc/dcmitype/StillImage\"/>\n    <dc:date>2021-07-03T16:39:22.353416</dc:date>\n    <dc:format>image/svg+xml</dc:format>\n    <dc:creator>\n     <cc:Agent>\n      <dc:title>Matplotlib v3.3.3, https://matplotlib.org/</dc:title>\n     </cc:Agent>\n    </dc:creator>\n   </cc:Work>\n  </rdf:RDF>\n </metadata>\n <defs>\n  <style type=\"text/css\">*{stroke-linecap:butt;stroke-linejoin:round;}</style>\n </defs>\n <g id=\"figure_1\">\n  <g id=\"patch_1\">\n   <path d=\"M 0 358.174531 \nL 495.759844 358.174531 \nL 495.759844 0 \nL 0 0 \nz\n\" style=\"fill:#ffffff;\"/>\n  </g>\n  <g id=\"axes_1\">\n   <g id=\"patch_2\">\n    <path d=\"M 42.159844 320.769375 \nL 488.559844 320.769375 \nL 488.559844 21.789375 \nL 42.159844 21.789375 \nz\n\" style=\"fill:#eaeaf2;\"/>\n   </g>\n   <g id=\"matplotlib.axis_1\">\n    <g id=\"xtick_1\">\n     <g id=\"line2d_1\">\n      <path clip-path=\"url(#p254b9352cb)\" d=\"M 96.268935 320.769375 \nL 96.268935 21.789375 \n\" style=\"fill:none;stroke:#ffffff;stroke-linecap:round;\"/>\n     </g>\n     <g id=\"line2d_2\"/>\n     <g id=\"text_1\">\n      <!-- 0 -->\n      <g style=\"fill:#262626;\" transform=\"translate(93.488466 334.927187)scale(0.1 -0.1)\">\n       <defs>\n        <path d=\"M 4.15625 35.296875 \nQ 4.15625 48 6.765625 55.734375 \nQ 9.375 63.484375 14.515625 67.671875 \nQ 19.671875 71.875 27.484375 71.875 \nQ 33.25 71.875 37.59375 69.546875 \nQ 41.9375 67.234375 44.765625 62.859375 \nQ 47.609375 58.5 49.21875 52.21875 \nQ 50.828125 45.953125 50.828125 35.296875 \nQ 50.828125 22.703125 48.234375 14.96875 \nQ 45.65625 7.234375 40.5 3 \nQ 35.359375 -1.21875 27.484375 -1.21875 \nQ 17.140625 -1.21875 11.234375 6.203125 \nQ 4.15625 15.140625 4.15625 35.296875 \nz\nM 13.1875 35.296875 \nQ 13.1875 17.671875 17.3125 11.828125 \nQ 21.4375 6 27.484375 6 \nQ 33.546875 6 37.671875 11.859375 \nQ 41.796875 17.71875 41.796875 35.296875 \nQ 41.796875 52.984375 37.671875 58.78125 \nQ 33.546875 64.59375 27.390625 64.59375 \nQ 21.34375 64.59375 17.71875 59.46875 \nQ 13.1875 52.9375 13.1875 35.296875 \nz\n\" id=\"ArialMT-48\"/>\n       </defs>\n       <use xlink:href=\"#ArialMT-48\"/>\n      </g>\n     </g>\n    </g>\n    <g id=\"xtick_2\">\n     <g id=\"line2d_3\">\n      <path clip-path=\"url(#p254b9352cb)\" d=\"M 180.814389 320.769375 \nL 180.814389 21.789375 \n\" style=\"fill:none;stroke:#ffffff;stroke-linecap:round;\"/>\n     </g>\n     <g id=\"line2d_4\"/>\n     <g id=\"text_2\">\n      <!-- 1 -->\n      <g style=\"fill:#262626;\" transform=\"translate(178.03392 334.927187)scale(0.1 -0.1)\">\n       <defs>\n        <path d=\"M 37.25 0 \nL 28.46875 0 \nL 28.46875 56 \nQ 25.296875 52.984375 20.140625 49.953125 \nQ 14.984375 46.921875 10.890625 45.40625 \nL 10.890625 53.90625 \nQ 18.265625 57.375 23.78125 62.296875 \nQ 29.296875 67.234375 31.59375 71.875 \nL 37.25 71.875 \nz\n\" id=\"ArialMT-49\"/>\n       </defs>\n       <use xlink:href=\"#ArialMT-49\"/>\n      </g>\n     </g>\n    </g>\n    <g id=\"xtick_3\">\n     <g id=\"line2d_5\">\n      <path clip-path=\"url(#p254b9352cb)\" d=\"M 265.359844 320.769375 \nL 265.359844 21.789375 \n\" style=\"fill:none;stroke:#ffffff;stroke-linecap:round;\"/>\n     </g>\n     <g id=\"line2d_6\"/>\n     <g id=\"text_3\">\n      <!-- 2 -->\n      <g style=\"fill:#262626;\" transform=\"translate(262.579375 334.927187)scale(0.1 -0.1)\">\n       <defs>\n        <path d=\"M 50.34375 8.453125 \nL 50.34375 0 \nL 3.03125 0 \nQ 2.9375 3.171875 4.046875 6.109375 \nQ 5.859375 10.9375 9.828125 15.625 \nQ 13.8125 20.3125 21.34375 26.46875 \nQ 33.015625 36.03125 37.109375 41.625 \nQ 41.21875 47.21875 41.21875 52.203125 \nQ 41.21875 57.421875 37.46875 61 \nQ 33.734375 64.59375 27.734375 64.59375 \nQ 21.390625 64.59375 17.578125 60.78125 \nQ 13.765625 56.984375 13.71875 50.25 \nL 4.6875 51.171875 \nQ 5.609375 61.28125 11.65625 66.578125 \nQ 17.71875 71.875 27.9375 71.875 \nQ 38.234375 71.875 44.234375 66.15625 \nQ 50.25 60.453125 50.25 52 \nQ 50.25 47.703125 48.484375 43.546875 \nQ 46.734375 39.40625 42.65625 34.8125 \nQ 38.578125 30.21875 29.109375 22.21875 \nQ 21.1875 15.578125 18.9375 13.203125 \nQ 16.703125 10.84375 15.234375 8.453125 \nz\n\" id=\"ArialMT-50\"/>\n       </defs>\n       <use xlink:href=\"#ArialMT-50\"/>\n      </g>\n     </g>\n    </g>\n    <g id=\"xtick_4\">\n     <g id=\"line2d_7\">\n      <path clip-path=\"url(#p254b9352cb)\" d=\"M 349.905298 320.769375 \nL 349.905298 21.789375 \n\" style=\"fill:none;stroke:#ffffff;stroke-linecap:round;\"/>\n     </g>\n     <g id=\"line2d_8\"/>\n     <g id=\"text_4\">\n      <!-- 3 -->\n      <g style=\"fill:#262626;\" transform=\"translate(347.12483 334.927187)scale(0.1 -0.1)\">\n       <defs>\n        <path d=\"M 4.203125 18.890625 \nL 12.984375 20.0625 \nQ 14.5 12.59375 18.140625 9.296875 \nQ 21.78125 6 27 6 \nQ 33.203125 6 37.46875 10.296875 \nQ 41.75 14.59375 41.75 20.953125 \nQ 41.75 27 37.796875 30.921875 \nQ 33.84375 34.859375 27.734375 34.859375 \nQ 25.25 34.859375 21.53125 33.890625 \nL 22.515625 41.609375 \nQ 23.390625 41.5 23.921875 41.5 \nQ 29.546875 41.5 34.03125 44.421875 \nQ 38.53125 47.359375 38.53125 53.46875 \nQ 38.53125 58.296875 35.25 61.46875 \nQ 31.984375 64.65625 26.8125 64.65625 \nQ 21.6875 64.65625 18.265625 61.421875 \nQ 14.84375 58.203125 13.875 51.765625 \nL 5.078125 53.328125 \nQ 6.6875 62.15625 12.390625 67.015625 \nQ 18.109375 71.875 26.609375 71.875 \nQ 32.46875 71.875 37.390625 69.359375 \nQ 42.328125 66.84375 44.9375 62.5 \nQ 47.5625 58.15625 47.5625 53.265625 \nQ 47.5625 48.640625 45.0625 44.828125 \nQ 42.578125 41.015625 37.703125 38.765625 \nQ 44.046875 37.3125 47.5625 32.6875 \nQ 51.078125 28.078125 51.078125 21.140625 \nQ 51.078125 11.765625 44.234375 5.25 \nQ 37.40625 -1.265625 26.953125 -1.265625 \nQ 17.53125 -1.265625 11.296875 4.34375 \nQ 5.078125 9.96875 4.203125 18.890625 \nz\n\" id=\"ArialMT-51\"/>\n       </defs>\n       <use xlink:href=\"#ArialMT-51\"/>\n      </g>\n     </g>\n    </g>\n    <g id=\"xtick_5\">\n     <g id=\"line2d_9\">\n      <path clip-path=\"url(#p254b9352cb)\" d=\"M 434.450753 320.769375 \nL 434.450753 21.789375 \n\" style=\"fill:none;stroke:#ffffff;stroke-linecap:round;\"/>\n     </g>\n     <g id=\"line2d_10\"/>\n     <g id=\"text_5\">\n      <!-- 4 -->\n      <g style=\"fill:#262626;\" transform=\"translate(431.670284 334.927187)scale(0.1 -0.1)\">\n       <defs>\n        <path d=\"M 32.328125 0 \nL 32.328125 17.140625 \nL 1.265625 17.140625 \nL 1.265625 25.203125 \nL 33.9375 71.578125 \nL 41.109375 71.578125 \nL 41.109375 25.203125 \nL 50.78125 25.203125 \nL 50.78125 17.140625 \nL 41.109375 17.140625 \nL 41.109375 0 \nz\nM 32.328125 25.203125 \nL 32.328125 57.46875 \nL 9.90625 25.203125 \nz\n\" id=\"ArialMT-52\"/>\n       </defs>\n       <use xlink:href=\"#ArialMT-52\"/>\n      </g>\n     </g>\n    </g>\n    <g id=\"text_6\">\n     <!-- ca -->\n     <g style=\"fill:#262626;\" transform=\"translate(259.551328 348.788281)scale(0.11 -0.11)\">\n      <defs>\n       <path d=\"M 40.4375 19 \nL 49.078125 17.875 \nQ 47.65625 8.9375 41.8125 3.875 \nQ 35.984375 -1.171875 27.484375 -1.171875 \nQ 16.84375 -1.171875 10.375 5.78125 \nQ 3.90625 12.75 3.90625 25.734375 \nQ 3.90625 34.125 6.6875 40.421875 \nQ 9.46875 46.734375 15.15625 49.875 \nQ 20.84375 53.03125 27.546875 53.03125 \nQ 35.984375 53.03125 41.359375 48.75 \nQ 46.734375 44.484375 48.25 36.625 \nL 39.703125 35.296875 \nQ 38.484375 40.53125 35.375 43.15625 \nQ 32.28125 45.796875 27.875 45.796875 \nQ 21.234375 45.796875 17.078125 41.03125 \nQ 12.9375 36.28125 12.9375 25.984375 \nQ 12.9375 15.53125 16.9375 10.796875 \nQ 20.953125 6.0625 27.390625 6.0625 \nQ 32.5625 6.0625 36.03125 9.234375 \nQ 39.5 12.40625 40.4375 19 \nz\n\" id=\"ArialMT-99\"/>\n       <path d=\"M 40.4375 6.390625 \nQ 35.546875 2.25 31.03125 0.53125 \nQ 26.515625 -1.171875 21.34375 -1.171875 \nQ 12.796875 -1.171875 8.203125 3 \nQ 3.609375 7.171875 3.609375 13.671875 \nQ 3.609375 17.484375 5.34375 20.625 \nQ 7.078125 23.78125 9.890625 25.6875 \nQ 12.703125 27.59375 16.21875 28.5625 \nQ 18.796875 29.25 24.03125 29.890625 \nQ 34.671875 31.15625 39.703125 32.90625 \nQ 39.75 34.71875 39.75 35.203125 \nQ 39.75 40.578125 37.25 42.78125 \nQ 33.890625 45.75 27.25 45.75 \nQ 21.046875 45.75 18.09375 43.578125 \nQ 15.140625 41.40625 13.71875 35.890625 \nL 5.125 37.0625 \nQ 6.296875 42.578125 8.984375 45.96875 \nQ 11.671875 49.359375 16.75 51.1875 \nQ 21.828125 53.03125 28.515625 53.03125 \nQ 35.15625 53.03125 39.296875 51.46875 \nQ 43.453125 49.90625 45.40625 47.53125 \nQ 47.359375 45.171875 48.140625 41.546875 \nQ 48.578125 39.3125 48.578125 33.453125 \nL 48.578125 21.734375 \nQ 48.578125 9.46875 49.140625 6.21875 \nQ 49.703125 2.984375 51.375 0 \nL 42.1875 0 \nQ 40.828125 2.734375 40.4375 6.390625 \nz\nM 39.703125 26.03125 \nQ 34.90625 24.078125 25.34375 22.703125 \nQ 19.921875 21.921875 17.671875 20.9375 \nQ 15.4375 19.96875 14.203125 18.09375 \nQ 12.984375 16.21875 12.984375 13.921875 \nQ 12.984375 10.40625 15.640625 8.0625 \nQ 18.3125 5.71875 23.4375 5.71875 \nQ 28.515625 5.71875 32.46875 7.9375 \nQ 36.421875 10.15625 38.28125 14.015625 \nQ 39.703125 17 39.703125 22.796875 \nz\n\" id=\"ArialMT-97\"/>\n      </defs>\n      <use xlink:href=\"#ArialMT-99\"/>\n      <use x=\"50\" xlink:href=\"#ArialMT-97\"/>\n     </g>\n    </g>\n   </g>\n   <g id=\"matplotlib.axis_2\">\n    <g id=\"ytick_1\">\n     <g id=\"line2d_11\">\n      <path clip-path=\"url(#p254b9352cb)\" d=\"M 42.159844 320.769375 \nL 488.559844 320.769375 \n\" style=\"fill:none;stroke:#ffffff;stroke-linecap:round;\"/>\n     </g>\n     <g id=\"line2d_12\"/>\n     <g id=\"text_7\">\n      <!-- 0.0 -->\n      <g style=\"fill:#262626;\" transform=\"translate(21.259844 324.348281)scale(0.1 -0.1)\">\n       <defs>\n        <path d=\"M 9.078125 0 \nL 9.078125 10.015625 \nL 19.09375 10.015625 \nL 19.09375 0 \nz\n\" id=\"ArialMT-46\"/>\n       </defs>\n       <use xlink:href=\"#ArialMT-48\"/>\n       <use x=\"55.615234\" xlink:href=\"#ArialMT-46\"/>\n       <use x=\"83.398438\" xlink:href=\"#ArialMT-48\"/>\n      </g>\n     </g>\n    </g>\n    <g id=\"ytick_2\">\n     <g id=\"line2d_13\">\n      <path clip-path=\"url(#p254b9352cb)\" d=\"M 42.159844 285.176518 \nL 488.559844 285.176518 \n\" style=\"fill:none;stroke:#ffffff;stroke-linecap:round;\"/>\n     </g>\n     <g id=\"line2d_14\"/>\n     <g id=\"text_8\">\n      <!-- 0.1 -->\n      <g style=\"fill:#262626;\" transform=\"translate(21.259844 288.755424)scale(0.1 -0.1)\">\n       <use xlink:href=\"#ArialMT-48\"/>\n       <use x=\"55.615234\" xlink:href=\"#ArialMT-46\"/>\n       <use x=\"83.398438\" xlink:href=\"#ArialMT-49\"/>\n      </g>\n     </g>\n    </g>\n    <g id=\"ytick_3\">\n     <g id=\"line2d_15\">\n      <path clip-path=\"url(#p254b9352cb)\" d=\"M 42.159844 249.583661 \nL 488.559844 249.583661 \n\" style=\"fill:none;stroke:#ffffff;stroke-linecap:round;\"/>\n     </g>\n     <g id=\"line2d_16\"/>\n     <g id=\"text_9\">\n      <!-- 0.2 -->\n      <g style=\"fill:#262626;\" transform=\"translate(21.259844 253.162567)scale(0.1 -0.1)\">\n       <use xlink:href=\"#ArialMT-48\"/>\n       <use x=\"55.615234\" xlink:href=\"#ArialMT-46\"/>\n       <use x=\"83.398438\" xlink:href=\"#ArialMT-50\"/>\n      </g>\n     </g>\n    </g>\n    <g id=\"ytick_4\">\n     <g id=\"line2d_17\">\n      <path clip-path=\"url(#p254b9352cb)\" d=\"M 42.159844 213.990804 \nL 488.559844 213.990804 \n\" style=\"fill:none;stroke:#ffffff;stroke-linecap:round;\"/>\n     </g>\n     <g id=\"line2d_18\"/>\n     <g id=\"text_10\">\n      <!-- 0.3 -->\n      <g style=\"fill:#262626;\" transform=\"translate(21.259844 217.56971)scale(0.1 -0.1)\">\n       <use xlink:href=\"#ArialMT-48\"/>\n       <use x=\"55.615234\" xlink:href=\"#ArialMT-46\"/>\n       <use x=\"83.398438\" xlink:href=\"#ArialMT-51\"/>\n      </g>\n     </g>\n    </g>\n    <g id=\"ytick_5\">\n     <g id=\"line2d_19\">\n      <path clip-path=\"url(#p254b9352cb)\" d=\"M 42.159844 178.397946 \nL 488.559844 178.397946 \n\" style=\"fill:none;stroke:#ffffff;stroke-linecap:round;\"/>\n     </g>\n     <g id=\"line2d_20\"/>\n     <g id=\"text_11\">\n      <!-- 0.4 -->\n      <g style=\"fill:#262626;\" transform=\"translate(21.259844 181.976853)scale(0.1 -0.1)\">\n       <use xlink:href=\"#ArialMT-48\"/>\n       <use x=\"55.615234\" xlink:href=\"#ArialMT-46\"/>\n       <use x=\"83.398438\" xlink:href=\"#ArialMT-52\"/>\n      </g>\n     </g>\n    </g>\n    <g id=\"ytick_6\">\n     <g id=\"line2d_21\">\n      <path clip-path=\"url(#p254b9352cb)\" d=\"M 42.159844 142.805089 \nL 488.559844 142.805089 \n\" style=\"fill:none;stroke:#ffffff;stroke-linecap:round;\"/>\n     </g>\n     <g id=\"line2d_22\"/>\n     <g id=\"text_12\">\n      <!-- 0.5 -->\n      <g style=\"fill:#262626;\" transform=\"translate(21.259844 146.383996)scale(0.1 -0.1)\">\n       <defs>\n        <path d=\"M 4.15625 18.75 \nL 13.375 19.53125 \nQ 14.40625 12.796875 18.140625 9.390625 \nQ 21.875 6 27.15625 6 \nQ 33.5 6 37.890625 10.78125 \nQ 42.28125 15.578125 42.28125 23.484375 \nQ 42.28125 31 38.0625 35.34375 \nQ 33.84375 39.703125 27 39.703125 \nQ 22.75 39.703125 19.328125 37.765625 \nQ 15.921875 35.84375 13.96875 32.765625 \nL 5.71875 33.84375 \nL 12.640625 70.609375 \nL 48.25 70.609375 \nL 48.25 62.203125 \nL 19.671875 62.203125 \nL 15.828125 42.96875 \nQ 22.265625 47.46875 29.34375 47.46875 \nQ 38.71875 47.46875 45.15625 40.96875 \nQ 51.609375 34.46875 51.609375 24.265625 \nQ 51.609375 14.546875 45.953125 7.46875 \nQ 39.0625 -1.21875 27.15625 -1.21875 \nQ 17.390625 -1.21875 11.203125 4.25 \nQ 5.03125 9.71875 4.15625 18.75 \nz\n\" id=\"ArialMT-53\"/>\n       </defs>\n       <use xlink:href=\"#ArialMT-48\"/>\n       <use x=\"55.615234\" xlink:href=\"#ArialMT-46\"/>\n       <use x=\"83.398438\" xlink:href=\"#ArialMT-53\"/>\n      </g>\n     </g>\n    </g>\n    <g id=\"ytick_7\">\n     <g id=\"line2d_23\">\n      <path clip-path=\"url(#p254b9352cb)\" d=\"M 42.159844 107.212232 \nL 488.559844 107.212232 \n\" style=\"fill:none;stroke:#ffffff;stroke-linecap:round;\"/>\n     </g>\n     <g id=\"line2d_24\"/>\n     <g id=\"text_13\">\n      <!-- 0.6 -->\n      <g style=\"fill:#262626;\" transform=\"translate(21.259844 110.791138)scale(0.1 -0.1)\">\n       <defs>\n        <path d=\"M 49.75 54.046875 \nL 41.015625 53.375 \nQ 39.84375 58.546875 37.703125 60.890625 \nQ 34.125 64.65625 28.90625 64.65625 \nQ 24.703125 64.65625 21.53125 62.3125 \nQ 17.390625 59.28125 14.984375 53.46875 \nQ 12.59375 47.65625 12.5 36.921875 \nQ 15.671875 41.75 20.265625 44.09375 \nQ 24.859375 46.4375 29.890625 46.4375 \nQ 38.671875 46.4375 44.84375 39.96875 \nQ 51.03125 33.5 51.03125 23.25 \nQ 51.03125 16.5 48.125 10.71875 \nQ 45.21875 4.9375 40.140625 1.859375 \nQ 35.0625 -1.21875 28.609375 -1.21875 \nQ 17.625 -1.21875 10.6875 6.859375 \nQ 3.765625 14.9375 3.765625 33.5 \nQ 3.765625 54.25 11.421875 63.671875 \nQ 18.109375 71.875 29.4375 71.875 \nQ 37.890625 71.875 43.28125 67.140625 \nQ 48.6875 62.40625 49.75 54.046875 \nz\nM 13.875 23.1875 \nQ 13.875 18.65625 15.796875 14.5 \nQ 17.71875 10.359375 21.1875 8.171875 \nQ 24.65625 6 28.46875 6 \nQ 34.03125 6 38.03125 10.484375 \nQ 42.046875 14.984375 42.046875 22.703125 \nQ 42.046875 30.125 38.078125 34.390625 \nQ 34.125 38.671875 28.125 38.671875 \nQ 22.171875 38.671875 18.015625 34.390625 \nQ 13.875 30.125 13.875 23.1875 \nz\n\" id=\"ArialMT-54\"/>\n       </defs>\n       <use xlink:href=\"#ArialMT-48\"/>\n       <use x=\"55.615234\" xlink:href=\"#ArialMT-46\"/>\n       <use x=\"83.398438\" xlink:href=\"#ArialMT-54\"/>\n      </g>\n     </g>\n    </g>\n    <g id=\"ytick_8\">\n     <g id=\"line2d_25\">\n      <path clip-path=\"url(#p254b9352cb)\" d=\"M 42.159844 71.619375 \nL 488.559844 71.619375 \n\" style=\"fill:none;stroke:#ffffff;stroke-linecap:round;\"/>\n     </g>\n     <g id=\"line2d_26\"/>\n     <g id=\"text_14\">\n      <!-- 0.7 -->\n      <g style=\"fill:#262626;\" transform=\"translate(21.259844 75.198281)scale(0.1 -0.1)\">\n       <defs>\n        <path d=\"M 4.734375 62.203125 \nL 4.734375 70.65625 \nL 51.078125 70.65625 \nL 51.078125 63.8125 \nQ 44.234375 56.546875 37.515625 44.484375 \nQ 30.8125 32.421875 27.15625 19.671875 \nQ 24.515625 10.6875 23.78125 0 \nL 14.75 0 \nQ 14.890625 8.453125 18.0625 20.40625 \nQ 21.234375 32.375 27.171875 43.484375 \nQ 33.109375 54.59375 39.796875 62.203125 \nz\n\" id=\"ArialMT-55\"/>\n       </defs>\n       <use xlink:href=\"#ArialMT-48\"/>\n       <use x=\"55.615234\" xlink:href=\"#ArialMT-46\"/>\n       <use x=\"83.398438\" xlink:href=\"#ArialMT-55\"/>\n      </g>\n     </g>\n    </g>\n    <g id=\"ytick_9\">\n     <g id=\"line2d_27\">\n      <path clip-path=\"url(#p254b9352cb)\" d=\"M 42.159844 36.026518 \nL 488.559844 36.026518 \n\" style=\"fill:none;stroke:#ffffff;stroke-linecap:round;\"/>\n     </g>\n     <g id=\"line2d_28\"/>\n     <g id=\"text_15\">\n      <!-- 0.8 -->\n      <g style=\"fill:#262626;\" transform=\"translate(21.259844 39.605424)scale(0.1 -0.1)\">\n       <defs>\n        <path d=\"M 17.671875 38.8125 \nQ 12.203125 40.828125 9.5625 44.53125 \nQ 6.9375 48.25 6.9375 53.421875 \nQ 6.9375 61.234375 12.546875 66.546875 \nQ 18.171875 71.875 27.484375 71.875 \nQ 36.859375 71.875 42.578125 66.421875 \nQ 48.296875 60.984375 48.296875 53.171875 \nQ 48.296875 48.1875 45.671875 44.5 \nQ 43.0625 40.828125 37.75 38.8125 \nQ 44.34375 36.671875 47.78125 31.875 \nQ 51.21875 27.09375 51.21875 20.453125 \nQ 51.21875 11.28125 44.71875 5.03125 \nQ 38.234375 -1.21875 27.640625 -1.21875 \nQ 17.046875 -1.21875 10.546875 5.046875 \nQ 4.046875 11.328125 4.046875 20.703125 \nQ 4.046875 27.6875 7.59375 32.390625 \nQ 11.140625 37.109375 17.671875 38.8125 \nz\nM 15.921875 53.71875 \nQ 15.921875 48.640625 19.1875 45.40625 \nQ 22.46875 42.1875 27.6875 42.1875 \nQ 32.765625 42.1875 36.015625 45.375 \nQ 39.265625 48.578125 39.265625 53.21875 \nQ 39.265625 58.0625 35.90625 61.359375 \nQ 32.5625 64.65625 27.59375 64.65625 \nQ 22.5625 64.65625 19.234375 61.421875 \nQ 15.921875 58.203125 15.921875 53.71875 \nz\nM 13.09375 20.65625 \nQ 13.09375 16.890625 14.875 13.375 \nQ 16.65625 9.859375 20.171875 7.921875 \nQ 23.6875 6 27.734375 6 \nQ 34.03125 6 38.125 10.046875 \nQ 42.234375 14.109375 42.234375 20.359375 \nQ 42.234375 26.703125 38.015625 30.859375 \nQ 33.796875 35.015625 27.4375 35.015625 \nQ 21.234375 35.015625 17.15625 30.90625 \nQ 13.09375 26.8125 13.09375 20.65625 \nz\n\" id=\"ArialMT-56\"/>\n       </defs>\n       <use xlink:href=\"#ArialMT-48\"/>\n       <use x=\"55.615234\" xlink:href=\"#ArialMT-46\"/>\n       <use x=\"83.398438\" xlink:href=\"#ArialMT-56\"/>\n      </g>\n     </g>\n    </g>\n    <g id=\"text_16\">\n     <!-- % of Heart Disease -->\n     <g style=\"fill:#262626;\" transform=\"translate(15.073594 218.658437)rotate(-90)scale(0.11 -0.11)\">\n      <defs>\n       <path d=\"M 5.8125 54.390625 \nQ 5.8125 62.0625 9.671875 67.421875 \nQ 13.53125 72.796875 20.84375 72.796875 \nQ 27.59375 72.796875 32 67.984375 \nQ 36.421875 63.1875 36.421875 53.859375 \nQ 36.421875 44.78125 31.953125 39.875 \nQ 27.484375 34.96875 20.953125 34.96875 \nQ 14.453125 34.96875 10.125 39.796875 \nQ 5.8125 44.625 5.8125 54.390625 \nz\nM 21.09375 66.75 \nQ 17.828125 66.75 15.65625 63.90625 \nQ 13.484375 61.078125 13.484375 53.515625 \nQ 13.484375 46.625 15.671875 43.8125 \nQ 17.875 41.015625 21.09375 41.015625 \nQ 24.421875 41.015625 26.59375 43.84375 \nQ 28.765625 46.6875 28.765625 54.203125 \nQ 28.765625 61.140625 26.5625 63.9375 \nQ 24.359375 66.75 21.09375 66.75 \nz\nM 21.140625 -2.640625 \nL 60.296875 72.796875 \nL 67.4375 72.796875 \nL 28.421875 -2.640625 \nz\nM 52.09375 16.796875 \nQ 52.09375 24.515625 55.953125 29.859375 \nQ 59.8125 35.203125 67.1875 35.203125 \nQ 73.921875 35.203125 78.34375 30.390625 \nQ 82.765625 25.59375 82.765625 16.265625 \nQ 82.765625 7.171875 78.296875 2.265625 \nQ 73.828125 -2.640625 67.234375 -2.640625 \nQ 60.75 -2.640625 56.421875 2.21875 \nQ 52.09375 7.078125 52.09375 16.796875 \nz\nM 67.4375 29.15625 \nQ 64.109375 29.15625 61.9375 26.3125 \nQ 59.765625 23.484375 59.765625 15.921875 \nQ 59.765625 9.078125 61.953125 6.25 \nQ 64.15625 3.421875 67.390625 3.421875 \nQ 70.75 3.421875 72.921875 6.25 \nQ 75.09375 9.078125 75.09375 16.609375 \nQ 75.09375 23.53125 72.890625 26.34375 \nQ 70.703125 29.15625 67.4375 29.15625 \nz\n\" id=\"ArialMT-37\"/>\n       <path id=\"ArialMT-32\"/>\n       <path d=\"M 3.328125 25.921875 \nQ 3.328125 40.328125 11.328125 47.265625 \nQ 18.015625 53.03125 27.640625 53.03125 \nQ 38.328125 53.03125 45.109375 46.015625 \nQ 51.90625 39.015625 51.90625 26.65625 \nQ 51.90625 16.65625 48.90625 10.90625 \nQ 45.90625 5.171875 40.15625 2 \nQ 34.421875 -1.171875 27.640625 -1.171875 \nQ 16.75 -1.171875 10.03125 5.8125 \nQ 3.328125 12.796875 3.328125 25.921875 \nz\nM 12.359375 25.921875 \nQ 12.359375 15.96875 16.703125 11.015625 \nQ 21.046875 6.0625 27.640625 6.0625 \nQ 34.1875 6.0625 38.53125 11.03125 \nQ 42.875 16.015625 42.875 26.21875 \nQ 42.875 35.84375 38.5 40.796875 \nQ 34.125 45.75 27.640625 45.75 \nQ 21.046875 45.75 16.703125 40.8125 \nQ 12.359375 35.890625 12.359375 25.921875 \nz\n\" id=\"ArialMT-111\"/>\n       <path d=\"M 8.6875 0 \nL 8.6875 45.015625 \nL 0.921875 45.015625 \nL 0.921875 51.859375 \nL 8.6875 51.859375 \nL 8.6875 57.375 \nQ 8.6875 62.59375 9.625 65.140625 \nQ 10.890625 68.5625 14.078125 70.671875 \nQ 17.28125 72.796875 23.046875 72.796875 \nQ 26.765625 72.796875 31.25 71.921875 \nL 29.9375 64.265625 \nQ 27.203125 64.75 24.75 64.75 \nQ 20.75 64.75 19.09375 63.03125 \nQ 17.4375 61.328125 17.4375 56.640625 \nL 17.4375 51.859375 \nL 27.546875 51.859375 \nL 27.546875 45.015625 \nL 17.4375 45.015625 \nL 17.4375 0 \nz\n\" id=\"ArialMT-102\"/>\n       <path d=\"M 8.015625 0 \nL 8.015625 71.578125 \nL 17.484375 71.578125 \nL 17.484375 42.1875 \nL 54.6875 42.1875 \nL 54.6875 71.578125 \nL 64.15625 71.578125 \nL 64.15625 0 \nL 54.6875 0 \nL 54.6875 33.734375 \nL 17.484375 33.734375 \nL 17.484375 0 \nz\n\" id=\"ArialMT-72\"/>\n       <path d=\"M 42.09375 16.703125 \nL 51.171875 15.578125 \nQ 49.03125 7.625 43.21875 3.21875 \nQ 37.40625 -1.171875 28.375 -1.171875 \nQ 17 -1.171875 10.328125 5.828125 \nQ 3.65625 12.84375 3.65625 25.484375 \nQ 3.65625 38.578125 10.390625 45.796875 \nQ 17.140625 53.03125 27.875 53.03125 \nQ 38.28125 53.03125 44.875 45.953125 \nQ 51.46875 38.875 51.46875 26.03125 \nQ 51.46875 25.25 51.421875 23.6875 \nL 12.75 23.6875 \nQ 13.234375 15.140625 17.578125 10.59375 \nQ 21.921875 6.0625 28.421875 6.0625 \nQ 33.25 6.0625 36.671875 8.59375 \nQ 40.09375 11.140625 42.09375 16.703125 \nz\nM 13.234375 30.90625 \nL 42.1875 30.90625 \nQ 41.609375 37.453125 38.875 40.71875 \nQ 34.671875 45.796875 27.984375 45.796875 \nQ 21.921875 45.796875 17.796875 41.75 \nQ 13.671875 37.703125 13.234375 30.90625 \nz\n\" id=\"ArialMT-101\"/>\n       <path d=\"M 6.5 0 \nL 6.5 51.859375 \nL 14.40625 51.859375 \nL 14.40625 44 \nQ 17.4375 49.515625 20 51.265625 \nQ 22.5625 53.03125 25.640625 53.03125 \nQ 30.078125 53.03125 34.671875 50.203125 \nL 31.640625 42.046875 \nQ 28.421875 43.953125 25.203125 43.953125 \nQ 22.3125 43.953125 20.015625 42.21875 \nQ 17.71875 40.484375 16.75 37.40625 \nQ 15.28125 32.71875 15.28125 27.15625 \nL 15.28125 0 \nz\n\" id=\"ArialMT-114\"/>\n       <path d=\"M 25.78125 7.859375 \nL 27.046875 0.09375 \nQ 23.34375 -0.6875 20.40625 -0.6875 \nQ 15.625 -0.6875 12.984375 0.828125 \nQ 10.359375 2.34375 9.28125 4.8125 \nQ 8.203125 7.28125 8.203125 15.1875 \nL 8.203125 45.015625 \nL 1.765625 45.015625 \nL 1.765625 51.859375 \nL 8.203125 51.859375 \nL 8.203125 64.703125 \nL 16.9375 69.96875 \nL 16.9375 51.859375 \nL 25.78125 51.859375 \nL 25.78125 45.015625 \nL 16.9375 45.015625 \nL 16.9375 14.703125 \nQ 16.9375 10.9375 17.40625 9.859375 \nQ 17.875 8.796875 18.921875 8.15625 \nQ 19.96875 7.515625 21.921875 7.515625 \nQ 23.390625 7.515625 25.78125 7.859375 \nz\n\" id=\"ArialMT-116\"/>\n       <path d=\"M 7.71875 0 \nL 7.71875 71.578125 \nL 32.375 71.578125 \nQ 40.71875 71.578125 45.125 70.5625 \nQ 51.265625 69.140625 55.609375 65.4375 \nQ 61.28125 60.640625 64.078125 53.1875 \nQ 66.890625 45.75 66.890625 36.1875 \nQ 66.890625 28.03125 64.984375 21.734375 \nQ 63.09375 15.4375 60.109375 11.296875 \nQ 57.125 7.171875 53.578125 4.796875 \nQ 50.046875 2.4375 45.046875 1.21875 \nQ 40.046875 0 33.546875 0 \nz\nM 17.1875 8.453125 \nL 32.46875 8.453125 \nQ 39.546875 8.453125 43.578125 9.765625 \nQ 47.609375 11.078125 50 13.484375 \nQ 53.375 16.84375 55.25 22.53125 \nQ 57.125 28.21875 57.125 36.328125 \nQ 57.125 47.5625 53.4375 53.59375 \nQ 49.75 59.625 44.484375 61.671875 \nQ 40.671875 63.140625 32.234375 63.140625 \nL 17.1875 63.140625 \nz\n\" id=\"ArialMT-68\"/>\n       <path d=\"M 6.640625 61.46875 \nL 6.640625 71.578125 \nL 15.4375 71.578125 \nL 15.4375 61.46875 \nz\nM 6.640625 0 \nL 6.640625 51.859375 \nL 15.4375 51.859375 \nL 15.4375 0 \nz\n\" id=\"ArialMT-105\"/>\n       <path d=\"M 3.078125 15.484375 \nL 11.765625 16.84375 \nQ 12.5 11.625 15.84375 8.84375 \nQ 19.1875 6.0625 25.203125 6.0625 \nQ 31.25 6.0625 34.171875 8.515625 \nQ 37.109375 10.984375 37.109375 14.3125 \nQ 37.109375 17.28125 34.515625 19 \nQ 32.71875 20.171875 25.53125 21.96875 \nQ 15.875 24.421875 12.140625 26.203125 \nQ 8.40625 27.984375 6.46875 31.125 \nQ 4.546875 34.28125 4.546875 38.09375 \nQ 4.546875 41.546875 6.125 44.5 \nQ 7.71875 47.46875 10.453125 49.421875 \nQ 12.5 50.921875 16.03125 51.96875 \nQ 19.578125 53.03125 23.640625 53.03125 \nQ 29.734375 53.03125 34.34375 51.265625 \nQ 38.96875 49.515625 41.15625 46.5 \nQ 43.359375 43.5 44.1875 38.484375 \nL 35.59375 37.3125 \nQ 35.015625 41.3125 32.203125 43.546875 \nQ 29.390625 45.796875 24.265625 45.796875 \nQ 18.21875 45.796875 15.625 43.796875 \nQ 13.03125 41.796875 13.03125 39.109375 \nQ 13.03125 37.40625 14.109375 36.03125 \nQ 15.1875 34.625 17.484375 33.6875 \nQ 18.796875 33.203125 25.25 31.453125 \nQ 34.578125 28.953125 38.25 27.359375 \nQ 41.9375 25.78125 44.03125 22.75 \nQ 46.140625 19.734375 46.140625 15.234375 \nQ 46.140625 10.84375 43.578125 6.953125 \nQ 41.015625 3.078125 36.171875 0.953125 \nQ 31.34375 -1.171875 25.25 -1.171875 \nQ 15.140625 -1.171875 9.84375 3.03125 \nQ 4.546875 7.234375 3.078125 15.484375 \nz\n\" id=\"ArialMT-115\"/>\n      </defs>\n      <use xlink:href=\"#ArialMT-37\"/>\n      <use x=\"88.916016\" xlink:href=\"#ArialMT-32\"/>\n      <use x=\"116.699219\" xlink:href=\"#ArialMT-111\"/>\n      <use x=\"172.314453\" xlink:href=\"#ArialMT-102\"/>\n      <use x=\"200.097656\" xlink:href=\"#ArialMT-32\"/>\n      <use x=\"227.880859\" xlink:href=\"#ArialMT-72\"/>\n      <use x=\"300.097656\" xlink:href=\"#ArialMT-101\"/>\n      <use x=\"355.712891\" xlink:href=\"#ArialMT-97\"/>\n      <use x=\"411.328125\" xlink:href=\"#ArialMT-114\"/>\n      <use x=\"444.628906\" xlink:href=\"#ArialMT-116\"/>\n      <use x=\"472.412109\" xlink:href=\"#ArialMT-32\"/>\n      <use x=\"500.195312\" xlink:href=\"#ArialMT-68\"/>\n      <use x=\"572.412109\" xlink:href=\"#ArialMT-105\"/>\n      <use x=\"594.628906\" xlink:href=\"#ArialMT-115\"/>\n      <use x=\"644.628906\" xlink:href=\"#ArialMT-101\"/>\n      <use x=\"700.244141\" xlink:href=\"#ArialMT-97\"/>\n      <use x=\"755.859375\" xlink:href=\"#ArialMT-115\"/>\n      <use x=\"805.859375\" xlink:href=\"#ArialMT-101\"/>\n     </g>\n    </g>\n   </g>\n   <g id=\"patch_3\">\n    <path clip-path=\"url(#p254b9352cb)\" d=\"M 62.450753 320.769375 \nL 130.087116 320.769375 \nL 130.087116 56.365293 \nL 62.450753 56.365293 \nz\n\" style=\"fill:#4c72b0;\"/>\n   </g>\n   <g id=\"patch_4\">\n    <path clip-path=\"url(#p254b9352cb)\" d=\"M 146.996207 320.769375 \nL 214.632571 320.769375 \nL 214.632571 205.777067 \nL 146.996207 205.777067 \nz\n\" style=\"fill:#4c72b0;\"/>\n   </g>\n   <g id=\"patch_5\">\n    <path clip-path=\"url(#p254b9352cb)\" d=\"M 231.541662 320.769375 \nL 299.178026 320.769375 \nL 299.178026 255.203586 \nL 231.541662 255.203586 \nz\n\" style=\"fill:#4c72b0;\"/>\n   </g>\n   <g id=\"patch_6\">\n    <path clip-path=\"url(#p254b9352cb)\" d=\"M 316.087116 320.769375 \nL 383.72348 320.769375 \nL 383.72348 267.380089 \nL 316.087116 267.380089 \nz\n\" style=\"fill:#4c72b0;\"/>\n   </g>\n   <g id=\"patch_7\">\n    <path clip-path=\"url(#p254b9352cb)\" d=\"M 400.632571 320.769375 \nL 468.268935 320.769375 \nL 468.268935 36.026518 \nL 400.632571 36.026518 \nz\n\" style=\"fill:#4c72b0;\"/>\n   </g>\n   <g id=\"patch_8\">\n    <path d=\"M 42.159844 320.769375 \nL 42.159844 21.789375 \n\" style=\"fill:none;\"/>\n   </g>\n   <g id=\"patch_9\">\n    <path d=\"M 488.559844 320.769375 \nL 488.559844 21.789375 \n\" style=\"fill:none;\"/>\n   </g>\n   <g id=\"patch_10\">\n    <path d=\"M 42.159844 320.769375 \nL 488.559844 320.769375 \n\" style=\"fill:none;\"/>\n   </g>\n   <g id=\"patch_11\">\n    <path d=\"M 42.159844 21.789375 \nL 488.559844 21.789375 \n\" style=\"fill:none;\"/>\n   </g>\n   <g id=\"text_17\">\n    <!-- ca -->\n    <g style=\"fill:#262626;\" transform=\"translate(259.023281 15.789375)scale(0.12 -0.12)\">\n     <use xlink:href=\"#ArialMT-99\"/>\n     <use x=\"50\" xlink:href=\"#ArialMT-97\"/>\n    </g>\n   </g>\n  </g>\n </g>\n <defs>\n  <clipPath id=\"p254b9352cb\">\n   <rect height=\"298.98\" width=\"446.4\" x=\"42.159844\" y=\"21.789375\"/>\n  </clipPath>\n </defs>\n</svg>\n",
      "image/png": "[encoded data removed]"
     },
     "metadata": {}
    }
   ],
   "source": [
    "fig = plt.figure()\n",
    "\n",
    "ax = fig.add_subplot(111)\n",
    "ax_y = df.groupby(x)[\"target\"].value_counts(normalize=True)[:, 1]\n",
    "ax_x = [\"0\", \"1\", \"2\", \"3\", \"4\"]\n",
    "ax.bar(ax_x, ax_y)\n",
    "ax.set(title=x, xlabel=x, ylabel=\"% of Heart Disease\")"
   ]
  },
  {
   "cell_type": "markdown",
   "metadata": {},
   "source": [
    "#### thal \n",
    "(meaning not given) 3 is normal, 6 is fixed defect, 7 is reversable defect"
   ]
  },
  {
   "cell_type": "code",
   "execution_count": 38,
   "metadata": {},
   "outputs": [],
   "source": [
    "x = \"thal\""
   ]
  },
  {
   "cell_type": "code",
   "execution_count": 39,
   "metadata": {},
   "outputs": [
    {
     "output_type": "execute_result",
     "data": {
      "text/plain": [
       "2    0.547855\n",
       "3    0.386139\n",
       "1    0.059406\n",
       "0    0.006601\n",
       "Name: thal, dtype: float64"
      ]
     },
     "metadata": {},
     "execution_count": 39
    }
   ],
   "source": [
    "df[x].value_counts(normalize=True)"
   ]
  },
  {
   "cell_type": "code",
   "execution_count": 40,
   "metadata": {},
   "outputs": [
    {
     "output_type": "execute_result",
     "data": {
      "text/plain": [
       "0"
      ]
     },
     "metadata": {},
     "execution_count": 40
    }
   ],
   "source": [
    "df[x].isnull().sum()"
   ]
  },
  {
   "cell_type": "code",
   "execution_count": 41,
   "metadata": {},
   "outputs": [
    {
     "output_type": "execute_result",
     "data": {
      "text/plain": [
       "[Text(0.5, 1.0, 'thal'),\n",
       " Text(0.5, 0, 'thal'),\n",
       " Text(0, 0.5, '% of Heart Disease')]"
      ]
     },
     "metadata": {},
     "execution_count": 41
    },
    {
     "output_type": "display_data",
     "data": {
      "text/plain": "<Figure size 576x396 with 1 Axes>",
      "image/svg+xml": "<?xml version=\"1.0\" encoding=\"utf-8\" standalone=\"no\"?>\n<!DOCTYPE svg PUBLIC \"-//W3C//DTD SVG 1.1//EN\"\n  \"http://www.w3.org/Graphics/SVG/1.1/DTD/svg11.dtd\">\n<!-- Created with matplotlib (https://matplotlib.org/) -->\n<svg height=\"358.174531pt\" version=\"1.1\" viewBox=\"0 0 495.759844 358.174531\" width=\"495.759844pt\" xmlns=\"http://www.w3.org/2000/svg\" xmlns:xlink=\"http://www.w3.org/1999/xlink\">\n <metadata>\n  <rdf:RDF xmlns:cc=\"http://creativecommons.org/ns#\" xmlns:dc=\"http://purl.org/dc/elements/1.1/\" xmlns:rdf=\"http://www.w3.org/1999/02/22-rdf-syntax-ns#\">\n   <cc:Work>\n    <dc:type rdf:resource=\"http://purl.org/dc/dcmitype/StillImage\"/>\n    <dc:date>2021-07-03T16:39:22.833013</dc:date>\n    <dc:format>image/svg+xml</dc:format>\n    <dc:creator>\n     <cc:Agent>\n      <dc:title>Matplotlib v3.3.3, https://matplotlib.org/</dc:title>\n     </cc:Agent>\n    </dc:creator>\n   </cc:Work>\n  </rdf:RDF>\n </metadata>\n <defs>\n  <style type=\"text/css\">*{stroke-linecap:butt;stroke-linejoin:round;}</style>\n </defs>\n <g id=\"figure_1\">\n  <g id=\"patch_1\">\n   <path d=\"M 0 358.174531 \nL 495.759844 358.174531 \nL 495.759844 0 \nL 0 0 \nz\n\" style=\"fill:#ffffff;\"/>\n  </g>\n  <g id=\"axes_1\">\n   <g id=\"patch_2\">\n    <path d=\"M 42.159844 320.769375 \nL 488.559844 320.769375 \nL 488.559844 21.789375 \nL 42.159844 21.789375 \nz\n\" style=\"fill:#eaeaf2;\"/>\n   </g>\n   <g id=\"matplotlib.axis_1\">\n    <g id=\"xtick_1\">\n     <g id=\"line2d_1\">\n      <path clip-path=\"url(#p88cea1f32a)\" d=\"M 105.168456 320.769375 \nL 105.168456 21.789375 \n\" style=\"fill:none;stroke:#ffffff;stroke-linecap:round;\"/>\n     </g>\n     <g id=\"line2d_2\"/>\n     <g id=\"text_1\">\n      <!-- 0 -->\n      <g style=\"fill:#262626;\" transform=\"translate(102.387987 334.927187)scale(0.1 -0.1)\">\n       <defs>\n        <path d=\"M 4.15625 35.296875 \nQ 4.15625 48 6.765625 55.734375 \nQ 9.375 63.484375 14.515625 67.671875 \nQ 19.671875 71.875 27.484375 71.875 \nQ 33.25 71.875 37.59375 69.546875 \nQ 41.9375 67.234375 44.765625 62.859375 \nQ 47.609375 58.5 49.21875 52.21875 \nQ 50.828125 45.953125 50.828125 35.296875 \nQ 50.828125 22.703125 48.234375 14.96875 \nQ 45.65625 7.234375 40.5 3 \nQ 35.359375 -1.21875 27.484375 -1.21875 \nQ 17.140625 -1.21875 11.234375 6.203125 \nQ 4.15625 15.140625 4.15625 35.296875 \nz\nM 13.1875 35.296875 \nQ 13.1875 17.671875 17.3125 11.828125 \nQ 21.4375 6 27.484375 6 \nQ 33.546875 6 37.671875 11.859375 \nQ 41.796875 17.71875 41.796875 35.296875 \nQ 41.796875 52.984375 37.671875 58.78125 \nQ 33.546875 64.59375 27.390625 64.59375 \nQ 21.34375 64.59375 17.71875 59.46875 \nQ 13.1875 52.9375 13.1875 35.296875 \nz\n\" id=\"ArialMT-48\"/>\n       </defs>\n       <use xlink:href=\"#ArialMT-48\"/>\n      </g>\n     </g>\n    </g>\n    <g id=\"xtick_2\">\n     <g id=\"line2d_3\">\n      <path clip-path=\"url(#p88cea1f32a)\" d=\"M 211.962715 320.769375 \nL 211.962715 21.789375 \n\" style=\"fill:none;stroke:#ffffff;stroke-linecap:round;\"/>\n     </g>\n     <g id=\"line2d_4\"/>\n     <g id=\"text_2\">\n      <!-- 1 -->\n      <g style=\"fill:#262626;\" transform=\"translate(209.182246 334.927187)scale(0.1 -0.1)\">\n       <defs>\n        <path d=\"M 37.25 0 \nL 28.46875 0 \nL 28.46875 56 \nQ 25.296875 52.984375 20.140625 49.953125 \nQ 14.984375 46.921875 10.890625 45.40625 \nL 10.890625 53.90625 \nQ 18.265625 57.375 23.78125 62.296875 \nQ 29.296875 67.234375 31.59375 71.875 \nL 37.25 71.875 \nz\n\" id=\"ArialMT-49\"/>\n       </defs>\n       <use xlink:href=\"#ArialMT-49\"/>\n      </g>\n     </g>\n    </g>\n    <g id=\"xtick_3\">\n     <g id=\"line2d_5\">\n      <path clip-path=\"url(#p88cea1f32a)\" d=\"M 318.756973 320.769375 \nL 318.756973 21.789375 \n\" style=\"fill:none;stroke:#ffffff;stroke-linecap:round;\"/>\n     </g>\n     <g id=\"line2d_6\"/>\n     <g id=\"text_3\">\n      <!-- 2 -->\n      <g style=\"fill:#262626;\" transform=\"translate(315.976504 334.927187)scale(0.1 -0.1)\">\n       <defs>\n        <path d=\"M 50.34375 8.453125 \nL 50.34375 0 \nL 3.03125 0 \nQ 2.9375 3.171875 4.046875 6.109375 \nQ 5.859375 10.9375 9.828125 15.625 \nQ 13.8125 20.3125 21.34375 26.46875 \nQ 33.015625 36.03125 37.109375 41.625 \nQ 41.21875 47.21875 41.21875 52.203125 \nQ 41.21875 57.421875 37.46875 61 \nQ 33.734375 64.59375 27.734375 64.59375 \nQ 21.390625 64.59375 17.578125 60.78125 \nQ 13.765625 56.984375 13.71875 50.25 \nL 4.6875 51.171875 \nQ 5.609375 61.28125 11.65625 66.578125 \nQ 17.71875 71.875 27.9375 71.875 \nQ 38.234375 71.875 44.234375 66.15625 \nQ 50.25 60.453125 50.25 52 \nQ 50.25 47.703125 48.484375 43.546875 \nQ 46.734375 39.40625 42.65625 34.8125 \nQ 38.578125 30.21875 29.109375 22.21875 \nQ 21.1875 15.578125 18.9375 13.203125 \nQ 16.703125 10.84375 15.234375 8.453125 \nz\n\" id=\"ArialMT-50\"/>\n       </defs>\n       <use xlink:href=\"#ArialMT-50\"/>\n      </g>\n     </g>\n    </g>\n    <g id=\"xtick_4\">\n     <g id=\"line2d_7\">\n      <path clip-path=\"url(#p88cea1f32a)\" d=\"M 425.551231 320.769375 \nL 425.551231 21.789375 \n\" style=\"fill:none;stroke:#ffffff;stroke-linecap:round;\"/>\n     </g>\n     <g id=\"line2d_8\"/>\n     <g id=\"text_4\">\n      <!-- 3 -->\n      <g style=\"fill:#262626;\" transform=\"translate(422.770763 334.927187)scale(0.1 -0.1)\">\n       <defs>\n        <path d=\"M 4.203125 18.890625 \nL 12.984375 20.0625 \nQ 14.5 12.59375 18.140625 9.296875 \nQ 21.78125 6 27 6 \nQ 33.203125 6 37.46875 10.296875 \nQ 41.75 14.59375 41.75 20.953125 \nQ 41.75 27 37.796875 30.921875 \nQ 33.84375 34.859375 27.734375 34.859375 \nQ 25.25 34.859375 21.53125 33.890625 \nL 22.515625 41.609375 \nQ 23.390625 41.5 23.921875 41.5 \nQ 29.546875 41.5 34.03125 44.421875 \nQ 38.53125 47.359375 38.53125 53.46875 \nQ 38.53125 58.296875 35.25 61.46875 \nQ 31.984375 64.65625 26.8125 64.65625 \nQ 21.6875 64.65625 18.265625 61.421875 \nQ 14.84375 58.203125 13.875 51.765625 \nL 5.078125 53.328125 \nQ 6.6875 62.15625 12.390625 67.015625 \nQ 18.109375 71.875 26.609375 71.875 \nQ 32.46875 71.875 37.390625 69.359375 \nQ 42.328125 66.84375 44.9375 62.5 \nQ 47.5625 58.15625 47.5625 53.265625 \nQ 47.5625 48.640625 45.0625 44.828125 \nQ 42.578125 41.015625 37.703125 38.765625 \nQ 44.046875 37.3125 47.5625 32.6875 \nQ 51.078125 28.078125 51.078125 21.140625 \nQ 51.078125 11.765625 44.234375 5.25 \nQ 37.40625 -1.265625 26.953125 -1.265625 \nQ 17.53125 -1.265625 11.296875 4.34375 \nQ 5.078125 9.96875 4.203125 18.890625 \nz\n\" id=\"ArialMT-51\"/>\n       </defs>\n       <use xlink:href=\"#ArialMT-51\"/>\n      </g>\n     </g>\n    </g>\n    <g id=\"text_5\">\n     <!-- thal -->\n     <g style=\"fill:#262626;\" transform=\"translate(256.492812 348.788281)scale(0.11 -0.11)\">\n      <defs>\n       <path d=\"M 25.78125 7.859375 \nL 27.046875 0.09375 \nQ 23.34375 -0.6875 20.40625 -0.6875 \nQ 15.625 -0.6875 12.984375 0.828125 \nQ 10.359375 2.34375 9.28125 4.8125 \nQ 8.203125 7.28125 8.203125 15.1875 \nL 8.203125 45.015625 \nL 1.765625 45.015625 \nL 1.765625 51.859375 \nL 8.203125 51.859375 \nL 8.203125 64.703125 \nL 16.9375 69.96875 \nL 16.9375 51.859375 \nL 25.78125 51.859375 \nL 25.78125 45.015625 \nL 16.9375 45.015625 \nL 16.9375 14.703125 \nQ 16.9375 10.9375 17.40625 9.859375 \nQ 17.875 8.796875 18.921875 8.15625 \nQ 19.96875 7.515625 21.921875 7.515625 \nQ 23.390625 7.515625 25.78125 7.859375 \nz\n\" id=\"ArialMT-116\"/>\n       <path d=\"M 6.59375 0 \nL 6.59375 71.578125 \nL 15.375 71.578125 \nL 15.375 45.90625 \nQ 21.53125 53.03125 30.90625 53.03125 \nQ 36.671875 53.03125 40.921875 50.75 \nQ 45.171875 48.484375 47 44.484375 \nQ 48.828125 40.484375 48.828125 32.859375 \nL 48.828125 0 \nL 40.046875 0 \nL 40.046875 32.859375 \nQ 40.046875 39.453125 37.1875 42.453125 \nQ 34.328125 45.453125 29.109375 45.453125 \nQ 25.203125 45.453125 21.75 43.421875 \nQ 18.3125 41.40625 16.84375 37.9375 \nQ 15.375 34.46875 15.375 28.375 \nL 15.375 0 \nz\n\" id=\"ArialMT-104\"/>\n       <path d=\"M 40.4375 6.390625 \nQ 35.546875 2.25 31.03125 0.53125 \nQ 26.515625 -1.171875 21.34375 -1.171875 \nQ 12.796875 -1.171875 8.203125 3 \nQ 3.609375 7.171875 3.609375 13.671875 \nQ 3.609375 17.484375 5.34375 20.625 \nQ 7.078125 23.78125 9.890625 25.6875 \nQ 12.703125 27.59375 16.21875 28.5625 \nQ 18.796875 29.25 24.03125 29.890625 \nQ 34.671875 31.15625 39.703125 32.90625 \nQ 39.75 34.71875 39.75 35.203125 \nQ 39.75 40.578125 37.25 42.78125 \nQ 33.890625 45.75 27.25 45.75 \nQ 21.046875 45.75 18.09375 43.578125 \nQ 15.140625 41.40625 13.71875 35.890625 \nL 5.125 37.0625 \nQ 6.296875 42.578125 8.984375 45.96875 \nQ 11.671875 49.359375 16.75 51.1875 \nQ 21.828125 53.03125 28.515625 53.03125 \nQ 35.15625 53.03125 39.296875 51.46875 \nQ 43.453125 49.90625 45.40625 47.53125 \nQ 47.359375 45.171875 48.140625 41.546875 \nQ 48.578125 39.3125 48.578125 33.453125 \nL 48.578125 21.734375 \nQ 48.578125 9.46875 49.140625 6.21875 \nQ 49.703125 2.984375 51.375 0 \nL 42.1875 0 \nQ 40.828125 2.734375 40.4375 6.390625 \nz\nM 39.703125 26.03125 \nQ 34.90625 24.078125 25.34375 22.703125 \nQ 19.921875 21.921875 17.671875 20.9375 \nQ 15.4375 19.96875 14.203125 18.09375 \nQ 12.984375 16.21875 12.984375 13.921875 \nQ 12.984375 10.40625 15.640625 8.0625 \nQ 18.3125 5.71875 23.4375 5.71875 \nQ 28.515625 5.71875 32.46875 7.9375 \nQ 36.421875 10.15625 38.28125 14.015625 \nQ 39.703125 17 39.703125 22.796875 \nz\n\" id=\"ArialMT-97\"/>\n       <path d=\"M 6.390625 0 \nL 6.390625 71.578125 \nL 15.1875 71.578125 \nL 15.1875 0 \nz\n\" id=\"ArialMT-108\"/>\n      </defs>\n      <use xlink:href=\"#ArialMT-116\"/>\n      <use x=\"27.783203\" xlink:href=\"#ArialMT-104\"/>\n      <use x=\"83.398438\" xlink:href=\"#ArialMT-97\"/>\n      <use x=\"139.013672\" xlink:href=\"#ArialMT-108\"/>\n     </g>\n    </g>\n   </g>\n   <g id=\"matplotlib.axis_2\">\n    <g id=\"ytick_1\">\n     <g id=\"line2d_9\">\n      <path clip-path=\"url(#p88cea1f32a)\" d=\"M 42.159844 320.769375 \nL 488.559844 320.769375 \n\" style=\"fill:none;stroke:#ffffff;stroke-linecap:round;\"/>\n     </g>\n     <g id=\"line2d_10\"/>\n     <g id=\"text_6\">\n      <!-- 0.0 -->\n      <g style=\"fill:#262626;\" transform=\"translate(21.259844 324.348281)scale(0.1 -0.1)\">\n       <defs>\n        <path d=\"M 9.078125 0 \nL 9.078125 10.015625 \nL 19.09375 10.015625 \nL 19.09375 0 \nz\n\" id=\"ArialMT-46\"/>\n       </defs>\n       <use xlink:href=\"#ArialMT-48\"/>\n       <use x=\"55.615234\" xlink:href=\"#ArialMT-46\"/>\n       <use x=\"83.398438\" xlink:href=\"#ArialMT-48\"/>\n      </g>\n     </g>\n    </g>\n    <g id=\"ytick_2\">\n     <g id=\"line2d_11\">\n      <path clip-path=\"url(#p88cea1f32a)\" d=\"M 42.159844 284.409902 \nL 488.559844 284.409902 \n\" style=\"fill:none;stroke:#ffffff;stroke-linecap:round;\"/>\n     </g>\n     <g id=\"line2d_12\"/>\n     <g id=\"text_7\">\n      <!-- 0.1 -->\n      <g style=\"fill:#262626;\" transform=\"translate(21.259844 287.988809)scale(0.1 -0.1)\">\n       <use xlink:href=\"#ArialMT-48\"/>\n       <use x=\"55.615234\" xlink:href=\"#ArialMT-46\"/>\n       <use x=\"83.398438\" xlink:href=\"#ArialMT-49\"/>\n      </g>\n     </g>\n    </g>\n    <g id=\"ytick_3\">\n     <g id=\"line2d_13\">\n      <path clip-path=\"url(#p88cea1f32a)\" d=\"M 42.159844 248.05043 \nL 488.559844 248.05043 \n\" style=\"fill:none;stroke:#ffffff;stroke-linecap:round;\"/>\n     </g>\n     <g id=\"line2d_14\"/>\n     <g id=\"text_8\">\n      <!-- 0.2 -->\n      <g style=\"fill:#262626;\" transform=\"translate(21.259844 251.629336)scale(0.1 -0.1)\">\n       <use xlink:href=\"#ArialMT-48\"/>\n       <use x=\"55.615234\" xlink:href=\"#ArialMT-46\"/>\n       <use x=\"83.398438\" xlink:href=\"#ArialMT-50\"/>\n      </g>\n     </g>\n    </g>\n    <g id=\"ytick_4\">\n     <g id=\"line2d_15\">\n      <path clip-path=\"url(#p88cea1f32a)\" d=\"M 42.159844 211.690957 \nL 488.559844 211.690957 \n\" style=\"fill:none;stroke:#ffffff;stroke-linecap:round;\"/>\n     </g>\n     <g id=\"line2d_16\"/>\n     <g id=\"text_9\">\n      <!-- 0.3 -->\n      <g style=\"fill:#262626;\" transform=\"translate(21.259844 215.269864)scale(0.1 -0.1)\">\n       <use xlink:href=\"#ArialMT-48\"/>\n       <use x=\"55.615234\" xlink:href=\"#ArialMT-46\"/>\n       <use x=\"83.398438\" xlink:href=\"#ArialMT-51\"/>\n      </g>\n     </g>\n    </g>\n    <g id=\"ytick_5\">\n     <g id=\"line2d_17\">\n      <path clip-path=\"url(#p88cea1f32a)\" d=\"M 42.159844 175.331485 \nL 488.559844 175.331485 \n\" style=\"fill:none;stroke:#ffffff;stroke-linecap:round;\"/>\n     </g>\n     <g id=\"line2d_18\"/>\n     <g id=\"text_10\">\n      <!-- 0.4 -->\n      <g style=\"fill:#262626;\" transform=\"translate(21.259844 178.910391)scale(0.1 -0.1)\">\n       <defs>\n        <path d=\"M 32.328125 0 \nL 32.328125 17.140625 \nL 1.265625 17.140625 \nL 1.265625 25.203125 \nL 33.9375 71.578125 \nL 41.109375 71.578125 \nL 41.109375 25.203125 \nL 50.78125 25.203125 \nL 50.78125 17.140625 \nL 41.109375 17.140625 \nL 41.109375 0 \nz\nM 32.328125 25.203125 \nL 32.328125 57.46875 \nL 9.90625 25.203125 \nz\n\" id=\"ArialMT-52\"/>\n       </defs>\n       <use xlink:href=\"#ArialMT-48\"/>\n       <use x=\"55.615234\" xlink:href=\"#ArialMT-46\"/>\n       <use x=\"83.398438\" xlink:href=\"#ArialMT-52\"/>\n      </g>\n     </g>\n    </g>\n    <g id=\"ytick_6\">\n     <g id=\"line2d_19\">\n      <path clip-path=\"url(#p88cea1f32a)\" d=\"M 42.159844 138.972012 \nL 488.559844 138.972012 \n\" style=\"fill:none;stroke:#ffffff;stroke-linecap:round;\"/>\n     </g>\n     <g id=\"line2d_20\"/>\n     <g id=\"text_11\">\n      <!-- 0.5 -->\n      <g style=\"fill:#262626;\" transform=\"translate(21.259844 142.550919)scale(0.1 -0.1)\">\n       <defs>\n        <path d=\"M 4.15625 18.75 \nL 13.375 19.53125 \nQ 14.40625 12.796875 18.140625 9.390625 \nQ 21.875 6 27.15625 6 \nQ 33.5 6 37.890625 10.78125 \nQ 42.28125 15.578125 42.28125 23.484375 \nQ 42.28125 31 38.0625 35.34375 \nQ 33.84375 39.703125 27 39.703125 \nQ 22.75 39.703125 19.328125 37.765625 \nQ 15.921875 35.84375 13.96875 32.765625 \nL 5.71875 33.84375 \nL 12.640625 70.609375 \nL 48.25 70.609375 \nL 48.25 62.203125 \nL 19.671875 62.203125 \nL 15.828125 42.96875 \nQ 22.265625 47.46875 29.34375 47.46875 \nQ 38.71875 47.46875 45.15625 40.96875 \nQ 51.609375 34.46875 51.609375 24.265625 \nQ 51.609375 14.546875 45.953125 7.46875 \nQ 39.0625 -1.21875 27.15625 -1.21875 \nQ 17.390625 -1.21875 11.203125 4.25 \nQ 5.03125 9.71875 4.15625 18.75 \nz\n\" id=\"ArialMT-53\"/>\n       </defs>\n       <use xlink:href=\"#ArialMT-48\"/>\n       <use x=\"55.615234\" xlink:href=\"#ArialMT-46\"/>\n       <use x=\"83.398438\" xlink:href=\"#ArialMT-53\"/>\n      </g>\n     </g>\n    </g>\n    <g id=\"ytick_7\">\n     <g id=\"line2d_21\">\n      <path clip-path=\"url(#p88cea1f32a)\" d=\"M 42.159844 102.61254 \nL 488.559844 102.61254 \n\" style=\"fill:none;stroke:#ffffff;stroke-linecap:round;\"/>\n     </g>\n     <g id=\"line2d_22\"/>\n     <g id=\"text_12\">\n      <!-- 0.6 -->\n      <g style=\"fill:#262626;\" transform=\"translate(21.259844 106.191446)scale(0.1 -0.1)\">\n       <defs>\n        <path d=\"M 49.75 54.046875 \nL 41.015625 53.375 \nQ 39.84375 58.546875 37.703125 60.890625 \nQ 34.125 64.65625 28.90625 64.65625 \nQ 24.703125 64.65625 21.53125 62.3125 \nQ 17.390625 59.28125 14.984375 53.46875 \nQ 12.59375 47.65625 12.5 36.921875 \nQ 15.671875 41.75 20.265625 44.09375 \nQ 24.859375 46.4375 29.890625 46.4375 \nQ 38.671875 46.4375 44.84375 39.96875 \nQ 51.03125 33.5 51.03125 23.25 \nQ 51.03125 16.5 48.125 10.71875 \nQ 45.21875 4.9375 40.140625 1.859375 \nQ 35.0625 -1.21875 28.609375 -1.21875 \nQ 17.625 -1.21875 10.6875 6.859375 \nQ 3.765625 14.9375 3.765625 33.5 \nQ 3.765625 54.25 11.421875 63.671875 \nQ 18.109375 71.875 29.4375 71.875 \nQ 37.890625 71.875 43.28125 67.140625 \nQ 48.6875 62.40625 49.75 54.046875 \nz\nM 13.875 23.1875 \nQ 13.875 18.65625 15.796875 14.5 \nQ 17.71875 10.359375 21.1875 8.171875 \nQ 24.65625 6 28.46875 6 \nQ 34.03125 6 38.03125 10.484375 \nQ 42.046875 14.984375 42.046875 22.703125 \nQ 42.046875 30.125 38.078125 34.390625 \nQ 34.125 38.671875 28.125 38.671875 \nQ 22.171875 38.671875 18.015625 34.390625 \nQ 13.875 30.125 13.875 23.1875 \nz\n\" id=\"ArialMT-54\"/>\n       </defs>\n       <use xlink:href=\"#ArialMT-48\"/>\n       <use x=\"55.615234\" xlink:href=\"#ArialMT-46\"/>\n       <use x=\"83.398438\" xlink:href=\"#ArialMT-54\"/>\n      </g>\n     </g>\n    </g>\n    <g id=\"ytick_8\">\n     <g id=\"line2d_23\">\n      <path clip-path=\"url(#p88cea1f32a)\" d=\"M 42.159844 66.253067 \nL 488.559844 66.253067 \n\" style=\"fill:none;stroke:#ffffff;stroke-linecap:round;\"/>\n     </g>\n     <g id=\"line2d_24\"/>\n     <g id=\"text_13\">\n      <!-- 0.7 -->\n      <g style=\"fill:#262626;\" transform=\"translate(21.259844 69.831974)scale(0.1 -0.1)\">\n       <defs>\n        <path d=\"M 4.734375 62.203125 \nL 4.734375 70.65625 \nL 51.078125 70.65625 \nL 51.078125 63.8125 \nQ 44.234375 56.546875 37.515625 44.484375 \nQ 30.8125 32.421875 27.15625 19.671875 \nQ 24.515625 10.6875 23.78125 0 \nL 14.75 0 \nQ 14.890625 8.453125 18.0625 20.40625 \nQ 21.234375 32.375 27.171875 43.484375 \nQ 33.109375 54.59375 39.796875 62.203125 \nz\n\" id=\"ArialMT-55\"/>\n       </defs>\n       <use xlink:href=\"#ArialMT-48\"/>\n       <use x=\"55.615234\" xlink:href=\"#ArialMT-46\"/>\n       <use x=\"83.398438\" xlink:href=\"#ArialMT-55\"/>\n      </g>\n     </g>\n    </g>\n    <g id=\"ytick_9\">\n     <g id=\"line2d_25\">\n      <path clip-path=\"url(#p88cea1f32a)\" d=\"M 42.159844 29.893595 \nL 488.559844 29.893595 \n\" style=\"fill:none;stroke:#ffffff;stroke-linecap:round;\"/>\n     </g>\n     <g id=\"line2d_26\"/>\n     <g id=\"text_14\">\n      <!-- 0.8 -->\n      <g style=\"fill:#262626;\" transform=\"translate(21.259844 33.472501)scale(0.1 -0.1)\">\n       <defs>\n        <path d=\"M 17.671875 38.8125 \nQ 12.203125 40.828125 9.5625 44.53125 \nQ 6.9375 48.25 6.9375 53.421875 \nQ 6.9375 61.234375 12.546875 66.546875 \nQ 18.171875 71.875 27.484375 71.875 \nQ 36.859375 71.875 42.578125 66.421875 \nQ 48.296875 60.984375 48.296875 53.171875 \nQ 48.296875 48.1875 45.671875 44.5 \nQ 43.0625 40.828125 37.75 38.8125 \nQ 44.34375 36.671875 47.78125 31.875 \nQ 51.21875 27.09375 51.21875 20.453125 \nQ 51.21875 11.28125 44.71875 5.03125 \nQ 38.234375 -1.21875 27.640625 -1.21875 \nQ 17.046875 -1.21875 10.546875 5.046875 \nQ 4.046875 11.328125 4.046875 20.703125 \nQ 4.046875 27.6875 7.59375 32.390625 \nQ 11.140625 37.109375 17.671875 38.8125 \nz\nM 15.921875 53.71875 \nQ 15.921875 48.640625 19.1875 45.40625 \nQ 22.46875 42.1875 27.6875 42.1875 \nQ 32.765625 42.1875 36.015625 45.375 \nQ 39.265625 48.578125 39.265625 53.21875 \nQ 39.265625 58.0625 35.90625 61.359375 \nQ 32.5625 64.65625 27.59375 64.65625 \nQ 22.5625 64.65625 19.234375 61.421875 \nQ 15.921875 58.203125 15.921875 53.71875 \nz\nM 13.09375 20.65625 \nQ 13.09375 16.890625 14.875 13.375 \nQ 16.65625 9.859375 20.171875 7.921875 \nQ 23.6875 6 27.734375 6 \nQ 34.03125 6 38.125 10.046875 \nQ 42.234375 14.109375 42.234375 20.359375 \nQ 42.234375 26.703125 38.015625 30.859375 \nQ 33.796875 35.015625 27.4375 35.015625 \nQ 21.234375 35.015625 17.15625 30.90625 \nQ 13.09375 26.8125 13.09375 20.65625 \nz\n\" id=\"ArialMT-56\"/>\n       </defs>\n       <use xlink:href=\"#ArialMT-48\"/>\n       <use x=\"55.615234\" xlink:href=\"#ArialMT-46\"/>\n       <use x=\"83.398438\" xlink:href=\"#ArialMT-56\"/>\n      </g>\n     </g>\n    </g>\n    <g id=\"text_15\">\n     <!-- % of Heart Disease -->\n     <g style=\"fill:#262626;\" transform=\"translate(15.073594 218.658437)rotate(-90)scale(0.11 -0.11)\">\n      <defs>\n       <path d=\"M 5.8125 54.390625 \nQ 5.8125 62.0625 9.671875 67.421875 \nQ 13.53125 72.796875 20.84375 72.796875 \nQ 27.59375 72.796875 32 67.984375 \nQ 36.421875 63.1875 36.421875 53.859375 \nQ 36.421875 44.78125 31.953125 39.875 \nQ 27.484375 34.96875 20.953125 34.96875 \nQ 14.453125 34.96875 10.125 39.796875 \nQ 5.8125 44.625 5.8125 54.390625 \nz\nM 21.09375 66.75 \nQ 17.828125 66.75 15.65625 63.90625 \nQ 13.484375 61.078125 13.484375 53.515625 \nQ 13.484375 46.625 15.671875 43.8125 \nQ 17.875 41.015625 21.09375 41.015625 \nQ 24.421875 41.015625 26.59375 43.84375 \nQ 28.765625 46.6875 28.765625 54.203125 \nQ 28.765625 61.140625 26.5625 63.9375 \nQ 24.359375 66.75 21.09375 66.75 \nz\nM 21.140625 -2.640625 \nL 60.296875 72.796875 \nL 67.4375 72.796875 \nL 28.421875 -2.640625 \nz\nM 52.09375 16.796875 \nQ 52.09375 24.515625 55.953125 29.859375 \nQ 59.8125 35.203125 67.1875 35.203125 \nQ 73.921875 35.203125 78.34375 30.390625 \nQ 82.765625 25.59375 82.765625 16.265625 \nQ 82.765625 7.171875 78.296875 2.265625 \nQ 73.828125 -2.640625 67.234375 -2.640625 \nQ 60.75 -2.640625 56.421875 2.21875 \nQ 52.09375 7.078125 52.09375 16.796875 \nz\nM 67.4375 29.15625 \nQ 64.109375 29.15625 61.9375 26.3125 \nQ 59.765625 23.484375 59.765625 15.921875 \nQ 59.765625 9.078125 61.953125 6.25 \nQ 64.15625 3.421875 67.390625 3.421875 \nQ 70.75 3.421875 72.921875 6.25 \nQ 75.09375 9.078125 75.09375 16.609375 \nQ 75.09375 23.53125 72.890625 26.34375 \nQ 70.703125 29.15625 67.4375 29.15625 \nz\n\" id=\"ArialMT-37\"/>\n       <path id=\"ArialMT-32\"/>\n       <path d=\"M 3.328125 25.921875 \nQ 3.328125 40.328125 11.328125 47.265625 \nQ 18.015625 53.03125 27.640625 53.03125 \nQ 38.328125 53.03125 45.109375 46.015625 \nQ 51.90625 39.015625 51.90625 26.65625 \nQ 51.90625 16.65625 48.90625 10.90625 \nQ 45.90625 5.171875 40.15625 2 \nQ 34.421875 -1.171875 27.640625 -1.171875 \nQ 16.75 -1.171875 10.03125 5.8125 \nQ 3.328125 12.796875 3.328125 25.921875 \nz\nM 12.359375 25.921875 \nQ 12.359375 15.96875 16.703125 11.015625 \nQ 21.046875 6.0625 27.640625 6.0625 \nQ 34.1875 6.0625 38.53125 11.03125 \nQ 42.875 16.015625 42.875 26.21875 \nQ 42.875 35.84375 38.5 40.796875 \nQ 34.125 45.75 27.640625 45.75 \nQ 21.046875 45.75 16.703125 40.8125 \nQ 12.359375 35.890625 12.359375 25.921875 \nz\n\" id=\"ArialMT-111\"/>\n       <path d=\"M 8.6875 0 \nL 8.6875 45.015625 \nL 0.921875 45.015625 \nL 0.921875 51.859375 \nL 8.6875 51.859375 \nL 8.6875 57.375 \nQ 8.6875 62.59375 9.625 65.140625 \nQ 10.890625 68.5625 14.078125 70.671875 \nQ 17.28125 72.796875 23.046875 72.796875 \nQ 26.765625 72.796875 31.25 71.921875 \nL 29.9375 64.265625 \nQ 27.203125 64.75 24.75 64.75 \nQ 20.75 64.75 19.09375 63.03125 \nQ 17.4375 61.328125 17.4375 56.640625 \nL 17.4375 51.859375 \nL 27.546875 51.859375 \nL 27.546875 45.015625 \nL 17.4375 45.015625 \nL 17.4375 0 \nz\n\" id=\"ArialMT-102\"/>\n       <path d=\"M 8.015625 0 \nL 8.015625 71.578125 \nL 17.484375 71.578125 \nL 17.484375 42.1875 \nL 54.6875 42.1875 \nL 54.6875 71.578125 \nL 64.15625 71.578125 \nL 64.15625 0 \nL 54.6875 0 \nL 54.6875 33.734375 \nL 17.484375 33.734375 \nL 17.484375 0 \nz\n\" id=\"ArialMT-72\"/>\n       <path d=\"M 42.09375 16.703125 \nL 51.171875 15.578125 \nQ 49.03125 7.625 43.21875 3.21875 \nQ 37.40625 -1.171875 28.375 -1.171875 \nQ 17 -1.171875 10.328125 5.828125 \nQ 3.65625 12.84375 3.65625 25.484375 \nQ 3.65625 38.578125 10.390625 45.796875 \nQ 17.140625 53.03125 27.875 53.03125 \nQ 38.28125 53.03125 44.875 45.953125 \nQ 51.46875 38.875 51.46875 26.03125 \nQ 51.46875 25.25 51.421875 23.6875 \nL 12.75 23.6875 \nQ 13.234375 15.140625 17.578125 10.59375 \nQ 21.921875 6.0625 28.421875 6.0625 \nQ 33.25 6.0625 36.671875 8.59375 \nQ 40.09375 11.140625 42.09375 16.703125 \nz\nM 13.234375 30.90625 \nL 42.1875 30.90625 \nQ 41.609375 37.453125 38.875 40.71875 \nQ 34.671875 45.796875 27.984375 45.796875 \nQ 21.921875 45.796875 17.796875 41.75 \nQ 13.671875 37.703125 13.234375 30.90625 \nz\n\" id=\"ArialMT-101\"/>\n       <path d=\"M 6.5 0 \nL 6.5 51.859375 \nL 14.40625 51.859375 \nL 14.40625 44 \nQ 17.4375 49.515625 20 51.265625 \nQ 22.5625 53.03125 25.640625 53.03125 \nQ 30.078125 53.03125 34.671875 50.203125 \nL 31.640625 42.046875 \nQ 28.421875 43.953125 25.203125 43.953125 \nQ 22.3125 43.953125 20.015625 42.21875 \nQ 17.71875 40.484375 16.75 37.40625 \nQ 15.28125 32.71875 15.28125 27.15625 \nL 15.28125 0 \nz\n\" id=\"ArialMT-114\"/>\n       <path d=\"M 7.71875 0 \nL 7.71875 71.578125 \nL 32.375 71.578125 \nQ 40.71875 71.578125 45.125 70.5625 \nQ 51.265625 69.140625 55.609375 65.4375 \nQ 61.28125 60.640625 64.078125 53.1875 \nQ 66.890625 45.75 66.890625 36.1875 \nQ 66.890625 28.03125 64.984375 21.734375 \nQ 63.09375 15.4375 60.109375 11.296875 \nQ 57.125 7.171875 53.578125 4.796875 \nQ 50.046875 2.4375 45.046875 1.21875 \nQ 40.046875 0 33.546875 0 \nz\nM 17.1875 8.453125 \nL 32.46875 8.453125 \nQ 39.546875 8.453125 43.578125 9.765625 \nQ 47.609375 11.078125 50 13.484375 \nQ 53.375 16.84375 55.25 22.53125 \nQ 57.125 28.21875 57.125 36.328125 \nQ 57.125 47.5625 53.4375 53.59375 \nQ 49.75 59.625 44.484375 61.671875 \nQ 40.671875 63.140625 32.234375 63.140625 \nL 17.1875 63.140625 \nz\n\" id=\"ArialMT-68\"/>\n       <path d=\"M 6.640625 61.46875 \nL 6.640625 71.578125 \nL 15.4375 71.578125 \nL 15.4375 61.46875 \nz\nM 6.640625 0 \nL 6.640625 51.859375 \nL 15.4375 51.859375 \nL 15.4375 0 \nz\n\" id=\"ArialMT-105\"/>\n       <path d=\"M 3.078125 15.484375 \nL 11.765625 16.84375 \nQ 12.5 11.625 15.84375 8.84375 \nQ 19.1875 6.0625 25.203125 6.0625 \nQ 31.25 6.0625 34.171875 8.515625 \nQ 37.109375 10.984375 37.109375 14.3125 \nQ 37.109375 17.28125 34.515625 19 \nQ 32.71875 20.171875 25.53125 21.96875 \nQ 15.875 24.421875 12.140625 26.203125 \nQ 8.40625 27.984375 6.46875 31.125 \nQ 4.546875 34.28125 4.546875 38.09375 \nQ 4.546875 41.546875 6.125 44.5 \nQ 7.71875 47.46875 10.453125 49.421875 \nQ 12.5 50.921875 16.03125 51.96875 \nQ 19.578125 53.03125 23.640625 53.03125 \nQ 29.734375 53.03125 34.34375 51.265625 \nQ 38.96875 49.515625 41.15625 46.5 \nQ 43.359375 43.5 44.1875 38.484375 \nL 35.59375 37.3125 \nQ 35.015625 41.3125 32.203125 43.546875 \nQ 29.390625 45.796875 24.265625 45.796875 \nQ 18.21875 45.796875 15.625 43.796875 \nQ 13.03125 41.796875 13.03125 39.109375 \nQ 13.03125 37.40625 14.109375 36.03125 \nQ 15.1875 34.625 17.484375 33.6875 \nQ 18.796875 33.203125 25.25 31.453125 \nQ 34.578125 28.953125 38.25 27.359375 \nQ 41.9375 25.78125 44.03125 22.75 \nQ 46.140625 19.734375 46.140625 15.234375 \nQ 46.140625 10.84375 43.578125 6.953125 \nQ 41.015625 3.078125 36.171875 0.953125 \nQ 31.34375 -1.171875 25.25 -1.171875 \nQ 15.140625 -1.171875 9.84375 3.03125 \nQ 4.546875 7.234375 3.078125 15.484375 \nz\n\" id=\"ArialMT-115\"/>\n      </defs>\n      <use xlink:href=\"#ArialMT-37\"/>\n      <use x=\"88.916016\" xlink:href=\"#ArialMT-32\"/>\n      <use x=\"116.699219\" xlink:href=\"#ArialMT-111\"/>\n      <use x=\"172.314453\" xlink:href=\"#ArialMT-102\"/>\n      <use x=\"200.097656\" xlink:href=\"#ArialMT-32\"/>\n      <use x=\"227.880859\" xlink:href=\"#ArialMT-72\"/>\n      <use x=\"300.097656\" xlink:href=\"#ArialMT-101\"/>\n      <use x=\"355.712891\" xlink:href=\"#ArialMT-97\"/>\n      <use x=\"411.328125\" xlink:href=\"#ArialMT-114\"/>\n      <use x=\"444.628906\" xlink:href=\"#ArialMT-116\"/>\n      <use x=\"472.412109\" xlink:href=\"#ArialMT-32\"/>\n      <use x=\"500.195312\" xlink:href=\"#ArialMT-68\"/>\n      <use x=\"572.412109\" xlink:href=\"#ArialMT-105\"/>\n      <use x=\"594.628906\" xlink:href=\"#ArialMT-115\"/>\n      <use x=\"644.628906\" xlink:href=\"#ArialMT-101\"/>\n      <use x=\"700.244141\" xlink:href=\"#ArialMT-97\"/>\n      <use x=\"755.859375\" xlink:href=\"#ArialMT-115\"/>\n      <use x=\"805.859375\" xlink:href=\"#ArialMT-101\"/>\n     </g>\n    </g>\n   </g>\n   <g id=\"patch_3\">\n    <path clip-path=\"url(#p88cea1f32a)\" d=\"M 62.450753 320.769375 \nL 147.88616 320.769375 \nL 147.88616 138.972012 \nL 62.450753 138.972012 \nz\n\" style=\"fill:#4c72b0;\"/>\n   </g>\n   <g id=\"patch_4\">\n    <path clip-path=\"url(#p88cea1f32a)\" d=\"M 169.245011 320.769375 \nL 254.680418 320.769375 \nL 254.680418 199.571133 \nL 169.245011 199.571133 \nz\n\" style=\"fill:#4c72b0;\"/>\n   </g>\n   <g id=\"patch_5\">\n    <path clip-path=\"url(#p88cea1f32a)\" d=\"M 276.03927 320.769375 \nL 361.474676 320.769375 \nL 361.474676 36.026518 \nL 276.03927 36.026518 \nz\n\" style=\"fill:#4c72b0;\"/>\n   </g>\n   <g id=\"patch_6\">\n    <path clip-path=\"url(#p88cea1f32a)\" d=\"M 382.833528 320.769375 \nL 468.268935 320.769375 \nL 468.268935 233.755253 \nL 382.833528 233.755253 \nz\n\" style=\"fill:#4c72b0;\"/>\n   </g>\n   <g id=\"patch_7\">\n    <path d=\"M 42.159844 320.769375 \nL 42.159844 21.789375 \n\" style=\"fill:none;\"/>\n   </g>\n   <g id=\"patch_8\">\n    <path d=\"M 488.559844 320.769375 \nL 488.559844 21.789375 \n\" style=\"fill:none;\"/>\n   </g>\n   <g id=\"patch_9\">\n    <path d=\"M 42.159844 320.769375 \nL 488.559844 320.769375 \n\" style=\"fill:none;\"/>\n   </g>\n   <g id=\"patch_10\">\n    <path d=\"M 42.159844 21.789375 \nL 488.559844 21.789375 \n\" style=\"fill:none;\"/>\n   </g>\n   <g id=\"text_16\">\n    <!-- thal -->\n    <g style=\"fill:#262626;\" transform=\"translate(255.686719 15.789375)scale(0.12 -0.12)\">\n     <use xlink:href=\"#ArialMT-116\"/>\n     <use x=\"27.783203\" xlink:href=\"#ArialMT-104\"/>\n     <use x=\"83.398438\" xlink:href=\"#ArialMT-97\"/>\n     <use x=\"139.013672\" xlink:href=\"#ArialMT-108\"/>\n    </g>\n   </g>\n  </g>\n </g>\n <defs>\n  <clipPath id=\"p88cea1f32a\">\n   <rect height=\"298.98\" width=\"446.4\" x=\"42.159844\" y=\"21.789375\"/>\n  </clipPath>\n </defs>\n</svg>\n",
      "image/png": "[encoded data removed]"
     },
     "metadata": {}
    }
   ],
   "source": [
    "fig = plt.figure()\n",
    "\n",
    "ax = fig.add_subplot(111)\n",
    "ax_y = df.groupby(x)[\"target\"].value_counts(normalize=True)[:, 1]\n",
    "ax_x = [\"0\", \"1\", \"2\", \"3\"]\n",
    "ax.bar(ax_x, ax_y)\n",
    "ax.set(title=x, xlabel=x, ylabel=\"% of Heart Disease\")"
   ]
  },
  {
   "cell_type": "markdown",
   "metadata": {},
   "source": [
    "### Continuous Data"
   ]
  },
  {
   "cell_type": "markdown",
   "metadata": {},
   "source": [
    "#### age"
   ]
  },
  {
   "cell_type": "code",
   "execution_count": 42,
   "metadata": {},
   "outputs": [],
   "source": [
    "x=\"age\""
   ]
  },
  {
   "cell_type": "code",
   "execution_count": 43,
   "metadata": {},
   "outputs": [
    {
     "output_type": "execute_result",
     "data": {
      "text/plain": [
       "count    303.000000\n",
       "mean      54.366337\n",
       "std        9.082101\n",
       "min       29.000000\n",
       "25%       47.500000\n",
       "50%       55.000000\n",
       "75%       61.000000\n",
       "max       77.000000\n",
       "Name: age, dtype: float64"
      ]
     },
     "metadata": {},
     "execution_count": 43
    }
   ],
   "source": [
    "df.loc[:, x].describe()"
   ]
  },
  {
   "cell_type": "code",
   "execution_count": 44,
   "metadata": {},
   "outputs": [
    {
     "output_type": "execute_result",
     "data": {
      "text/plain": [
       "0"
      ]
     },
     "metadata": {},
     "execution_count": 44
    }
   ],
   "source": [
    "df[x].isnull().sum()"
   ]
  },
  {
   "cell_type": "code",
   "execution_count": 45,
   "metadata": {},
   "outputs": [
    {
     "output_type": "execute_result",
     "data": {
      "text/plain": [
       "        median       mean       std\n",
       "target                             \n",
       "0           58  56.601449  7.962082\n",
       "1           52  52.496970  9.550651"
      ],
      "text/html": "<div>\n<style scoped>\n    .dataframe tbody tr th:only-of-type {\n        vertical-align: middle;\n    }\n\n    .dataframe tbody tr th {\n        vertical-align: top;\n    }\n\n    .dataframe thead th {\n        text-align: right;\n    }\n</style>\n<table border=\"1\" class=\"dataframe\">\n  <thead>\n    <tr style=\"text-align: right;\">\n      <th></th>\n      <th>median</th>\n      <th>mean</th>\n      <th>std</th>\n    </tr>\n    <tr>\n      <th>target</th>\n      <th></th>\n      <th></th>\n      <th></th>\n    </tr>\n  </thead>\n  <tbody>\n    <tr>\n      <th>0</th>\n      <td>58</td>\n      <td>56.601449</td>\n      <td>7.962082</td>\n    </tr>\n    <tr>\n      <th>1</th>\n      <td>52</td>\n      <td>52.496970</td>\n      <td>9.550651</td>\n    </tr>\n  </tbody>\n</table>\n</div>"
     },
     "metadata": {},
     "execution_count": 45
    }
   ],
   "source": [
    "df.groupby(\"target\")[x].agg([\"median\", \"mean\", \"std\"])"
   ]
  },
  {
   "cell_type": "markdown",
   "metadata": {},
   "source": [
    "#### trestbps (Resting blood pressure)"
   ]
  },
  {
   "cell_type": "code",
   "execution_count": 46,
   "metadata": {},
   "outputs": [],
   "source": [
    "x=\"trestbps\""
   ]
  },
  {
   "cell_type": "code",
   "execution_count": 47,
   "metadata": {},
   "outputs": [
    {
     "output_type": "execute_result",
     "data": {
      "text/plain": [
       "count    303.000000\n",
       "mean     131.623762\n",
       "std       17.538143\n",
       "min       94.000000\n",
       "25%      120.000000\n",
       "50%      130.000000\n",
       "75%      140.000000\n",
       "max      200.000000\n",
       "Name: trestbps, dtype: float64"
      ]
     },
     "metadata": {},
     "execution_count": 47
    }
   ],
   "source": [
    "df.loc[:, x].describe()"
   ]
  },
  {
   "cell_type": "code",
   "execution_count": 48,
   "metadata": {},
   "outputs": [
    {
     "output_type": "execute_result",
     "data": {
      "text/plain": [
       "0"
      ]
     },
     "metadata": {},
     "execution_count": 48
    }
   ],
   "source": [
    "df[x].isnull().sum()"
   ]
  },
  {
   "cell_type": "code",
   "execution_count": 49,
   "metadata": {},
   "outputs": [
    {
     "output_type": "execute_result",
     "data": {
      "text/plain": [
       "        median        mean        std\n",
       "target                               \n",
       "0          130  134.398551  18.729944\n",
       "1          130  129.303030  16.169613"
      ],
      "text/html": "<div>\n<style scoped>\n    .dataframe tbody tr th:only-of-type {\n        vertical-align: middle;\n    }\n\n    .dataframe tbody tr th {\n        vertical-align: top;\n    }\n\n    .dataframe thead th {\n        text-align: right;\n    }\n</style>\n<table border=\"1\" class=\"dataframe\">\n  <thead>\n    <tr style=\"text-align: right;\">\n      <th></th>\n      <th>median</th>\n      <th>mean</th>\n      <th>std</th>\n    </tr>\n    <tr>\n      <th>target</th>\n      <th></th>\n      <th></th>\n      <th></th>\n    </tr>\n  </thead>\n  <tbody>\n    <tr>\n      <th>0</th>\n      <td>130</td>\n      <td>134.398551</td>\n      <td>18.729944</td>\n    </tr>\n    <tr>\n      <th>1</th>\n      <td>130</td>\n      <td>129.303030</td>\n      <td>16.169613</td>\n    </tr>\n  </tbody>\n</table>\n</div>"
     },
     "metadata": {},
     "execution_count": 49
    }
   ],
   "source": [
    "df.groupby(\"target\")[x].agg([\"median\", \"mean\",\"std\"])"
   ]
  },
  {
   "cell_type": "markdown",
   "metadata": {},
   "source": [
    "#### chol (serum cholestoral in mg/dl)"
   ]
  },
  {
   "cell_type": "code",
   "execution_count": 50,
   "metadata": {},
   "outputs": [],
   "source": [
    "x=\"chol\""
   ]
  },
  {
   "cell_type": "code",
   "execution_count": 51,
   "metadata": {},
   "outputs": [
    {
     "output_type": "execute_result",
     "data": {
      "text/plain": [
       "count    303.000000\n",
       "mean     246.264026\n",
       "std       51.830751\n",
       "min      126.000000\n",
       "25%      211.000000\n",
       "50%      240.000000\n",
       "75%      274.500000\n",
       "max      564.000000\n",
       "Name: chol, dtype: float64"
      ]
     },
     "metadata": {},
     "execution_count": 51
    }
   ],
   "source": [
    "df.loc[:, x].describe()"
   ]
  },
  {
   "cell_type": "code",
   "execution_count": 52,
   "metadata": {},
   "outputs": [
    {
     "output_type": "execute_result",
     "data": {
      "text/plain": [
       "0"
      ]
     },
     "metadata": {},
     "execution_count": 52
    }
   ],
   "source": [
    "df[x].isnull().sum()"
   ]
  },
  {
   "cell_type": "code",
   "execution_count": 53,
   "metadata": {},
   "outputs": [
    {
     "output_type": "execute_result",
     "data": {
      "text/plain": [
       "        median        mean        std\n",
       "target                               \n",
       "0          249  251.086957  49.454614\n",
       "1          234  242.230303  53.552872"
      ],
      "text/html": "<div>\n<style scoped>\n    .dataframe tbody tr th:only-of-type {\n        vertical-align: middle;\n    }\n\n    .dataframe tbody tr th {\n        vertical-align: top;\n    }\n\n    .dataframe thead th {\n        text-align: right;\n    }\n</style>\n<table border=\"1\" class=\"dataframe\">\n  <thead>\n    <tr style=\"text-align: right;\">\n      <th></th>\n      <th>median</th>\n      <th>mean</th>\n      <th>std</th>\n    </tr>\n    <tr>\n      <th>target</th>\n      <th></th>\n      <th></th>\n      <th></th>\n    </tr>\n  </thead>\n  <tbody>\n    <tr>\n      <th>0</th>\n      <td>249</td>\n      <td>251.086957</td>\n      <td>49.454614</td>\n    </tr>\n    <tr>\n      <th>1</th>\n      <td>234</td>\n      <td>242.230303</td>\n      <td>53.552872</td>\n    </tr>\n  </tbody>\n</table>\n</div>"
     },
     "metadata": {},
     "execution_count": 53
    }
   ],
   "source": [
    "df.groupby(\"target\")[x].agg([\"median\", \"mean\",\"std\"])"
   ]
  },
  {
   "cell_type": "markdown",
   "metadata": {},
   "source": [
    "#### thalach"
   ]
  },
  {
   "cell_type": "code",
   "execution_count": 54,
   "metadata": {},
   "outputs": [],
   "source": [
    "x = \"thalach\""
   ]
  },
  {
   "cell_type": "code",
   "execution_count": 55,
   "metadata": {},
   "outputs": [
    {
     "output_type": "execute_result",
     "data": {
      "text/plain": [
       "count    303.000000\n",
       "mean     149.646865\n",
       "std       22.905161\n",
       "min       71.000000\n",
       "25%      133.500000\n",
       "50%      153.000000\n",
       "75%      166.000000\n",
       "max      202.000000\n",
       "Name: thalach, dtype: float64"
      ]
     },
     "metadata": {},
     "execution_count": 55
    }
   ],
   "source": [
    "df.loc[:, x].describe()"
   ]
  },
  {
   "cell_type": "code",
   "execution_count": 56,
   "metadata": {},
   "outputs": [
    {
     "output_type": "execute_result",
     "data": {
      "text/plain": [
       "0"
      ]
     },
     "metadata": {},
     "execution_count": 56
    }
   ],
   "source": [
    "df[x].isnull().sum()"
   ]
  },
  {
   "cell_type": "code",
   "execution_count": 57,
   "metadata": {},
   "outputs": [
    {
     "output_type": "execute_result",
     "data": {
      "text/plain": [
       "        median        mean        std\n",
       "target                               \n",
       "0          142  139.101449  22.598782\n",
       "1          161  158.466667  19.174276"
      ],
      "text/html": "<div>\n<style scoped>\n    .dataframe tbody tr th:only-of-type {\n        vertical-align: middle;\n    }\n\n    .dataframe tbody tr th {\n        vertical-align: top;\n    }\n\n    .dataframe thead th {\n        text-align: right;\n    }\n</style>\n<table border=\"1\" class=\"dataframe\">\n  <thead>\n    <tr style=\"text-align: right;\">\n      <th></th>\n      <th>median</th>\n      <th>mean</th>\n      <th>std</th>\n    </tr>\n    <tr>\n      <th>target</th>\n      <th></th>\n      <th></th>\n      <th></th>\n    </tr>\n  </thead>\n  <tbody>\n    <tr>\n      <th>0</th>\n      <td>142</td>\n      <td>139.101449</td>\n      <td>22.598782</td>\n    </tr>\n    <tr>\n      <th>1</th>\n      <td>161</td>\n      <td>158.466667</td>\n      <td>19.174276</td>\n    </tr>\n  </tbody>\n</table>\n</div>"
     },
     "metadata": {},
     "execution_count": 57
    }
   ],
   "source": [
    "df.groupby(\"target\")[x].agg([\"median\", \"mean\",\"std\"])"
   ]
  },
  {
   "cell_type": "markdown",
   "metadata": {},
   "source": [
    "#### oldpeak (ST depression)"
   ]
  },
  {
   "cell_type": "code",
   "execution_count": 58,
   "metadata": {},
   "outputs": [],
   "source": [
    "x=\"oldpeak\""
   ]
  },
  {
   "cell_type": "code",
   "execution_count": 59,
   "metadata": {},
   "outputs": [
    {
     "output_type": "execute_result",
     "data": {
      "text/plain": [
       "count    303.000000\n",
       "mean       1.039604\n",
       "std        1.161075\n",
       "min        0.000000\n",
       "25%        0.000000\n",
       "50%        0.800000\n",
       "75%        1.600000\n",
       "max        6.200000\n",
       "Name: oldpeak, dtype: float64"
      ]
     },
     "metadata": {},
     "execution_count": 59
    }
   ],
   "source": [
    "df.loc[:, x].describe()"
   ]
  },
  {
   "cell_type": "code",
   "execution_count": 60,
   "metadata": {},
   "outputs": [
    {
     "output_type": "execute_result",
     "data": {
      "text/plain": [
       "0"
      ]
     },
     "metadata": {},
     "execution_count": 60
    }
   ],
   "source": [
    "df[x].isnull().sum()"
   ]
  },
  {
   "cell_type": "code",
   "execution_count": 61,
   "metadata": {},
   "outputs": [
    {
     "output_type": "execute_result",
     "data": {
      "text/plain": [
       "        median      mean       std\n",
       "target                            \n",
       "0          1.4  1.585507  1.300340\n",
       "1          0.2  0.583030  0.780683"
      ],
      "text/html": "<div>\n<style scoped>\n    .dataframe tbody tr th:only-of-type {\n        vertical-align: middle;\n    }\n\n    .dataframe tbody tr th {\n        vertical-align: top;\n    }\n\n    .dataframe thead th {\n        text-align: right;\n    }\n</style>\n<table border=\"1\" class=\"dataframe\">\n  <thead>\n    <tr style=\"text-align: right;\">\n      <th></th>\n      <th>median</th>\n      <th>mean</th>\n      <th>std</th>\n    </tr>\n    <tr>\n      <th>target</th>\n      <th></th>\n      <th></th>\n      <th></th>\n    </tr>\n  </thead>\n  <tbody>\n    <tr>\n      <th>0</th>\n      <td>1.4</td>\n      <td>1.585507</td>\n      <td>1.300340</td>\n    </tr>\n    <tr>\n      <th>1</th>\n      <td>0.2</td>\n      <td>0.583030</td>\n      <td>0.780683</td>\n    </tr>\n  </tbody>\n</table>\n</div>"
     },
     "metadata": {},
     "execution_count": 61
    }
   ],
   "source": [
    "df.groupby(\"target\")[x].agg([\"median\", \"mean\",\"std\"])"
   ]
  },
  {
   "cell_type": "markdown",
   "metadata": {},
   "source": [
    "### Outcome\n",
    "\n",
    "\n",
    "For continuous: \n",
    "\n",
    "drop oldpeaks, chol, trestbps, age as the std is large in comparsion to the difference in mean between heart diseaes and none.\n",
    "\n",
    "For categorical:\n",
    "\n",
    "drop fbs as the differences between heart disease and not is minimal \n",
    "\n",
    "lastly, also drop restecg as low corr with heart disease\n",
    "\n",
    "change:\n",
    "\n",
    "cp (chest pain) reduce to no pain or pain (similar in 1, 2, 3 for heart disease)\n",
    "\n",
    "this makes logical sense as those with no pain vs have chest pain is the main difference and degree of chest pain means less \n",
    "\n",
    "don't have the meaning of the restingecg categories, so can't combine 0 and 1 even though they are more similar to each other and both different from category 2\n",
    "\n",
    "same for slope, don't have meaning of categories"
   ]
  },
  {
   "cell_type": "code",
   "execution_count": 62,
   "metadata": {},
   "outputs": [
    {
     "output_type": "execute_result",
     "data": {
      "text/plain": [
       "1    0.528053\n",
       "0    0.471947\n",
       "Name: cp, dtype: float64"
      ]
     },
     "metadata": {},
     "execution_count": 62
    }
   ],
   "source": [
    "dfC = df.copy(deep=True)\n",
    "dfC[\"cp\"].replace({2: 1, 3 :1}, inplace=True)\n",
    "dfC[\"cp\"].value_counts(normalize=True)"
   ]
  },
  {
   "cell_type": "code",
   "execution_count": 63,
   "metadata": {},
   "outputs": [
    {
     "output_type": "execute_result",
     "data": {
      "text/plain": [
       "   age  sex  cp  trestbps  chol  fbs  restecg  thalach  exang  oldpeak  slope  \\\n",
       "0   63    1   1       145   233    1        0      150      0      2.3      0   \n",
       "1   37    1   1       130   250    0        1      187      0      3.5      0   \n",
       "2   41    0   1       130   204    0        0      172      0      1.4      2   \n",
       "3   56    1   1       120   236    0        1      178      0      0.8      2   \n",
       "4   57    0   0       120   354    0        1      163      1      0.6      2   \n",
       "\n",
       "   ca  thal  target  \n",
       "0   0     1       1  \n",
       "1   0     2       1  \n",
       "2   0     2       1  \n",
       "3   0     2       1  \n",
       "4   0     2       1  "
      ],
      "text/html": "<div>\n<style scoped>\n    .dataframe tbody tr th:only-of-type {\n        vertical-align: middle;\n    }\n\n    .dataframe tbody tr th {\n        vertical-align: top;\n    }\n\n    .dataframe thead th {\n        text-align: right;\n    }\n</style>\n<table border=\"1\" class=\"dataframe\">\n  <thead>\n    <tr style=\"text-align: right;\">\n      <th></th>\n      <th>age</th>\n      <th>sex</th>\n      <th>cp</th>\n      <th>trestbps</th>\n      <th>chol</th>\n      <th>fbs</th>\n      <th>restecg</th>\n      <th>thalach</th>\n      <th>exang</th>\n      <th>oldpeak</th>\n      <th>slope</th>\n      <th>ca</th>\n      <th>thal</th>\n      <th>target</th>\n    </tr>\n  </thead>\n  <tbody>\n    <tr>\n      <th>0</th>\n      <td>63</td>\n      <td>1</td>\n      <td>1</td>\n      <td>145</td>\n      <td>233</td>\n      <td>1</td>\n      <td>0</td>\n      <td>150</td>\n      <td>0</td>\n      <td>2.3</td>\n      <td>0</td>\n      <td>0</td>\n      <td>1</td>\n      <td>1</td>\n    </tr>\n    <tr>\n      <th>1</th>\n      <td>37</td>\n      <td>1</td>\n      <td>1</td>\n      <td>130</td>\n      <td>250</td>\n      <td>0</td>\n      <td>1</td>\n      <td>187</td>\n      <td>0</td>\n      <td>3.5</td>\n      <td>0</td>\n      <td>0</td>\n      <td>2</td>\n      <td>1</td>\n    </tr>\n    <tr>\n      <th>2</th>\n      <td>41</td>\n      <td>0</td>\n      <td>1</td>\n      <td>130</td>\n      <td>204</td>\n      <td>0</td>\n      <td>0</td>\n      <td>172</td>\n      <td>0</td>\n      <td>1.4</td>\n      <td>2</td>\n      <td>0</td>\n      <td>2</td>\n      <td>1</td>\n    </tr>\n    <tr>\n      <th>3</th>\n      <td>56</td>\n      <td>1</td>\n      <td>1</td>\n      <td>120</td>\n      <td>236</td>\n      <td>0</td>\n      <td>1</td>\n      <td>178</td>\n      <td>0</td>\n      <td>0.8</td>\n      <td>2</td>\n      <td>0</td>\n      <td>2</td>\n      <td>1</td>\n    </tr>\n    <tr>\n      <th>4</th>\n      <td>57</td>\n      <td>0</td>\n      <td>0</td>\n      <td>120</td>\n      <td>354</td>\n      <td>0</td>\n      <td>1</td>\n      <td>163</td>\n      <td>1</td>\n      <td>0.6</td>\n      <td>2</td>\n      <td>0</td>\n      <td>2</td>\n      <td>1</td>\n    </tr>\n  </tbody>\n</table>\n</div>"
     },
     "metadata": {},
     "execution_count": 63
    }
   ],
   "source": [
    "dfC.head()"
   ]
  },
  {
   "cell_type": "code",
   "execution_count": 64,
   "metadata": {},
   "outputs": [
    {
     "output_type": "execute_result",
     "data": {
      "text/plain": [
       "Index(['oldpeak', 'chol', 'trestbps', 'age'], dtype='object')"
      ]
     },
     "metadata": {},
     "execution_count": 64
    }
   ],
   "source": [
    "dfC.columns[[9,4,3,0]]"
   ]
  },
  {
   "cell_type": "code",
   "execution_count": 65,
   "metadata": {},
   "outputs": [],
   "source": [
    "dfC.drop(dfC.columns[[9,4,3,0]], axis=1, inplace=True)"
   ]
  },
  {
   "cell_type": "code",
   "execution_count": 66,
   "metadata": {},
   "outputs": [
    {
     "output_type": "execute_result",
     "data": {
      "text/plain": [
       "'fbs'"
      ]
     },
     "metadata": {},
     "execution_count": 66
    }
   ],
   "source": [
    "dfC.columns[2]"
   ]
  },
  {
   "cell_type": "code",
   "execution_count": 67,
   "metadata": {},
   "outputs": [],
   "source": [
    "dfC.drop(dfC.columns[2], axis=1, inplace=True)"
   ]
  },
  {
   "cell_type": "code",
   "execution_count": 68,
   "metadata": {},
   "outputs": [
    {
     "output_type": "execute_result",
     "data": {
      "text/plain": [
       "'restecg'"
      ]
     },
     "metadata": {},
     "execution_count": 68
    }
   ],
   "source": [
    "dfC.columns[2]"
   ]
  },
  {
   "cell_type": "code",
   "execution_count": 69,
   "metadata": {},
   "outputs": [],
   "source": [
    "dfC.drop(dfC.columns[2], axis=1, inplace=True)"
   ]
  },
  {
   "cell_type": "code",
   "execution_count": 70,
   "metadata": {},
   "outputs": [
    {
     "output_type": "execute_result",
     "data": {
      "text/plain": [
       "8"
      ]
     },
     "metadata": {},
     "execution_count": 70
    }
   ],
   "source": [
    "len(dfC.columns)"
   ]
  },
  {
   "cell_type": "markdown",
   "metadata": {},
   "source": [
    "### Try Out ML Models"
   ]
  },
  {
   "cell_type": "code",
   "execution_count": 71,
   "metadata": {},
   "outputs": [],
   "source": [
    "from sklearn.model_selection import train_test_split\n",
    "from sklearn.svm import SVC\n",
    "from sklearn import metrics\n",
    "from sklearn.preprocessing import StandardScaler"
   ]
  },
  {
   "cell_type": "code",
   "execution_count": 72,
   "metadata": {},
   "outputs": [
    {
     "output_type": "execute_result",
     "data": {
      "text/plain": [
       "   sex  cp  thalach  exang  slope  ca  thal  target\n",
       "0    1   1      150      0      0   0     1       1\n",
       "1    1   1      187      0      0   0     2       1\n",
       "2    0   1      172      0      2   0     2       1\n",
       "3    1   1      178      0      2   0     2       1\n",
       "4    0   0      163      1      2   0     2       1"
      ],
      "text/html": "<div>\n<style scoped>\n    .dataframe tbody tr th:only-of-type {\n        vertical-align: middle;\n    }\n\n    .dataframe tbody tr th {\n        vertical-align: top;\n    }\n\n    .dataframe thead th {\n        text-align: right;\n    }\n</style>\n<table border=\"1\" class=\"dataframe\">\n  <thead>\n    <tr style=\"text-align: right;\">\n      <th></th>\n      <th>sex</th>\n      <th>cp</th>\n      <th>thalach</th>\n      <th>exang</th>\n      <th>slope</th>\n      <th>ca</th>\n      <th>thal</th>\n      <th>target</th>\n    </tr>\n  </thead>\n  <tbody>\n    <tr>\n      <th>0</th>\n      <td>1</td>\n      <td>1</td>\n      <td>150</td>\n      <td>0</td>\n      <td>0</td>\n      <td>0</td>\n      <td>1</td>\n      <td>1</td>\n    </tr>\n    <tr>\n      <th>1</th>\n      <td>1</td>\n      <td>1</td>\n      <td>187</td>\n      <td>0</td>\n      <td>0</td>\n      <td>0</td>\n      <td>2</td>\n      <td>1</td>\n    </tr>\n    <tr>\n      <th>2</th>\n      <td>0</td>\n      <td>1</td>\n      <td>172</td>\n      <td>0</td>\n      <td>2</td>\n      <td>0</td>\n      <td>2</td>\n      <td>1</td>\n    </tr>\n    <tr>\n      <th>3</th>\n      <td>1</td>\n      <td>1</td>\n      <td>178</td>\n      <td>0</td>\n      <td>2</td>\n      <td>0</td>\n      <td>2</td>\n      <td>1</td>\n    </tr>\n    <tr>\n      <th>4</th>\n      <td>0</td>\n      <td>0</td>\n      <td>163</td>\n      <td>1</td>\n      <td>2</td>\n      <td>0</td>\n      <td>2</td>\n      <td>1</td>\n    </tr>\n  </tbody>\n</table>\n</div>"
     },
     "metadata": {},
     "execution_count": 72
    }
   ],
   "source": [
    "dfC.head()"
   ]
  },
  {
   "cell_type": "code",
   "execution_count": 73,
   "metadata": {},
   "outputs": [
    {
     "output_type": "execute_result",
     "data": {
      "text/plain": [
       "     sex  cp  thalach  exang  slope  ca  thal\n",
       "0      1   1      150      0      0   0     1\n",
       "1      1   1      187      0      0   0     2\n",
       "2      0   1      172      0      2   0     2\n",
       "3      1   1      178      0      2   0     2\n",
       "4      0   0      163      1      2   0     2\n",
       "..   ...  ..      ...    ...    ...  ..   ...\n",
       "298    0   0      123      1      1   0     3\n",
       "299    1   1      132      0      1   0     3\n",
       "300    1   0      141      0      1   2     3\n",
       "301    1   0      115      1      1   1     3\n",
       "302    0   1      174      0      1   1     2\n",
       "\n",
       "[303 rows x 7 columns]"
      ],
      "text/html": "<div>\n<style scoped>\n    .dataframe tbody tr th:only-of-type {\n        vertical-align: middle;\n    }\n\n    .dataframe tbody tr th {\n        vertical-align: top;\n    }\n\n    .dataframe thead th {\n        text-align: right;\n    }\n</style>\n<table border=\"1\" class=\"dataframe\">\n  <thead>\n    <tr style=\"text-align: right;\">\n      <th></th>\n      <th>sex</th>\n      <th>cp</th>\n      <th>thalach</th>\n      <th>exang</th>\n      <th>slope</th>\n      <th>ca</th>\n      <th>thal</th>\n    </tr>\n  </thead>\n  <tbody>\n    <tr>\n      <th>0</th>\n      <td>1</td>\n      <td>1</td>\n      <td>150</td>\n      <td>0</td>\n      <td>0</td>\n      <td>0</td>\n      <td>1</td>\n    </tr>\n    <tr>\n      <th>1</th>\n      <td>1</td>\n      <td>1</td>\n      <td>187</td>\n      <td>0</td>\n      <td>0</td>\n      <td>0</td>\n      <td>2</td>\n    </tr>\n    <tr>\n      <th>2</th>\n      <td>0</td>\n      <td>1</td>\n      <td>172</td>\n      <td>0</td>\n      <td>2</td>\n      <td>0</td>\n      <td>2</td>\n    </tr>\n    <tr>\n      <th>3</th>\n      <td>1</td>\n      <td>1</td>\n      <td>178</td>\n      <td>0</td>\n      <td>2</td>\n      <td>0</td>\n      <td>2</td>\n    </tr>\n    <tr>\n      <th>4</th>\n      <td>0</td>\n      <td>0</td>\n      <td>163</td>\n      <td>1</td>\n      <td>2</td>\n      <td>0</td>\n      <td>2</td>\n    </tr>\n    <tr>\n      <th>...</th>\n      <td>...</td>\n      <td>...</td>\n      <td>...</td>\n      <td>...</td>\n      <td>...</td>\n      <td>...</td>\n      <td>...</td>\n    </tr>\n    <tr>\n      <th>298</th>\n      <td>0</td>\n      <td>0</td>\n      <td>123</td>\n      <td>1</td>\n      <td>1</td>\n      <td>0</td>\n      <td>3</td>\n    </tr>\n    <tr>\n      <th>299</th>\n      <td>1</td>\n      <td>1</td>\n      <td>132</td>\n      <td>0</td>\n      <td>1</td>\n      <td>0</td>\n      <td>3</td>\n    </tr>\n    <tr>\n      <th>300</th>\n      <td>1</td>\n      <td>0</td>\n      <td>141</td>\n      <td>0</td>\n      <td>1</td>\n      <td>2</td>\n      <td>3</td>\n    </tr>\n    <tr>\n      <th>301</th>\n      <td>1</td>\n      <td>0</td>\n      <td>115</td>\n      <td>1</td>\n      <td>1</td>\n      <td>1</td>\n      <td>3</td>\n    </tr>\n    <tr>\n      <th>302</th>\n      <td>0</td>\n      <td>1</td>\n      <td>174</td>\n      <td>0</td>\n      <td>1</td>\n      <td>1</td>\n      <td>2</td>\n    </tr>\n  </tbody>\n</table>\n<p>303 rows × 7 columns</p>\n</div>"
     },
     "metadata": {},
     "execution_count": 73
    }
   ],
   "source": [
    "X = dfC.iloc[:,:-1]\n",
    "X"
   ]
  },
  {
   "cell_type": "code",
   "execution_count": 74,
   "metadata": {},
   "outputs": [
    {
     "output_type": "execute_result",
     "data": {
      "text/plain": [
       "0      1\n",
       "1      1\n",
       "2      1\n",
       "3      1\n",
       "4      1\n",
       "      ..\n",
       "298    0\n",
       "299    0\n",
       "300    0\n",
       "301    0\n",
       "302    0\n",
       "Name: target, Length: 303, dtype: int64"
      ]
     },
     "metadata": {},
     "execution_count": 74
    }
   ],
   "source": [
    "y=dfC.iloc[:,-1]\n",
    "y"
   ]
  },
  {
   "cell_type": "markdown",
   "metadata": {},
   "source": [
    "### SVM"
   ]
  },
  {
   "cell_type": "code",
   "execution_count": 75,
   "metadata": {},
   "outputs": [],
   "source": [
    "X_train, X_test, y_train, y_test = train_test_split(X, y, test_size=0.2, random_state=0)"
   ]
  },
  {
   "cell_type": "code",
   "execution_count": 76,
   "metadata": {},
   "outputs": [],
   "source": [
    "svc=SVC()\n",
    "svc.fit(X_train,y_train)\n",
    "y_pred=svc.predict(X_test)"
   ]
  },
  {
   "cell_type": "code",
   "execution_count": 77,
   "metadata": {},
   "outputs": [
    {
     "output_type": "execute_result",
     "data": {
      "text/plain": [
       "0.7049180327868853"
      ]
     },
     "metadata": {},
     "execution_count": 77
    }
   ],
   "source": [
    "metrics.accuracy_score(y_test,y_pred)"
   ]
  },
  {
   "cell_type": "markdown",
   "metadata": {},
   "source": [
    "#### Compare to if just use default"
   ]
  },
  {
   "cell_type": "code",
   "execution_count": 78,
   "metadata": {},
   "outputs": [],
   "source": [
    "X_train, X_test, y_train, y_test = train_test_split(df.iloc[:,:-1], y, test_size=0.2, random_state=0)"
   ]
  },
  {
   "cell_type": "code",
   "execution_count": 79,
   "metadata": {},
   "outputs": [],
   "source": [
    "svc=SVC()\n",
    "svc.fit(X_train,y_train)\n",
    "y_pred=svc.predict(X_test)"
   ]
  },
  {
   "cell_type": "code",
   "execution_count": 80,
   "metadata": {},
   "outputs": [
    {
     "output_type": "execute_result",
     "data": {
      "text/plain": [
       "0.6885245901639344"
      ]
     },
     "metadata": {},
     "execution_count": 80
    }
   ],
   "source": [
    "metrics.accuracy_score(y_test,y_pred)"
   ]
  },
  {
   "cell_type": "markdown",
   "metadata": {},
   "source": [
    "#### Try using Scaling"
   ]
  },
  {
   "cell_type": "code",
   "execution_count": 81,
   "metadata": {},
   "outputs": [],
   "source": [
    "scaler = StandardScaler()\n",
    "\n",
    "X_train, X_test, y_train, y_test = train_test_split(X, y, test_size=0.2, random_state=0)\n",
    "X_train = scaler.fit_transform(X_train)\n",
    "X_test = scaler.transform(X_test)"
   ]
  },
  {
   "cell_type": "code",
   "execution_count": 82,
   "metadata": {},
   "outputs": [],
   "source": [
    "svc=SVC()\n",
    "svc.fit(X_train,y_train)\n",
    "y_pred=svc.predict(X_test)"
   ]
  },
  {
   "cell_type": "code",
   "execution_count": 83,
   "metadata": {},
   "outputs": [
    {
     "output_type": "execute_result",
     "data": {
      "text/plain": [
       "0.8524590163934426"
      ]
     },
     "metadata": {},
     "execution_count": 83
    }
   ],
   "source": [
    "metrics.accuracy_score(y_test,y_pred)"
   ]
  },
  {
   "cell_type": "markdown",
   "metadata": {},
   "source": [
    "#### Try Changing C (accounting for outliers)\n",
    "(keep using the scaled x_train and y_train)\n",
    "\n",
    "Tweeked the C value a few times"
   ]
  },
  {
   "cell_type": "code",
   "execution_count": 84,
   "metadata": {},
   "outputs": [],
   "source": [
    "svc=SVC(C=250.0)\n",
    "svc.fit(X_train,y_train)\n",
    "y_pred=svc.predict(X_test)"
   ]
  },
  {
   "cell_type": "code",
   "execution_count": 85,
   "metadata": {},
   "outputs": [
    {
     "output_type": "execute_result",
     "data": {
      "text/plain": [
       "0.819672131147541"
      ]
     },
     "metadata": {},
     "execution_count": 85
    }
   ],
   "source": [
    "metrics.accuracy_score(y_test,y_pred)"
   ]
  },
  {
   "cell_type": "markdown",
   "metadata": {},
   "source": [
    "#### Try Linear (rather than rbf)"
   ]
  },
  {
   "cell_type": "code",
   "execution_count": 86,
   "metadata": {},
   "outputs": [],
   "source": [
    "svc=SVC(C=250.0, kernel='linear')\n",
    "svc.fit(X_train,y_train)\n",
    "y_pred=svc.predict(X_test)"
   ]
  },
  {
   "cell_type": "code",
   "execution_count": 87,
   "metadata": {},
   "outputs": [
    {
     "output_type": "execute_result",
     "data": {
      "text/plain": [
       "0.8688524590163934"
      ]
     },
     "metadata": {},
     "execution_count": 87
    }
   ],
   "source": [
    "metrics.accuracy_score(y_test,y_pred)"
   ]
  },
  {
   "cell_type": "markdown",
   "metadata": {},
   "source": [
    "#### More Meausrement\n",
    "\n",
    "metrics.confusion_matrix(y_test, y_pred_class))"
   ]
  },
  {
   "cell_type": "code",
   "execution_count": 88,
   "metadata": {},
   "outputs": [],
   "source": [
    "scaler = StandardScaler()\n",
    "\n",
    "X = dfC.iloc[:,:-1]\n",
    "y=dfC.iloc[:,-1]\n",
    "\n",
    "\n",
    "X_train, X_test, y_train, y_test = train_test_split(X, y, test_size=0.2, random_state=0)\n",
    "X_train = scaler.fit_transform(X_train)\n",
    "X_test = scaler.transform(X_test)\n",
    "\n",
    "svc=SVC(C=250.0, kernel='linear')\n",
    "svc.fit(X_train,y_train)\n",
    "y_pred=svc.predict(X_test)"
   ]
  },
  {
   "cell_type": "code",
   "execution_count": 89,
   "metadata": {},
   "outputs": [
    {
     "output_type": "execute_result",
     "data": {
      "text/plain": [
       "0.8688524590163934"
      ]
     },
     "metadata": {},
     "execution_count": 89
    }
   ],
   "source": [
    "metrics.accuracy_score(y_test,y_pred)"
   ]
  },
  {
   "cell_type": "code",
   "execution_count": 90,
   "metadata": {},
   "outputs": [
    {
     "output_type": "execute_result",
     "data": {
      "text/plain": [
       "0.8688524590163934"
      ]
     },
     "metadata": {},
     "execution_count": 90
    }
   ],
   "source": [
    "svc.score(X_test, y_test)"
   ]
  },
  {
   "cell_type": "code",
   "execution_count": 91,
   "metadata": {},
   "outputs": [
    {
     "output_type": "execute_result",
     "data": {
      "text/plain": [
       "0.8388429752066116"
      ]
     },
     "metadata": {},
     "execution_count": 91
    }
   ],
   "source": [
    "svc.score(X_train, y_train)"
   ]
  },
  {
   "cell_type": "markdown",
   "metadata": {},
   "source": [
    "Two values simliar, not much overfitting or under fitting issue"
   ]
  },
  {
   "cell_type": "code",
   "execution_count": 92,
   "metadata": {},
   "outputs": [
    {
     "output_type": "execute_result",
     "data": {
      "text/plain": [
       "array([[23,  4],\n",
       "       [ 4, 30]])"
      ]
     },
     "metadata": {},
     "execution_count": 92
    }
   ],
   "source": [
    "metrics.confusion_matrix(y_test, y_pred)"
   ]
  },
  {
   "cell_type": "code",
   "execution_count": 93,
   "metadata": {},
   "outputs": [
    {
     "output_type": "stream",
     "name": "stdout",
     "text": [
      "TP: 30 TN: 23 FP: 4 FN: 4\n"
     ]
    }
   ],
   "source": [
    "cm = metrics.confusion_matrix(y_test, y_pred)\n",
    "# good\n",
    "TP = cm[1][1]\n",
    "TN = cm[0][0]\n",
    "\n",
    "# bad\n",
    "FP = cm[0][1]\n",
    "FN = cm[1][0]\n",
    "\n",
    "print(\"TP:\", TP, \"TN:\", TN, \"FP:\", FP, \"FN:\", FN)"
   ]
  },
  {
   "cell_type": "markdown",
   "metadata": {},
   "source": [
    "### Decision Tree"
   ]
  },
  {
   "cell_type": "code",
   "execution_count": 94,
   "metadata": {},
   "outputs": [],
   "source": [
    "scaler = StandardScaler()\n",
    "\n",
    "X = dfC.iloc[:,:-1]\n",
    "y=dfC.iloc[:,-1]\n",
    "\n",
    "\n",
    "X_train, X_test, y_train, y_test = train_test_split(X, y, test_size=0.2, random_state=0)\n",
    "X_train = scaler.fit_transform(X_train)\n",
    "X_test = scaler.transform(X_test)"
   ]
  },
  {
   "cell_type": "code",
   "execution_count": 95,
   "metadata": {},
   "outputs": [],
   "source": [
    "from sklearn.tree import DecisionTreeClassifier\n",
    "\n",
    "clf = DecisionTreeClassifier()\n",
    "\n",
    "clf.fit(X_train, y_train)\n",
    "y_pred = clf.predict(X_test)"
   ]
  },
  {
   "cell_type": "code",
   "execution_count": 96,
   "metadata": {},
   "outputs": [
    {
     "output_type": "execute_result",
     "data": {
      "text/plain": [
       "0.7868852459016393"
      ]
     },
     "metadata": {},
     "execution_count": 96
    }
   ],
   "source": [
    "metrics.accuracy_score(y_test,y_pred)"
   ]
  },
  {
   "cell_type": "markdown",
   "metadata": {},
   "source": [
    "Tweek params"
   ]
  },
  {
   "cell_type": "code",
   "execution_count": 97,
   "metadata": {},
   "outputs": [],
   "source": [
    "clf = DecisionTreeClassifier(criterion='entropy', max_depth=3, random_state=0)\n",
    "\n",
    "clf.fit(X_train, y_train)\n",
    "y_pred = clf.predict(X_test)"
   ]
  },
  {
   "cell_type": "code",
   "execution_count": 98,
   "metadata": {},
   "outputs": [
    {
     "output_type": "execute_result",
     "data": {
      "text/plain": [
       "0.7868852459016393"
      ]
     },
     "metadata": {},
     "execution_count": 98
    }
   ],
   "source": [
    "metrics.accuracy_score(y_test,y_pred)"
   ]
  },
  {
   "cell_type": "markdown",
   "metadata": {},
   "source": [
    "### LogisticRegression\n",
    "\n",
    "\"Simple models are able to learn from small data set better\""
   ]
  },
  {
   "cell_type": "code",
   "execution_count": 99,
   "metadata": {},
   "outputs": [],
   "source": [
    "scaler = StandardScaler()\n",
    "\n",
    "X = dfC.iloc[:,:-1]\n",
    "y=dfC.iloc[:,-1]\n",
    "\n",
    "\n",
    "X_train, X_test, y_train, y_test = train_test_split(X, y, test_size=0.2, random_state=0)\n",
    "X_train = scaler.fit_transform(X_train)\n",
    "X_test = scaler.transform(X_test)\n"
   ]
  },
  {
   "cell_type": "code",
   "execution_count": 100,
   "metadata": {},
   "outputs": [],
   "source": [
    "from sklearn.linear_model import LogisticRegression\n",
    "\n",
    "logReg = LogisticRegression()\n",
    "logReg.fit(X_train, y_train)\n",
    "y_pred = logReg.predict(X_test)"
   ]
  },
  {
   "cell_type": "code",
   "execution_count": 101,
   "metadata": {},
   "outputs": [
    {
     "output_type": "execute_result",
     "data": {
      "text/plain": [
       "0.8524590163934426"
      ]
     },
     "metadata": {},
     "execution_count": 101
    }
   ],
   "source": [
    "metrics.accuracy_score(y_test,y_pred)"
   ]
  },
  {
   "cell_type": "code",
   "execution_count": 102,
   "metadata": {},
   "outputs": [
    {
     "output_type": "stream",
     "name": "stdout",
     "text": [
      "TP: 30 TN: 22 FP: 5 FN: 4\n"
     ]
    }
   ],
   "source": [
    "cm = metrics.confusion_matrix(y_test, y_pred)\n",
    "# good\n",
    "TP = cm[1][1]\n",
    "TN = cm[0][0]\n",
    "\n",
    "# bad\n",
    "FP = cm[0][1]\n",
    "FN = cm[1][0]\n",
    "\n",
    "print(\"TP:\", TP, \"TN:\", TN, \"FP:\", FP, \"FN:\", FN)"
   ]
  }
 ],
 "metadata": {
  "interpreter": {
   "hash": "cee36043cec61144a6e36a5b091fc2f6977e9f22b63bd7b33f6f1d98afc5a199"
  },
  "kernelspec": {
   "name": "python3",
   "display_name": "Python 3.8.5 64-bit ('Kaggle_Exercise-mF4OHMvf': venv)"
  },
  "language_info": {
   "codemirror_mode": {
    "name": "ipython",
    "version": 3
   },
   "file_extension": ".py",
   "mimetype": "text/x-python",
   "name": "python",
   "nbconvert_exporter": "python",
   "pygments_lexer": "ipython3",
   "version": "3.8.5"
  }
 },
 "nbformat": 4,
 "nbformat_minor": 2
}