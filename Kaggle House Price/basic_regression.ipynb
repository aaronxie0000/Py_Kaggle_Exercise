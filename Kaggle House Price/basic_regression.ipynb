{
 "cells": [
  {
   "cell_type": "code",
   "execution_count": null,
   "metadata": {},
   "outputs": [],
   "source": [
    "import pandas as pd\n",
    "from matplotlib import pyplot as plt\n",
    "plt.style.use('seaborn')"
   ]
  },
  {
   "cell_type": "code",
   "execution_count": null,
   "metadata": {},
   "outputs": [],
   "source": [
    "df = pd.read_csv('./dataset/train.csv')"
   ]
  },
  {
   "cell_type": "markdown",
   "metadata": {},
   "source": [
    "### Explore"
   ]
  },
  {
   "cell_type": "code",
   "execution_count": null,
   "metadata": {},
   "outputs": [],
   "source": [
    "df.columns"
   ]
  },
  {
   "cell_type": "code",
   "execution_count": null,
   "metadata": {},
   "outputs": [],
   "source": [
    "for col in df.columns:\n",
    "    print(df[col].value_counts().sort_values(ascending=False))"
   ]
  },
  {
   "cell_type": "code",
   "execution_count": null,
   "metadata": {},
   "outputs": [],
   "source": [
    "df.isnull().sum().sort_values(ascending=False).head(20)"
   ]
  },
  {
   "cell_type": "markdown",
   "metadata": {},
   "source": [
    "Dataset does not have werid Nan values, the attributes with high nan values are all intentional (eg. does not have pool so PoolQC is Nan)"
   ]
  },
  {
   "cell_type": "markdown",
   "metadata": {},
   "source": [
    "#### Useful\n",
    "Logically what might correlate lot with SalePrice: \n",
    "\n",
    "Category Type: MSSubClass, Neighborhood, OverallCond, \n",
    "\n",
    "Number: GrLivArea, YrSold, LotArea, YearBuilt, YearRemodAdd, PoolArea"
   ]
  },
  {
   "cell_type": "code",
   "execution_count": null,
   "metadata": {},
   "outputs": [],
   "source": [
    "df.loc[:,[\"GrLivArea\",\"SalePrice\"]].sort_values('GrLivArea', ascending=False).head(30)"
   ]
  },
  {
   "cell_type": "code",
   "execution_count": null,
   "metadata": {},
   "outputs": [],
   "source": [
    "df.loc[:,[\"GrLivArea\",\"SalePrice\"]].sort_values('GrLivArea', ascending=False).tail(30)"
   ]
  },
  {
   "cell_type": "code",
   "execution_count": null,
   "metadata": {},
   "outputs": [],
   "source": [
    "df.groupby('Neighborhood')['SalePrice'].median()"
   ]
  },
  {
   "cell_type": "code",
   "execution_count": null,
   "metadata": {},
   "outputs": [],
   "source": [
    "df.groupby('Neighborhood')['SalePrice'].describe()"
   ]
  },
  {
   "cell_type": "code",
   "execution_count": null,
   "metadata": {},
   "outputs": [],
   "source": [
    "fig1 = plt.figure()\n",
    "\n",
    "ax1_x = df.loc[:,'GrLivArea']\n",
    "ax1_y = df.loc[:,'SalePrice']\n",
    "\n",
    "ax1 = fig1.add_subplot(211)\n",
    "ax1.scatter(ax1_x, ax1_y , color='lightblue', linewidth=3, label=\"Above Ground Living Area v Price\")\n",
    "ax1.set( xlabel=\"Living Area\", ylabel=\"Sale Price\")\n",
    "ax1.legend()\n",
    "\n",
    "#???\n",
    "#why does df.groupby('Neighborhood')['SalePrice'].median().plot.bar() work\n",
    "\n",
    "ax2 = fig1.add_subplot(212)\n",
    "ax2_y = df.groupby('Neighborhood')['SalePrice'].median().values\n",
    "ax2_x = df.groupby('Neighborhood')['SalePrice'].median().index\n",
    "ax2.bar(ax2_x, ax2_y)\n",
    "ax2.tick_params(axis='x', rotation=80)\n",
    "\n",
    "plt.tight_layout()\n",
    "\n"
   ]
  },
  {
   "cell_type": "markdown",
   "metadata": {},
   "source": [
    "#### Observation from graphs\n",
    "\n",
    "Neighborhood is not a great predictor but there is a trend with above ground living area"
   ]
  },
  {
   "cell_type": "code",
   "execution_count": null,
   "metadata": {},
   "outputs": [],
   "source": [
    "df.sort_index()\n",
    "dfT = df[['GrLivArea', 'SalePrice']]\n",
    "dfT"
   ]
  },
  {
   "cell_type": "code",
   "execution_count": null,
   "metadata": {},
   "outputs": [],
   "source": [
    "X_train = dfT.loc[:,'GrLivArea'].values.reshape(-1,1)\n",
    "Y_train = dfT.loc[:,'SalePrice'].values.reshape(-1,1)\n",
    "\n",
    "#this fails! \n",
    "# Y_train = dfT.loc[:,'SalePrice'].values\n",
    "# Y_train.shape gives (1460,)\n",
    "\n",
    "\n"
   ]
  },
  {
   "source": [
    "#### To Do:\n",
    "\n",
    "Try Create new Feature: Living Area: TotalBsmtSF - BsmtUnfSF + GrLivArea\n",
    "\n",
    "See if predict better\n",
    "\n",
    "Also, do test train split since don't have answer to the test.csv data from Kaggle"
   ],
   "cell_type": "markdown",
   "metadata": {}
  },
  {
   "cell_type": "markdown",
   "metadata": {},
   "source": [
    "### Regression Fitting"
   ]
  },
  {
   "cell_type": "code",
   "execution_count": null,
   "metadata": {},
   "outputs": [],
   "source": [
    "from sklearn.linear_model import LinearRegression\n",
    "regressor = LinearRegression()\n",
    "regressor.fit(X_train, Y_train)"
   ]
  },
  {
   "cell_type": "code",
   "execution_count": null,
   "metadata": {},
   "outputs": [],
   "source": [
    "print(regressor.intercept_)\n"
   ]
  },
  {
   "cell_type": "code",
   "execution_count": null,
   "metadata": {},
   "outputs": [],
   "source": [
    "testing_df = pd.read_csv('./dataset/test.csv')\n",
    "testing_df = testing_df[['Id','GrLivArea']]\n",
    "testing_df\n"
   ]
  },
  {
   "cell_type": "code",
   "execution_count": null,
   "metadata": {},
   "outputs": [],
   "source": [
    "X_test = testing_df.loc[:,'GrLivArea'].values.reshape(-1,1)\n",
    "y_pred = regressor.predict(X_test)\n",
    "y_pred"
   ]
  },
  {
   "cell_type": "code",
   "execution_count": null,
   "metadata": {},
   "outputs": [],
   "source": [
    "# fit needs and returns a 2D array [[1,2,3]] so need to convert in and out\n",
    "\n",
    "y_pred_flat = y_pred.ravel()\n",
    "my_ans = pd.DataFrame({'Id': testing_df['Id'].values, 'SalePrice': y_pred_flat})\n",
    "my_ans"
   ]
  },
  {
   "cell_type": "code",
   "execution_count": null,
   "metadata": {},
   "outputs": [],
   "source": [
    "my_ans.to_csv('my_ans.csv',index=False)"
   ]
  },
  {
   "cell_type": "code",
   "execution_count": null,
   "metadata": {},
   "outputs": [],
   "source": []
  }
 ],
 "metadata": {
  "kernelspec": {
   "display_name": "Python 3",
   "language": "python",
   "name": "python3"
  },
  "language_info": {
   "codemirror_mode": {
    "name": "ipython",
    "version": 3
   },
   "file_extension": ".py",
   "mimetype": "text/x-python",
   "name": "python",
   "nbconvert_exporter": "python",
   "pygments_lexer": "ipython3",
   "version": "3.8.5"
  }
 },
 "nbformat": 4,
 "nbformat_minor": 4
}