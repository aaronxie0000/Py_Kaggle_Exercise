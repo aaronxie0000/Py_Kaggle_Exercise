{
 "cells": [
  {
   "cell_type": "code",
   "execution_count": null,
   "metadata": {},
   "outputs": [],
   "source": [
    "import pandas as pd\n",
    "from matplotlib import pyplot as plt\n",
    "plt.style.use('seaborn')"
   ]
  },
  {
   "cell_type": "code",
   "execution_count": null,
   "metadata": {},
   "outputs": [],
   "source": [
    "df = pd.read_csv('./dataset/train.csv')"
   ]
  },
  {
   "cell_type": "markdown",
   "metadata": {},
   "source": [
    "### Explore"
   ]
  },
  {
   "cell_type": "code",
   "execution_count": null,
   "metadata": {},
   "outputs": [],
   "source": [
    "df.columns"
   ]
  },
  {
   "cell_type": "code",
   "execution_count": null,
   "metadata": {},
   "outputs": [],
   "source": [
    "#most commmon values of each feature\n",
    "for col in df.columns:\n",
    "    print(df[col].value_counts().sort_values(ascending=False))"
   ]
  },
  {
   "cell_type": "code",
   "execution_count": null,
   "metadata": {},
   "outputs": [],
   "source": [
    "df.isnull().sum().sort_values(ascending=False).head(20)"
   ]
  },
  {
   "cell_type": "markdown",
   "metadata": {},
   "source": [
    "Dataset does not have werid Nan values, the attributes with high nan values are all intentional (eg. does not have pool so PoolQC is Nan)"
   ]
  },
  {
   "cell_type": "markdown",
   "metadata": {},
   "source": [
    "#### Useful\n",
    "Logically what might correlate lot with SalePrice: \n",
    "\n",
    "Category Type: MSSubClass, Neighborhood, OverallCond, \n",
    "\n",
    "Number: GrLivArea, YrSold, LotArea, YearBuilt, YearRemodAdd, PoolArea"
   ]
  },
  {
   "cell_type": "code",
   "execution_count": null,
   "metadata": {},
   "outputs": [],
   "source": [
    "df.loc[:,[\"GrLivArea\",\"SalePrice\"]].sort_values('GrLivArea', ascending=False).head(30)"
   ]
  },
  {
   "cell_type": "code",
   "execution_count": null,
   "metadata": {},
   "outputs": [],
   "source": [
    "df.loc[:,[\"GrLivArea\",\"SalePrice\"]].sort_values('GrLivArea', ascending=False).tail(30)"
   ]
  },
  {
   "cell_type": "code",
   "execution_count": null,
   "metadata": {},
   "outputs": [],
   "source": [
    "df.groupby('Neighborhood')['SalePrice'].median()"
   ]
  },
  {
   "cell_type": "code",
   "execution_count": null,
   "metadata": {},
   "outputs": [],
   "source": [
    "df.groupby('Neighborhood')['SalePrice'].describe()"
   ]
  },
  {
   "cell_type": "code",
   "execution_count": null,
   "metadata": {},
   "outputs": [],
   "source": [
    "fig1 = plt.figure()\n",
    "\n",
    "ax1_x = df.loc[:,'GrLivArea']\n",
    "ax1_y = df.loc[:,'SalePrice']\n",
    "\n",
    "ax1 = fig1.add_subplot(211)\n",
    "ax1.scatter(ax1_x, ax1_y , color='lightblue', linewidth=3, label=\"Above Ground Living Area v Price\")\n",
    "ax1.set( xlabel=\"Living Area\", ylabel=\"Sale Price\")\n",
    "ax1.legend()\n",
    "\n",
    "ax2 = fig1.add_subplot(212)\n",
    "ax2_y = df.groupby('Neighborhood')['SalePrice'].median().values\n",
    "ax2_x = df.groupby('Neighborhood')['SalePrice'].median().index\n",
    "ax2.bar(ax2_x, ax2_y)\n",
    "ax2.tick_params(axis='x', rotation=80)\n",
    "\n",
    "plt.tight_layout()\n",
    "\n"
   ]
  },
  {
   "cell_type": "markdown",
   "metadata": {},
   "source": [
    "#### Observation from graphs\n",
    "\n",
    "Neighborhood is not a great predictor but there is a trend with above ground living area"
   ]
  },
  {
   "cell_type": "code",
   "execution_count": null,
   "metadata": {},
   "outputs": [],
   "source": [
    "df.sort_index()\n",
    "dfT = df[['GrLivArea', 'SalePrice']]\n",
    "dfT"
   ]
  },
  {
   "cell_type": "code",
   "execution_count": null,
   "metadata": {},
   "outputs": [],
   "source": [
    "X_all = dfT.loc[:,'GrLivArea'].values.reshape(-1,1)\n",
    "y_all = dfT.loc[:,'SalePrice'].values.reshape(-1,1)\n"
   ]
  },
  {
   "cell_type": "markdown",
   "metadata": {},
   "source": [
    "### Regression Fitting"
   ]
  },
  {
   "cell_type": "code",
   "execution_count": null,
   "metadata": {},
   "outputs": [],
   "source": [
    "from sklearn.linear_model import LinearRegression\n",
    "from sklearn.model_selection import train_test_split\n",
    "from sklearn import metrics \n",
    "import numpy as np\n",
    "\n",
    "\n",
    "X_train, X_test, y_train, y_test = train_test_split(X_all, y_all, test_size=0.2)\n",
    "# #for locally testing accuracy\n",
    "\n",
    "\n",
    "regressor = LinearRegression()\n",
    "regressor.fit(X_train, y_train)\n",
    "y_pred = regressor.predict(X_test)\n",
    "\n",
    "\n",
    "regressor.intercept_"
   ]
  },
  {
   "cell_type": "code",
   "execution_count": null,
   "metadata": {},
   "outputs": [],
   "source": [
    "plt.scatter(y_test, y_pred)\n",
    "plt.xlabel('Test')\n",
    "plt.ylabel('Predict')\n",
    "\n",
    "x_ref = np.linspace(1000,600000,2) \n",
    "y_ref = x_ref\n",
    "plt.plot(x_ref, y_ref, color=\"red\")\n",
    "plt.show()\n"
   ]
  },
  {
   "cell_type": "markdown",
   "metadata": {},
   "source": [
    "The red line help show how far off each prediction is from the true value"
   ]
  },
  {
   "cell_type": "code",
   "execution_count": null,
   "metadata": {},
   "outputs": [],
   "source": [
    "np.sqrt(metrics.mean_squared_error(y_test, y_pred))"
   ]
  },
  {
   "cell_type": "code",
   "execution_count": null,
   "metadata": {},
   "outputs": [],
   "source": []
  },
  {
   "cell_type": "markdown",
   "metadata": {},
   "source": [
    "To Use Model for the assigned test data"
   ]
  },
  {
   "cell_type": "code",
   "execution_count": null,
   "metadata": {},
   "outputs": [],
   "source": [
    "testing_df = pd.read_csv('./dataset/test.csv')\n",
    "testing_df = testing_df[['Id','GrLivArea']]\n",
    "testing_df\n"
   ]
  },
  {
   "cell_type": "code",
   "execution_count": null,
   "metadata": {},
   "outputs": [],
   "source": [
    "X_test = testing_df.loc[:,'GrLivArea'].values.reshape(-1,1)\n",
    "y_pred = regressor.predict(X_test)\n",
    "y_pred"
   ]
  },
  {
   "cell_type": "code",
   "execution_count": null,
   "metadata": {},
   "outputs": [],
   "source": [
    "# fit needs and returns a 2D array [[1,2,3]] so need to convert in and out\n",
    "\n",
    "y_pred_flat = y_pred.ravel()\n",
    "my_ans = pd.DataFrame({'Id': testing_df['Id'].values, 'SalePrice': y_pred_flat})\n",
    "my_ans"
   ]
  },
  {
   "cell_type": "code",
   "execution_count": null,
   "metadata": {},
   "outputs": [],
   "source": [
    "# my_ans.to_csv('my_pred.csv',index=False)"
   ]
  },
  {
   "cell_type": "code",
   "execution_count": null,
   "metadata": {},
   "outputs": [],
   "source": []
  }
 ],
 "metadata": {
  "kernelspec": {
   "display_name": "Python 3",
   "language": "python",
   "name": "python3"
  },
  "language_info": {
   "codemirror_mode": {
    "name": "ipython",
    "version": 3
   },
   "file_extension": ".py",
   "mimetype": "text/x-python",
   "name": "python",
   "nbconvert_exporter": "python",
   "pygments_lexer": "ipython3",
   "version": "3.8.5"
  }
 },
 "nbformat": 4,
 "nbformat_minor": 4
}
