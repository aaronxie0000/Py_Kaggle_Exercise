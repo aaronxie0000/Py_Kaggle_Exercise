{
 "cells": [
  {
   "cell_type": "code",
   "execution_count": null,
   "id": "flush-mattress",
   "metadata": {},
   "outputs": [],
   "source": [
    "import pandas as pd\n",
    "from matplotlib import pyplot as plt\n",
    "\n",
    "df = pd.read_csv('./dataset/train.csv')\n",
    "df.head()"
   ]
  },
  {
   "cell_type": "code",
   "execution_count": null,
   "id": "recorded-headline",
   "metadata": {},
   "outputs": [],
   "source": [
    "df.info()"
   ]
  },
  {
   "cell_type": "code",
   "execution_count": null,
   "id": "caring-avenue",
   "metadata": {},
   "outputs": [],
   "source": [
    "df.corr()"
   ]
  },
  {
   "cell_type": "code",
   "execution_count": null,
   "id": "confirmed-sullivan",
   "metadata": {},
   "outputs": [],
   "source": [
    "corrDf = df.corr()\n",
    "highCorr = corrDf['SalePrice']>0.5\n",
    "#every feature has a column of sale price for its correlation with that; see which ones have high corr\n",
    "\n",
    "corrDf[highCorr].loc[:,'SalePrice'].sort_values(ascending=False)"
   ]
  },
  {
   "cell_type": "code",
   "execution_count": null,
   "id": "occupied-fever",
   "metadata": {},
   "outputs": [],
   "source": [
    "dfT = df[['SalePrice','OverallQual', 'GrLivArea', 'GarageCars','GarageArea','TotalBsmtSF', '1stFlrSF', 'FullBath', 'TotRmsAbvGrd', 'YearBuilt', 'YearRemodAdd']]"
   ]
  },
  {
   "cell_type": "code",
   "execution_count": null,
   "id": "formal-lesson",
   "metadata": {},
   "outputs": [],
   "source": [
    "dfT.sort_values('SalePrice', ascending=False).head(20)"
   ]
  },
  {
   "cell_type": "code",
   "execution_count": null,
   "id": "existing-crown",
   "metadata": {},
   "outputs": [],
   "source": [
    "dfT.isnull().sum().sort_values(ascending=False)"
   ]
  },
  {
   "cell_type": "code",
   "execution_count": null,
   "id": "automated-solid",
   "metadata": {},
   "outputs": [],
   "source": [
    "from sklearn.model_selection import train_test_split\n",
    "\n",
    "X_all = dfT.drop('SalePrice', axis=1) #axis=1 because target col\n",
    "y_all = dfT['SalePrice']\n",
    "\n",
    "X_train, X_test, y_train, y_test = train_test_split(X_all, y_all, test_size=0.2)\n",
    "\n",
    "y_test = y_test.values.reshape(-1,1)\n",
    "y_train = y_train.values.reshape(-1,1)"
   ]
  },
  {
   "cell_type": "markdown",
   "id": "second-deadline",
   "metadata": {},
   "source": [
    "### Decision Tree"
   ]
  },
  {
   "cell_type": "code",
   "execution_count": null,
   "id": "textile-latter",
   "metadata": {},
   "outputs": [],
   "source": [
    "from sklearn.tree import DecisionTreeRegressor\n",
    "dtr= DecisionTreeRegressor(random_state = 100)\n",
    "dtr.fit(X_train, y_train)\n"
   ]
  },
  {
   "cell_type": "code",
   "execution_count": null,
   "id": "dominican-organization",
   "metadata": {},
   "outputs": [],
   "source": [
    "y_pred = dtr.predict(X_test).reshape(-1,1)\n"
   ]
  },
  {
   "cell_type": "code",
   "execution_count": null,
   "id": "operating-mozambique",
   "metadata": {},
   "outputs": [],
   "source": [
    "from sklearn import metrics\n",
    "import numpy as np\n",
    "\n",
    "np.sqrt(metrics.mean_squared_error(y_test, y_pred))"
   ]
  },
  {
   "cell_type": "code",
   "execution_count": null,
   "id": "classical-authorization",
   "metadata": {},
   "outputs": [],
   "source": [
    "plt.scatter(y_test, y_pred)\n",
    "plt.xlabel('Test')\n",
    "plt.ylabel('Predict')\n",
    "\n",
    "x_ref = np.linspace(1000,600000,2) \n",
    "y_ref = x_ref\n",
    "plt.plot(x_ref, y_ref, color=\"red\")\n",
    "plt.show()"
   ]
  },
  {
   "cell_type": "code",
   "execution_count": null,
   "id": "revolutionary-stanley",
   "metadata": {},
   "outputs": [],
   "source": []
  },
  {
   "cell_type": "markdown",
   "id": "sharing-scanner",
   "metadata": {},
   "source": [
    "### Random Forest"
   ]
  },
  {
   "cell_type": "code",
   "execution_count": null,
   "id": "gentle-wings",
   "metadata": {},
   "outputs": [],
   "source": [
    "from sklearn.ensemble import RandomForestRegressor\n",
    "rfr = RandomForestRegressor(n_estimators = 100, random_state = 0)\n",
    "print(y_train)\n",
    "print('*'*50)\n",
    "print(y_train.ravel())\n",
    "rfr.fit(X_train, y_train.ravel())\n"
   ]
  },
  {
   "cell_type": "code",
   "execution_count": null,
   "id": "geographic-tutorial",
   "metadata": {},
   "outputs": [],
   "source": [
    "y_pred_2 = rfr.predict(X_test).reshape(-1,1)\n",
    "np.sqrt(metrics.mean_squared_error(y_test, y_pred_2))"
   ]
  },
  {
   "cell_type": "code",
   "execution_count": null,
   "id": "christian-yacht",
   "metadata": {},
   "outputs": [],
   "source": [
    "plt.scatter(y_test, y_pred_2)\n",
    "plt.xlabel('Test')\n",
    "plt.ylabel('Predict')\n",
    "\n",
    "x_ref = np.linspace(1000,600000,2) \n",
    "y_ref = x_ref\n",
    "plt.plot(x_ref, y_ref, color=\"red\")\n",
    "plt.show()"
   ]
  },
  {
   "cell_type": "code",
   "execution_count": null,
   "id": "honey-chinese",
   "metadata": {},
   "outputs": [],
   "source": []
  }
 ],
 "metadata": {
  "kernelspec": {
   "display_name": "Python 3",
   "language": "python",
   "name": "python3"
  },
  "language_info": {
   "codemirror_mode": {
    "name": "ipython",
    "version": 3
   },
   "file_extension": ".py",
   "mimetype": "text/x-python",
   "name": "python",
   "nbconvert_exporter": "python",
   "pygments_lexer": "ipython3",
   "version": "3.8.5"
  }
 },
 "nbformat": 4,
 "nbformat_minor": 5
}
